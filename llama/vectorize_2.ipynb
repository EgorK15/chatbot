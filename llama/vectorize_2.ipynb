{
 "cells": [
  {
   "cell_type": "code",
   "execution_count": null,
   "metadata": {},
   "outputs": [],
   "source": [
    "!pip install spacy\n",
    "!python -m spacy download ru_core_news_sm\n",
    "!pip install sentence-transformers\n",
    "!pip install pinecone"
   ]
  },
  {
   "cell_type": "markdown",
   "metadata": {},
   "source": [
    "### Config things"
   ]
  },
  {
   "cell_type": "code",
   "execution_count": 28,
   "metadata": {},
   "outputs": [
    {
     "name": "stdout",
     "output_type": "stream",
     "text": [
      "Pinecone API Key: pcsk_2MHdUF_M8e8hZxWQN2NFvQ4CWhXvsyL7EwPzNpvmy7iYRCN8hpey5u1TvqHZJ89TjJmZUx\n",
      "Pinecone index name: red-llama-bertopic\n"
     ]
    }
   ],
   "source": [
    "import os\n",
    "\n",
    "# Получаем текущий рабочий каталог\n",
    "current_dir = os.getcwd()\n",
    "\n",
    "# Строим путь на три уровня вверх\n",
    "config_path = os.path.join(current_dir, '..', '..', 'llama.config')\n",
    "\n",
    "# Нормализуем путь (убираем лишние '..' и т.д.)\n",
    "config_path = os.path.normpath(config_path)\n",
    "\n",
    "\n",
    "# Читаем файл\n",
    "with open(config_path, 'r') as file:\n",
    "    api_base = file.readline().strip()\n",
    "    my_model = file.readline().strip()\n",
    "    API_KEY = file.readline().strip()\n",
    "    YOUR_API_KEY = file.readline().strip()\n",
    "#    index_name = file.readline().strip()\n",
    "index_name = 'red-llama-bertopic'\n",
    "\n",
    "# Выводим значения\n",
    "#print(f\"API Base: {api_base}\")\n",
    "#print(f\"My Model: {my_model}\")\n",
    "#print(f\"API Key: {API_KEY}\")\n",
    "print(f\"Pinecone API Key: {YOUR_API_KEY}\")\n",
    "print(f\"Pinecone index name: {index_name}\")\n"
   ]
  },
  {
   "cell_type": "markdown",
   "metadata": {},
   "source": [
    "### Подготовка чанков"
   ]
  },
  {
   "cell_type": "code",
   "execution_count": 23,
   "metadata": {},
   "outputs": [
    {
     "name": "stdout",
     "output_type": "stream",
     "text": [
      "f:\\ipynb\\data\n"
     ]
    }
   ],
   "source": [
    "from config import my_dir\n",
    "\n",
    "# Пример использования\n",
    "folder_name = 'data\\\\'  # Укажите имя папки, к которой хотите получить доступ\n",
    "path = my_dir(folder_name)\n",
    "print(path)"
   ]
  },
  {
   "cell_type": "markdown",
   "metadata": {},
   "source": [
    "## Final chunking?"
   ]
  },
  {
   "cell_type": "code",
   "execution_count": 24,
   "metadata": {},
   "outputs": [
    {
     "name": "stdout",
     "output_type": "stream",
     "text": [
      "Данные успешно записаны в файл: f:\\ipynb\\data\\output.txt\n"
     ]
    }
   ],
   "source": [
    "import pandas as pd\n",
    "\n",
    "my_chunks = []\n",
    "#my_dir = \"data\\\\\"\n",
    "my_dir = my_dir('data')+\"\\\\\"\n",
    "\n",
    "\n",
    "def make_chunks (file_name):\n",
    "    file_path = my_dir + file_name + \".csv\"\n",
    "    final_df = pd.read_csv(file_path, sep=';')\n",
    "    for index, row in final_df.iterrows():\n",
    "        chunk = {\n",
    "            \"chunk_text\": row['text'],\n",
    "            \"topic\": row['topic']\n",
    "            }    \n",
    "        my_chunks.append(chunk)\n",
    "\n",
    "my_file = \"╨Ф╨░╤В╨░╤Б╨╡╤В_╨в╨Ъ_╨а╨д_╨╕_╨б╨Я35.txt\"\n",
    "make_chunks (my_file)\n",
    "my_file = \"rmr, World Class, Michelin (2).txt\"\n",
    "make_chunks (my_file)\n",
    "my_file = \"FAQ.txt\"\n",
    "make_chunks (my_file)\n",
    "my_file = \"metadata.txt\"\n",
    "make_chunks (my_file)\n",
    "my_file = \"╨Ф╨╖1.txt\"\n",
    "make_chunks (my_file)\n",
    "#print(my_chunks)\n",
    "\n",
    "# Путь к выходному файлу\n",
    "output_file_path = my_dir + \"output.txt\"\n",
    "\n",
    "# Открытие файла для записи\n",
    "with open(output_file_path, 'w', encoding='utf-8') as file:\n",
    "    # Итерация по списку чанков\n",
    "    for chunk in my_chunks:\n",
    "        # Форматирование строки для записи\n",
    "        line = f\"Text: {chunk['chunk_text']}Topic: {chunk['topic']}\\n\\n\"\n",
    "        # Запись строки в файл\n",
    "        file.write(line)\n",
    "\n",
    "print(f\"Данные успешно записаны в файл: {output_file_path}\")"
   ]
  },
  {
   "cell_type": "code",
   "execution_count": null,
   "metadata": {},
   "outputs": [],
   "source": [
    "!pip install gensim\n",
    "!pip install nltk"
   ]
  },
  {
   "cell_type": "code",
   "execution_count": 2,
   "metadata": {},
   "outputs": [
    {
     "name": "stdout",
     "output_type": "stream",
     "text": [
      "C:\\Users\\user\\AppData\\Roaming\\nltk_data\\tokenizers\\punkt\n"
     ]
    }
   ],
   "source": [
    "import nltk\n",
    "print(nltk.data.find('tokenizers/punkt'))"
   ]
  },
  {
   "cell_type": "code",
   "execution_count": null,
   "metadata": {},
   "outputs": [],
   "source": [
    "!pip install --upgrade nltk\n"
   ]
  },
  {
   "cell_type": "code",
   "execution_count": 6,
   "metadata": {},
   "outputs": [
    {
     "name": "stdout",
     "output_type": "stream",
     "text": [
      "Ресурс punkt успешно загружен.\n",
      "Ресурс punkt найден.\n"
     ]
    },
    {
     "name": "stderr",
     "output_type": "stream",
     "text": [
      "[nltk_data] Downloading package punkt to\n",
      "[nltk_data]     C:\\Users\\user\\AppData\\Roaming\\nltk_data...\n",
      "[nltk_data]   Package punkt is already up-to-date!\n"
     ]
    }
   ],
   "source": [
    "import nltk\n",
    "\n",
    "# Попробуем загрузить ресурс punkt\n",
    "try:\n",
    "    nltk.download('punkt')\n",
    "    print(\"Ресурс punkt успешно загружен.\")\n",
    "except Exception as e:\n",
    "    print(f\"Произошла ошибка при загрузке: {e}\")\n",
    "\n",
    "# Проверка наличия ресурса\n",
    "try:\n",
    "    nltk.data.find('tokenizers/punkt')\n",
    "    print(\"Ресурс punkt найден.\")\n",
    "except LookupError:\n",
    "    print(\"Ресурс punkt не найден.\")\n"
   ]
  },
  {
   "cell_type": "code",
   "execution_count": null,
   "metadata": {},
   "outputs": [
    {
     "name": "stdout",
     "output_type": "stream",
     "text": [
      "showing info https://raw.githubusercontent.com/nltk/nltk_data/gh-pages/index.xml\n"
     ]
    }
   ],
   "source": [
    "nltk.download()"
   ]
  },
  {
   "cell_type": "markdown",
   "metadata": {},
   "source": [
    "## Brave_Bison"
   ]
  },
  {
   "cell_type": "code",
   "execution_count": 32,
   "metadata": {},
   "outputs": [
    {
     "name": "stdout",
     "output_type": "stream",
     "text": [
      "Тематические блоки успешно записаны в файл 'outputdata/Brave_Bison.txt'.\n"
     ]
    }
   ],
   "source": [
    "import re\n",
    "\n",
    "# Считываем текст из файла\n",
    "with open('table-to-text/Brave_Bison.txt', 'r', encoding='utf-8') as f:\n",
    "    text = f.read()\n",
    "\n",
    "# Функция для поиска заголовков\n",
    "def find_headings(text):\n",
    "    headings = []\n",
    "    for line in text.strip().split('\\n'):\n",
    "        line = line.strip()\n",
    "        # Эвристика: заголовки могут быть нумерованными, большими буквами, содержать ключевые слова или быть в формате \"Key Performance Indicators:\"\n",
    "        if (re.match(r'^\\d+\\.\\d+\\.', line) or  # Нумерованные заголовки\n",
    "            line.isupper() or  # Заголовки в верхнем регистре\n",
    "            any(keyword in line.lower() for keyword in [\"review\", \"outlook\", \"activities\", \"key performance indicators\"])):  # Ключевые слова\n",
    "            headings.append(line)\n",
    "    return headings\n",
    "\n",
    "# Находим заголовки\n",
    "headings = find_headings(text)\n",
    "\n",
    "# Разделяем текст на блоки\n",
    "blocks = {}\n",
    "current_heading = None\n",
    "\n",
    "for line in text.strip().split('\\n'):\n",
    "    line = line.strip()\n",
    "    # Проверяем, является ли строка заголовком\n",
    "    if line in headings:\n",
    "        current_heading = line\n",
    "        blocks[current_heading] = []\n",
    "    elif current_heading and line:  # Игнорируем пустые строки\n",
    "        blocks[current_heading].append(line)\n",
    "\n",
    "# Записываем тематические блоки в файл\n",
    "with open('outputdata/Brave_Bison.txt', 'w', encoding='utf-8') as f:\n",
    "    for heading, content in blocks.items():\n",
    "        f.write(f\"{heading}:\\n\")\n",
    "        if content:  # Добавляем содержимое, если оно есть\n",
    "            f.write(\"\\n\".join(content))\n",
    "        f.write(\"\\n\\n\" + \"-\" * 40 + \"\\n\\n\")\n",
    "\n",
    "print(\"Тематические блоки успешно записаны в файл 'outputdata/Brave_Bison.txt'.\")\n"
   ]
  },
  {
   "cell_type": "markdown",
   "metadata": {},
   "source": [
    "### Q_A_rectifier_technologies.txt"
   ]
  },
  {
   "cell_type": "code",
   "execution_count": 41,
   "metadata": {},
   "outputs": [
    {
     "name": "stdout",
     "output_type": "stream",
     "text": [
      "Результат успешно сохранен в файл 'Q_A_rectifier_technologies.txt'.\n"
     ]
    }
   ],
   "source": [
    "with open('датасет 45123/Q_A_rectifier_technologies.txt', 'r', encoding='utf-8') as f:\n",
    "    table = f.read()\n",
    "\n",
    "# Исходная таблица в текстовом формате\n",
    "\n",
    "# Разделяем строки таблицы\n",
    "lines = table.strip().split(\"\\n\")\n",
    "\n",
    "# Извлекаем заголовки из первой строки\n",
    "headers = [header.strip() for header in lines[0].split(\"|\")[1:-1]]\n",
    "\n",
    "# Создаем список для хранения данных\n",
    "data = []\n",
    "\n",
    "# Обрабатываем строки с данными, начиная с третьей строки\n",
    "for line in lines[2:]:\n",
    "    # Разделяем строку на ячейки\n",
    "    cells = [cell.strip() for cell in line.split(\"|\")[1:-1]]\n",
    "    # Создаем словарь для каждой строки\n",
    "    row = {headers[i]: cells[i] for i in range(len(headers))}\n",
    "    # Добавляем словарь в список данных\n",
    "    data.append(row)\n",
    "\n",
    "# Выводим результат\n",
    "#print(data)\n",
    "# Формируем текст с разделителями\n",
    "text = \"\"\n",
    "for row in data:\n",
    "    text += f\"{row['No']}. {row['Question']}\\nAnswer: {row['Answer']}\\n\\n\" + \"-\" * 40 + \"\\n\\n\"\n",
    "\n",
    "# Сохранение в файл\n",
    "with open('outputdata\\Q_A_rectifier_technologies.txt', 'w', encoding='utf-8') as f:\n",
    "    f.write(text)\n",
    "\n",
    "# Вывод результата\n",
    "# print(text)\n",
    "print(\"Результат успешно сохранен в файл 'Q_A_rectifier_technologies.txt'.\")\n"
   ]
  },
  {
   "cell_type": "markdown",
   "metadata": {},
   "source": [
    "## Q_A_Brave_Bison.txt"
   ]
  },
  {
   "cell_type": "code",
   "execution_count": null,
   "metadata": {},
   "outputs": [],
   "source": [
    "with open('датасет 45123/Q_A_Brave_Bison.txt', 'r', encoding='utf-8') as f:\n",
    "    text = f.read()\n",
    "\n",
    "\n",
    "# Разделяем текст по пустой строке\n",
    "blocks = text.split(\"\\n\\n\")\n",
    "\n",
    "# Создаем разделитель\n",
    "separator = \"-\" * 40\n",
    "\n",
    "# Выводим результат на печать\n",
    "print(\"Результат разделения текста:\")\n",
    "for block in blocks:\n",
    "    print(block)\n",
    "    print(separator)\n",
    "\n",
    "# Сохраняем каждый блок в файл с разделителями\n",
    "with open('outputdata\\Q_A_Brave_Bison.txt', 'w', encoding='utf-8') as f:\n",
    "    for block in blocks:\n",
    "        f.write(block + \"\\n\")\n",
    "        f.write(separator + \"\\n\")\n",
    "\n",
    "print(\"\\nРезультат успешно сохранен в файл 'outputdata\\Q_A_Brave_Bison.txt'.\")\n"
   ]
  },
  {
   "cell_type": "markdown",
   "metadata": {},
   "source": [
    "## Q_A_Starvest_plc.txt"
   ]
  },
  {
   "cell_type": "code",
   "execution_count": null,
   "metadata": {},
   "outputs": [],
   "source": [
    "with open('датасет 45123/Q_A_Starvest_plc.txt', 'r', encoding='utf-8') as f:\n",
    "    text = f.read()\n",
    "\n",
    "\n",
    "# Разделяем текст по пустой строке\n",
    "blocks = text.split(\"\\n\\n\")\n",
    "\n",
    "# Создаем разделитель\n",
    "separator = \"-\" * 40\n",
    "\n",
    "# Выводим результат на печать\n",
    "print(\"Результат разделения текста:\")\n",
    "for block in blocks:\n",
    "    print(block)\n",
    "    print(separator)\n",
    "\n",
    "# Сохраняем каждый блок в файл с разделителями\n",
    "with open('outputdata\\Q_A_Starvest_plc.txt', 'w', encoding='utf-8') as f:\n",
    "    for block in blocks:\n",
    "        f.write(block + \"\\n\")\n",
    "        f.write(separator + \"\\n\")\n",
    "\n",
    "print(\"\\nРезультат успешно сохранен в файл 'outputdata\\Q_A_Starvest_plc.txt'.\")\n"
   ]
  },
  {
   "cell_type": "markdown",
   "metadata": {},
   "source": [
    "## Файл 'table-to-text\\Starvest_plc.txt' успешно обновлен."
   ]
  },
  {
   "cell_type": "markdown",
   "metadata": {},
   "source": [
    "## !!!!!!!!!!!!!!! Преобразование таблиц в текст"
   ]
  },
  {
   "cell_type": "code",
   "execution_count": 80,
   "metadata": {},
   "outputs": [
    {
     "name": "stdout",
     "output_type": "stream",
     "text": [
      "Файл успешно обработан и сохранен в table-to-text/Starvest_plc.txt\n"
     ]
    }
   ],
   "source": [
    "import re\n",
    "import os\n",
    "\n",
    "def table_to_text(table):\n",
    "    # Разделяем строки таблицы\n",
    "    rows = table.strip().split('\\n')\n",
    "    \n",
    "    # Убираем лишние пробелы и символы `|` в начале и конце строк\n",
    "    rows = [row.strip().strip('|') for row in rows]\n",
    "    \n",
    "    # Разделяем ячейки в каждой строке\n",
    "    rows = [re.split(r'\\s*\\|\\s*', row) for row in rows]\n",
    "    \n",
    "    # Формируем текстовое представление таблицы\n",
    "    text = []\n",
    "    for row in rows:\n",
    "        text.append(\": \".join(cell.strip() for cell in row if cell.strip()))\n",
    "    \n",
    "    return \"\\n\".join(text)\n",
    "\n",
    "def extract_and_convert_tables(text):\n",
    "    # Регулярное выражение для поиска таблиц\n",
    "    table_pattern = re.compile(r'(\\|.*\\|[\\s\\S]*?)(?=\\n\\n|\\Z)', re.MULTILINE)\n",
    "    \n",
    "    # Находим все таблицы\n",
    "    tables = table_pattern.findall(text)\n",
    "    \n",
    "    # Преобразуем каждую таблицу в текст\n",
    "    converted_tables = [table_to_text(table) for table in tables]\n",
    "    \n",
    "    # Заменяем таблицы в тексте на их текстовое представление\n",
    "    for i, table in enumerate(tables):\n",
    "        text = text.replace(table, converted_tables[i])\n",
    "    \n",
    "    return text\n",
    "\n",
    "# Путь к входному файлу\n",
    "input_file_path = 'датасет 45123/Starvest_plc.txt'\n",
    "# Путь к выходному файлу\n",
    "output_file_path = \"table-to-text/Starvest_plc.txt\"\n",
    "\n",
    "# Создаем директорию, если она не существует\n",
    "os.makedirs(os.path.dirname(output_file_path), exist_ok=True)\n",
    "\n",
    "# Чтение файла\n",
    "with open(input_file_path, 'r', encoding='utf-8') as file:\n",
    "    text = file.read()\n",
    "\n",
    "# Преобразуем таблицы в текст\n",
    "converted_text = extract_and_convert_tables(text)\n",
    "\n",
    "\n",
    "# Регулярное выражение для поиска строк с символами `-` и `:`\n",
    "pattern = re.compile(r'^[-: ]+$', re.MULTILINE)\n",
    "\n",
    "# Удаляем найденные строки\n",
    "cleaned_text = pattern.sub('', converted_text)\n",
    "\n",
    "# Убираем лишние пустые строки\n",
    "cleaned_text = \"\\n\".join(line for line in cleaned_text.splitlines() if line.strip())\n",
    "\n",
    "converted_text = cleaned_text\n",
    "\n",
    "# Запись результата в файл\n",
    "with open(output_file_path, 'w', encoding='utf-8') as file:\n",
    "    file.write(converted_text)\n",
    "\n",
    "print(f\"Файл успешно обработан и сохранен в {output_file_path}\")\n"
   ]
  },
  {
   "cell_type": "markdown",
   "metadata": {},
   "source": [
    "## !!!!!!!!!!! Деление файла"
   ]
  },
  {
   "cell_type": "code",
   "execution_count": null,
   "metadata": {},
   "outputs": [
    {
     "name": "stdout",
     "output_type": "stream",
     "text": [
      "Тематические блоки успешно записаны в файл outputdata/Starvest_plc.txt.\n"
     ]
    }
   ],
   "source": [
    "import re\n",
    "\n",
    "output_file_path = 'outputdata/Starvest_plc.txt'\n",
    "input_file_path = 'table-to-text/Starvest_plc.txt'\n",
    "\n",
    "# Список заголовков\n",
    "headers = [\n",
    "    \"Officers and professional advisers\",\n",
    "    \"Chairman’s statement\",\n",
    "    \"Investing policy statement\",\n",
    "    \"Review of trading portfolio\",\n",
    "    \"Board of directors\",\n",
    "    \"Strategic report\",\n",
    "    \"Directors’ report\",\n",
    "    \"Directors’ responsibilities statement\",\n",
    "    \"Corporate governance statement\",\n",
    "    \"Audit Committee report\",\n",
    "    \"Remuneration Committee report\",\n",
    "    \"Independent auditor’s report\",\n",
    "    \"Statement of comprehensive income\",\n",
    "    \"Statement of financial position\",\n",
    "    \"Statement of changes in equity\",\n",
    "    \"Statement of cash flows\",\n",
    "    \"Notes to the financial statements\",\n",
    "    \"Notice of AGM\"\n",
    "]\n",
    "\n",
    "# Считываем текст из файла\n",
    "with open(input_file_path, 'r', encoding='utf-8') as f:\n",
    "    text = f.read()\n",
    "\n",
    "# Регулярное выражение для поиска разделителей (блоков из трех строк)\n",
    "separator_pattern = re.compile(r\"^(.*?)\\n(.*?)\\n(\\d{1,2} [A-Za-z]+ \\d{4})\\n\", re.MULTILINE | re.DOTALL)\n",
    "\n",
    "# Разделяем текст на блоки\n",
    "blocks = []\n",
    "current_block = []\n",
    "current_heading = None\n",
    "\n",
    "# Итерируем по строкам текста\n",
    "lines = text.strip().split('\\n')\n",
    "i = 0\n",
    "while i < len(lines):\n",
    "    line = lines[i].strip()\n",
    "    # Проверяем, является ли текущая строка началом разделителя\n",
    "    match = separator_pattern.match(\"\\n\".join(lines[i:i+3]))\n",
    "    if match:\n",
    "        # Если найден разделитель, завершаем текущий блок и начинаем новый\n",
    "        if current_block:\n",
    "            blocks.append((current_heading, \"\\n\".join(current_block)))\n",
    "            current_block = []\n",
    "        i += 3  # Пропускаем три строки\n",
    "    else:\n",
    "        # Проверяем, является ли строка заголовком\n",
    "        if line in headers:\n",
    "            if current_block:  # Завершаем текущий блок, если он есть\n",
    "                blocks.append((current_heading, \"\\n\".join(current_block)))\n",
    "                current_block = []\n",
    "            current_heading = line\n",
    "        elif current_heading and line:  # Игнорируем пустые строки\n",
    "            current_block.append(line)\n",
    "        i += 1\n",
    "\n",
    "# Добавляем последний блок, если он есть\n",
    "if current_block:\n",
    "    blocks.append((current_heading, \"\\n\".join(current_block)))\n",
    "\n",
    "# Разделитель, который нужно найти\n",
    "separator = \"Starvest plc\\n2022 annual report and financial statements\"\n",
    "# Новый разделитель (40 дефисов)\n",
    "new_separator = \"-\" * 40\n",
    "\n",
    "# Замена разделителя на новый\n",
    "text = text.replace(separator, new_separator)\n",
    "\n",
    "\n",
    "# Записываем тематические блоки в файл\n",
    "with open(output_file_path, 'w', encoding='utf-8') as f:\n",
    "    for heading, content in blocks:\n",
    "        f.write(f\"{heading}:\\n\")\n",
    "        if content:  # Добавляем содержимое, если оно есть\n",
    "            f.write(content)\n",
    "        f.write(\"\\n\\n\" + \"-\" * 40 + \"\\n\\n\")\n",
    "\n",
    "print(f\"Тематические блоки успешно записаны в файл {output_file_path}.\")\n"
   ]
  },
  {
   "cell_type": "markdown",
   "metadata": {},
   "source": [
    "## Замена разделителя (подчистка)"
   ]
  },
  {
   "cell_type": "code",
   "execution_count": 83,
   "metadata": {},
   "outputs": [
    {
     "name": "stdout",
     "output_type": "stream",
     "text": [
      "Разделитель успешно заменен, результат сохранен в outputdata/Starvest_plc.txt\n"
     ]
    }
   ],
   "source": [
    "# Путь к входному файлу\n",
    "input_file_path = 'outputdata/Starvest_plc.txt'\n",
    "# Путь к выходному файлу\n",
    "output_file_path = \"outputdata/Starvest_plc.txt\"\n",
    "\n",
    "\n",
    "# Разделитель, который нужно найти\n",
    "separator = \"Starvest plc\\n2022 Annual Report and Financial Statements\"\n",
    "\n",
    "# Новый разделитель (40 дефисов)\n",
    "new_separator = \"-\" * 40\n",
    "\n",
    "# Чтение файла\n",
    "with open(input_file_path, 'r', encoding='utf-8') as file:\n",
    "    text = file.read()\n",
    "\n",
    "# Замена разделителя на новый\n",
    "text = text.replace(separator, new_separator)\n",
    "\n",
    "# Запись результата в файл\n",
    "with open(output_file_path, 'w', encoding='utf-8') as file:\n",
    "    file.write(text)\n",
    "\n",
    "print(f\"Разделитель успешно заменен, результат сохранен в {output_file_path}\")\n"
   ]
  },
  {
   "cell_type": "markdown",
   "metadata": {},
   "source": [
    "### Rectifier_Technologies"
   ]
  },
  {
   "cell_type": "markdown",
   "metadata": {},
   "source": [
    "## Замена разделителя (подчистка)"
   ]
  },
  {
   "cell_type": "code",
   "execution_count": 9,
   "metadata": {},
   "outputs": [
    {
     "name": "stdout",
     "output_type": "stream",
     "text": [
      "Строки, начинающиеся с '|---', удалены. Результат сохранен в table-to-text/Rectifier_Technologies.txt\n"
     ]
    }
   ],
   "source": [
    "# Путь к входному файлу\n",
    "input_file_path = 'датасет 45123/Rectifier_Technologies.txt'\n",
    "# Путь к выходному файлу\n",
    "output_file_path = \"table-to-text/Rectifier_Technologies.txt\"\n",
    "\n",
    "# Чтение файла\n",
    "with open(input_file_path, 'r', encoding='utf-8') as file:\n",
    "    lines = file.readlines()\n",
    "\n",
    "# Удаление строк, начинающихся с `|---`\n",
    "filtered_lines = [line for line in lines if not line.strip().startswith('|---')]\n",
    "\n",
    "# Запись результата в файл\n",
    "with open(output_file_path, 'w', encoding='utf-8') as file:\n",
    "    file.writelines(filtered_lines)\n",
    "\n",
    "print(f\"Строки, начинающиеся с '|---', удалены. Результат сохранен в {output_file_path}\")\n"
   ]
  },
  {
   "cell_type": "markdown",
   "metadata": {},
   "source": [
    "### Отлично находив в Rectifier_Technologies"
   ]
  },
  {
   "cell_type": "code",
   "execution_count": 11,
   "metadata": {},
   "outputs": [
    {
     "name": "stdout",
     "output_type": "stream",
     "text": [
      "Данные успешно записаны в outputdata/Rectifier_Technologies.txt\n"
     ]
    }
   ],
   "source": [
    "import os\n",
    "import re\n",
    "\n",
    "# Пути к файлам\n",
    "output_file_path = 'outputdata/Rectifier_Technologies.txt'\n",
    "input_file_path = 'table-to-text/Rectifier_Technologies.txt'\n",
    "\n",
    "\n",
    "'''\n",
    "    \"Corporate directory\",\n",
    "    \"Chairman's report\",\n",
    "    \"Directors' report\",\n",
    "    \"Auditor's independence declaration\",\n",
    "    \"Statement of profit or loss and other comprehensive income\",\n",
    "    \"Statement of financial position\",\n",
    "    \"Statement of changes in equity\",\n",
    "    \"Statement of cash flows\",\n",
    "    \"Notes to the financial statements\",\n",
    "    \"Directors' declaration\",\n",
    "    \"Independent auditor's report to the members of Rectifier Technologies Ltd\",\n",
    "    \"Shareholder information\",\n",
    "\n",
    "'''\n",
    "# Список заголовков\n",
    "headers = [\n",
    "    \"Rectifier Technologies Ltd\",\n",
    "    \"Note 1.\",\n",
    "    \"Note 2.\",\n",
    "    \"Note 3.\",\n",
    "    \"Note 4.\",\n",
    "    \"Note 5.\",\n",
    "    \"Note 6.\",\n",
    "    \"Note 7.\",\n",
    "    \"Note 8.\",\n",
    "    \"Note 9.\",\n",
    "    \"Note 10.\",\n",
    "    \"Note 11.\",\n",
    "    \"Note 12.\",\n",
    "    \"Note 13.\",\n",
    "    \"Note 14.\",\n",
    "    \"Note 15.\",\n",
    "    \"Note 16.\",\n",
    "    \"Note 17.\",\n",
    "    \"Note 18.\",\n",
    "    \"Note 19.\",\n",
    "    \"Note 20.\",\n",
    "    \"Note 21.\",\n",
    "    \"Note 22.\",\n",
    "    \"Note 23.\",\n",
    "    \"Note 24.\",\n",
    "    \"Note 25.\",\n",
    "    \"Note 26.\",\n",
    "    \"Note 27.\",\n",
    "    \"Note 28.\",\n",
    "    \"Note 29.\",\n",
    "    \"Note 30.\",\n",
    "    \"Note 31.\",\n",
    "    \"Note 32.\",\n",
    "    \"Note 33.\",\n",
    "    \"Note 34.\",\n",
    "    \"Report on the audit of the financial report\",\n",
    "    \"Shareholder information\"\n",
    "]\n",
    "\n",
    "try:\n",
    "    # Проверка существования входного файла\n",
    "    if not os.path.exists(input_file_path):\n",
    "        raise FileNotFoundError(f\"Файл {input_file_path} не найден.\")\n",
    "\n",
    "    # Считываем текст из файла\n",
    "    with open(input_file_path, 'r', encoding='utf-8') as f:\n",
    "        text = f.read()\n",
    "\n",
    "    # Проверка содержимого файла\n",
    "    if not text.strip():\n",
    "        raise ValueError(f\"Файл {input_file_path} пуст.\")\n",
    "\n",
    "    # Разделяем текст на блоки\n",
    "    blocks = []\n",
    "    current_block = []\n",
    "    current_heading = None\n",
    "\n",
    "\n",
    "    # Итерируем по строкам текста\n",
    "    lines = text.strip().split('\\n')\n",
    "    for line in lines:\n",
    "        line = line.strip()\n",
    "        # Проверяем, начинается ли строка с заголовка\n",
    "        for header in headers:\n",
    "            if line == \"Rectifier Technologies Ltd\":  # Проверяем, что строка ровно соответствует заголовку\n",
    "                # Если найден заголовок, завершаем текущий блок и начинаем новый\n",
    "                if current_block:\n",
    "                    blocks.append((current_heading, \"\\n\".join(current_block)))\n",
    "                    current_block = []\n",
    "                current_heading = header\n",
    "                # Добавляем заголовок в текущий блок\n",
    "                current_block.append(line)\n",
    "                break\n",
    "\n",
    "            if line.startswith(header):\n",
    "                # Если найден заголовок, завершаем текущий блок и начинаем новый\n",
    "                if current_block:\n",
    "                    blocks.append((current_heading, \"\\n\".join(current_block)))\n",
    "                    current_block = []\n",
    "                current_heading = header\n",
    "                # Добавляем заголовок в текущий блок\n",
    "                current_block.append(line)\n",
    "                break\n",
    "        else:\n",
    "            # Если заголовок не найден, добавляем строку в текущий блок\n",
    "            if current_heading:\n",
    "                current_block.append(line)\n",
    "\n",
    "    # Добавляем последний блок, если он есть\n",
    "    if current_block:\n",
    "        blocks.append((current_heading, \"\\n\".join(current_block)))\n",
    "\n",
    "    # Проверка блоков\n",
    "    if not blocks:\n",
    "        raise ValueError(\"Блоки не созданы. Проверьте заголовки и текст.\")\n",
    "\n",
    "    # Создаем директорию для выходного файла, если она не существует\n",
    "    os.makedirs(os.path.dirname(output_file_path), exist_ok=True)\n",
    "\n",
    "    # Записываем тематические блоки в файл с разделителем из 40 дефисов\n",
    "    with open(output_file_path, 'w', encoding='utf-8') as f:\n",
    "        for heading, content in blocks:\n",
    "            f.write(f\"{content}\\n\")\n",
    "            f.write(\"-\" * 40 + \"\\n\\n\")  # Добавляем разделитель из 40 дефисов\n",
    "\n",
    "    print(f\"Данные успешно записаны в {output_file_path}\")\n",
    "\n",
    "except Exception as e:\n",
    "    print(f\"Произошла ошибка: {e}\")\n"
   ]
  },
  {
   "cell_type": "code",
   "execution_count": null,
   "metadata": {},
   "outputs": [],
   "source": []
  },
  {
   "cell_type": "markdown",
   "metadata": {},
   "source": [
    "### Функция нарезки на чанки в датафрейм (без предобработки)"
   ]
  },
  {
   "cell_type": "code",
   "execution_count": 3,
   "metadata": {},
   "outputs": [],
   "source": [
    "import re\n",
    "\n",
    "def extract_chunks(file_dir, file_name, company_name):\n",
    "    file_path = file_dir + file_name\n",
    "    with open(file_path, encoding='utf-8') as f:\n",
    "        content = f.read()\n",
    "    separator_pattern = r'^-{10,}$'\n",
    "    # Нарезка текста на чанки по разделителю\n",
    "    pre_chunks = re.split(separator_pattern, content, flags=re.MULTILINE)\n",
    "\n",
    "    chunks = {}\n",
    "#    chunks = []\n",
    "    for i, pre_chunk in enumerate(pre_chunks, 1):\n",
    "\n",
    "        text = f\"{pre_chunk}\"\n",
    "#        print(f\"metadata: {pre_chunk}\")  # Отладочное сообщение\n",
    "        chunks[i] = {  # Используем индекс как ключ\n",
    "            \"chunk_text\": text,\n",
    "            \"source\": file_name,\n",
    "            \"company\": company_name\n",
    "        }\n",
    "#        chunks.append(chunk)\n",
    "            # Преобразуем словарь в DataFrame\n",
    "    df = pd.DataFrame.from_dict(chunks, orient='index')\n",
    "    return df\n",
    "\n"
   ]
  },
  {
   "cell_type": "code",
   "execution_count": null,
   "metadata": {},
   "outputs": [
    {
     "data": {
      "text/plain": [
       "<bound method DataFrame.info of                                             chunk_text  \\\n",
       "0    Officers and professional advisers:\\nDirectors...   \n",
       "1    \\nChairman’s Statement\\nI am pleased to presen...   \n",
       "2                                                 \\n\\n   \n",
       "3    \\n\\nInvesting policy statement:\\nAbout us\\nThe...   \n",
       "4    \\nInvesting policy statement, continued\\nInves...   \n",
       "..                                                 ...   \n",
       "419  \\n\\nNote 34. Events after the reporting period...   \n",
       "420  \\n\\nReport on the audit of the financial repor...   \n",
       "421  \\n\\nShareholder information30 June 2022\\n54\\nT...   \n",
       "422  \\n\\nShareholder information30 June 2022\\n55\\nE...   \n",
       "423                                               \\n\\n   \n",
       "\n",
       "                           source                     company  \n",
       "0                Starvest_plc.txt                Starvest plc  \n",
       "1                Starvest_plc.txt                Starvest plc  \n",
       "2                Starvest_plc.txt                Starvest plc  \n",
       "3                Starvest_plc.txt                Starvest plc  \n",
       "4                Starvest_plc.txt                Starvest plc  \n",
       "..                            ...                         ...  \n",
       "419  Rectifier_Technologies_1.txt  Rectifier Technologies Ltd  \n",
       "420  Rectifier_Technologies_1.txt  Rectifier Technologies Ltd  \n",
       "421  Rectifier_Technologies_1.txt  Rectifier Technologies Ltd  \n",
       "422  Rectifier_Technologies_1.txt  Rectifier Technologies Ltd  \n",
       "423  Rectifier_Technologies_1.txt  Rectifier Technologies Ltd  \n",
       "\n",
       "[424 rows x 3 columns]>"
      ]
     },
     "execution_count": 32,
     "metadata": {},
     "output_type": "execute_result"
    }
   ],
   "source": [
    "import pandas as pd\n",
    "\n",
    "file_dir = 'outputdata/'\n",
    "\n",
    "# Starvest plc\n",
    "my_file = 'Starvest_plc.txt'\n",
    "company_name = 'Starvest plc'\n",
    "combined_df = extract_chunks(file_dir, my_file, company_name)\n",
    "\n",
    "my_file = \"Q_A_Starvest_plc.txt\"\n",
    "company_name = 'Starvest plc'\n",
    "chunks_df = pd.DataFrame() # создание нового пустого DataFrame\n",
    "chunks_df = extract_chunks(file_dir, my_file, company_name)\n",
    "combined_df = pd.concat([combined_df, chunks_df], ignore_index=True)\n",
    "\n",
    "# Brave Bison\n",
    "my_file = \"Brave_Bison.txt\"\n",
    "company_name = 'Brave Bison'\n",
    "chunks_df = pd.DataFrame() # создание нового пустого DataFrame\n",
    "chunks_df = extract_chunks(file_dir, my_file, company_name)\n",
    "combined_df = pd.concat([combined_df, chunks_df], ignore_index=True)\n",
    "\n",
    "my_file = \"Q_A_Brave_Bison.txt\"\n",
    "company_name = 'Brave Bison'\n",
    "chunks_df = pd.DataFrame() # создание нового пустого DataFrame\n",
    "chunks_df = extract_chunks(file_dir, my_file, company_name)\n",
    "combined_df = pd.concat([combined_df, chunks_df], ignore_index=True)\n",
    "\n",
    "my_file = \"Q_A_rectifier_technologies.txt\"\n",
    "company_name = 'Rectifier Technologies Ltd'\n",
    "chunks_df = pd.DataFrame() # создание нового пустого DataFrame\n",
    "chunks_df = extract_chunks(file_dir, my_file, company_name)\n",
    "combined_df = pd.concat([combined_df, chunks_df], ignore_index=True)\n",
    "\n",
    "my_file = \"Rectifier_Technologies.txt\"\n",
    "company_name = 'Rectifier Technologies Ltd'\n",
    "chunks_df = pd.DataFrame() # создание нового пустого DataFrame\n",
    "chunks_df = extract_chunks(file_dir, my_file, company_name)\n",
    "combined_df = pd.concat([combined_df, chunks_df], ignore_index=True)\n",
    "\n",
    "\n",
    "# Вывод\n",
    "combined_df.columns\n",
    "#print(combined_df.shape)\n",
    "combined_df.info\n",
    "#print(combined_df['text'])\n"
   ]
  },
  {
   "cell_type": "code",
   "execution_count": 35,
   "metadata": {},
   "outputs": [
    {
     "data": {
      "text/plain": [
       "<bound method DataFrame.info of                                             chunk_text  \\\n",
       "1    RRECTIFIERR TECHNOLOGIESS LTD \\nABN: 822 0588 ...   \n",
       "2    \\n\\n# Corporate directory\\n\\n## Directors: \\nM...   \n",
       "3    \\n\\n## Bankers \\nANZ Banking Group Limited\\n10...   \n",
       "4    \\n\\n## Stock exchange listing \\nRectifier Tech...   \n",
       "5    \\n\\n## Website \\nhttps://www.rectifiertechnolo...   \n",
       "..                                                 ...   \n",
       "169  \\n\\n## Substantial holders\\nSubstantial holder...   \n",
       "170  \\n\\n## Equity security holders\\nTwenty largest...   \n",
       "171  \\n\\nUnquoted equity securities. As at reportin...   \n",
       "172  \\n\\n## Voting rights\\nThe voting rights attach...   \n",
       "173  \\n\\n## On market buy-back\\nThere is no current...   \n",
       "\n",
       "                         source                     company  \n",
       "1    Rectifier_Technologies.txt  Rectifier Technologies Ltd  \n",
       "2    Rectifier_Technologies.txt  Rectifier Technologies Ltd  \n",
       "3    Rectifier_Technologies.txt  Rectifier Technologies Ltd  \n",
       "4    Rectifier_Technologies.txt  Rectifier Technologies Ltd  \n",
       "5    Rectifier_Technologies.txt  Rectifier Technologies Ltd  \n",
       "..                          ...                         ...  \n",
       "169  Rectifier_Technologies.txt  Rectifier Technologies Ltd  \n",
       "170  Rectifier_Technologies.txt  Rectifier Technologies Ltd  \n",
       "171  Rectifier_Technologies.txt  Rectifier Technologies Ltd  \n",
       "172  Rectifier_Technologies.txt  Rectifier Technologies Ltd  \n",
       "173  Rectifier_Technologies.txt  Rectifier Technologies Ltd  \n",
       "\n",
       "[173 rows x 3 columns]>"
      ]
     },
     "execution_count": 35,
     "metadata": {},
     "output_type": "execute_result"
    }
   ],
   "source": [
    "import pandas as pd\n",
    "\n",
    "file_dir = 'outputdata/'\n",
    "\n",
    "\n",
    "my_file = \"Rectifier_Technologies.txt\"\n",
    "company_name = 'Rectifier Technologies Ltd'\n",
    "combined_df = extract_chunks(file_dir, my_file, company_name)\n",
    "\n",
    "'''\n",
    "my_file = \"Rectifier_Technologies_1.txt\"\n",
    "company_name = 'Rectifier Technologies Ltd'\n",
    "chunks_df = pd.DataFrame() # создание нового пустого DataFrame\n",
    "chunks_df = extract_chunks(file_dir, my_file, company_name)\n",
    "combined_df = pd.concat([combined_df, chunks_df], ignore_index=True)\n",
    "'''\n",
    "\n",
    "# Вывод\n",
    "combined_df.columns\n",
    "#print(combined_df.shape)\n",
    "combined_df.info\n",
    "#print(combined_df['text'])\n"
   ]
  },
  {
   "cell_type": "markdown",
   "metadata": {},
   "source": [
    "### Загрузка датасета"
   ]
  },
  {
   "cell_type": "code",
   "execution_count": 36,
   "metadata": {},
   "outputs": [
    {
     "name": "stdout",
     "output_type": "stream",
     "text": [
      "(173, 3)\n"
     ]
    },
    {
     "data": {
      "text/plain": [
       "<bound method DataFrame.info of                                             chunk_text  \\\n",
       "1    RRECTIFIERR TECHNOLOGIESS LTD \\nABN: 822 0588 ...   \n",
       "2    \\n\\n# Corporate directory\\n\\n## Directors: \\nM...   \n",
       "3    \\n\\n## Bankers \\nANZ Banking Group Limited\\n10...   \n",
       "4    \\n\\n## Stock exchange listing \\nRectifier Tech...   \n",
       "5    \\n\\n## Website \\nhttps://www.rectifiertechnolo...   \n",
       "..                                                 ...   \n",
       "169  \\n\\n## Substantial holders\\nSubstantial holder...   \n",
       "170  \\n\\n## Equity security holders\\nTwenty largest...   \n",
       "171  \\n\\nUnquoted equity securities. As at reportin...   \n",
       "172  \\n\\n## Voting rights\\nThe voting rights attach...   \n",
       "173  \\n\\n## On market buy-back\\nThere is no current...   \n",
       "\n",
       "                         source                     company  \n",
       "1    Rectifier_Technologies.txt  Rectifier Technologies Ltd  \n",
       "2    Rectifier_Technologies.txt  Rectifier Technologies Ltd  \n",
       "3    Rectifier_Technologies.txt  Rectifier Technologies Ltd  \n",
       "4    Rectifier_Technologies.txt  Rectifier Technologies Ltd  \n",
       "5    Rectifier_Technologies.txt  Rectifier Technologies Ltd  \n",
       "..                          ...                         ...  \n",
       "169  Rectifier_Technologies.txt  Rectifier Technologies Ltd  \n",
       "170  Rectifier_Technologies.txt  Rectifier Technologies Ltd  \n",
       "171  Rectifier_Technologies.txt  Rectifier Technologies Ltd  \n",
       "172  Rectifier_Technologies.txt  Rectifier Technologies Ltd  \n",
       "173  Rectifier_Technologies.txt  Rectifier Technologies Ltd  \n",
       "\n",
       "[173 rows x 3 columns]>"
      ]
     },
     "execution_count": 36,
     "metadata": {},
     "output_type": "execute_result"
    }
   ],
   "source": [
    "\n",
    "chunks_df = combined_df[combined_df['chunk_text'].notna() & (combined_df['chunk_text'].str.strip() != '')]\n",
    "print(chunks_df.shape)\n",
    "chunks_df.info"
   ]
  },
  {
   "cell_type": "code",
   "execution_count": 37,
   "metadata": {},
   "outputs": [
    {
     "name": "stdout",
     "output_type": "stream",
     "text": [
      "['RRECTIFIERR TECHNOLOGIESS LTD \\nABN: 822 0588 0100 692 \\nANNUALL REPORT  \\n2022 \\n\\n', '\\n\\n# Corporate directory\\n\\n## Directors: \\nMr. Ying Ming Wang\\nMr. Yanbin Wang\\nMr. Valentino Vescovi\\nMr. Nigel Machin\\n\\n## Company secretary \\nMs Nova Taylor\\n\\n## Registered office \\n97 Highbury Road\\nBURWOOD, VIC 3125\\nTelephone: + 61 3 9896 7550\\nFacsimile:  + 61 3 9896 7566\\n\\n## Share register \\nComputershare Investor Services Pty Ltd\\n452 Johnston Street\\nABBOTSFORD, VIC 3067\\nTelephone:  1300 137 328\\n\\n## Auditor \\nGrant Thornton Audit Pty Ltd\\nCollins Square, Tower 5\\n727 Collins Street\\nMELBOURNE, VIC 3008\\n\\n', '\\n\\n## Bankers \\nANZ Banking Group Limited\\n10 Main Street BOX HILL, VIC 3128\\n\\nWestpac Banking Corporation\\n39-41Hamilton Place, MOUNT WAVERLEY, VIC 3149\\n\\n', '\\n\\n## Stock exchange listing \\nRectifier Technologies Ltd shares are listed on the Australian Securities Exchange \\n(ASX code: RFT)\\n\\n', '\\n\\n## Website \\nhttps://www.rectifiertechnologies.com/\\n\\n', \"\\n\\n## Corporate Governance Statement\\nThe directors and management are committed to conducting the business of Rectifier Technologies Ltd in an ethical manner and in accordance with the highest standards of corporate governance. Rectifier Technologies Ltd has adopted and has substantially complied with the ASX Corporate Governance Principles and Recommendations (Fourth Edition ('Recommendations') to the extent appropriate to the size and nature of its operations.\\n\\nThe consolidated entity’s Corporate Governance Statement, which sets out the corporate governance practices that were in operation during the financial year and identifies and explains any Recommendations that have not been followed and ASX Appendix 4G are released to the ASX on the same day the Annual Report is released. The Corporate Governance Statement and Corporate Governance Compliance Manual can be found on the Company’s website at https://www.rectifiertechnologies.com/investors-relations/.\\n\\n\", \"\\n   \\n# Chairman's report\\n\\n## Financial Results\\nThe Company reported an increase in revenue by approximately 22.8% to $16.30 million from $13.27 million in the previous reporting period.\\n\\nThe increase in revenue from 30 June 2021 resulted from the demand increase for the electric vehicle chargers market with the global economy's recovery from the COVID-19 pandemic.\\n\\nProfit before tax increased to $1.23 million in the current reporting period compared to $1.03 million in the last reporting period. We have successfully managed the business growth despite the COVID interruption and global supply chain issues in FY 2022.\\n\\nThe following table below shows the results for the 12 months to June 2022 compared with those of the previous corresponding period.\\n\\n\", '\\n\\nRevenue from continuing operations (refer to note 5&6):\\n- 2022: AUD 16,303,000\\n- 2021: AUD 13,266,000\\n\\nGross Profit:\\n- 2022: AUD 7,409,000\\n- 2021: AUD 6,042,000\\n\\nGross Margin %:\\n- 2022: 50%\\n- 2021: 51%\\n\\nProfit from continuing operations before tax:\\n- 2022: AUD 1,232,000\\n- 2021: AUD 1,033,000\\n\\nIncome Tax Expense:\\n- 2022: AUD (740,000)\\n- 2021: AUD (493,000)\\n\\nProfit from continuing operations after tax:\\n- 2022: AUD 492,000\\n- 2021: AUD 540,000\\n\\nNet Profit:\\n- 2022: AUD 492,000\\n- 2021: AUD 540,000\\n\\n', '\\n\\n## Funding \\nOn 6 February 2017, Rectifier Technologies Malaysia obtained a loan amounting to MYR 5,460,000 (AUD 1,629,851) from Public Bank Berhad to acquire a new manufacturing facility. The carrying amount of the loan was MYR 4,648,453 (AUD 1,531,464) as of 30 June 2022.\\n\\nOn 7 October 2019, Rectifier Technologies Malaysia obtained a loan amounting to MYR 2,730,000 (AUD 929,393) from the same bank to acquire a new manufacturing facility. The carrying amount of the loan was MYR 2,552,538 (AUD 840,951) as of 30 June 2022.\\n\\nOn 2 October 2020, Rectifier Technologies Malaysia obtained a loan amounting to MYR 498,800 (AUD 159,780) from the same bank to acquire rooftop solar PV net energy metering. The carrying amount of the loan was MYR 428,740 (AUD141,252) as of 30 June 2022.\\n\\nOn 30 March 2022, Rectifier Technologies Australia obtained a loan of AUD 3,000,000 from ANZ for working capital. The carrying amount of the loan was AUD 2,760,321 as of 30 June 2022 after monthly payments for principal and interest. The loan was discharged and fully paid on 2 September 2022.\\n\\nOn 2 September 2022, Rectifier Technologies Australia obtained a loan amounting to AUD 5,000,000 from WBC for working capital. The loan term is five years, and the indicative loan interest is 4.13% p.a. (variable rate). The repayment arrangement is principal plus interest up to 28 July 2027.\\n\\n', '\\n\\n## Dividends Payments\\nNo dividend was declared for the 2022 Financial year.\\n\\n', '\\n\\n## Review of Operations\\nThe Company has successfully managed the COVID interruption to our business and global supply chain shortage and reported a profit in the current reporting period.\\n\\nAs the ASX announcement dated 9 February 2022, we received purchase orders totalling approximately USD 20 million from one of our major customers in the first half-year of 2022. Our international procurement team has secured the required manufacturing materials and is committed to delivering products to all customers with our best efforts.\\n\\nThe Company has continued work on the ERP system implementation as part of the Digital Enterprise Transformation. The first phase of ERP implementation has been completed, with Australia and Singapore subsidiaries consolidated into one platform. Phase 2 will bring the entire Company onto a unified platform that will significantly enhance efficiencies and business intelligence. The Company expects phase 2 of the ERP system implementation to begin in the first half-year of 2023 and take 12 months to implement. \\n\\n', \"\\n\\n## Outlook\\nTo increase the competitiveness of RT22, the Company decided to significantly raise the technical benchmark for the product, which pushed back the original deadlines but resulted in a superior product. The engineering of the 'RT22 50KW EV Charger Module' has continued throughout the period. It has included the safety certification by TUV SUD, which is to be completed by Q4 2022, to enable our customers to supply the product in Europe and the USA. In addition, engineering has continued to work on the volume release of the product by validating a range of alternative components to ensure the supply chain meets market demand for the product. We are expecting RT22 to contribute significantly to company revenue in 2023.\\n \\nOn 26 July 2022, the Company announced that the 'Highbury DC Bi-Directional Charger' project was put on hold, and the available engineering resources have been deployed to other developments, such as the 'RT22 50KW EV Charger Module' and 'high-voltage input rectifier', which are now scheduled H1 2023.\\n\\nWe will continue to strive to grow our business in 2023, particularly in the electric vehicle chargers market.\\n\\n\", \"\\n\\n# Directors' report\\n\\nThe directors present their report, together with the financial statements, on the consolidated entity (referred to hereafter as the 'consolidated entity') consisting of Rectifier Technologies  Ltd (referred to hereafter as the 'Company' or 'parent entity') and the entities it controlled at the end of, or during, the year ended 30 June 2022.\\n\\n## Directors\\nThe following persons were directors of Rectifier Technologies Ltd during the whole of the financial year and up to the date of this report, unless otherwise stated:\\nMr. Ying Ming Wang\\nMr. Yanbin Wang\\nMr. Valentino Vescovi\\nMr. Nigel Machin\\n\\n\", '\\n\\n## Principal activities\\nThe principal activities of the consolidated entity during the financial year were designing and manufacturing high-efficiency power rectifiers and producing electronic and specialised magnetic components.\\n\\n', '\\n\\n## Dividends\\nDividends paid during the financial year:\\nFinal dividend paid during 30 June 2022 of nil cents (for the year ended 30 June 2021: 0.1 cents) per ordinary share:\\n- 2022: AUD 0\\n- 2021: AUD 1,375,701\\n\\nThe dividends paid on 8 December 2020, totalling to $1,375, 701, refers to the 30 June 2020 financial year. There are no dividends declared in relation to the 30 June 2022 and 30 June 2021 financial years.\\n\\n', '\\n\\n## Review of operations\\nThe profit for the consolidated entity after providing for income tax amounted to $491,955 (30 June 2021: $540,379).\\n\\nSpecific information on the review of operations, financial position and business strategies is stated in the Chairman’s report.\\n\\n', '\\n \\n## Significant changes in the state of affairs\\nThere were no significant changes in the state of affairs of the consolidated entity during the financial year.\\n\\n', '\\n\\n## Matters subsequent to the end of the financial year\\nOn 2 September 2022, the loan from ANZ with the carrying amount of the loan AUD 2,760,321 as of 30 June 2022 was discharged and fully paid.\\n\\nOn 2 September 2022, a loan from WBC of $5,000,000 was drawn. The term of the loan is 5 years and the indicative loan interest is 4.13% p.a. (variable rate). The repayment arrangement is principal and interest up to 28 July 2027.\\n\\n', '\\n\\n##Likely developments and expected results of operations\\nInformation on likely developments in the operations of the consolidated entity and the expected results of those operations in future financial years is stated in the Chairman’s report. \\n\\n', '\\n\\n##Environmental regulation\\nThe consolidated entity is not subject to any significant environmental regulation under Australian Commonwealth or State law.\\n\\n', '\\n\\n## Information on directors\\nName: Mr. Ying Ming Wang\\nTitle: Chairman – Non-Executive\\nQualifications: Master of Science\\nExperience and expertise: As Managing Director of the Pudu Group, Ying Ming has built up a range of technology and property businesses, including Epern Telecom Co. Ltd., Beijing’s largest privately owned ISP. He is also involved in the China Digital Kingdom, an internet datacentre development business in China.\\nBoard Member since June 2006\\nOther current directorships: Pudu Group\\nFormer directorships (last 3 years): None\\nSpecial responsibilities: Member of the audit committee\\nInterests in shares: 224,643,616 Ordinary Shares \\nInterests in options: None\\n\\n', '\\n\\nName: Mr. Yanbin Wang\\nTitle: Director – Executive and Chief Executive Officer \\nQualifications: Master of Law, Bachelor of Philosophy \\nExperience and expertise: Before joining Rectifier Technologies as CEO in 2010, Yanbin was Chief Operations Officer at Tianjin IC Card Public Network Company of Tianjin, China and Vice-President of Transtech Sino America, based in Florida, USA. He was instrumental in restructuring the Rectifier Technologies group in 2012, leading it back to growth and profitability.\\nBoard Member since August 2010\\nOther current directorships: None\\nFormer directorships (last 3 years): None\\nSpecial responsibilities: Member of the audit committee\\nInterests in shares: 70,000,000 Ordinary Shares \\nInterests in options: None\\n\\n', '\\n\\nName: Mr. Valentino Vescovi \\nTitle: Director – Non-Executive\\nQualifications: Master of Science, Bachelor of Science\\nExperience and expertise:\\nAs a founding director of Rectifier Technologies  Pacific, Valentino was instrumental in its product development programs that led the world in telecom power using switch mode technology. He brings the board a significant amount of technical and business expertise.\\nBoard member 2003-2010 and from 30 October 2012\\nOther current directorships: None\\nFormer directorships (last 3 years): None\\nSpecial responsibilities: Member of the audit committee\\nInterests in shares: 37,040,000 Ordinary Shares\\nInterests in options: None\\n\\n', '\\n\\nName: Mr. Nigel Machin                                  \\nTitle: Director – Executive and Head of Power Engineering\\nQualifications: Bachelor of Engineering\\nExperience and expertise: Nigel was a founding director of Rectifier Technologies Pacific and has been involved in all its product development since. Before Rectifier Technologies, Nigel was involved in induction melting equipment at Inductotherm Melting, in sound reinforcement power amplifiers for professional audio at Clockwork Audio, and then in telecom power supplies at Ausmode/Exicom. He has published 8 papers and holds two current patents.\\nBoard member since 3 April 2017 \\nOther current directorships: None\\nFormer directorships (last 3 years): None\\nSpecial responsibilities: Member of the audit committee\\nInterests in shares: 22,010,000 Ordinary SharesInterests in options: 1,800,000 unlisted options\\n\\n', \"\\n\\n'Other current directorships' quoted above are current directorships for listed entities only and exclude directorships of all other types of entities unless otherwise stated.\\n\\n'Former directorships (last 3 years)' quoted above are directorships held in the last 3 years for listed entities only and exclude directorships of all other types of entities unless otherwise stated.\\n\\n\", '\\n\\n## Company secretary\\nMs. Nova Taylor was appointed as Company Secretary on 3 February 2022. Ms Taylor has approximately 5 years experience working with listed companies in Company Secretary and Assistant Company Secretary roles. She previously worked for Computershare Investor Services Pty Limited in various roles for over 10 years. Nova has completed a Bachelor of Laws at Deakin University.\\n\\nMr. Justyn Stedwell was appointed as Company Secretary on 31 July 2014 and resigned on 3 February 2022. He is a professional Company Secretary with over 10 years experience as a Company Secretary of ASX listed companies. Mr Stedwell holds a Bachelor of Commerce from Monash University and a Graduate Diploma in Accounting from Deakin University.\\n\\n', '\\n\\n## Meetings of directors\\nBoard of Directors Meetings Attendance (year ended 30 June 2022):\\n\\nMr. Ying Ming Wang:\\n- Full Board: Attended 4 of 4\\n- Audit and Risk Committee: Attended 1 of 1\\n\\nMr. Yanbin Wang:\\n- Full Board: Attended 4 of 4\\n- Audit and Risk Committee: Attended 1 of 1\\n\\nMr. Valentino Vescovi:\\n- Full Board: Attended 4 of 4\\n- Audit and Risk Committee: Attended 1 of 1\\n\\nMr. Nigel Machin:\\n- Full Board: Attended 4 of 4\\n- Audit and Risk Committee: Attended 1 of 1\\n\\n', '\\n\\n## Remuneration report (audited)\\nThe remuneration report details the key management personnel remuneration arrangements for the consolidated entity, in accordance with the requirements of the Corporations Act 2001 and its Regulations.\\n\\nKey management personnel are those persons having authority and responsibility for planning, directing and controlling the activities of the entity, directly or indirectly, including all directors.\\n\\nThe remuneration report is set out under the following main headings:\\nPrinciples used to determine the nature and amount of remuneration\\nDetails of remuneration\\nService agreements\\nShare-based compensation\\nAdditional information\\nAdditional disclosures relating to key management personnel\\n\\n', \"\\n\\n## Principles used to determine the nature and amount of remuneration \\nThe objective of the consolidated entity's executive reward framework is to ensure reward for performance is competitive and appropriate for the results delivered. The framework aligns executive reward with the achievement of strategic objectives and the creation of value for shareholders, and it is considered to conform to the market best practice for the delivery of reward. The Board of Directors ('the Board') ensures that executive reward satisfies the following key criteria for good reward governance practices:\\ncompetitiveness and reasonableness;\\nacceptability to shareholders;\\nperformance linkage/alignment of executive compensation; and\\ntransparency.\\n\\nThe Board is responsible for determining and reviewing remuneration arrangements for its directors and executives. The performance of the consolidated entity depends on the quality of its directors and executives. The remuneration philosophy is to attract, motivate and retain high-performance and high-quality personnel.\\n\\n\", \"\\n\\nThe reward framework is designed to align executive reward to shareholders' interests. The Board has considered that it should seek to enhance shareholders' interests by:\\nhaving economic profit as a core component of plan design;\\nfocusing on sustained growth in shareholder wealth, consisting of dividends and growth in share price, and delivering \\nconstant or increasing return on assets as well as focusing the executive on key non-financial drivers of value; and\\nattracting and retaining high calibre executives.\\n\\nAdditionally, the reward framework should seek to enhance executives' interests by:\\nrewarding capability and experience\\nreflecting competitive reward for contribution to growth in shareholder wealth\\nproviding a clear structure for earning rewards\\n\\nIn accordance with best practice corporate governance, the remuneration structure of non-executive director and executive director is separate.\\n\\n\", \"\\n\\n## Non-executive directors' remuneration\\nThe Board's policy is to remunerate non-executive directors at market rates for comparable companies for time, commitment and responsibilities. The Board determines payments to the non- executive directors and reviews their remuneration annually, based on market practice, duties and accountability. Independent external advice is sought when required. The maximum aggregate amount of fees that can be paid to non-executive directors is subject to approval by shareholders at the Annual General Meeting. Fees for non-executive directors are not linked to the performance of the consolidated entity.\\n\\nASX listing rules require the aggregate non-executive directors' remuneration to be determined periodically by a general meeting. The most recent determination was at the Annual General Meeting held on 25 January 2022, where the shareholders approved a maximum annual aggregate remuneration of $32,760.\\n\\n\", \"\\n\\n## Executive remuneration\\nThe consolidated entity aims to reward executives based on their position and responsibility, with a level and mix of remuneration which has both fixed and variable components.\\n\\nThe executive remuneration and reward framework has four components:\\nbase pay and non-monetary benefits;\\nshort-term performance incentives;\\nshare-based payments; and\\nother remuneration such as superannuation and long service leave.\\n\\nThe combination of these comprises the executive's total remuneration. Fixed remuneration, consisting of base salary, superannuation and non-monetary benefits, is reviewed annually by the Board \\nbased on individual and business unit performance, the overall performance of the consolidated entity and comparable market remunerations.\\n\\nExecutives may receive their fixed remuneration in the form of cash or other fringe benefits (for example motor vehicle benefits), which does not create any additional costs to the consolidated entity and provides additional value to the executive.\\n\\nThe short-term incentives ('STI') program is designed to align the targets of the business units with the performance hurdles of executives. STI payments are granted to executives based on specific annual targets and key performance indicators ('KPI's') being achieved. KPI's include profit contribution, customer satisfaction, leadership contribution and product management.\\n\\nThe long-term incentives ('LTI') include long service leave and share-based payments. Shares are awarded to executives in accordance with performance guidelines established by the Board. These include increase in shareholders' value relative to the entire market and the increase compared to the consolidated entity's direct competitors. The Board reviewed the long-term equity-linked performance incentives specifically for executives during the year ended 30 June 2022.\\n\\n\", \"\\n\\n## Consolidated entity performance and link to remuneration\\nAs part of each executive director and executive’s remuneration package there may be a performance-based component, consisting of key performance indicators (KPI’s). The intention of this program is to facilitate goal congruence between directors/executives with that of the business and shareholders. Where applicable, the KPI’s are set annually, with a certain level of consultation with directors/executives to ensure buy-in. The measures are specifically tailored to the areas each director/executive is involved in and has a level of control over. The KPI’s target areas the Board believes hold greater potential for the consolidated entity expansion and profit, covering financial and non-financial as well as short-term and long-term goals. The level set for each KPI is based on budgeted figures for the consolidated entity and respective industry standards.\\n\\nPerformance in relation to the KPI’s is assessed annually, with bonuses being awarded depending on the number and deemed difficulty of the KPI’s achieved. Following the assessment, the KPI’s are reviewed by the Board in light of the desired and actual outcomes, and their efficiency is assessed in relation to the consolidated entity’s goals and shareholder wealth before the KPI’s are set for the following year.\\n\\nIn determining whether or not a KPI has been achieved, Rectifier Technologies Ltd bases the assessment on audited figures; however, where the KPI involves comparison of individual performance within the consolidated entity, management reports which form the foundation for the consolidated entity audited results are used.\\n\\nRefer to the section 'Additional information' below for details of the earnings and total shareholders return for the last five years.\\n\\n\", \"\\n\\n## Use of remuneration consultants\\nDuring the financial year ended 30 June 2022, the consolidated entity, did not engage any remuneration consultants.\\n\\nVoting and comments made at the Company's 30 June 2021 Annual General Meeting ('AGM')\\nAt the 25 January 2022 AGM, 99.77% of the votes received supported the adoption of the remuneration report for the year ended 30 June 2021. The Company did not receive any specific feedback at the AGM regarding its remuneration practices.\\n\\n\", '\\n\\n# Details of remuneration\\n\\n## Amounts of remuneration\\nDetails of the remuneration of key management personnel of the consolidated entity are set out in the following tables.\\n\\nThe key management personnel of the consolidated entity consisted of the following directors of Rectifier Technologies Ltd:\\nMr. Ying Ming Wang - Chairman – Non-Executive\\nMr. Yanbin Wang - Director – Executive and Chief Executive Officer \\nMr. Valentino Vescovi - Director – Non-Executive\\nMr. Nigel Machin - Director – Executive and Head of Power Engineering\\n\\nAnd the following persons:\\nMr. Paul Davis - Operations Manager – Rectifier Technologies Pacific Pty Ltd\\nMr. Seong Bow Lee - General Manager – Rectifier Technologies (M) Sdn Bhd\\nMr. Nicholas Yeoh - Director of Sales & Market ing – Rectifier Technologies Singapore Pte Ltd\\n\\n', '\\n\\nRemuneration - Year 2022:\\n\\nNon-Executive Directors:\\nMr. Ying Ming Wang:\\n- Cash salary and fees: $16,500\\n- Cash bonus: $0\\n- Non-monetary benefits: $0\\n- Superannuation: $0\\n- Long service leave: $0\\n- Total: $16,500\\n\\nMr. Valentino Vescovi:\\n- Cash salary and fees: $11,000\\n- Cash bonus: $0\\n- Non-monetary benefits: $0\\n- Superannuation: $0\\n- Long service leave: $0\\n- Total: $11,000\\n\\nExecutive Directors:\\nMr. Yanbin Wang:\\n- Cash salary and fees: $320,500\\n- Cash bonus: $20,950\\n- Non-monetary benefits: $20,233\\n- Superannuation: $45,648\\n- Long service leave: $0\\n- Total: $407,331\\n\\nMr. Nigel Machin:\\n- Cash salary and fees: $205,449\\n- Cash bonus: $8,352\\n- Non-monetary benefits: $0\\n- Superannuation: $30,980\\n- Long service leave: $6,374\\n- Total: $251,155\\n\\nOther Key Management Personnel:\\nMr. Paul Davis:\\n- Cash salary and fees: $179,920\\n- Cash bonus: $7,322\\n- Non-monetary benefits: $0\\n- Superannuation: $26,374\\n- Long service leave: $5,577\\n- Total: $219,193\\n\\nMr. Seong Bow Lee:\\n- Cash salary and fees: $96,390\\n- Cash bonus: $8,093\\n- Non-monetary benefits: $1,246\\n- Superannuation: $12,827\\n- Long service leave: $0\\n- Total: $118,556\\n\\nMr. Nicholas Yeoh:\\n- Cash salary and fees: $312,281\\n- Cash bonus: $25,663\\n- Non-monetary benefits: $2,096\\n- Superannuation: $0\\n- Long service leave: $0\\n- Total: $340,040\\n\\nTotal Remuneration:\\n- Cash salary and fees: $1,142,040\\n- Cash bonus: $70,380\\n- Non-monetary benefits: $23,575\\n- Superannuation: $115,829\\n- Long service leave: $11,951\\n- Total: $1,363,775\\n\\nThe cash bonus were approved upon payment on 25 February 2022. \\nThe cash bonus is payable at the discretion of the board, equal to an amount of 5-10% of the total salary, subject to \\nachievement of target profit.\\n\\n', '\\n\\nShort-term benefits  Post-employment benefits  Long-term benefits\\nRemuneration - Year 2021:\\n\\nNon-Executive Directors:\\nMr. Ying Ming Wang:\\n- Cash salary and fees: $16,500\\n- Cash bonus: $0\\n- Non-monetary benefits: $0\\n- Superannuation: $0\\n- Long service leave: $0\\n- Total: $16,500\\n\\nMr. Valentino Vescovi:\\n- Cash salary and fees: $11,000\\n- Cash bonus: $0\\n- Non-monetary benefits: $0\\n- Superannuation: $0\\n- Long service leave: $0\\n- Total: $11,000\\n\\nExecutive Directors:\\nMr. Yanbin Wang:\\n- Cash salary and fees: $296,182\\n- Cash bonus: $26,801\\n- Non-monetary benefits: $20,230\\n- Superannuation: $43,541\\n- Long service leave: $0\\n- Total: $386,754\\n\\nMr. Nigel Machin:\\n- Cash salary and fees: $187,432\\n- Cash bonus: $12,937\\n- Non-monetary benefits: $0\\n- Superannuation: $29,547\\n- Long service leave: $4,910\\n- Total: $234,826\\n\\nOther Key Management Personnel:\\nMr. Paul Davis:\\n- Cash salary and fees: $158,849\\n- Cash bonus: $18,789\\n- Non-monetary benefits: $0\\n- Superannuation: $23,856\\n- Long service leave: $4,253\\n- Total: $205,747\\n\\nMr. Seong Bow Lee:\\n- Cash salary and fees: $90,110\\n- Cash bonus: $9,676\\n- Non-monetary benefits: $1,250\\n- Superannuation: $12,252\\n- Long service leave: $0\\n- Total: $113,288\\n\\nMr. Nicholas Yeoh:\\n- Cash salary and fees: $288,083\\n- Cash bonus: $23,248\\n- Non-monetary benefits: $1,841\\n- Superannuation: $0\\n- Long service leave: $0\\n- Total: $313,172\\n\\nTotal Remuneration:\\n- Cash salary and fees: $1,048,156\\n- Cash bonus: $91,451\\n- Non-monetary benefits: $23,321\\n- Superannuation: $109,196\\n- Long service leave: $9,163\\n- Total: $1,281,287\\n\\nThe cash bonus were approved upon payment on 29 January 2021. \\n\\n', \"\\n\\n# Directors' report\\nProportion of remuneration linked to performance:\\n\\nNon-Executive Directors:\\nMr. Ying Ming Wang:\\n- Fixed remuneration: 2022: 100.00%, 2021: 100.00%\\n- Performance-based remuneration - STI: 2022: 0%, 2021: 0%\\n- Performance-based remuneration - LTI: 2022: 0%, 2021: 0%\\n\\nMr. Valentino Vescovi:\\n- Fixed remuneration: 2022: 100.00%, 2021: 100.00%\\n- Performance-based remuneration - STI: 2022: 0%, 2021: 0%\\n- Performance-based remuneration - LTI: 2022: 0%, 2021: 0%\\n\\nExecutive Directors:\\nMr. Yanbin Wang:\\n- Fixed remuneration: 2022: 94.86%, 2021: 93.07%\\n- Performance-based remuneration - STI: 2022: 5.14%, 2021: 6.93%\\n- Performance-based remuneration - LTI: 2022: 0%, 2021: 0%\\n\\nMr. Nigel Machin:\\n- Fixed remuneration: 2022: 96.67%, 2021: 94.49%\\n- Performance-based remuneration - STI: 2022: 3.33%, 2021: 5.51%\\n- Performance-based remuneration - LTI: 2022: 0%, 2021: 0%\\n\\nOther Key Management Personnel:\\nMr. Paul Davis:\\n- Fixed remuneration: 2022: 96.66%, 2021: 90.87%\\n- Performance-based remuneration - STI: 2022: 3.34%, 2021: 9.13%\\n- Performance-based remuneration - LTI: 2022: 0%, 2021: 0%\\n\\nMr. Seong Bow Lee:\\n- Fixed remuneration: 2022: 93.17%, 2021: 91.46%\\n- Performance-based remuneration - STI: 2022: 6.83%, 2021: 8.54%\\n- Performance-based remuneration - LTI: 2022: 0%, 2021: 0%\\n\\nMr. Nicholas Yeoh:\\n- Fixed remuneration: 2022: 92.45%, 2021: 92.58%\\n- Performance-based remuneration - STI: 2022: 7.55%, 2021: 7.42%\\n- Performance-based remuneration - LTI: 2022: 0%, 2021: 0%\\n\\n\", '\\n\\n# Service agreements\\nThe employment conditions of the CEO and specified executives  are formalised in contracts of employment and all contracts \\nrequire 4 weeks’ notice, with no termination payments specified other than employee entitlements.\\n\\n# Share-based compensation\\n\\n## Issue of shares\\nThere were no shares issued to directors and other key management personnel as part of compensation during the year \\nended 30 June 2022.\\n\\n## Options\\nThere were no options over ordinary shares issued to directors and other key management personnel as part of \\ncompensation that were outstanding as at 30 June 2022.\\n\\nThere were no options over ordinary shares granted to or vested by directors and other key management personnel as part \\nof compensation during the year ended 30 June 2022.\\n\\n', '\\n\\nEarnings of the consolidated entity (5 years to 30 June 2022):\\n\\nRevenue (Including discontinued operation):\\n- 2022: AUD 16,303,329\\n- 2021: AUD 13,266,295\\n- 2020: AUD 16,734,759\\n- 2019: AUD 18,874,493\\n- 2018: AUD 7,834,710\\n\\nNet Profit/(Loss):\\n- 2022: AUD 491,955\\n- 2021: AUD 540,379\\n- 2020: AUD 1,821,638\\n- 2019: AUD 2,127,038\\n- 2018: AUD 62,442\\n\\n', '\\n\\nFactors affecting Total Shareholder Return (TSR):\\n\\nShare price at financial year end (cents per share):\\n- 2022: 4.00\\n- 2021: 2.80\\n- 2020: 3.80\\n- 2019: 4.60\\n- 2018: 2.60\\n\\nChanges in share price (cents):\\n- 2022: +1.20\\n- 2021: -1.00\\n- 2020: -0.80\\n- 2019: +2.00\\n- 2018: +0.90\\n\\nTotal dividends paid (cents per share):\\n- 2022: 0\\n- 2021: 0.10\\n- 2020: 0\\n- 2019: 0\\n- 2018: 0\\n\\n', \"\\n\\n# Directors' report\\n\\n# Additional disclosures relating to key management personnel\\n\\n## Shareholding\\n\\nShareholding movements during the financial year:\\n\\nMr. Ying Ming Wang:\\n- Balance at start of year: 224,643,616\\n- Received as part of remuneration: 0\\n- Additions: 0\\n- Disposals/other: 0\\n- Balance at end of year: 224,643,616\\n\\nMr. Yanbin Wang:\\n- Balance at start of year: 70,000,000\\n- Received as part of remuneration: 0\\n- Additions: 0\\n- Disposals/other: 0\\n- Balance at end of year: 70,000,000\\n\\nMr. Valentino Vescovi:\\n- Balance at start of year: 37,640,000\\n- Received as part of remuneration: 0\\n- Additions: 0\\n- Disposals/other: -600,000\\n- Balance at end of year: 37,040,000\\n\\nMr. Nigel Machin:\\n- Balance at start of year: 22,010,000\\n- Received as part of remuneration: 0\\n- Additions: 0\\n- Disposals/other: 0\\n- Balance at end of year: 22,010,000\\n\\nMr. Paul Davis:\\n- Balance at start of year: 5,000,000\\n- Received as part of remuneration: 0\\n- Additions: 0\\n- Disposals/other: 0\\n- Balance at end of year: 5,000,000\\n\\nMr. Seong Bow Lee:\\n- Balance at start of year: 2,767,550\\n- Received as part of remuneration: 0\\n- Additions: 0\\n- Disposals/other: 0\\n- Balance at end of year: 2,767,550\\n\\nMr. Nicholas Yeoh:\\n- Balance at start of year: 20,500,000\\n- Received as part of remuneration: 0\\n- Additions: 0\\n- Disposals/other: 0\\n- Balance at end of year: 20,500,000\\n\\nTotal:\\n- Balance at start of year: 382,561,166\\n- Received as part of remuneration: 0\\n- Additions: 0\\n- Disposals/other: -600,000\\n- Balance at end of year: 381,961,166\\n\\n\", '\\n\\n# Option holding\\nOptions over ordinary shares held during the financial year:\\n\\nMr. Ying Ming Wang:\\n- Balance at start of year: 0\\n- Received as part of remuneration: 0\\n- Additions: 0\\n- Disposals/other: 0\\n- Balance at end of year: 0\\n\\nMr. Yanbin Wang:\\n- Balance at start of year: 0\\n- Received as part of remuneration: 0\\n- Additions: 0\\n- Disposals/other: 0\\n- Balance at end of year: 0\\n\\nMr. Valentino Vescovi:\\n- Balance at start of year: 0\\n- Received as part of remuneration: 0\\n- Additions: 0\\n- Disposals/other: 0\\n- Balance at end of year: 0\\n\\nMr. Nigel Machin:\\n- Balance at start of year: 1,800,000\\n- Received as part of remuneration: 0\\n- Additions: 0\\n- Disposals/other: 0\\n- Balance at end of year: 1,800,000\\n\\nMr. Paul Davis:\\n- Balance at start of year: 3,000,000\\n- Received as part of remuneration: 0\\n- Additions: 0\\n- Disposals/other: 0\\n- Balance at end of year: 3,000,000\\n\\nMr. Seong Bow Lee:\\n- Balance at start of year: 3,000,000\\n- Received as part of remuneration: 0\\n- Additions: 0\\n- Disposals/other: 0\\n- Balance at end of year: 3,000,000\\n\\nMr. Nicholas Yeoh:\\n- Balance at start of year: 3,000,000\\n- Received as part of remuneration: 0\\n- Additions: 0\\n- Disposals/other: 0\\n- Balance at end of year: 3,000,000\\n\\nTotal:\\n- Balance at start of year: 10,800,000\\n- Received as part of remuneration: 0\\n- Additions: 0\\n- Disposals/other: 0\\n- Balance at end of year: 10,800,000\\nThis concludes the remuneration report, which has been audited.\\n\\n', '\\n\\n# Shares under option\\nUnissued ordinary shares of Rectifier Technologies Ltd under option:\\n\\nGrant Date: June 2003\\n- Expiry Date: No expiry date\\n- Exercise price: $0.020\\n- Number under option: 4,480,000\\n\\nGrant Date: November 2003\\n- Expiry Date: No expiry date\\n- Exercise price: $0.020\\n- Number under option: 8,360,000\\n\\nGrant Date: July 2019\\n- Expiry Date: 13 September 2022\\n- Exercise price: $0.070\\n- Number under option: 34,000,000\\n\\nTotal number under option: 46,840,000\\n\\nNo person entitled to exercise the options had or has any right by virtue of the option to participate in any share issue of the Company or of any other body corporate.\\n\\n', '\\n\\n# Shares issued on the exercise of options\\nThere were no ordinary shares of Rectifier Technologies Ltd issued on the exercise of options during the year ended 30 June 2022 and up to the date of this report.\\n\\n', '\\n\\n# Indemnity and insurance of officers or auditor\\nThe Company has indemnified the directors and executives of the Company for costs incurred, in their capacity as a director or executive, for which they may be held personally liable, except where there is a lack of good faith.\\n\\nDuring the financial year, the Company has paid premiums to in sure each of the directors and officers against liabilities for costs and expenses incurred by them in defending any legal proceedings arising out of their conduct while acting in the capacity of director or officer of the Company and of any related body corporate, other than conduct involving a wilful breach \\nof duty in relation to the Company. The amount of the premium was $35,960 for all directors and officers\\n\\nThe Company has not otherwise, during or since the end of the financial year, except to the extent permitted by law, indemnified or agreed to indemnify an officer or auditor of the Company or of any related body corporate against a liability incurred as such an officer or an auditor.\\n\\n', '\\n\\n# Proceedings on behalf of the Company\\nNo person has applied to the Court under section 237 of the Corp orations Act 2001 for leave to bring proceedings on behalf of the Company, or to intervene in any proceedings to which the Company is a party for the purpose of taking responsibility on behalf of the Company for all or part of those proceedings.\\n\\n', '\\n\\n# Non-audit services\\nThere were no non-audit services provided during the financial year by the auditor.\\n\\n', '\\n\\n# Officers of the Company who are former partners of Grant Thornton\\nThere are no officers of the Company who are former partners of Grant Thornton.\\n\\n', \"\\n\\n# Auditor's independence declaration\\nA copy of the auditor's independence declaration as required under section 307C of the Corporations Act 2001 is set out immediately after this directors' report.\\n\\nThis report is made in accordance with a resolution of directors, pursuant to section 298(2)(a) of the Corporations Act 2001.\\n\\nGrant Thornton\\nGrant Thornton Audit Pty Ltd  \\nLevel 22 Tower 5  \\nCollins Square  \\n727 Collins Street  \\nMelbourne VIC 3008  \\nGPO Box 4736  \\nMelbourne VIC 3001  \\nT +61 3 8320 2222\\n\\n\", '\\n\\n# Auditor’s Independence Declaration \\nTo the Directors of Rectifier Technologies Ltd In accordance with the requirements of section 307C of the Corporations Act 2001, as lead auditor for the audit of Rectifier Technologies Ltd for the year ended 30 June 2022, I declare that, to the best of my knowledge and belief, there have been: no contraventions of the auditor independence requirements of the Corporations Act 2001  in relation to the audit; and no contraventions of any applicable code  of professional conduct in relation to the audit. \\n\\n', '\\n\\n#Statement of profit or loss and other comprehensive income for the year ended 30 June 2022\\n\\nRevenue (Note 5):\\n- 2022: AUD 14,761,523\\n- 2021: AUD 11,841,712\\n\\nOther Income (Note 6):\\n- 2022: AUD 1,535,954\\n- 2021: AUD 1,415,332\\n\\nInterest Revenue:\\n- 2022: AUD 5,852\\n- 2021: AUD 9,251\\n\\n', '\\n\\n# Expenses\\n\\nChanges in inventories of finished goods and work in progress:\\n- 2022: AUD 2,097,687\\n- 2021: AUD (424,565)\\n\\nRaw materials and consumables used:\\n- 2022: AUD (7,656,716)\\n- 2021: AUD (4,022,084)\\n\\nEmployee benefits expense:\\n- 2022: AUD (6,310,321)\\n- 2021: AUD (5,071,148)\\n\\nDepreciation expense (Note 7):\\n- 2022: AUD (607,239)\\n- 2021: AUD (554,839)\\n\\nOther expenses:\\n- 2022: AUD (2,441,741)\\n- 2021: AUD (2,010,880)\\n\\nFinance costs (Note 7):\\n- 2022: AUD (153,125)\\n- 2021: AUD (149,094)\\n\\nProfit before income tax expense:\\n- 2022: AUD 1,231,874\\n- 2021: AUD 1,033,685\\n\\nIncome tax expense (Note 8):\\n- 2022: AUD (739,919)\\n- 2021: AUD (493,306)\\n\\n', '\\n\\n# Profit after income tax expense for the year attributable to the owners of Rectifier Technologies Ltd:\\n- 2022: AUD 491,955\\n- 2021: AUD 540,379\\n\\n', '\\n\\n# Other comprehensive income\\n\\nForeign currency translation:\\n- 2022: AUD 166,439\\n- 2021: AUD (205,003)\\n\\nOther comprehensive income for the year, net of tax:\\n- 2022: AUD 166,439\\n- 2021: AUD (205,003)\\n\\nOther comprehensive income for the year, net of tax (duplicate row):\\n- 2022: AUD 166,439\\n- 2021: AUD (205,003)\\n\\n', '\\n\\n# Total comprehensive income for the year attributable to the owners of \\n\\nRectifier Technologies Ltd:\\n- 2022: AUD 658,394\\n- 2021: AUD 335,376\\n\\nEarnings per share (cents):\\nBasic earnings per share (Note 29):\\n- 2022: 0.04\\n- 2021: 0.04\\n\\nDiluted earnings per share (Note 29):\\n- 2022: 0.03\\n- 2021: 0.04\\n\\nThe above statement of financial position should be read in conjunction with the accompanying notes\\n\\n', '\\n\\n# Statement of financial position\\n\\nAssets:\\nCurrent assets:\\n- Cash and cash equivalents (Note 9): 2022: AUD 7,295,534 | 2021: AUD 6,241,106\\n- Trade and other receivables (Note 10): 2022: AUD 2,910,217 | 2021: AUD 1,728,532\\n- Inventories (Note 11): 2022: AUD 5,877,879 | 2021: AUD 1,906,090\\n- Current tax assets (Note 8): 2022: AUD 734,150 | 2021: AUD 1,066,189\\n- Total current assets: 2022: AUD 16,817,780 | 2021: AUD 10,941,917\\n\\nNon-current assets:\\n- Property, plant and equipment (Note 12): 2022: AUD 4,605,248 | 2021: AUD 4,170,591\\n- Right-of-use assets (Note 13): 2022: AUD 886,673 | 2021: AUD 1,154,814\\n- Intangibles (Note 14): 2022: AUD 94,859 | 2021: AUD 106,048\\n- Deferred tax assets (Note 8): 2022: AUD 524,993 | 2021: AUD 464,209\\n- Total non-current assets: 2022: AUD 6,111,773 | 2021: AUD 5,895,662\\n\\nTotal assets: 2022: AUD 22,929,553 | 2021: AUD 16,837,579\\n\\nLiabilities:\\nCurrent liabilities:\\n- Trade and other payables (Note 15): 2022: AUD 5,549,921 | 2021: AUD 2,649,978\\n- Borrowings (Note 16): 2022: AUD 1,122,142 | 2021: AUD 154,710\\n- Lease liabilities (Note 17): 2022: AUD 212,781 | 2021: AUD 295,410\\n- Current tax liabilities (Note 8): 2022: AUD 795,256 | 2021: AUD 934,751\\n- Employee benefits (Note 18): 2022: AUD 933,573 | 2021: AUD 747,547\\n- Total current liabilities: 2022: AUD 8,613,673 | 2021: AUD 4,782,396\\n\\nNon-current liabilities:\\n- Borrowings (Note 16): 2022: AUD 4,151,846 | 2021: AUD 2,439,390\\n- Lease liabilities (Note 17): 2022: AUD 457,534 | 2021: AUD 588,464\\n- Deferred tax liabilities (Note 8): 2022: AUD 295,404 | 2021: AUD 271,675\\n- Employee benefits (Note 18): 2022: AUD 56,389 | 2021: AUD 59,341\\n- Total non-current liabilities: 2022: AUD 4,961,173 | 2021: AUD 3,358,870\\n\\nTotal liabilities: 2022: AUD 13,574,846 | 2021: AUD 8,141,266\\n\\nNet assets: 2022: AUD 9,354,707 | 2021: AUD 8,696,313\\n\\nEquity:\\n- Issued capital (Note 19): 2022: AUD 39,992,575 | 2021: AUD 39,992,575\\n- Reserves (Note 20): 2022: AUD 513,264 | 2021: AUD 466,825\\n- Accumulated losses: 2022: AUD (31,151,132) | 2021: AUD (31,763,087)\\n\\nTotal equity: 2022: AUD 9,354,707 | 2021: AUD 8,696,313\\n\\nThe above statement of financial position should be read in conjunction with the accompanying notes\\n\\n', '\\n\\n#Statement of changes in equity 2020\\n\\nBalance at 1 July 2020:\\n- Issued capital: AUD 39,851,775\\n- Reserves: AUD 671,828\\n- Accumulated losses: AUD (30,927,765)\\n- Total equity: AUD 9,595,838\\n\\nProfit after income tax expense for the year:\\n- Issued capital: AUD 0\\n- Reserves: AUD 0\\n- Accumulated losses: AUD 540,379\\n- Total equity: AUD 540,379\\n\\nOther comprehensive income for the year, net of tax:\\n- Issued capital: AUD 0\\n- Reserves: AUD (205,003)\\n- Accumulated losses: AUD 0\\n- Total equity: AUD (205,003)\\n\\nTotal comprehensive income for the year:\\n- Issued capital: AUD 0\\n- Reserves: AUD (205,003)\\n- Accumulated losses: AUD 540,379\\n- Total equity: AUD 335,376\\n\\nTransactions with owners in their capacity as owners:\\nContributions of equity, net of transaction costs (Note 19):\\n- Issued capital: AUD 140,800\\n- Reserves: AUD 0\\n- Accumulated losses: AUD 0\\n- Total equity: AUD 140,800\\n\\nDividends paid (Note 21):\\n- Issued capital: AUD 0\\n- Reserves: AUD 0\\n- Accumulated losses: AUD (1,375,701)\\n- Total equity: AUD (1,375,701)\\n\\nBalance at 30 June 2021:\\n- Issued capital: AUD 39,992,575\\n- Reserves: AUD 466,825\\n- Accumulated losses: AUD (31,763,087)\\n- Total equity: AUD 8,696,313\\n\\nThe above statement of changes in equity should be read in conjunction with the accompanying notes\\n\\n', '\\n\\n#Statement of changes in equity 2021\\n\\nBalance at 1 July 2021:\\n- Issued capital: AUD 39,992,575\\n- Reserves: AUD 466,825\\n- Accumulated losses: AUD (31,763,087)\\n- Total equity: AUD 8,696,313\\n\\nProfit after income tax expense for the year:\\n- Issued capital: AUD 0\\n- Reserves: AUD 0\\n- Accumulated losses: AUD 491,955\\n- Total equity: AUD 491,955\\n\\nOther comprehensive income for the year, net of tax:\\n- Issued capital: AUD 0\\n- Reserves: AUD 166,439\\n- Accumulated losses: AUD 0\\n- Total equity: AUD 166,439\\n\\nTotal comprehensive income for the year:\\n- Issued capital: AUD 0\\n- Reserves: AUD 166,439\\n- Accumulated losses: AUD 491,955\\n- Total equity: AUD 658,394\\n\\nTransactions with owners in their capacity as owners:\\nLapsed options transferred to accumulated losses:\\n- Issued capital: AUD 0\\n- Reserves: AUD (120,000)\\n- Accumulated losses: AUD 120,000\\n- Total equity: AUD 0\\n\\nBalance at 30 June 2022:\\n- Issued capital: AUD 39,992,575\\n- Reserves: AUD 513,264\\n- Accumulated losses: AUD (31,151,132)\\n- Total equity: AUD 9,354,707\\n\\nThe above statement of changes in equity should be read in conjunction with the accompanying notes\\n\\n', '\\n\\n# Statement of cash flows\\n\\nCash flows from operating activities:\\n- Receipts from customers: 2022: AUD 16,257,817 | 2021: AUD 13,640,920\\n- Payments to suppliers and employees: 2022: AUD (17,230,486) | 2021: AUD (11,515,086)\\n- Government grants (COVID-19): 2022: AUD 0 | 2021: AUD 435,900\\n- Interest received: 2022: AUD 6,091 | 2021: AUD 16,984\\n- Finance costs: 2022: AUD (147,406) | 2021: AUD (149,094)\\n- Income taxes refunded/(paid): 2022: AUD 387,984 | 2021: AUD (832,165)\\n- Net cash from/(used in) operating activities (Note 30): 2022: AUD (726,000) | 2021: AUD 1,597,459\\n\\nCash flows from investing activities:\\n- Payments for property, plant and equipment: 2022: AUD (629,211) | 2021: AUD (570,904)\\n- Proceeds from disposal of property, plant and equipment: 2022: AUD 0 | 2021: AUD 126\\n- Net cash used in investing activities: 2022: AUD (629,211) | 2021: AUD (570,778)\\n\\nCash flows from financing activities:\\n- Proceeds from issue of shares (Note 19): 2022: AUD 0 | 2021: AUD 140,800\\n- Proceeds from borrowings: 2022: AUD 3,000,000 | 2021: AUD 177,617\\n- Dividends paid (Note 21): 2022: AUD 0 | 2021: AUD (1,375,701)\\n- Repayment of borrowings: 2022: AUD (389,096) | 2021: AUD (126,018)\\n- Repayment of lease liabilities: 2022: AUD (317,318) | 2021: AUD (324,456)\\n- Net cash from/(used in) financing activities: 2022: AUD 2,293,586 | 2021: AUD (1,507,758)\\n\\nNet increase/(decrease) in cash and cash equivalents:\\n- 2022: AUD 938,375\\n- 2021: AUD (481,077)\\n\\nCash and cash equivalents at the beginning of the financial year:\\n- 2022: AUD 6,241,106\\n- 2021: AUD 6,873,680\\n\\nEffects of exchange rate changes on cash and cash equivalents:\\n- 2022: AUD 116,053\\n- 2021: AUD (151,497)\\n\\nCash and cash equivalents at the end of the financial year (Note 9):\\n- 2022: AUD 7,295,534\\n- 2021: AUD 6,241,106\\n\\n', \"\\n\\n# Notes to the financial statements\\n\\n# Note 1. General information\\nThe financial statements cover Rectifier Technologies Ltd as a consolidated entity consisting of Rectifier Technologies Ltd and the entities it controlled at the end of, or during, the year. The financial statements are presented in Australian dollars, which is Rectifier Technologies Ltd's functional and presentation currency. Rectifier Technologies Ltd is a listed public company limited by shares, incorporated and domiciled in Australia. Its registered office and principal place of business is: 97 Highbury Road, Burwood, VIC 3125. A description of the nature of the consolidated entity's operations and its principal activities are included in the directors' report, which is not part of the financial statements. The financial statements were authorised for issue, in accordance with a resolution of directors, on 30 September 2022. The directors have the power to amend and reissue the financial statements.\\n\\n\", '\\n\\n# Note 2. Significant accounting policies\\nThe principal accounting policies adopted in the preparation of the financial statements are set out below. These policies have been consistently applied to all the years presented, unless otherwise stated.\\n\\n', \"\\n\\n## New or amended Accounting Standards and Interpretations adopted\\nThe consolidated entity has adopted all of the new or amended Accounting Standards and Interpretations issued by the Australian Accounting Standards Board ('AASB') that are mandatory for the current reporting period. Any new or amended Accounting Standards or Interpretations that are not yet mandatory have not been early adopted.\\n\\n\", '\\n\\n## Going concern\\nThe financial report has been prepared on the basis of the Group continuing as a going concern, which assumes continuity of normal business activities and realisation of assets and the settlement of liabilities in the ordinary course of business.\\n\\n', \"\\n\\n## Basis of preparation\\nThese general purpose financial statements have been prepared  in accordance with Australian Accounting Standards and Interpretations issued by the Australian Accounting Standards Board ('AASB') and the Corporations Act 2001, as appropriate for for-profit oriented entities. These financial statements also comply with International Financial Reporting Standards as issued by the International Accounting Standards Board ('IASB').\\n\\n\", '\\n\\n## Historical cost convention\\nThe financial statements have been prepared under the historical cost convention.\\n\\n', \"\\n\\n## Critical accounting estimates\\nThe preparation of the financial statements requires the use of certain critical accounting estimates. It also requires management to exercise its judgement in the process of applying the consolidated entity's accounting policies. The areas involving a higher degree of judgement or complexity, or areas where assumptions and estimates are significant to the financial statements, are disclosed in note 3.\\n\\n\", '\\n\\n## Parent entity information\\nIn accordance with the Corporations Act 2001, these financial statements present the results of the consolidated entity only. Supplementary information about the parent entity is disclosed in note 33.\\n\\n', \"\\n\\n## Principles of consolidation\\nThe consolidated financial statements incorporate the assets and li abilities of all subsidiaries of Rectifier Technologies Ltd ('Company' or 'parent entity') as at 30 June 2022 and the results of all subsidiaries for the year ended. Rectifier Technologies Ltd and its subsidiaries together are referred to in these financial statements as the 'consolidated entity'. Subsidiaries are all those entities over which the consolidated entity has control. The consolidated entity controls an entity when the consolidated entity is exposed to, or has rights to, variable returns from its involvement with the entity and has the ability to affect those returns through its power to direct the activities of the entity. Subsidiaries are fully consolidated from the date on which control is transferred to the consolidated entity. They are de-consolidated from the date that control ceases. Intercompany transactions, balances and unrealised gains on transactions between entities in the consolidated entity are eliminated. Unrealised losses are also eliminated unless the transaction provides evidence of the impairment of the asset transferred. Accounting policies of subsidiaries have been changed where necessary to ensure consistency with the policies adopted by the consolidated entity. The acquisition of subsidiaries is accounted for using the acquisition method of accounting. A change in ownership interest, without the loss of control, is accounted for as an equity transaction, where the difference between the consideration \\ntransferred and the book value of the share of the non-controlling interest acquired is recognised directly in equity attributable to the parent. Where the consolidated entity loses control over a subsidiary, it derecognises the assets including goodwill, liabilities and non-controlling interest in the subsidiary together with any cumulative translation differences recognised in equity. The consolidated entity recognises the fair value of the consideration received and the fair value of any investment retained together with any gain or loss in profit or loss.\\n\\n\", \"\\n\\n## Operating segments\\nOperating segments are presented using the 'management approach', where the information presented is on the same basis as the internal reports provided to the Chief Operating Decision Makers ('CODM'). The CODM is responsible for the allocation of resources to operating segments and assessing their performance.\\n\\n\", \"\\n\\n## Foreign currency translation\\nThe financial statements are presented in Australian dollars, which is Rectifier Technologies Ltd's functional and presentation currency. Foreign currency transactions are translated into the entity’s functional currency using the exchange rates prevailing at the dates of the transactions. Foreign exchange gains and losses resulting from the settlement of such transactions and from \\nthe translation at financial year-end exchange rates of monetary assets and liabilities denominated in foreign currencies are recognised in profit or loss. The assets and liabilities of foreign operations are translated into Australian dollars using the exchange rates at the reporting date. The revenues and expenses of foreign operations are translated into Australian dollars using the average exchange rates, which approximate the rates at the dates of the transactions for the period. All resulting foreign exchange differences are recognised in other comprehensive income through the foreign currency reserve in equity. The foreign currency reserve is recognised in profit or loss when the foreign operation or net investment is disposed of.\\n\\n\", \"\\n\\n## Revenue recognition\\nThe consolidated entity recognises revenue as follows: revenue from contracts with customers, sale of goods, other revenue, and interest.\\nRevenue from contracts with customers is recognised at an amount that reflects the consideration to which the consolidated entity is expected to be entitled in exchange for transferring goods or services to a customer. For each contract with a customer, the consolidated entity: identifies the contract with a customer; identifies the performance obligations in the contract; determines the transaction price which takes into account estimates of variable consideration and the time value of money; allocates the transaction price to the separate performance obligations on the basis of the relative  stand-alone selling price of each distinct good or service to be delivered; and recognises revenue when or as each performance obligation is satisfied in a manner that depicts the transfer to the customer of the goods or services promised. Variable consideration within the transaction price, if any, reflects concessions provided to the customer such as discounts, rebates and refunds, any potential bonuses receivable from the customer and any other contingent events. Such estimates are determined using either the 'expected value' or 'most likely  amount' method. The measurement of variable consideration is subject to a constraining principle whereby revenue will only be recognised to the extent that it is highly probable that a significant reversal in the amount of cumulative revenue recognised will not occur. The measurement constraint continues until the uncertainty associated with the variable consideration is subsequently resolved. Amounts received that are subject to the constraining principle are recognised as a refund liability. Sale of goods or revenue from the sale of power rectifiers and the related after-sales services is recognised at the point in time when the consolidated entity satisfies performance obligations by transferring the promised products and services, which is generally at the time of delivery. The consolidated entity recognises contract liabilities for consideration received in respect of unsatisfied performance obligations and reports these amounts as other liabilities in the statement of financial position. Similarly, if the consolidated entity satisfies a performance obligation before it receives the consideration, the consolidated entity recognises either a contract asset or a receivable in its statement of financial position, depending on whether something other than the passage of time is required before the consideration is due. Other revenue is recognised when it is received or when the right to receive payment is established. Interest revenue is recognised as interest accrued using the effective interest method. This is a method of calculating the amortised cost of a financial asset and allocating the interest in come over the relevant period using the effective interest rate, which is the rate that exactly discounts estimated future cash receipts through the expected life of the financial asset to the net carrying amount of the financial asset.\\n\\n\", \"\\n\\n## Income tax\\nThe income tax expense or benefit for the period is the tax payable on that period's taxable income based on the applicable income tax rate for each jurisdiction, adjusted by the changes in deferred tax assets and liabilities attributable to temporary differences, unused tax losses and the adjustment recognised for prior periods, where applicable. Deferred tax assets and liabilities are recognised for temporary differences at the tax rates expected to be applied when the assets are recovered or liabilities are settled, based on those tax rates that are enacted or substantively enacted, except for: (1) when the deferred income tax asset or liability arises from the initial recognition of goodwill or an asset or liability in a transaction that is not a business combination and that, at the time of the transaction, affects neither the accounting nor taxable profits; or (2) when the taxable temporary difference is associated with interests in subsidiaries, associates or joint ventures, and the timing of the reversal can be controlled and it is probable that the temporary difference will not reverse in the foreseeable future. Deferred tax assets are recognised for deductible temporary differences and unused tax losses only if it is probable that future taxable amounts will be available to utilise those temporary differences and losses. The carrying amount of recognised and unrecognised deferred tax assets are reviewed at each reporting date. Deferred tax assets recognised are reduced to the extent that it is no longer  probable that future taxable profits will be available for the carrying amount to be recovered. Previously unrecognised deferred tax assets are recognised to the extent that it is probable that there are future taxable profits available to recover the asset. Deferred tax assets and liabilities are offset only where there is a legally enforceable right to offset current tax assets against current tax liabilities and deferred tax assets against deferred tax liabilities; and they relate to the same taxable authority on either the same taxable entity or different tax able entities which intend to settle simultaneously. Rectifier Technologies Ltd (the 'head entity') and its wholly-owned Australian subsidiaries have formed an income tax consolidated group under the tax consolidation regime. The head entity and each subsidiary in the tax consolidated group continue to account for their own current and deferred tax amounts. The tax consolidated group has applied the 'separate taxpayer within group' approach in determining the appropriate amount of taxes to allocate to members of the tax consolidated group. In addition to its own current and deferred tax amounts, the head entity also recognises the current tax liabilities (or assets) and the deferred tax assets arising from unused tax losses and unused tax credits assumed from each subsidiary in the tax consolidated group. Assets or liabilities arising under tax funding agreements with the tax consolidated entities are recognised as amounts receivable from or payable to other entities in the tax consolidated group. The tax funding arrangement ensures that the intercompany charge equals the current tax liability or benefit of each tax consolidated group member, resulting in neither a contribution by the head entity to the subsidiaries nor a distribution by the subsidiaries to the head entity.\\n\\n\", \"\\n\\n## Current and non-current classification\\nAssets and liabilities are presented in the statement of financial position based on current and non-current classification. An asset is classified as current when: it is either expected to be realised or intended to be sold or consumed in the consolidated entity's normal operating cycle; it is held primarily for the purpose of trading; it is expected to be realised within 12 months after the reporting period, or the asset is cash or cash equivalent unless restricted from being exchanged or used to settle a liability for at least 12 months after the reporting period. All other assets are classified as non-current. A liability is classified as current when: it is either expected to be settled in the consolidated entity's normal operating cycle; it is held primarily for the purpose of trading; it is due to  be settled within 12 months after the reporting period, or there is no unconditional right to defer the settlement of the liability for at least 12 months after the reporting period. All other liabilities are classified as non-current. Deferred tax assets and liabilities are always classified as non-current.\\n\\n\", '\\n\\n## Cash and cash equivalents\\nCash and cash equivalents include cash on hand, deposits held at call with financial institutions, other short-term, highly liquid investments with original maturities of three months or less that are readily convertible to known amounts of cash and which are subject to an insignificant risk of changes in value.\\n\\n', '\\n\\n## Trade and other receivables\\nTrade receivables are initially recognised at fair value and subsequently measured at amortised cost using the effective interest method, less any allowance for expected credit losses. Trade receivables are generally due for settlement within 30 days. The consolidated entity has applied the simplified approach to measuring expected credit losses, which uses a lifetime expected loss allowance. To measure the expected credit losses, trade receivables have been grouped based on days overdue. Other receivables are recognised at amortised cost, less any allowance for expected credit losses.\\n\\n', \"\\n\\n## Inventories\\nRaw materials, work in progress and finished goods are stated at the lower of cost and net realisable value on a 'weighted average' basis. Cost comprises of direct materials and deliver y costs, direct labour, import duties and other taxes, an appropriate proportion of variable and fixed overhead expenditure based on normal operating capacity, and, where applicable, transfers from cash flow hedging reserves in equity. Costs of purchased inventory are determined after deducting rebates and discounts received or receivable. Stock in transit is stated at the lower of cost and net realisable value. Cost comprises of purchase and delivery costs, net of rebates and discounts received or receivable. Net realisable value is the estimated selling price in the ordinary course of business less the estimated costs of completion and the estimated costs necessary to make the sale.\\n\\n\", '\\n\\n## Property, plant and equipment\\nFreehold land is stated at historical cost and is not depreciated but is subject to impairment testing if there is any indication of impairment. Building and plant and equipment are stated at historical cost less accumulated depreciation and impairment. Historical cost includes expenditure that is directly attributable to the acquisition of the items.\\nDepreciation is calculated on a straight-line basis to write off the net cost of each item of property, plant and equipment (excluding land) over their expected useful lives as follows:\\n- Building: 50 years\\n- Leasehold improvement: 10 years\\n- Plant and equipment: 2.5–5 years\\n- Motor vehicle: 5 years\\nThe residual values, useful lives and depreciation methods are reviewed, and adjusted if appropriate, at each reporting date. Leasehold improvements are depreciated over the unexpired period of the lease or the estimated useful life of the assets, whichever is shorter. An item of property, plant and equipment is derecognised upon disposal or when there is no future economic benefit to the consolidated entity. Gains and losses between the carrying amount and the disposal proceeds are taken to profit or loss.\\n\\n', '\\n\\n## Right-of-use assets\\nA right-of-use asset is recognised at the commencement date of a lease. The right-of-use asset is measured at cost, which comprises the initial amount of the lease liability, adjusted for, as applicable, any lease payments made at or before the commencement date net of any lease incentives received, any initial direct costs incurred, and, except where included in the cost of inventories, an estimate of costs expected to be incurred for dismantling and removing the underlying asset, and restoring the site or asset. Right-of-use assets are depreciated on a straight-line basis over the unexpired period of the lease or the estimated useful life of the asset, whichever is shorter. Where the consolidated entity expects to obtain ownership of the leased asset at the end of the lease term, the depreciation is over its estimated useful life. Right-of-use assets are subject to impairment or adjusted for any remeasurement of lease liabilities.\\nThe consolidated entity has elected not to recognise a right-of-use asset and corresponding lease liability for short-term leases with terms of 12 months or less and leases of low-value assets. Lease payments on these assets are expensed to profit or loss as incurred.\\n\\n', '\\n\\n## Intangible assets. Research and development\\nResearch costs are expensed in the period in which they are incurred. Development costs are capitalised when: it is probable that the project will be a success considering its commercial and technical feasibility; the consolidated entity is able to use or sell the asset; the consolidated entity has sufficient resources and intent to complete the development; and its costs can \\nbe measured reliably. Capitalised development costs are amortised on a straight-line basis over the period of their expected benefit, being their finite life of 10 years.\\n\\n', \"\\n\\n## Impairment of non-financial assets\\nNon-financial assets are reviewed for impairment whenever events or changes in circumstances indicate that the carrying amount may not be recoverable. An impairment loss is recognised for the amount by which the asset's carrying amount exceeds its recoverable amount. Recoverable amount is the higher of an asset's fair value less costs of disposal and value-in-use. The value-in-use is the present value of the estimated future cash flows relating to the asset using a pre-tax discount rate specific to the asset or cash-generating unit to which the asset belongs. Assets that do not have independent cash flows are grouped together to form a cash-generating unit.\\n\\n\", '\\n\\n## Trade and other payables\\nTrade and other payables represent liabilities for goods and services provided to the consolidated entity prior to the end of the financial year and which are unpaid. Due to their short-term nature, they are measured at amortised cost and are not discounted. The amounts are unsecured and are usually paid within 30 days of recognition.\\n\\n', '\\n\\n## Borrowings\\nLoans and borrowings are initially recognised at the fair value of the consideration received, net of transaction costs. They are subsequently measured at amortised cost using the effective interest method.\\n\\n', \"\\n\\n## Lease liabilities\\nA lease liability is recognised at the commencement date of a lease. The lease liability is initially recognised at the present value of the lease payments to be made over the term of the lease,  discounted using the interest rate implicit in the lease or, if that rate cannot be readily determined, the consolidated entity's incremental borrowing rate. Lease payments comprise of fixed payments less any lease incentives receivable, variable lease payments that depend on an index or a rate, amounts expected to be paid under residual value guarantees, exercise price of a purchase option when the exercise of the option is reasonably certain to occur, and any anticipated termination penal ties. The variable lease payments that do not depend on an index or a rate are expensed in the period in which they are incurred. Lease liabilities are measured at amortised cost using the effective interest method. The carrying amounts are remeasured if there is a change in the following: future lease payments arising from a change in an index or a rate used; residual guarantee; lease term; the certainty of a purchase option and termination penalties. When a lease liability is remeasured, an adjustment is made to the corresponding right-of use asset, or to profit or loss if the carrying amount of the right-of-use asset is fully written down.\\n\\n\", '\\n\\n## Finance costs\\nFinance costs attributable to qualifying assets are capitalised as part of the asset. All other finance costs are expensed in the period in which they are incurred.\\n\\n', '\\n\\n## Employee benefits\\nFor short-term employee benefits Liabilities for wages and salaries, including non-monetary benefits, annual leave and long service leave expected to be settled wholly within 12 months of the reporting date are measured at the amounts expected to be paid when the liabilities are settled. Other long-term employee benefits: the liability for annual leave and long service leave not expected to be settled within 12 months of the reporting date are measured at the present value of expected future payments to be made in respect of services provided by employees up to the reporting date. Consideration is given to expected future wage and salary levels, the experience of employee departures and periods of service. Expected future payments are discounted using market yields at the reporting date on high-quality corporate bonds with terms to maturity and currency that match, as closely as possible, the estimated future cash outflows. Defined contribution superannuation expense: contributions to defined contribution superannuation plans are expensed in the period in which they are incurred. Share-based payments: equity-settled share-based compensation benefits are provided to employees, equity-settled transactions are awards of shares, or options over shares, that are provided to employees in exchange for the rendering of services. The cost of equity-settled transactions are measured at fair value on grant date. Fair value is independently determined using the Black-Scholes option pricing model that takes into account the exercise price, the term of the option, the impact of dilution, the share price at grant date and expected price volatility of the underlying share, the expected dividend yield and the risk free interest rate for the term of the option, together with non-vesting conditions that do not determine whether the consolidated entity receives the services that entitle the employees to receive payment. No account is taken of any other vesting conditions. The cost of equity-settled transactions are recognised as an  expense with a corresponding increase in equity at the vesting date which is at the grant date. The cumulative charge to profit or loss is calculated based on the grant date fair value of the award, the best estimate of the number of awards that are likely to vest and the expired portion of the vesting period. The amount recognised in profit or loss for the period is the cumulative amount calculated at each reporting date less amounts already recognised in previous periods. If equity-settled awards are modified, as a minimum an expense is recognised as if the modification has not been made. An additional expense is recognised, over the remaining vesting period, for any modification that increases the total fair value of the share-based compensation benefit as at the date of modification. If the non-vesting condition is within the control of the consolidated entity or employee, the failure to satisfy the condition is treated as a cancellation. If the condition is not within the control of the consolidated entity or employee and is not satisfied during the vesting period, any remaining expense for the award is recognised over the remaining vesting period, unless the award is forfeited. If equity-settled awards are cancelled, it is treated as if it has vested on the date of cancellation, and any remaining expense is recognised immediately. If a new replacement award is substituted for the cancelled award, the cancelled and new award is treated as if they were a modification.\\n\\n', '\\n\\n## Issued capital\\nOrdinary shares are classified as equity. Incremental costs directly attributable to the issue of new shares or options are shown in equity as a deduction, net of tax, from the proceeds.\\n\\n', '\\n\\n## Dividends\\nDividends are recognised when declared during the financial year and no longer at the discretion of the Company.\\n\\n', '\\n\\n## Earnings per share\\nBasic earnings per share is calculated by dividing the profit attributable to the owners of Rectifier Technologies Ltd, excluding any costs of servicing equity other than ordinary shares, by the weighted average number of ordinary shares outstanding during the financial year, adjusted for bonus elements in ordinary shares issued during the financial year. Diluted earnings per share adjusts the figures used in the determination of basic earnings per share to take into account the after income tax effect of interest and other financing costs associated with dilutive potential ordinary shares and the weighted average number of additional ordinary shares that would have been outstanding assuming conversion of all dilutive potential ordinary shares.\\n\\n', \"\\n\\n## Goods and Services Tax ('GST') and other similar taxes\\nRevenues, expenses and assets are recognised net of the amount of associated GST, unless the GST incurred are not recoverable from the tax authority. In this case, it is recognised as part of the cost of the acquisition of the asset or as part of the expense. Receivables and payables are stated inclusive of the amount of GST receivable or payable. The net amount of GST recoverable from, or payable to, the tax authority is included in other receivables or other payables in the statement of financial position. Cash flows are presented on a gross basis. The GST components of cash flows arising from investing or financing activities which are recoverable from, or payable to the tax authority, are presented as operating cash flows. Commitments and contingencies are disclosed net of the amount of GST recoverable from, or payable to, the tax authority.\\n\\n\", '\\n\\n## New Accounting Standards and Interpretations not yet mandatory or early adopted\\nAustralian Accounting Standards and Interpretations that have recently been issued or amended but are not yet mandatory, have not been early adopted by the consolidated entity for the annual reporting period ended 30 June 2022. The consolidated entity has not yet assessed the impact of these new or amended Accounting Standards and Interpretations.\\n\\n', '\\n\\n# Note 3. Critical accounting judgements, estimates and assumptions\\nThe preparation of the financial statements requires management to make judgements, estimates and assumptions that affect the reported amounts in the financial statements. Management continually evaluates its judgements and estimates in relation to assets, liabilities, contingent liabilities, revenue  and expenses. Management bases its judgements, estimates and assumptions on historical experience and on other various fact ors, including expectations of future events, management believes to be reasonable under the circumstances. The resulting accounting judgements and estimates will seldom equal the related actual results. The judgements, estimates and assumptions that have a significant risk of causing a material adjustment to the carrying amounts of assets and liabilities (refer to the respective notes) within the next financial year are discussed below.\\n\\n', '\\n\\n## Provision for impairment of inventories\\nThe provision for impairment of inventories assessment requires a degree of estimation and judgement. The level of the provision is assessed by taking into account the recent sales experience, the ageing of inventories and other factors that affect inventory obsolescence.\\n\\n', '\\n\\n## R & D tax rebate\\nThe consolidated entity has recognised the R&D rebate on an accrual basis. As the return has not yet been submitted, the consolidated entity has made an estimate of the likely refund amount based on the preliminary number provided by external tax consultant.\\n\\n', \"\\n\\n## Income tax\\nThe consolidated entity is subject to income taxes in the jurisdictions in which it operates. Significant judgement is required in determining the provision for income tax. There are many transactions and calculations undertaken during the ordinary course of business for which the ultimate tax determination is uncertain. The consolidated entity recognises liabilities for anticipated tax audit issues based on the consolidated entity's current understanding of the tax law. Where the final tax outcome of these matters is different from the carrying amounts, such differences will impact the current and deferred tax provisions in the period in which such determination is made.\\n\\n\", \"\\n\\n# Note 4. Operating segments\\n## Identification of reportable operating segments\\nThe consolidated entity is organised into 4 operating segments as described below. These operating segments are based on the internal reports that are reviewed and used by the executive management committee (who are identified as the Chief Operating Decision Makers ('CODM')) in assessing performance and in determining the allocation of resources. The executive management committee considers the business from both a product and geographic perspective and assesses performance and allocates resources on this basis. There is no aggregation of operating segments.\\n\\nBusiness Segments:\\n\\nElectronic Components:\\nUnder this segment, Rectifier Technologies Pacific Pty Ltd and Rectifier Technologies Malaysia Sdn Bhd, which is based in Malaysia, manufacture electronic components for a number of industries.\\n\\nIndustrial Power Supplies (E&D):\\nUnder this segment, Rectifier Technologies Pacific Pty Ltd and Rectifier Technologies Malaysia Sdn Bhd manufacture and distribute rectifiers, controllers, accessories, and complete systems for the power generation, distribution industries, and defence. Rectifier Technologies Singapore Pte Ltd only focuses on distribution.\\n\\nIndustrial Power Supplies (T&T):\\nUnder this segment, Rectifier Technologies Pacific Pty Ltd and Rectifier Technologies Malaysia Sdn Bhd manufacture and distribute power supplies for the transport industries and telecommunications. Rectifier Technologies Singapore Pte Ltd only focuses on distribution.\\n\\nIndustrial Power Supplies (EV):\\nUnder this segment, Rectifier Technologies Pacific Pty Ltd, Rectifier Technologies Singapore Pte Ltd, and Rectifier Technologies Malaysia Sdn Bhd manufacture and distribute electric vehicle chargers, battery chargers, and power supplies for a number of industries. Rectifier Technologies Singapore Pte Ltd only focuses on distribution.\\n\\n\", \"\\n\\nThe CODM reviews earnings before interest, tax, depreciation and amortisation ('EBITDA'). This measure excludes non-recurring expenditures such as restructuring costs, impairments and share-based payments as well as interest revenue and interest expense and other items which are considered part of the corporate treasury function. The accounting policies adopted for internal reporting to the CODM are consistent with those adopted in  the financial statements. The information reported to the CODM is on a monthly basis. Refer to note 5 for geographic information.\\n## Intersegment transactions\\nIntersegment transactions were made at market rates. Inter-segment revenue comprises sales between segments which are on arm's length terms. Intersegment transactions are eliminated on consolidation.\\n## Intersegment receivables, payables and loans\\nIntersegment loans are initially recognised at the consideration received. Intersegment loans receivable and loans payable that earn or incur non-market interest are not adjusted to fair value based on market interest rates. Intersegment loans are eliminated on consolidation.\\n## Major customers\\nDuring the year ended 30 June 2022, the revenue of $10,562,830 (2021: $6,513,519) and $944,754 (2021: $1,164,100) were derived from two Australian customers, which are allocated to the Industrial Power Supplies (EV) and Industrial Power Supplies (E&D) segments respectively. Revenue of $1,482,138 (2021: $1,301,035) was derived from a single (2021: single) customer in Singapore under the Industrial Power Supplies (E&D) segment.\\n\\n\", '\\n\\nOperating segment information - Consolidated 2022 (AUD):\\n\\nRevenue:\\n- Sales to external customers:\\n  - Electronic components: 209,004\\n  - Industrial power supplies (E&D): 3,305,291\\n  - Industrial power supplies (T&T): 622,739\\n  - Industrial power supplies (EV): 10,810,151\\n  - Corporate: 0\\n  - Total: 14,947,185\\n\\n- Intersegment sales:\\n  - Electronic components: 28,241\\n  - Industrial power supplies (E&D): 1,629,441\\n  - Industrial power supplies (T&T): 398,885\\n  - Industrial power supplies (EV): 8,608,629\\n  - Corporate: (10,665,196)\\n  - Total: 0\\n\\n- Total revenue:\\n  - Electronic components: 237,245\\n  - Industrial power supplies (E&D): 4,934,732\\n  - Industrial power supplies (T&T): 1,021,624\\n  - Industrial power supplies (EV): 19,418,780\\n  - Corporate: (10,665,196)\\n  - Total: 14,947,185\\n\\nEBITDA:\\n- Electronic components: 10,681\\n- Industrial power supplies (E&D): 168,920\\n- Industrial power supplies (T&T): 31,826\\n- Industrial power supplies (EV): 552,465\\n- Corporate: 1,228,346\\n- Total: 1,992,238\\n\\nDepreciation and amortisation:\\n- Electronic components: (305,349)\\n- Industrial power supplies (E&D): (54,555)\\n- Industrial power supplies (T&T): (8,285)\\n- Industrial power supplies (EV): (239,050)\\n- Corporate: 0\\n- Total: (607,239)\\n\\nFinance costs:\\n- Electronic components: (172,100)\\n- Industrial power supplies (E&D): (5,963)\\n- Industrial power supplies (T&T): (765)\\n- Industrial power supplies (EV): (30,397)\\n- Corporate: 56,100\\n- Total: (153,125)\\n\\nProfit/(loss) before income tax expense:\\n- Electronic components: (466,768)\\n- Industrial power supplies (E&D): 108,402\\n- Industrial power supplies (T&T): 22,776\\n- Industrial power supplies (EV): 283,018\\n- Corporate: 1,284,446\\n- Total: 1,231,874\\n\\nIncome tax expense:\\n- Corporate: (739,919)\\n\\nProfit after income tax expense:\\n- Total: 491,955\\n\\nAssets:\\n- Segment assets:\\n  - Electronic components: 351,462\\n  - Industrial power supplies (E&D): 5,558,200\\n  - Industrial power supplies (T&T): 1,047,201\\n  - Industrial power supplies (EV): 18,178,424\\n  - Corporate: (2,205,734)\\n  - Total: 22,929,553\\n\\nLiabilities:\\n- Segment liabilities:\\n  - Electronic components: 222,148\\n  - Industrial power supplies (E&D): 3,513,169\\n  - Industrial power supplies (T&T): 661,904\\n  - Industrial power supplies (EV): 11,490,028\\n  - Corporate: (2,312,403)\\n  - Total: 13,574,846\\n\\n', '\\n\\nOperating segment information - Consolidated 2021 (AUD):\\n\\nRevenue:\\n- Sales to external customers:\\n  - Electronic components: 249,272\\n  - Industrial power supplies (E&D): 3,733,729\\n  - Industrial power supplies (T&T): 1,857,809\\n  - Industrial power supplies (EV): 7,418,493\\n  - Corporate: 0\\n  - Total: 13,259,303\\n\\n- Intersegment sales:\\n  - Electronic components: 8,209\\n  - Industrial power supplies (E&D): 1,374,832\\n  - Industrial power supplies (T&T): 1,439,791\\n  - Industrial power supplies (EV): 4,838,330\\n  - Corporate: (7,661,162)\\n  - Total: 0\\n\\n- Total revenue:\\n  - Electronic components: 257,481\\n  - Industrial power supplies (E&D): 5,108,561\\n  - Industrial power supplies (T&T): 3,297,600\\n  - Industrial power supplies (EV): 12,256,823\\n  - Corporate: (7,661,162)\\n  - Total: 13,259,303\\n\\nEBITDA:\\n- Electronic components: 24,444\\n- Industrial power supplies (E&D): 366,139\\n- Industrial power supplies (T&T): 182,182\\n- Industrial power supplies (EV): 727,476\\n- Corporate: 437,377\\n- Total: 1,737,618\\n\\nDepreciation and amortisation:\\n- Electronic components: (198,982)\\n- Industrial power supplies (E&D): (138,247)\\n- Industrial power supplies (T&T): (27,363)\\n- Industrial power supplies (EV): (190,247)\\n- Corporate: 0\\n- Total: (554,839)\\n\\nFinance costs:\\n- Electronic components: (85,174)\\n- Industrial power supplies (E&D): (35,524)\\n- Industrial power supplies (T&T): (7,856)\\n- Industrial power supplies (EV): (28,180)\\n- Corporate: 7,640\\n- Total: (149,094)\\n\\nProfit/(loss) before income tax expense:\\n- Electronic components: (259,712)\\n- Industrial power supplies (E&D): 192,368\\n- Industrial power supplies (T&T): 146,963\\n- Industrial power supplies (EV): 509,049\\n- Corporate: 445,017\\n- Total: 1,033,685\\n\\nIncome tax expense:\\n- Corporate: (493,306)\\n\\nProfit after income tax expense:\\n- Total: 540,379\\n\\nAssets:\\n- Segment assets:\\n  - Electronic components: 348,457\\n  - Industrial power supplies (E&D): 5,219,368\\n  - Industrial power supplies (T&T): 2,597,026\\n  - Industrial power supplies (EV): 10,370,288\\n  - Corporate: (1,697,560)\\n  - Total: 16,837,579\\n\\nLiabilities:\\n- Segment liabilities:\\n  - Electronic components: 180,070\\n  - Industrial power supplies (E&D): 2,697,172\\n  - Industrial power supplies (T&T): 1,342,045\\n  - Industrial power supplies (EV): 5,358,973\\n  - Corporate: (1,436,994)\\n  - Total: 8,141,266\\n\\n', '\\n\\n## Geographical information\\n\\nSales to external customers:\\n- Australia: 2022: AUD 12,218,517 | 2021: AUD 5,655,250\\n- Asia: 2022: AUD 1,643,041 | 2021: AUD 1,540,462\\n- North America: 2022: AUD 553,077 | 2021: AUD 1,745,298\\n- South America: 2022: AUD 17,353 | 2021: AUD 68,713\\n- Europe: 2022: AUD 303,920 | 2021: AUD 2,810,016\\n- Oceania: 2022: AUD 25,615 | 2021: AUD 21,972\\n\\nNon-current assets:\\n- Australia: 2022: AUD 986,901 | 2021: AUD 1,136,777\\n- Asia: 2022: AUD 4,505,020 | 2021: AUD 4,188,626\\n- North America: 2022: AUD 0 | 2021: AUD 0\\n- South America: 2022: AUD 0 | 2021: AUD 0\\n- Europe: 2022: AUD 0 | 2021: AUD 0\\n- Oceania: 2022: AUD 0 | 2021: AUD 0\\n\\nTotal:\\n- Sales to external customers: 2022: AUD 14,761,523 | 2021: AUD 11,841,711\\n- Non-current assets: 2022: AUD 5,491,921 | 2021: AUD 5,325,403\\n\\nThe geographical non-current assets above are exclusive of, where applicable, financial instruments, deferred tax assets, post-employment benefits assets and rights under insurance contracts.\\n\\n', '\\n\\n# Note 5. Revenue\\nDisaggregation of revenue from contracts with customers:\\n\\nRevenue by geographical region:\\n- Australia: 2022: AUD 12,218,517 | 2021: AUD 5,655,250\\n- Asia: 2022: AUD 1,643,041 | 2021: AUD 1,540,462\\n- North America: 2022: AUD 553,077 | 2021: AUD 1,745,298\\n- South America: 2022: AUD 17,353 | 2021: AUD 68,713\\n- Europe: 2022: AUD 303,920 | 2021: AUD 2,810,016\\n- Oceania: 2022: AUD 25,615 | 2021: AUD 21,973\\n- Total: 2022: AUD 14,761,523 | 2021: AUD 11,841,712\\n\\nRevenue by timing of recognition:\\n- Goods transferred at a point in time: 2022: AUD 14,761,523 | 2021: AUD 11,841,712\\n\\n', '\\n\\n# Note 6. Other income\\nResearch and development tax rebate:\\n- 2022: AUD 1,055,657\\n- 2021: AUD 877,691\\n\\nGovernment grants (COVID-19):\\n- 2022: AUD 38,851\\n- 2021: AUD 435,900\\n\\nForeign exchange gain:\\n- 2022: AUD 392,791\\n- 2021: AUD 0\\n\\nOther:\\n- 2022: AUD 48,655\\n- 2021: AUD 101,741\\n\\nTotal other income:\\n- 2022: AUD 1,535,954\\n- 2021: AUD 1,415,332\\n\\n', '\\n\\n# Note 7. Expenses\\nProfit before income tax includes the following specific expenses:\\n\\nCost of sales:\\n- 2022: AUD 7,352,827\\n- 2021: AUD 5,799,730\\n\\nDepreciation:\\n- Building: 2022: AUD 8,801 | 2021: AUD 8,821\\n- Leasehold improvement: 2022: AUD 30,113 | 2021: AUD 36,749\\n- Plant and equipment: 2022: AUD 316,386 | 2021: AUD 263,433\\n- Motor vehicle: 2022: AUD 2,284 | 2021: AUD 0\\n- Building right-of-use assets: 2022: AUD 164,106 | 2021: AUD 157,808\\n- Plant and equipment right-of-use assets: 2022: AUD 72,855 | 2021: AUD 73,017\\n- Motor vehicle right-of-use assets: 2022: AUD 12,694 | 2021: AUD 15,011\\n- Total depreciation: 2022: AUD 607,239 | 2021: AUD 554,839\\n\\nFinance costs:\\n- Interest and finance charges paid/payable on borrowings: 2022: AUD 104,930 | 2021: AUD 86,269\\n- Interest and finance charges paid/payable on lease liabilities: 2022: AUD 48,195 | 2021: AUD 62,825\\n- Finance costs expensed: 2022: AUD 153,125 | 2021: AUD 149,094\\n\\nForeign exchange loss:\\n- 2022: AUD 0\\n- 2021: AUD 457,220\\n\\nSuperannuation expense:\\n- Defined contribution superannuation expense: 2022: AUD 609,388 | 2021: AUD 515,573\\n\\nResearch costs:\\n- 2022: AUD 2,380,792\\n- 2021: AUD 1,983,728\\n\\n', '\\n\\n# Note 8. Income tax\\n\\nIncome tax expense:\\n\\nCurrent tax:\\n- 2022: AUD 776,974\\n- 2021: AUD 608,499\\n\\nDeferred tax – origination and reversal of temporary differences:\\n- 2022: AUD (37,055)\\n- 2021: AUD (115,193)\\n\\nAggregate income tax expense:\\n- 2022: AUD 739,919\\n- 2021: AUD 493,306\\n\\nNumerical reconciliation of income tax expense and tax at the statutory rate:\\n\\nProfit before income tax expense:\\n- 2022: AUD 1,231,874\\n- 2021: AUD 1,033,685\\n\\nTax at the statutory tax rate:\\n- 2022: 25% → AUD 307,969\\n- 2021: 26% → AUD 268,758\\n\\nTax effect amounts which are not deductible/(taxable):\\n- Research and development expenditures:\\n  - 2022: AUD 6,826\\n  - 2021: AUD 515,769\\n- Controlled foreign company attributed income:\\n  - 2022: AUD 595,198\\n  - 2021: AUD 129,068\\n- Other non-allowable items:\\n  - 2022: AUD 195,127\\n  - 2021: AUD 41,697\\n- Foreign tax offset:\\n  - 2022: AUD 55,022\\n  - 2021: AUD 28,313\\n- Other non-assessable items:\\n  - 2022: AUD (420,223)\\n  - 2021: AUD (490,299)\\n\\nIncome tax expense:\\n- 2022: AUD 739,919\\n- 2021: AUD 493,306\\n\\n', '\\n\\nThe corporate tax rate applicable to base rate entities reduces from 27.5% to 26% for the 2020-21 income year and further reduces to 25% prospectively from the 2021-22 income year. The Company qualifies as a base rate entity as it has a turnover of less than $50 million and less than 80% of its assessable income is derived from base rate entity passive income. The Company has remeasured its deferred tax balances, and any unrecognised potential tax benefits arising from carried forward tax losses, based on the effective tax rate that is expected to apply in the year the temporary differences are expected to reverse or benefits from tax losses realised. The impact of the change in tax rate on deferred tax balances has been included as a reconciling item in table above in profit or loss or as an adjustment to equity to the extent to which the deferred tax relates to items previously recognised outside profit or loss.\\n\\nTax losses not recognised:\\n\\nUnused tax losses for which no deferred tax asset has been recognised:\\n- 2022: AUD 18,409,592\\n- 2021: AUD 18,409,592\\n\\nPotential tax benefit at statutory tax rates:\\n- 2022: AUD 4,602,398\\n- 2021: AUD 4,602,398\\n\\nThe above potential tax benefit for tax losses has not been recognised in the statement of financial position. These tax losses  \\ncan only be utilised in the future if the continuity of ownership test is passed, or failing that, the same business test is passed.\\n\\n', '\\n\\nNet deferred tax assets:\\n\\nEmployee benefits:\\n- 2022: AUD 201,832\\n- 2021: AUD 171,344\\n\\nAccrued expenses:\\n- 2022: AUD 87,407\\n- 2021: AUD 197,616\\n\\nInventories:\\n- 2022: AUD 146,133\\n- 2021: AUD 92,734\\n\\nUnrealised foreign exchange losses:\\n- 2022: AUD (54,626)\\n- 2021: AUD 48,938\\n\\nProperty, plant and equipment:\\n- 2022: AUD (151,157)\\n- 2021: AUD (318,098)\\n\\nDeferred tax asset (total):\\n- 2022: AUD 229,589\\n- 2021: AUD 192,534\\n\\nMovements in deferred tax asset:\\n- Opening balance:\\n  - 2022: AUD 192,534\\n  - 2021: AUD 77,341\\n- Credited to profit or loss:\\n  - 2022: AUD 37,055\\n  - 2021: AUD 115,193\\n- Closing balance:\\n  - 2022: AUD 229,589\\n  - 2021: AUD 192,534\\n\\nCurrent tax assets:\\n- 2022: AUD 734,150\\n- 2021: AUD 1,066,189\\n\\nCurrent tax liabilities:\\n- 2022: AUD 795,256\\n- 2021: AUD 934,751\\n\\n', '\\n\\n# Note 9. Cash and cash equivalents\\n\\nCash and cash equivalents:\\n\\nCurrent assets:\\n- Cash at bank:\\n  - 2022: AUD 7,295,534\\n  - 2021: AUD 6,241,106\\n\\n', '\\n\\n# Note 10. Trade and other receivables\\n\\nTrade and other receivables:\\n\\nCurrent assets:\\n- Trade receivables:\\n  - 2022: AUD 891,338\\n  - 2021: AUD 514,635\\n\\n- Other receivables:\\n  - 2022: AUD 46,687\\n  - 2021: AUD 216,338\\n\\n- Research and development tax incentives:\\n  - 2022: AUD 1,035,645\\n  - 2021: AUD 862,922\\n\\n- Prepayments:\\n  - 2022: AUD 936,547\\n  - 2021: AUD 134,637\\n\\nSubtotal:\\n- 2022: AUD 1,972,192\\n- 2021: AUD 997,559\\n\\nTotal current assets:\\n- 2022: AUD 2,910,217\\n- 2021: AUD 1,728,532\\n\\n', '\\n\\n## Allowance for expected credit losses\\nThe consolidated entity has recognised a loss of $nil (2021: $nil) in profit or loss in respect of the expected credit losses for the year ended 30 June 2022. The ageing of the receivables and allowance for expected credit losses provided for above are as follows:\\n\\n- Not overdue:\\n  - 2022: AUD 868,229\\n  - 2021: AUD 425,008\\n\\n- 0 to 3 months overdue:\\n  - 2022: AUD 9,900\\n  - 2021: AUD 71,113\\n\\n- Over 3 months overdue:\\n  - 2022: AUD 13,209\\n  - 2021: AUD 18,514\\n\\nTotal:\\n- 2022: AUD 891,338\\n- 2021: AUD 514,635\\n   \\nPayment terms on receivables past due but not considered impaired have not been re-negotiated. The consolidated entity has been in direct contact with the relevant customers and are reasonably satisfied that payment will be received in full. The consolidated entity estimate of impairment losses is based on the expected credit loss.\\n\\n', '\\n\\n# Note 11. Inventories\\nCurrent assets:\\n- Raw materials:\\n  - 2022: AUD 3,574,937\\n  - 2021: AUD 1,700,837\\n\\n- Finished goods and work in progress:\\n  - 2022: AUD 1,220,126\\n  - 2021: AUD (78,347)\\n\\n- Stock in transit:\\n  - 2022: AUD 1,082,816\\n  - 2021: AUD 283,600\\n\\nTotal current assets:\\n- 2022: AUD 5,877,879\\n- 2021: AUD 1,906,090\\n\\n', '\\n\\n# Note 12. Property, plant and equipment\\nNon-current assets – Property, Plant & Equipment:\\n\\nLand (at cost):\\n- 2022: AUD 2,207,392\\n- 2021: AUD 2,146,230\\n\\nBuilding:\\n- At cost:\\n  - 2022: AUD 1,493,058\\n  - 2021: AUD 1,369,567\\n- Less: Accumulated depreciation:\\n  - 2022: AUD (1,085,057)\\n  - 2021: AUD (964,230)\\n- Net book value:\\n  - 2022: AUD 408,001\\n  - 2021: AUD 405,337\\n\\nLeasehold improvement:\\n- At cost:\\n  - 2022: AUD 235,873\\n  - 2021: AUD 216,441\\n- Less: Accumulated depreciation:\\n  - 2022: AUD (99,486)\\n  - 2021: AUD (69,398)\\n- Net book value:\\n  - 2022: AUD 136,387\\n  - 2021: AUD 147,043\\n\\nPlant and equipment:\\n- At cost:\\n  - 2022: AUD 3,655,900\\n  - 2021: AUD 2,047,266\\n- Less: Accumulated depreciation:\\n  - 2022: AUD (1,805,507)\\n  - 2021: AUD (580,330)\\n- Net book value:\\n  - 2022: AUD 1,850,393\\n  - 2021: AUD 1,466,936\\n\\nMotor vehicle:\\n- At cost:\\n  - 2022: AUD 132,493\\n  - 2021: AUD 50,200\\n- Less: Accumulated depreciation:\\n  - 2022: AUD (129,418)\\n  - 2021: AUD (45,155)\\n- Net book value:\\n  - 2022: AUD 3,075\\n  - 2021: AUD 5,045\\n\\nTotal non-current assets:\\n- 2022: AUD 4,605,248\\n- 2021: AUD 4,170,591\\n\\n', '\\n\\nReconciliations of the written down values at the beginning and end of the current and previous financial year.\\nMovement in property, plant & equipment (Consolidated):\\n\\nBalance at 1 July 2020:\\n- Land: AUD 2,280,963\\n- Building: AUD 614,492\\n- Leasehold improvement: AUD 183,792\\n- Plant and equipment: AUD 1,159,365\\n- Motor vehicle: AUD 0\\n- Total: AUD 4,238,612\\n\\nMovements during 2021:\\n- Additions:\\n  - Plant and equipment: AUD 466,451\\n- Disposals:\\n  - Plant and equipment: AUD (106)\\n- Exchange differences:\\n  - Land: AUD (134,733)\\n  - Building: AUD (200,334)\\n  - Plant and equipment: AUD 104,659\\n  - Total: AUD (230,408)\\n- Transfer from ROUA:\\n  - Motor vehicle: AUD 5,045\\n- Depreciation expense:\\n  - Building: AUD (8,821)\\n  - Leasehold improvement: AUD (36,749)\\n  - Plant and equipment: AUD (263,433)\\n  - Total: AUD (309,003)\\n\\nBalance at 30 June 2021:\\n- Land: AUD 2,146,230\\n- Building: AUD 405,337\\n- Leasehold improvement: AUD 147,043\\n- Plant and equipment: AUD 1,466,936\\n- Motor vehicle: AUD 5,045\\n- Total: AUD 4,170,591\\n\\nMovements during 2022:\\n- Additions:\\n  - Building: AUD 11,465\\n  - Leasehold improvement: AUD 19,540\\n  - Plant and equipment: AUD 574,423\\n  - Total: AUD 605,428\\n- Disposals:\\n  - Leasehold improvement: AUD (83)\\n  - Plant and equipment: AUD (48,060)\\n  - Total: AUD (48,143)\\n- Exchange differences:\\n  - Land: AUD 61,162\\n  - Plant and equipment: AUD 44,772\\n  - Motor vehicle: AUD 122\\n  - Total: AUD 106,056\\n- Transfer from ROUA:\\n  - Plant and equipment: AUD 128,708\\n  - Motor vehicle: AUD 192\\n  - Total: AUD 128,900\\n- Depreciation expense:\\n  - Building: AUD (8,801)\\n  - Leasehold improvement: AUD (30,113)\\n  - Plant and equipment: AUD (316,386)\\n  - Motor vehicle: AUD (2,284)\\n  - Total: AUD (357,584)\\n\\nBalance at 30 June 2022:\\n- Land: AUD 2,207,392\\n- Building: AUD 408,001\\n- Leasehold improvement: AUD 136,387\\n- Plant and equipment: AUD 1,850,393\\n- Motor vehicle: AUD 3,075\\n- Total: AUD 4,605,248\\n\\n', '\\n\\n# Note 13. Right-of-use assets\\n\\nRight-of-use assets (non-current assets):\\n\\n- Building:\\n  - 2022: AUD 564,576\\n  - 2021: AUD 632,317\\n\\n- Plant and equipment:\\n  - 2022: AUD 314,808\\n  - 2021: AUD 502,760\\n\\n- Motor vehicle:\\n  - 2022: AUD 7,289\\n  - 2021: AUD 19,737\\n\\nTotal non-current assets:\\n- 2022: AUD 886,673\\n- 2021: AUD 1,154,814\\n\\nThe consolidated entity leases land and buildings for its offices and staff accommodations and plant and equipment under agreements of between 3 to 5 years with, in some cases, options to extend. The leases have various escalation clauses. On renewal, the terms of the leases are renegotiated.\\n\\n', '\\n\\n## Reconciliations\\nReconciliations of the written down values at the beginning and  end of the current and previous financial year.\\nMovement in right-of-use assets (Consolidated):\\n\\nBalance at 1 July 2020:\\n- Building: AUD 760,844\\n- Plant and equipment: AUD 610,344\\n- Motor vehicle: AUD 41,967\\n- Total: AUD 1,413,155\\n\\nMovements during 2021:\\n- Additions:\\n  - Building: AUD 19,149\\n  - Total: AUD 19,149\\n- Exchange differences:\\n  - Building: AUD 10,132\\n  - Plant and equipment: AUD (34,567)\\n  - Motor vehicle: AUD (2,174)\\n  - Total: AUD (26,609)\\n- Transfer to PPE:\\n  - Motor vehicle: AUD (5,045)\\n  - Total: AUD (5,045)\\n- Depreciation expense:\\n  - Building: AUD (157,808)\\n  - Plant and equipment: AUD (73,017)\\n  - Motor vehicle: AUD (15,011)\\n  - Total: AUD (245,836)\\n\\nBalance at 30 June 2021:\\n- Building: AUD 632,317\\n- Plant and equipment: AUD 502,760\\n- Motor vehicle: AUD 19,737\\n- Total: AUD 1,154,814\\n\\nMovements during 2022:\\n- Additions:\\n  - Building: AUD 100,525\\n  - Total: AUD 100,525\\n- Exchange differences:\\n  - Building: AUD (4,160)\\n  - Plant and equipment: AUD 13,611\\n  - Motor vehicle: AUD 438\\n  - Total: AUD 9,889\\n- Transfer to PPE:\\n  - Plant and equipment: AUD (128,708)\\n  - Motor vehicle: AUD (192)\\n  - Total: AUD (128,900)\\n- Depreciation expense:\\n  - Building: AUD (164,106)\\n  - Plant and equipment: AUD (72,855)\\n  - Motor vehicle: AUD (12,694)\\n  - Total: AUD (249,655)\\n\\nBalance at 30 June 2022:\\n- Building: AUD 564,576\\n- Plant and equipment: AUD 314,808\\n- Motor vehicle: AUD 7,289\\n- Total: AUD 886,673\\n\\nFor other lease disclosures refer to: note 7 for interest on lease liabilities; note 17 for lease liabilities; and consolidated statement of cash flows for repayment of lease liabilities.\\n\\n', '\\n\\n# Note 14. Intangibles\\n\\nIntangible assets (non-current assets):\\n\\nDevelopment – at cost:\\n- 2022: AUD 94,859\\n- 2021: AUD 106,048\\n\\n', '\\n\\n## Reconciliations\\nReconciliations of the written down values at the beginning and  end of the current and previous financial year.\\nMovement in development cost (Consolidated):\\n\\nBalance at 1 July 2020:\\n- AUD 0\\n\\nMovements during 2021:\\n- Additions: AUD 106,048\\n\\nBalance at 30 June 2021:\\n- AUD 106,048\\n\\nMovements during 2022:\\n- Additions: AUD 61,844\\n- Research and development rebate: AUD (73,033)\\n\\nBalance at 30 June 2022:\\n- AUD 94,859\\n\\n', '\\n\\n# Note 15. Trade and other payables\\nTrade and other payables (current liabilities):\\n\\n- Trade payables:\\n  - 2022: AUD 4,463,965\\n  - 2021: AUD 2,134,083\\n\\n- Sundry creditors and accrued expenses:\\n  - 2022: AUD 1,085,956\\n  - 2021: AUD 515,895\\n\\nTotal current liabilities:\\n- 2022: AUD 5,549,921\\n- 2021: AUD 2,649,978\\n\\n', '\\n\\n# Note 16. Borrowings\\nCurrent liabilities:\\n- Bank loans:\\n  - 2022: AUD 1,122,142\\n  - 2021: AUD 154,710\\n\\nNon-current liabilities:\\n- Bank loans:\\n  - 2022: AUD 4,151,846\\n  - 2021: AUD 2,439,390\\n\\nTotal liabilities:\\n- 2022: AUD 5,273,988\\n- 2021: AUD 2,594,100\\n\\nRefer to note 22 for further information on financial instruments.\\n\\n', \"\\n\\nThe bank loans consist of the following:\\n\\n(i) A loan of MYR 5,460,000 (AUD 1,629,851). The term of the loan is 20 years, and the loan interest is calculated using the Base Lending Rate (Variable Rate) less a discount of 2.20%  at the bank’s discretion from time to time. The monthly repayment includes the payment of loan principal and interest. The first monthly instalment commenced on 1 May 2017, subsequent instalments are to be paid on or before the 1st of each calendar month and total repayments are 240 instalments in 240 months. The carrying amount of the loan was MYR 4,648,453 (AUD 1,531,464) as at 30 June 2022 (2021: MYR 4,899,598 (AUD 1,569,479)).\\n(ii) A loan of MYR 2,730,000 (AUD929,393). The term of the loan is  20 years, and the loan interest is calculated using the Base Lending Rate (Variable Rate) less a discount of 2.20% at the bank’s discretion from time to time. The monthly repayment includes the payment of loan principal and interest. The first monthly instalment commenced on 1 December 2019, subsequent instalments are to be paid on or before the 1st of each calendar month and total repayments are 240 instalments in 240 months. The carrying amount of the loan was MYR 2,552,538 (AUD 840,951) as at\\u202f30 June 2022 (2021: MYR 2,671,654 (AUD 855,806))\\n(iii) A loan of MYR 498,800 (AUD 159,780). The term of the loan is  10 years, and the loan interest is calculated using the Base Lending Rate (Variable Rate) less a discount of 2% at the bank’s discretion from time to time. The monthly repayment includes the payment of loan principal and interest. The first monthly instalment commenced on 1 October 2020, subsequent instalments are to be paid on or before the 1st of each calendar month and total repayments are 120 instalments in 120 months. The carrying amount of the loan was MYR 428,740 (AUD141,252) as at\\u202f30 June 2022 (2021:\\nMYR 472,008 (AUD151,197)).\\n(iv) A loan of AUD 3,000,000.The term of the loan is 3 years, and the loan interest is calculated using the Business Mortgage Index rate (Variable Rate) less a margin of 3.75% at the bank’s discretion from time to time. The monthly repayment includes the payment of loan principal and interest. The first monthly instalment commenced on 30 April 2022, subsequent instalments are to be paid on or before the 1st of each calendar month and total repayments are 36 instalments in 36 months. The carrying amount of the loan was AUD 2,760,321 as at 30 June 2022.\\n(v) Prior year's trade facilities of MYR 55,000 (AUD17,618) were fully paid on 31 August 2021.\\n\\n\", '\\n\\n# Note 17. Lease liabilities\\nCurrent liabilities:\\n- Lease liability:\\n  - 2022: AUD 212,781\\n  - 2021: AUD 295,410\\n\\nNon-current liabilities:\\n- Lease liability:\\n  - 2022: AUD 457,534\\n  - 2021: AUD 588,464\\n\\nTotal liabilities:\\n- 2022: AUD 670,315\\n- 2021: AUD 883,874\\n\\nFuture minimum lease payments at 30 June were as follows:\\n\\n(lease maturity analysis):\\n\\n2022:\\n- Lease payments:\\n  - Less than 1 year: AUD 244,812\\n  - 1–5 years: AUD 499,855\\n  - >5 years: AUD 0\\n  - Total: AUD 744,667\\n- Finance charges:\\n  - Less than 1 year: AUD (32,031)\\n  - 1–5 years: AUD (42,321)\\n  - >5 years: AUD 0\\n  - Total: AUD (74,352)\\n- Net lease liability:\\n  - Less than 1 year: AUD 212,781\\n  - 1–5 years: AUD 457,534\\n  - >5 years: AUD 0\\n  - Total: AUD 670,315\\n\\n2021:\\n- Lease payments:\\n  - Less than 1 year: AUD 339,532\\n  - 1–5 years: AUD 634,238\\n  - >5 years: AUD 23,673\\n  - Total: AUD 997,443\\n- Finance charges:\\n  - Less than 1 year: AUD (44,122)\\n  - 1–5 years: AUD (69,274)\\n  - >5 years: AUD (173)\\n  - Total: AUD (113,569)\\n- Net lease liability:\\n  - Less than 1 year: AUD 295,410\\n  - 1–5 years: AUD 564,964\\n  - >5 years: AUD 23,500\\n  - Total: AUD 883,874\\n\\n', '\\n\\n# Note 18. Employee benefits\\n(employee benefits provisions):\\n\\nCurrent liabilities:\\n- Annual leave:\\n  - 2022: AUD 636,605\\n  - 2021: AUD 494,718\\n- Long service leave:\\n  - 2022: AUD 296,968\\n  - 2021: AUD 252,829\\n- Total current liabilities:\\n  - 2022: AUD 933,573\\n  - 2021: AUD 747,547\\n\\nNon-current liabilities:\\n- Long service leave:\\n  - 2022: AUD 56,389\\n  - 2021: AUD 59,341\\n\\nTotal liabilities:\\n- 2022: AUD 989,962\\n- 2021: AUD 806,888\\n\\n', '\\n\\n# Note 19. Issued capital\\n\\nOrdinary shares – fully paid:\\n\\nNumber of shares:\\n- 2022: 1,375,700,602 shares\\n- 2021: 1,375,700,602 shares\\n\\nShare capital:\\n- 2022: AUD 39,992,575\\n- 2021: AUD 39,992,575\\n\\nMovements in ordinary share capital:\\n- Balance at 1 July 2020:\\n  - Shares: 1,368,660,602\\n  - Share capital: AUD 39,851,775\\n- Shares issued on the exercise of options:\\n  - Date: 12 October 2020\\n  - Shares issued: 7,040,000\\n  - Issue price: AUD 0.020\\n  - Amount: AUD 140,800\\n- Balance at 30 June 2021:\\n  - Shares: 1,375,700,602\\n  - Share capital: AUD 39,992,575\\n- Balance at 30 June 2022:\\n  - Shares: 1,375,700,602\\n  - Share capital: AUD 39,992,575\\n\\n', '\\n\\n## Ordinary shares\\nOrdinary shares entitle the holder to participate in any dividends declared and any proceeds attributable to shareholders should the Company be wound up in proportions that consider both the number of shares held and the extent to which those shares are paid up. The fully paid ordinary shares have no par value and the Company does not have a limited amount of authorised capital.\\nOn a show of hands every member present at a meeting in person or by proxy shall have one vote and upon a poll each share shall have one vote.\\nShare buy-back: There is no current on-market share buy-back.\\n\\n', \"\\n\\n## Capital risk management\\nThe consolidated entity's objectives when managing capital is to safeguard its ability to continue as a going concern, so that it can provide returns for shareholders and benefits for other stakeholders and to maintain an optimum capital structure to reduce the cost of capital. Capital is regarded as total equity, as recognised in the statement of financial position, plus net debt. Net debt is calculated as total borrowings less cash and cash equivalents. In order to maintain or adjust the capital structure, the consolidated entity may adjust the amount of dividends paid to shareholders, return capital to shareholders, issue new shares or sell assets to reduce debt. The consolidated entity would look to raise capital when an opportunity to invest in a business or company was seen as value-adding relative to the current Company's share price at the time of the investment. The consolidated entity is not actively pursuing additional investments in the short term as it continues to integrate and grow its existing businesses in order to maximise synergies. The consolidated entity is subject to certain financing arrangements covenants and meeting these is given priority in all capital risk management decisions. There have been no events of default on the financing arrangements during the financial year. The capital risk management policy remains unchanged during the current reporting period.\\n\\n\", '\\n\\n# Note 20. Reserves\\nForeign currency reserve:\\n- 2022: AUD 3,264\\n- 2021: AUD (163,175)\\n\\nShare-based payments reserve:\\n- 2022: AUD 510,000\\n- 2021: AUD 630,000\\n\\nTotal reserves:\\n- 2022: AUD 513,264\\n- 2021: AUD 466,825\\n\\n', '\\n\\n## Foreign currency reserve\\nThe reserve is used to recognise exchange differences arising from the translation of the financial statements of foreign operations to Australian dollars. It is also used to recognise gains and losses on hedges of the net investments in foreign operations.\\n\\n', \"\\n\\n## Share-based payments reserve\\nThe reserve is used to recognise the value of options granted under Employee Share Option Plan ('ESOP').\\n\\n\", '\\n\\n## Movements in reserves\\nMovements in each class of reserve during the current and previous financial year, consolidated:\\n\\nBalance at 1 July 2020:\\n- Foreign currency reserve: AUD 41,828\\n- Share-based payments reserve: AUD 630,000\\n- Total: AUD 671,828\\n\\nMovements during 2021:\\n- Foreign currency translation:\\n  - Foreign currency reserve: AUD (205,003)\\n- Balance at 30 June 2021:\\n  - Foreign currency reserve: AUD (163,175)\\n  - Share-based payments reserve: AUD 630,000\\n  - Total: AUD 466,825\\n\\nMovements during 2022:\\n- Foreign currency translation:\\n  - Foreign currency reserve: AUD 166,439\\n- Lapsed options transferred to accumulated losses:\\n  - Share-based payments reserve: AUD (120,000)\\n- Balance at 30 June 2022:\\n  - Foreign currency reserve: AUD 3,264\\n  - Share-based payments reserve: AUD 510,000\\n  - Total: AUD 513,264\\n\\n', '\\n\\n# Note 21. Dividends\\n## Dividends\\nDividends paid during the financial year were as follows:\\n\\nFinal dividend paid during the financial year:\\n- 2022: nil cents per share → AUD 0\\n- 2021: 0.1 cents per share → AUD 1,375,701\\n\\nThe dividends paid on 8 December 2020, totalling to $1,375, 701, refers to the 30 June 2020 financial year. There are no dividends declared in relation to the 30 June 2022 and 30 June 2021 financial years.\\n\\n', '\\n\\n## Franking credits\\nFranking credits available for subsequent financial years:\\n- 2022: AUD 0\\n- 2021: AUD 939,520\\n(Based on a tax rate of 25%)\\n\\nThe above amounts represent the balance of the franking account as at the end of the financial year, adjusted for: (1) franking credits that will arise from the payment of the amount of the provision for income tax at the reporting date; (2) franking debits that will arise from the payment of dividends recognised as a liability at the reporting date; (3) franking credits that will arise from the receipt of dividends recognised as receivables at the reporting date\\n\\n', '\\n\\n# Note 22. Financial instruments\\n## Financial risk management objectives\\nThe Board has overall responsibility for the determination of the consolidated entity and the parent entity’s risk management objectives and policies and, whilst retaining ultimate responsibility for them, it has delegated the authority for designing and operating processes that ensure the effective implementation of the objectives and policies to the consolidated entity and the parent entity’s finance function. The Board receives monthly reports from the Chief Financial Officer through which it reviews the effectiveness of the processes put in place and the appropriateness of the objectives and policies it sets. The overall objective of the Board is to set policies that seek to reduce risk as far as possible without unduly affecting the \\nconsolidated entity’s competitiveness and flexibility.\\n\\n', \"\\n\\n## Market risk: foreign currency risk\\nThe consolidated entity undertakes certain transactions denominated in foreign currency and is exposed to foreign currency risk through foreign exchange rate fluctuations. The only currency where receivables are not denominated in their functional currency is US dollars (USD). Cash balances in USD are kept at levels only sufficient to pay the amounts owing. Since the local sales in Malaysia are made by foreign operations in their individual functional currencies, there is no direct foreign currency risk exposure involved. The consolidated entity’s exposure to foreign currency risk is primarily its exposure to trade receivables denominated in USD. The carrying amount of the consolidated entity's foreign currency denominated financial assets and financial liabilities at the reporting date were as follows:\\n\\nForeign currency exposure (Consolidated, US Dollars):\\n\\nAssets:\\n- 2022: AUD 532,730\\n- 2021: AUD 328,330\\n\\nLiabilities:\\n- 2022: AUD 651,586\\n- 2021: AUD 177,173\\n\\nForeign currency sensitivity analysis (Consolidated – 2022):\\n\\nIf AUD strengthened by 10%:\\n- Change in assets: AUD 70,300\\n- Change in liabilities: AUD 85,985\\n- Total impact: AUD 156,285\\n\\nIf AUD weakened by 10%:\\n- Change in assets: AUD (85,923)\\n- Change in liabilities: AUD (105,093)\\n- Total impact: AUD (191,016)\\n\\nForeign currency sensitivity analysis (Consolidated – 2021):\\n\\nIf AUD strengthened by 10%:\\n- Change in assets: AUD 39,702\\n- Change in liabilities: AUD 21,424\\n- Total impact: AUD 61,126\\n\\nIf AUD weakened by 10%:\\n- Change in assets: AUD (48,525)\\n- Change in liabilities: AUD (26,185)\\n- Total impact: AUD (74,710)\\n\\n\", '\\n\\n## Price risk\\nThe consolidated entity is not exposed to any significant price risk.\\n\\n', \"\\n\\n## Interest rate risk\\nThe consolidated entity’s exposure to interest rate risk is limited to cash balances, as these are at a floating rate. Cash balances that are held at call for day to day activities are non-interest bearing. An analysis of remaining contractual maturities is shown in 'liquidity and interest rate risk management' below.\\n\\n\", '\\n\\n## Credit risk\\nCredit risk arises principally from the consolidated entity’s trade receivables. It is the risk that the counterparty fails to discharge its obligation in respect of the instrument.\\nPrior to accepting new customers, a credit check is obtained from a reputable external source. Based on this information, credit limits and payment terms are established. Customers who subsequently fail to meet their credit terms are required to make purchases on a prepayment basis until creditworthiness can be re-established. The nature of the consolidated entity’s operations means that approximately 92% (2021: 92%) of its sales are made to 5 (2021: 5) key customers in Australia, Singapore and America. Whilst credit risk is mainly influenced by factors specific to \\nthese individual customers, the concentration of  sales geographically is a contributory factor. The maximum exposure to credit risk for trade receivables at the end of reporting period by geographic region is as follows:\\n\\nGeographical breakdown of trade receivables (Consolidated):\\n\\nAustralia:\\n- 2022: AUD 702,808\\n- 2021: AUD 414,172\\n\\nAsia:\\n- 2022: AUD 145,385\\n- 2021: AUD 69,856\\n\\nEurope:\\n- 2022: AUD 52,535\\n- 2021: AUD 1,600\\n\\nUSA:\\n- 2022: AUD (9,390)\\n- 2021: AUD 29,007\\n\\nTotal:\\n- 2022: AUD 891,338\\n- 2021: AUD 514,635\\n\\n', '\\n\\nPast due analysis of trade receivables by geographic region is as follows:\\nAgeing analysis of trade receivables by geography (consolidated):\\n\\n2022:\\n- Not past due:\\n  - Australia: AUD 667,174\\n  - Asia: AUD 145,385\\n  - Europe: AUD 52,578\\n  - USA: AUD 3,092\\n  - Total: AUD 868,229\\n\\n- Past due 30 days:\\n  - Australia: AUD 9,900\\n  - Asia: AUD 0\\n  - Europe: AUD 0\\n  - USA: AUD 0\\n  - Total: AUD 9,900\\n\\n- Past due 60 days:\\n  - Australia: AUD 25,734\\n  - Asia: AUD 0\\n  - Europe: AUD (43)\\n  - USA: AUD (12,482)\\n  - Total: AUD 13,209\\n\\n- Total:\\n  - Australia: AUD 702,808\\n  - Asia: AUD 145,385\\n  - Europe: AUD 52,535\\n  - USA: AUD (9,390)\\n  - Total: AUD 891,338\\n\\n2021:\\n- Not past due:\\n  - Australia: AUD 356,374\\n  - Asia: AUD 67,467\\n  - Europe: AUD 86\\n  - USA: AUD 1,081\\n  - Total: AUD 425,008\\n\\n- Past due 30 days:\\n  - Australia: AUD 44,511\\n  - Asia: AUD 0\\n  - Europe: AUD 0\\n  - USA: AUD 26,602\\n  - Total: AUD 71,113\\n\\n- Past due 60 days:\\n  - Australia: AUD 13,287\\n  - Asia: AUD 2,389\\n  - Europe: AUD 1,514\\n  - USA: AUD 1,324\\n  - Total: AUD 18,514\\n\\n- Total:\\n  - Australia: AUD 414,172\\n  - Asia: AUD 69,856\\n  - Europe: AUD 1,600\\n  - USA: AUD 29,007\\n  - Total: AUD 514,635\\n\\n', '\\n\\n## Liquidity risk\\nLiquidity risk arises from the consolidated entity’s management of working capital and the finance charges and principal repayments on its debt instruments. It is the risk that the consolidated entity will encounter difficulty in meeting its financial obligations as they fall due. The consolidated entity aims to have sufficient cash to allow it to meet its liabilities when they \\nbecome due. The Board receives cash flow projections monthly as well as information regarding cash balances. \\n\\n', \"\\n\\n## Remaining contractual maturities\\nThe following tables detail the consolidated entity's remaining contractual maturity for its financial instrument liabilities. The tables have been drawn up based on the undiscounted cash flows of  financial liabilities based on the earliest date on which the financial liabilities are required to be paid. The tables include both interest and principal cash flows disclosed as remaining \\ncontractual maturities and therefore these totals may differ from their carrying amount in the statement of financial position.\\n\\nContractual maturities of financial liabilities (Consolidated – 2022):\\n\\nNon-derivatives:\\n\\nNon-interest bearing:\\n- Trade payables:\\n  - Within 6 months: AUD 4,463,965\\n  - Total: AUD 4,463,965\\n- Other payables:\\n  - Within 6 months: AUD 1,085,956\\n  - Total: AUD 1,085,956\\n\\nInterest-bearing – variable:\\n- Bank loans:\\n  - Within 6 months: AUD 636,349\\n  - Between 6 and 12 months: AUD 636,648\\n  - Between 1 and 3 years: AUD 2,285,531\\n  - Over 3 years: AUD 2,502,753\\n  - Total: AUD 6,061,281\\n- Lease liability:\\n  - Within 6 months: AUD 143,026\\n  - Between 6 and 12 months: AUD 101,786\\n  - Between 1 and 3 years: AUD 329,272\\n  - Over 3 years: AUD 170,583\\n  - Total: AUD 744,667\\n\\nTotal non-derivatives:\\n- Within 6 months: AUD 6,329,296\\n- Between 6 and 12 months: AUD 738,434\\n- Between 1 and 3 years: AUD 2,614,803\\n- Over 3 years: AUD 2,673,336\\n- Remaining contractual maturities: AUD 12,355,869\\n\\n\", '\\n\\nContractual maturities of financial liabilities (Consolidated – 2021):\\n\\nNon-derivatives:\\n\\nNon-interest bearing:\\n- Trade payables:\\n  - Within 6 months: AUD 2,134,083\\n  - Total: AUD 2,134,083\\n- Other payables:\\n  - Within 6 months: AUD 515,895\\n  - Total: AUD 515,895\\n\\nInterest-bearing – variable:\\n- Bank loans:\\n  - Within 6 months: AUD 126,901\\n  - Between 6 and 12 months: AUD 109,283\\n  - Between 1 and 3 years: AUD 437,132\\n  - Over 3 years: AUD 2,606,858\\n  - Total: AUD 3,280,174\\n- Lease liability:\\n  - Within 6 months: AUD 178,217\\n  - Between 6 and 12 months: AUD 161,315\\n  - Between 1 and 3 years: AUD 350,158\\n  - Over 3 years: AUD 307,753\\n  - Total: AUD 997,443\\n\\nTotal non-derivatives:\\n- Within 6 months: AUD 2,955,096\\n- Between 6 and 12 months: AUD 270,598\\n- Between 1 and 3 years: AUD 787,290\\n- Over 3 years: AUD 2,914,611\\n- Remaining contractual maturities: AUD 6,927,595\\nThe cash flows in the maturity analysis above are not expected to occur significantly earlier than contractually disclosed above.\\n\\n', '\\n\\n## Fair value of financial instruments\\nUnless otherwise stated, the carrying amounts of financial instruments reflect their fair value.\\n\\n', '\\n\\n# Note 23. Remuneration of auditors\\nDuring the financial year the following fees were paid or payable for services provided by Grant Thornton, the auditor of the Company:\\n\\nAudit fees (Consolidated):\\n\\nAudit and review of the financial statements by Grant Thornton:\\n- 2022: AUD 79,131\\n- 2021: AUD 79,883\\n\\n', '\\n\\n# Note 24. Contingent liabilities\\nThe consolidated entity had no contingent li abilities as at 30 June 2022 and 30 June 2021.\\n\\n', '\\n\\n# Note 25. Commitments\\n\\nPurchase commitments (Consolidated):\\n\\nCommitted at the reporting date but not recognised as liabilities:\\n\\nInventories:\\n- 2022: AUD 10,903,918\\n- 2021: AUD 1,898,436\\n\\nProperty, plant and equipment:\\n- 2022: AUD 97,953\\n- 2021: AUD 155,570\\n\\nResearch and development:\\n- 2022: AUD 0\\n- 2021: AUD 158,835\\n\\n', '\\n\\n# Note 26. Key management personnel disclosures\\n## Compensation\\nThe aggregate compensation made to directors and other members of key management personnel of the consolidated entity is set out below:\\n\\nKey management personnel remuneration (Consolidated):\\n\\nShort-term employee benefits:\\n- 2022: AUD 1,235,995\\n- 2021: AUD 1,162,928\\n\\nPost-employment benefits:\\n- 2022: AUD 115,829\\n- 2021: AUD 109,196\\n\\nLong-term benefits:\\n- 2022: AUD 11,951\\n- 2021: AUD 9,163\\n\\nTotal:\\n- 2022: AUD 1,363,775\\n- 2021: AUD 1,281,287\\n\\n', '\\n\\n# Note 27. Related party transactions\\n## Parent entity\\nRectifier Technologies Ltd is the parent entity.\\n\\n', '\\n\\n## Subsidiaries\\nInterests in subsidiaries are set out in note 28.\\n\\n', \"\\n\\n## Key management personnel\\nDisclosures relating to key management personnel are set out in note 26 and the remuneration report included in the directors' report.\\n\\n\", '\\n\\n## Transactions with related parties\\nTransactions between related parties are on normal commercial terms and conditions no more favourable to other parties unless otherwise stated. There is no requirement for transactions and balances between the entities within the consolidated Group to be disclosed.\\n\\n', '\\n\\n# Note 28. Interests in subsidiaries\\nThe consolidated financial statements incorporate the assets, liabilities and results of the following subsidiaries in accordance with the accounting policy described in note 2:\\n\\nOwnership interest in controlled entities (Consolidated):\\n\\nProtran Technologies Pty Ltd:\\n- Principal place of business: Australia\\n- Ownership: 2022: 100%, 2021: 100%\\n\\nRectifier Technologies Pacific Pty Ltd:\\n- Principal place of business: Australia\\n- Ownership: 2022: 100%, 2021: 100%\\n\\nRectifier Technologies Singapore Pte Ltd:\\n- Principal place of business: Singapore\\n- Ownership: 2022: 100%, 2021: 100%\\n\\nICERT Inc:\\n- Principal place of business: USA\\n- Ownership: 2022: 100%, 2021: 100%\\n\\nRectifier Technologies (M) Sdn Bhd:\\n- Principal place of business: Malaysia\\n- Ownership: 2022: 100%, 2021: 100%\\n\\nICERT (HK) Co. Ltd:\\n- Principal place of business: Hong Kong\\n- Ownership: 2022: 100%, 2021: 100%\\n\\n', '\\n\\n# Note 29. Earnings per share\\n\\nProfit after income tax attributable to the owners of Rectifier Technologies Ltd (Consolidated):\\n\\n- 2022: AUD 491,955\\n- 2021: AUD 540,379\\n \\nWeighted average number of ordinary shares used in EPS calculation (Consolidated):\\n\\nBasic EPS:\\n- 2022: 1,375,700,602 shares\\n- 2021: 1,375,700,602 shares\\n\\nAdjustments for calculation of diluted EPS:\\n- Options over ordinary shares:\\n  - 2022: 46,840,000 options\\n  - 2021: 54,840,000 options\\n\\nDiluted EPS:\\n- 2022: 1,422,540,602 shares\\n- 2021: 1,430,540,602 shares\\n\\nEarnings per share (Consolidated):\\n\\nBasic earnings per share:\\n- 2022: 0.04 cents\\n- 2021: 0.04 cents\\n\\nDiluted earnings per share:\\n- 2022: 0.03 cents\\n- 2021: 0.04 cents\\n\\n', '\\n\\n# Note 30. Reconciliation of profit after income tax to net cash from/(used in) operating activities\\n\\nReconciliation of profit after income tax to net cash from operating activities (Consolidated):\\n\\nProfit after income tax expense for the year:\\n- 2022: AUD 491,955\\n- 2021: AUD 540,379\\n\\nAdjustments for:\\n- Depreciation and amortisation:\\n  - 2022: AUD 607,239\\n  - 2021: AUD 554,839\\n- Provision for stock obsolescence:\\n  - 2022: AUD 148,622\\n  - 2021: AUD (60,182)\\n- Unrealised currency (gain)/loss:\\n  - 2022: AUD (86,192)\\n  - 2021: AUD 179,255\\n- Net loss/(gain) on sale/acquisition of assets:\\n  - 2022: AUD (34,956)\\n  - 2021: AUD (19)\\n- Capitalised interest:\\n  - 2022: AUD 87,200\\n  - 2021: AUD 14,772\\n\\nChange in operating assets and liabilities:\\n- (Increase)/decrease in trade and other receivables:\\n  - 2022: AUD (1,441,878)\\n  - 2021: AUD 1,238,435\\n- (Increase)/decrease in inventories:\\n  - 2022: AUD (3,861,912)\\n  - 2021: AUD 551,026\\n- (Increase)/decrease in net deferred tax assets:\\n  - 2022: AUD 35,949\\n  - 2021: AUD 40,902\\n- Increase/(decrease) in trade and other payables:\\n  - 2022: AUD 2,746,773\\n  - 2021: AUD (1,207,650)\\n- Increase/(decrease) in provision for income tax:\\n  - 2022: AUD 404,843\\n  - 2021: AUD (390,722)\\n- Increase in employee benefits:\\n  - 2022: AUD 176,357\\n  - 2021: AUD 136,424\\n\\nNet cash from/(used in) operating activities:\\n- 2022: AUD (726,000)\\n- 2021: AUD 1,597,459\\n\\n', '\\n\\n# Note 31. Changes in liabilities arising from financing activities\\n\\nReconciliation of liabilities from financing activities (Consolidated):\\n\\nBalance at 1 July 2020:\\n- Lease liabilities: AUD 1,190,842\\n- Bank loans: AUD 2,700,859\\n- Total: AUD 3,891,701\\n\\nMovements in 2021:\\n- Net cash used in financing activities:\\n  - Lease liabilities: AUD (387,290)\\n  - Bank loans: AUD (34,670)\\n  - Total: AUD (421,960)\\n- Finance costs:\\n  - Lease liabilities: AUD 62,825\\n  - Bank loans: AUD 86,269\\n  - Total: AUD 149,094\\n- Other changes:\\n  - Lease liabilities: AUD 17,497\\n  - Bank loans: AUD (158,358)\\n  - Total: AUD (140,861)\\n\\nBalance at 30 June 2021:\\n- Lease liabilities: AUD 883,874\\n- Bank loans: AUD 2,594,100\\n- Total: AUD 3,477,974\\n\\nMovements in 2022:\\n- Net cash from/(used in) financing activities:\\n  - Lease liabilities: AUD (365,513)\\n  - Bank loans: AUD 2,505,974\\n  - Total: AUD 2,140,461\\n- Finance costs:\\n  - Lease liabilities: AUD 48,195\\n  - Bank loans: AUD 104,930\\n  - Total: AUD 153,125\\n- Other changes:\\n  - Lease liabilities: AUD 103,759\\n  - Bank loans: AUD 68,984\\n  - Total: AUD 172,743\\n\\nBalance at 30 June 2022:\\n- Lease liabilities: AUD 670,315\\n- Bank loans: AUD 5,273,988\\n- Total: AUD 5,944,303\\n\\n', '\\n\\n# Note 32. Share-based payments\\nA share option plan has been established by the consolidated entity and approved by shareholders at a general meeting, whereby the consolidated entity may, at t he discretion of the Board, grant options over ordinary shares in the Company to certain key management personnel of the consolidated entity. The options are issued for nil consideration and are granted in accordance with performance guidelines established by the Board. On 22 July 2019, the Company granted 42,000,000 share option s of its common stock to employees under its Employee Share Option Plan (ESOP) at an exercise price of $0.07. Options under this plan vest immediately allowing the holder to purchase one ordinary share per option, exercisable in multiple s of 100,000. The maximum term of the options granted under the ESOP ends on 13 September 2022. The weighted average fair value of options granted has been calculated as $0.015 per option. All granted employee options were immediately recognised as an expense in the statement of profit or loss with a corresponding credit to share option reserve for the value of $630,000. Set out below are summaries of options granted under the plan:\\n\\nMovement in options over ordinary shares:\\n\\nGrant date: 22/07/2019\\n- Expiry date: 13/09/2022\\n- Exercise price: AUD 0.070\\n- Balance at the start of the year: 42,000,000 options\\n- Granted during the year: 0 options\\n- Exercised during the year: 0 options\\n- Expired/forfeited/other: (8,000,000) options\\n- Balance at the end of the year: 34,000,000 options\\n\\nTotal:\\n- Opening balance: 42,000,000 options\\n- Granted: 0 options\\n- Exercised: 0 options\\n- Expired/forfeited/other: (8,000,000) options\\n- Closing balance: 34,000,000 options\\n\\nMovement in options over ordinary shares:\\n\\nGrant date: 22/07/2019\\n- Expiry date: 13/09/2022\\n- Exercise price: AUD 0.070\\n- Balance at the start of the year: 42,000,000 options\\n- Granted during the year: 0 options\\n- Exercised during the year: 0 options\\n- Expired/forfeited/other: 0 options\\n- Balance at the end of the year: 42,000,000 options\\n\\nTotal:\\n- Opening balance: 42,000,000 options\\n- Granted: 0 options\\n- Exercised: 0 options\\n- Expired/forfeited/other: 0 options\\n- Closing balance: 42,000,000 options\\n\\n\\nThe weighted average share price during the financial year was $0.015 (2021: $0.015). The weighted average remaining contractual life of options outstanding at the end of the financial year was 0.21 years (2021: 0.57 years).\\n\\n', '\\n\\n# Note 33. Parent entity information\\nSet out below is the supplementary information about the parent entity. Statement of profit or loss and other comprehensive income\\n\\nParent Entity Results:\\n\\nProfit after income tax:\\n- 2022: AUD 229,496\\n- 2021: AUD 573,048\\n\\nTotal comprehensive income:\\n- 2022: AUD 229,496\\n- 2021: AUD 573,048\\n\\nStatement of financial position\\n\\nParent entity financial position:\\n\\nTotal current assets:\\n- 2022: AUD 2,287,673\\n- 2021: AUD 1,993,700\\n\\nTotal assets:\\n- 2022: AUD 3,661,150\\n- 2021: AUD 2,090,405\\n\\nTotal current liabilities:\\n- 2022: AUD 2,292,003\\n- 2021: AUD 318,016\\n\\nTotal liabilities:\\n- 2022: AUD 1,669,157\\n- 2021: AUD 327,908\\n\\n', '\\n\\nParent entity equity:\\n\\nIssued capital:\\n- 2022: AUD 39,992,575\\n- 2021: AUD 39,992,575\\n\\nForeign currency reserve:\\n- 2022: AUD 50,647\\n- 2021: AUD 50,647\\n\\nShare-based payments reserve:\\n- 2022: AUD 510,000\\n- 2021: AUD 630,000\\n\\nAccumulated losses:\\n- 2022: AUD (38,561,229)\\n- 2021: AUD (38,910,725)\\n\\nTotal equity:\\n- 2022: AUD 1,991,993\\n- 2021: AUD 1,762,497\\n \\na. Guarantees entered into by the parent entity in relation to the debts of its subsidiaries. The parent entity had no guarantees in relation to the debts of its subsidiaries as at 30 June 2022 and 30 June 2021.\\nb. Contingent liabilities. The parent entity had no contingent liabilities as at 30 June 2022 and 30 June 2021.\\nc. Capital commitments - Property, plant and equipment. The parent entity had no capital commitments for property, plant and equipment as at 30 June 2022 and 30 June 2021.\\nd. Significant accounting policies. The accounting policies of the parent entity are consistent with those of the consolidated entity, as disclosed in note 2, except for the following: (1) investments in subsidiaries are accounted for at cost, less any impairment, in the parent entity; (2) dividends received from subsidiaries are recognised as other income by the parent entity and its receipt may be an indicator of an impairment of the investment.\\n\\n', '\\n\\n# Note 34. Events after the reporting period\\nOn 2 September 2022, the loan from ANZ with the carrying amount of the loan AUD 2,760,321 as of 30 June 2022 was discharged and fully paid. On 2 September 2022, a loan from WBC of $5,000,000 was draw n. The term of the loan is 5 years and the indicative loan interest is 4.13% p.a. (variable rate). The repayment arrangement is principal and interest up to 28 July 2027. \\n\\n', \"\\n\\n# Directors' declaration\\nIn the directors' opinion: (1) the attached financial statements and notes comply with the Corporations Act 2001, the Accounting Standards, the Corporations Regulations 2001 and other mandatory professional reporting requirements; (2) the attached financial statements and notes comply with International Financial Reporting Standards as issued by the International Accounting Standards Board as described in note 2 to the financial statements; (3) the attached financial statements and notes give a true and fair  view of the consolidated entity's financial position as at\\n30 June 2022 and of its performance for the financial year ended on that date; and (4) there are reasonable grounds to believe that the Company will  be able to pay its debts as and when they become due and payable. The directors have been given the declarations required by section 295A of the Corporations Act 2001. Signed in accordance with a resolution of directors made pursuant to section 295(5)(a) of the Corporations Act 2001. On behalf of the directors\\n\\n\", '\\n\\n# Independent Auditor’s Report\\nTo the Members of Rectifier Technologies Ltd Report on the audit of the financial report Grant Thornton Audit Pty Ltd: Level 22 Tower 5, Collins Square, 727 Collins Street, Melbourne VIC 3008, GPO Box 4736, Melbourne VIC 3001 T: +61 3 8320 2222\\n\\n## Opinion\\nWe have audited the financial report of Rectifier Technologies Ltd (the Company) and its subsidiaries (the Group), which comprises the consolidated statement of financial position as at 30 June 2022, the consolidated statement of profit or loss and other comprehensive income, consolidated statement of changes in equity and consolidated statement of cash flows for the year then ended, and notes to the consolidated financial statements, including a summary of significant accounting policies, and the Directors’ declaration. In our opinion, the accompanying financial report of the Group is in accordance with the Corporations Act 2001, including: giving a true and fair view of the Group’s financial position as at 30 June 2022 and of its performance for the year ended on that date and complying with Australian Accounting Standards and the Corporations Regulations 2001.\\n\\n', '\\n\\n## Basis for opinion\\nWe conducted our audit in accordance with Australian Auditing Standards. Our responsibilities under those standards are further described in the Auditor’s Responsibilities for the Audit of the Financial Report section of our report. We are independent of the Group in accordance with the auditor independence requirements of the Corporations Act 2001 and the ethical requirements of the Accounting Professional and Ethical Standards Board’s APES 110 Code of Ethics for Professional Accountants (including Independence Standards) (the Code) that are relevant to our audit of the financial report in Australia. We have also fulfilled our other ethical responsibilities in accordance with the Code. We believe that the audit evidence we have obtained is sufficient and appropriate to provide a basis for our opinion. www.grantthornton.com.au ACN-130 913 594. Grant Thornton Audit Pty Ltd ACN 130 913 594 a subsidiary or related entity of Grant Thornton Australia Limited ABN 41 127 556 389 ACN 127 556 389. ‘Grant Thornton’ refers to the brand under which the Grant Thornton member firms provide assurance, tax and advisory services to their clients and/or refers to one or more member firms, as the context requires. Grant Thornton Australia Limited is a member firm of Grant Thornton International Ltd (GTIL). GTIL and the member firms are not a worldwide partnership. GTIL and each member firm is a separate legal entity. Services are delivered by the member firms. GTIL does not provide services to clients. GTIL and its member firms are not agents of, and do not obligate one another and are not liable for one another’s acts or omissions. In the Australian context only, the use of the term ‘Grant Thornton’ may refer to Grant Thornton Australia Limited ABN 41 127 556 389 ACN 127 556 389 and its Australian subsidiaries and related entities. Liability limited by a scheme approved under Professional Standards Legislation.\\n\\n', '\\n\\n## Key audit matters\\nKey audit matters are those matters that, in our professional judgement, were of most significance in our audit of the financial report of the current period. These matters were addressed in the context of our audit of the financial report as a whole, and in forming our opinion thereon, and we do not provide a separate opinion on these matters. (1) Key Audit Matter: Recognition of R&D Tax Incentive (Note 6 and Note 10) The Group receives a corporate tax rate plus 18.5% (43.5%) refundable tax offset of eligible expenditure under the research and development (“R&D”) scheme if its turnover is less than $20 million per annum, provided it is not controlled by income tax-exempt entities. A registration of R&D activities is filed with AusIndustry in the following financial year, and based on this filing, the group receives the incentive in cash. The Group engaged an R&D expert to perform a detailed review of the Group’s total R&D expenditure to determine the potential claim under the R&D tax incentive legislation. As at 30 June 2022, a receivable totaling $1,035,645 has been recorded. This represents the estimated claim for the period 1 July 2021 to 30 June 2022. This is a key audit matter due to the size of the receivable. The degree of judgement and interpretation of the R&D tax legislation required by management to assess the eligibility of the R&D expenditure under the scheme. (2) How Our Audit Addressed the Key Audit Matter? Our procedures included, amongst others: Obtaining and documenting through discussions with management an understanding of the process to estimate the claim, Evaluating the competence, capabilities and objectivity of management’s expert, Reviewing and testing the R&D estimate by: reviewing the methodology used by management’s expert for consistency with the R&D tax offset rules, performing testing on a sample of R&D expenses to supporting documents to assess eligibility and accuracy of the amounts recorded in the general ledger, considering the nature of expenses against the eligibility criteria of the R&D tax incentive scheme to assess whether the expense included in the estimate are likely to meet the eligibility criteria. Comparing the nature of the R&D expenditure included in the current year to the prior year’s claim, Comparing the eligible expenditure used in the receivable calculation to expenditure recorded in the general ledger, Considering the entity’s history of successful claims, Inspecting copies of relevant correspondence with AusIndustry and the Australian Taxation Office related to the claims and Assessing the adequacy of the relevant disclosures in the financial statements.     \\n\\n', \"\\n\\nKey Audit Matter: Inventory valuation (Note 11). As at 30 June 2022, the Group holds inventory with a carrying value of $5,877,879. The Group is required to carry their inventory at the lower of cost or net realisable value, in accordance with AASB 102 Inventories. Determining the value of inventory requires significant judgement. Specifically, estimating inventory provisions involves significant management judgement, including predictions about market conditions, future sales, and obsolescence. This is a key audit matter due to the materiality of the inventory balance and the level of management judgement required to determine the inventory value. How our audit addressed the key audit matter? Our procedures included, amongst others: Understanding and documenting management's process of calculating the inventory provision and evaluating the Group’s compliance with therequirements of AASB 102, Testing a sample of inventory items to assess the cost basis and net realisable value of inventories, Analysing slow-moving inventory and evaluating their saleability and obsolescence, Considering additional factors that may indicate inventory items require an adjustment to their carrying amount, including discontinued lines and Assessing the adequacy of the related disclosures in the financial statements.\\n\\n\", \"\\n\\nKey Audit Matter: Revenue recognition (Note 5). Revenue recorded from the sale of products and services to customers amounted to $14,761,523 for the year ended 30 June 2022. The Group enters into transactions for the sale of power rectifiers. The total transaction price for a contract is based on their relative stand-alone selling price. Revenue is recognised at a point in time when the Group satisfies the performance obligations, which is generally at the point of delivery. This is a key audit matter given the judgement applied to determine the appropriate recognition of revenue and the material nature of revenue to the Group’s overall performance. How our audit addressed the key audit matter? Our procedures included, amongst others: Reviewing revenue recognition policies for appropriateness in accordance with AASB 15 Revenue from Contracts with Customers, Testing a sample of revenue transactions during the year and assessing whether revenue has been recognised in accordance with AASB 15, including:  (1) Reviewing the relevant contracts with customers, (2) Assessing management's determination of performance obligations within contracts and the allocation of the transaction price to those obligations, (3) Testing the timing of revenue recognition. Evaluating sales transactions around reporting date to assess whether revenue is recognised in the correct period, Performing non-substantive analytical procedures to assess revenue recognised against known business factors and investigating variances to our expectations and Assessing the adequacy of related disclosures in the financial statements.\\n\\n\", '\\n\\n## Information other than the financial report and auditor’s report thereon: the Directors are responsible for the other information. The other information comprises the information included in the Group’s annual report for the year ended 30 June 2022, but does not include the financial report and our auditor’s report thereon. Our opinion on the financial report does not cover the other information and we do not express any form of assurance conclusion thereon. In connection with our audit of the financial report, our responsibility is to read the other information and, in doing so, consider whether the other information is materially inconsistent with the financial report or our knowledge obtained in the audit or otherwise appears to be materially misstated. If, based on the work we have performed, we conclude that there is a material misstatement of this other information, we are required to report that fact. We have nothing to report in this regard.\\n\\n', '\\n\\n## Responsibilities of the Directors for the financial report\\nThe Directors of the Company are responsible for the preparation of the financial report that gives a true and fair view in accordance with Australian Accounting Standards and the Corporations Act 2001 and for such internal control as the Directors determine is necessary to enable the preparation of the financial report that gives a true and fair view and is free from material misstatement, whether due to fraud or error. In preparing the financial report, the Directors are responsible for assessing the Group’s ability to continue as a going concern, disclosing, as applicable, matters related to going concern and using the going concern basis of accounting unless the Directors either intend to liquidate the Group or to cease operations, or have no realistic alternative but to do so. \\n\\n', '\\n\\n## Auditor’s responsibilities for the audit of the financial report\\n Our objectives are to obtain reasonable assurance about whether the financial report as a whole is free from material misstatement, whether due to fraud or error, and to issue an auditor’s report that includes our opinion. Reasonable assurance is a high level of assurance, but is not a guarantee that an audit conducted in accordance with the Australian Auditing Standards will always detect a material misstatement when it exists. Misstatements can arise from fraud or error and are considered material if, individually or in the aggregate, they could reasonably be expected to influence the economic decisions of users taken on the basis of this financial report. A further description of our responsibilities for the audit of the financial report is located at the Auditing and Assurance Standards Board website at: https://www.auasb.gov.au/auditors_responsibilites/ar1_2020.pdf. This description forms part of our auditor’s report.\\n\\n', '\\n \\n#Report on the remuneration report\\n\\n## Opinion on the remuneration report\\n\\nWe have audited the Remuneration Report included in pages 7 to 12 of the Directors’ report for the year ended 30 June 2022. In our opinion, the Remuneration Report of Rectifier Technologies Ltd, for the year ended 30 June 2022 complies with section 300A of the Corporations Act 2001.\\n\\n', '\\n\\n## Responsibilities\\nThe Directors of the Company are responsible for the preparation and presentation of the Remuneration Report in accordance with section 300A of the Corporations Act 2001. Our responsibility is to express an opinion on the Remuneration Report, based on our audit conducted in accordance with Australian Auditing Standards. \\n\\n', '\\n\\n# Shareholder information\\n\\nThe shareholder information set out below was applicable as at 6 September 2022.\\n## Distribution of equitable securities\\nAnalysis of number of equitable security holders by size of holding:\\n\\nShareholding distribution:\\n\\nRange: 1 to 1,000\\n- Number of holders: 43\\n- % of total shares: Not disclosed\\n- Number of units issued: 14,955\\n\\nRange: 1,001 to 5,000\\n- Number of holders: 29\\n- % of total shares: 0.01%\\n- Number of units issued: 86,296\\n\\nRange: 5,001 to 10,000\\n- Number of holders: 260\\n- % of total shares: 0.17%\\n- Number of units issued: 2,291,486\\n\\nRange: 10,001 to 100,000\\n- Number of holders: 2,073\\n- % of total shares: 5.65%\\n- Number of units issued: 77,866,602\\n\\nRange: 100,001 and over\\n- Number of holders: 681\\n- % of total shares: 94.17%\\n- Number of units issued: 1,295,441,263\\n\\nTotal:\\n- Number of holders: 3,086\\n- % of total shares: 100.00%\\n- Number of units issued: 1,375,700,602\\n\\nHolding less than a marketable parcel:\\n- Number of holders: 414\\n- % of total shares: 0.20%\\n- Number of units issued: 3,292,552\\n\\n', '\\n\\n## Substantial holders\\nSubstantial holders in the Company are set out below:\\n\\nTop shareholders:\\n\\nPUDU Investment (Australia) Pty Ltd:\\n- Number of shares held: 224,643,616\\n- % of total shares issued: 16.33%\\n\\nYung Shing:\\n- Number of shares held: 150,000,000\\n- % of total shares issued: 10.90%\\n\\nYanbin Wang:\\n- Number of shares held: 70,000,000\\n- % of total shares issued: 5.09%\\n\\nMr Malcolm Alistair Duncan:\\n- Number of shares held: 69,187,950\\n- % of total shares issued: 5.03%\\n\\nMr Lei Li:\\n- Number of shares held: 68,460,000\\n- % of total shares issued: 4.98%\\n\\n', '\\n\\n## Equity security holders\\nTwenty largest quoted equity security holders. The names of the twenty largest security holders of quoted equity securities are listed below:\\nTop 20 Shareholders:\\n\\n1. PUDU Investment (Australia) Pty Ltd:\\n   - Number of shares held: 224,643,616\\n   - % of total shares issued: 16.33%\\n\\n2. Yung Shing:\\n   - Number of shares held: 150,000,000\\n   - % of total shares issued: 10.90%\\n\\n3. Yanbin Wang:\\n   - Number of shares held: 70,000,000\\n   - % of total shares issued: 5.09%\\n\\n4. Mr Malcolm Alistair Duncan:\\n   - Number of shares held: 69,187,950\\n   - % of total shares issued: 5.03%\\n\\n5. Mr Lei Li:\\n   - Number of shares held: 68,460,000\\n   - % of total shares issued: 4.98%\\n\\n6. Mr Songwu Lu:\\n   - Number of shares held: 66,841,260\\n   - % of total shares issued: 4.86%\\n\\n7. Ms Zhu Furong:\\n   - Number of shares held: 50,000,000\\n   - % of total shares issued: 3.63%\\n\\n8. Mr Weiguo Xie:\\n   - Number of shares held: 40,747,642\\n   - % of total shares issued: 2.96%\\n\\n9. Mr Makram Hanna & Mrs Rita Hanna:\\n   - Number of shares held: 38,637,542\\n   - % of total shares issued: 2.81%\\n\\n10. V and G Super Pty Ltd:\\n    - Number of shares held: 37,040,000\\n    - % of total shares issued: 2.69%\\n\\n11. Bond Street Custodians Limited:\\n    - Number of shares held: 25,999,605\\n    - % of total shares issued: 1.89%\\n\\n12. BNP Paribas Nominees Pty Ltd SIX SIS Ltd:\\n    - Number of shares held: 23,428,478\\n    - % of total shares issued: 1.70%\\n\\n13. Mr Nicholas Seng Tet Yeoh:\\n    - Number of shares held: 20,500,000\\n    - % of total shares issued: 1.49%\\n\\n14. Mr Nigel Machin:\\n    - Number of shares held: 20,000,000\\n    - % of total shares issued: 1.45%\\n\\n15. BNP Paribas Noms Pty Ltd:\\n    - Number of shares held: 19,773,056\\n    - % of total shares issued: 1.44%\\n\\n16. Australian Exports & Industrialisation Super Pty Ltd:\\n    - Number of shares held: 14,000,000\\n    - % of total shares issued: 1.02%\\n\\n17. Topaz Investments Pte Ltd:\\n    - Number of shares held: 13,837,650\\n    - % of total shares issued: 1.01%\\n\\n18. Genista Court Pty Ltd:\\n    - Number of shares held: 11,848,272\\n    - % of total shares issued: 0.86%\\n\\n19. Mr Makram Hanna:\\n    - Number of shares held: 11,134,134\\n    - % of total shares issued: 0.81%\\n\\n20. Mr Raymond Rockman & Mr Anthony Rockman:\\n    - Number of shares held: 9,677,106\\n    - % of total shares issued: 0.70%\\n\\nTotal shares held by top 20 shareholders:\\n- Number of shares: 985,756,311\\n- % of total shares issued: 71.65%\\n\\n', '\\n\\nUnquoted equity securities. As at reporting date, there were 46,840,000 options over ordinary shares on issue, held by 30 holders.\\n\\n', '\\n\\n## Voting rights\\nThe voting rights attached to ordinary shares are set out below: ordinary shares. On a show of hands every member present at a meeting in person or by proxy shall have one vote and upon a poll each share shall have one vote. There are no other classes of equity securities.\\n\\n', '\\n\\n## On market buy-back\\nThere is no current on market buy back\\n']\n"
     ]
    }
   ],
   "source": [
    "# Мультиязычный датасет\n",
    "# docs = chunks_df['text'].dropna().loc[chunks_df['text'].str.strip() != '']\n",
    "\n",
    "\n",
    "# Фильтрация данных: удаляем пустые строки и строки, состоящие только из пробелов\n",
    "docs = chunks_df['chunk_text'].dropna().loc[chunks_df['chunk_text'].str.strip() != '']\n",
    "\n",
    "# Преобразование результата в список\n",
    "docs_list = docs.tolist()\n",
    "\n",
    "\n",
    "# Преобразование результата в список\n",
    "docs_list = docs.tolist()\n",
    "print(docs_list)"
   ]
  },
  {
   "cell_type": "code",
   "execution_count": null,
   "metadata": {},
   "outputs": [],
   "source": []
  },
  {
   "cell_type": "code",
   "execution_count": 38,
   "metadata": {},
   "outputs": [
    {
     "name": "stdout",
     "output_type": "stream",
     "text": [
      "Исходное количество строк: 173\n",
      "Количество строк после фильтрации: 173\n"
     ]
    }
   ],
   "source": [
    "print(f\"Исходное количество строк: {len(chunks_df)}\")\n",
    "print(f\"Количество строк после фильтрации: {len(docs)}\")\n"
   ]
  },
  {
   "cell_type": "markdown",
   "metadata": {},
   "source": [
    "### Мультиязычная модель. Учим"
   ]
  },
  {
   "cell_type": "code",
   "execution_count": 36,
   "metadata": {},
   "outputs": [
    {
     "name": "stderr",
     "output_type": "stream",
     "text": [
      "2025-04-02 20:54:55,786 - BERTopic - Embedding - Transforming documents to embeddings.\n",
      "Batches: 100%|██████████| 8/8 [00:07<00:00,  1.02it/s]\n",
      "2025-04-02 20:55:03,649 - BERTopic - Embedding - Completed ✓\n",
      "2025-04-02 20:55:03,649 - BERTopic - Dimensionality - Fitting the dimensionality reduction algorithm\n",
      "2025-04-02 20:55:03,779 - BERTopic - Dimensionality - Completed ✓\n",
      "2025-04-02 20:55:03,780 - BERTopic - Cluster - Start clustering the reduced embeddings\n",
      "2025-04-02 20:55:03,801 - BERTopic - Cluster - Completed ✓\n",
      "2025-04-02 20:55:03,802 - BERTopic - Representation - Extracting topics from clusters using representation models.\n",
      "2025-04-02 20:55:06,810 - BERTopic - Representation - Completed ✓\n",
      "2025-04-02 20:55:06,811 - BERTopic - Topic reduction - Reducing number of topics\n",
      "2025-04-02 20:55:06,812 - BERTopic - Topic reduction - Reduced number of topics from 8 to 8\n",
      "2025-04-02 20:55:06,884 - BERTopic - WARNING: When you use `pickle` to save/load a BERTopic model,please make sure that the environments in which you saveand load the model are **exactly** the same. The version of BERTopic,its dependencies, and python need to remain the same.\n"
     ]
    },
    {
     "name": "stdout",
     "output_type": "stream",
     "text": [
      "                                                text  topic\n",
      "0  Officers and professional advisers:\\nDirectors...    3.0\n",
      "1  \\nChairman’s Statement\\nI am pleased to presen...    6.0\n",
      "3  \\n\\nInvesting policy statement:\\nAbout us\\nThe...    6.0\n",
      "4  \\nInvesting policy statement, continued\\nInves...    6.0\n",
      "6  \\n\\nReview of trading portfolio:\\nIntroduction...    6.0\n",
      "Index(['text', 'source', 'company', 'topic'], dtype='object')\n",
      "<class 'pandas.core.frame.DataFrame'>\n",
      "Index: 239 entries, 0 to 249\n",
      "Data columns (total 4 columns):\n",
      " #   Column   Non-Null Count  Dtype  \n",
      "---  ------   --------------  -----  \n",
      " 0   text     239 non-null    object \n",
      " 1   source   239 non-null    object \n",
      " 2   company  239 non-null    object \n",
      " 3   topic    239 non-null    float64\n",
      "dtypes: float64(1), object(3)\n",
      "memory usage: 17.4+ KB\n",
      "None\n"
     ]
    }
   ],
   "source": [
    "from bertopic import BERTopic\n",
    "from sentence_transformers import SentenceTransformer\n",
    "from bertopic.representation import KeyBERTInspired\n",
    "\n",
    "# Используем модель, поддерживающую русский язык\n",
    "#sentence_model = SentenceTransformer(\"paraphrase-multilingual-MiniLM-L12-v2\")\n",
    "sentence_model = SentenceTransformer('distiluse-base-multilingual-cased')\n",
    "\n",
    "# Мои настройки\n",
    "my_nr_topics = 20 # Количество тем, которые вы хотите извлечь. Можете настроить это значение, чтобы контролировать количество тем.\n",
    "my_nr_repr_docs=7 # Количество документов, используемых для представления каждой темы\n",
    "my_min_topic_size=7  # Минимальный размер темы, сколько документов должно быть в теме, чтобы она считалась значимой\n",
    "му_top_n_words=10 # Количество слов, которые вы хотите получить для каждой темы\n",
    "\n",
    "# Настройка модели представления\n",
    "representation_model = KeyBERTInspired(nr_repr_docs=my_nr_repr_docs, top_n_words=му_top_n_words)\n",
    "\n",
    "# Создание модели BERTopic с настройками\n",
    "topic_model = BERTopic(\n",
    "    embedding_model=sentence_model,\n",
    "    representation_model=representation_model,\n",
    "    nr_topics=my_nr_topics,\n",
    "    min_topic_size=my_min_topic_size,  # Минимальный размер темы\n",
    "    calculate_probabilities=True,  # Вычисление вероятностей\n",
    "    verbose=True  # Вывод дополнительной информации\n",
    ")\n",
    "\n",
    "# Обучение модели\n",
    "topics, probs = topic_model.fit_transform(docs)\n",
    "\n",
    "import numpy as np\n",
    "\n",
    "# Создаем столбец 'topic' в исходном DataFrame и заполняем его NaN\n",
    "chunks_df['topic'] = np.nan\n",
    "chunks_df['topic'] = chunks_df['topic'].fillna(-2)\n",
    "\n",
    "# Заполняем темы только для строк, которые были переданы в модель\n",
    "chunks_df.loc[docs.index, 'topic'] = topics\n",
    "\n",
    "# Вывод информации\n",
    "print(chunks_df[['text', 'topic']].head())  # Пример вывода первых строк\n",
    "\n",
    "# Добавление тем и вероятностей в DataFrame\n",
    "#chunks_df['topic'] = topics\n",
    "#chunks_df['probs'] = probs\n",
    "\n",
    "\n",
    "\n",
    "\n",
    "# Сохранение модели\n",
    "topic_model.save(\"red_bertopic_model_companies\")\n",
    "\n",
    "# Загрузка модели\n",
    "from bertopic import BERTopic\n",
    "loaded_model = BERTopic.load(\"red_bertopic_model_companies\")\n",
    "\n",
    "\n",
    "# ================\n",
    "\n",
    "# Вывод информации\n",
    "print(chunks_df.columns)\n",
    "print(chunks_df.info())"
   ]
  },
  {
   "cell_type": "code",
   "execution_count": 39,
   "metadata": {},
   "outputs": [
    {
     "name": "stderr",
     "output_type": "stream",
     "text": [
      "2025-04-03 04:20:17,588 - BERTopic - Embedding - Transforming documents to embeddings.\n",
      "Batches: 100%|██████████| 6/6 [00:06<00:00,  1.06s/it]\n",
      "2025-04-03 04:20:23,961 - BERTopic - Embedding - Completed ✓\n",
      "2025-04-03 04:20:23,961 - BERTopic - Dimensionality - Fitting the dimensionality reduction algorithm\n",
      "2025-04-03 04:20:24,086 - BERTopic - Dimensionality - Completed ✓\n",
      "2025-04-03 04:20:24,087 - BERTopic - Cluster - Start clustering the reduced embeddings\n",
      "2025-04-03 04:20:24,108 - BERTopic - Cluster - Completed ✓\n",
      "2025-04-03 04:20:24,109 - BERTopic - Representation - Extracting topics from clusters using representation models.\n",
      "2025-04-03 04:20:27,118 - BERTopic - Representation - Completed ✓\n",
      "2025-04-03 04:20:27,119 - BERTopic - Topic reduction - Reducing number of topics\n",
      "2025-04-03 04:20:27,121 - BERTopic - Topic reduction - Reduced number of topics from 8 to 8\n"
     ]
    },
    {
     "name": "stdout",
     "output_type": "stream",
     "text": [
      "                                          chunk_text  topic\n",
      "1  RRECTIFIERR TECHNOLOGIESS LTD \\nABN: 822 0588 ...    1.0\n",
      "2  \\n\\n# Corporate directory\\n\\n## Directors: \\nM...    0.0\n",
      "3  \\n\\n## Bankers \\nANZ Banking Group Limited\\n10...   -1.0\n",
      "4  \\n\\n## Stock exchange listing \\nRectifier Tech...    1.0\n",
      "5  \\n\\n## Website \\nhttps://www.rectifiertechnolo...    1.0\n"
     ]
    }
   ],
   "source": [
    "# Загрузка модели\n",
    "from bertopic import BERTopic\n",
    "loaded_model = BERTopic.load(\"red_bertopic_model_companies\")\n",
    "\n",
    "topic_model=loaded_model\n",
    "\n",
    "# Обучение модели\n",
    "topics, probs = topic_model.fit_transform(docs)\n",
    "\n",
    "import numpy as np\n",
    "\n",
    "# Создаем столбец 'topic' в исходном DataFrame и заполняем его NaN\n",
    "chunks_df['topic'] = np.nan\n",
    "chunks_df['topic'] = chunks_df['topic'].fillna(-2)\n",
    "\n",
    "# Заполняем темы только для строк, которые были переданы в модель\n",
    "chunks_df.loc[docs.index, 'topic'] = topics\n",
    "\n",
    "# Вывод информации\n",
    "print(chunks_df[['chunk_text', 'topic']].head())  # Пример вывода первых строк\n",
    "\n",
    "\n",
    "\n",
    "# Мои настройки\n",
    "my_nr_topics = 20 # Количество тем, которые вы хотите извлечь. Можете настроить это значение, чтобы контролировать количество тем.\n",
    "my_nr_repr_docs=7 # Количество документов, используемых для представления каждой темы\n",
    "my_min_topic_size=7  # Минимальный размер темы, сколько документов должно быть в теме, чтобы она считалась значимой\n",
    "му_top_n_words=10 # Количество слов, которые вы хотите получить для каждой темы\n",
    "\n"
   ]
  },
  {
   "cell_type": "markdown",
   "metadata": {},
   "source": [
    "## Проверяем загруженную модель"
   ]
  },
  {
   "cell_type": "code",
   "execution_count": 40,
   "metadata": {},
   "outputs": [
    {
     "name": "stdout",
     "output_type": "stream",
     "text": [
      "Настройки. Количество тем: 20, Количество представи. документов: 7, Мин. размер: 7, Количество топ-слов: 10\n",
      "   Topic  Count                                             Name  \\\n",
      "0     -1     48                    -1_loan_2021_2022_liabilities   \n",
      "1      0     28             0_remuneration_salary_bonus_payments   \n",
      "2      1     16  1_rectifiertechnologies_technologies_audit_2021   \n",
      "3      2     18                     2_2021_assets_2022_financing   \n",
      "4      3     12             3_accounting_audit_auditor_financial   \n",
      "5      4     23                   4_asset_assets_liabilities_tax   \n",
      "6      5      8        5_shares_shareholder_dividends_securities   \n",
      "7      6     20                        6_tax_revenue_2021_income   \n",
      "\n",
      "                                      Representation  \\\n",
      "0  [loan, 2021, 2022, liabilities, interest, paym...   \n",
      "1  [remuneration, salary, bonus, payments, compen...   \n",
      "2  [rectifiertechnologies, technologies, audit, 2...   \n",
      "3  [2021, assets, 2022, financing, depreciation, ...   \n",
      "4  [accounting, audit, auditor, financial, auditi...   \n",
      "5  [asset, assets, liabilities, tax, taxable, pay...   \n",
      "6  [shares, shareholder, dividends, securities, e...   \n",
      "7  [tax, revenue, 2021, income, profit, 2022, 202...   \n",
      "\n",
      "                                 Representative_Docs  \n",
      "0  [\\n\\n## Funding \\nOn 6 February 2017, Rectifie...  \n",
      "1  [\\n\\n# Directors' report\\n\\n# Additional discl...  \n",
      "2  [\\n\\n# Notes to the financial statements\\n\\n# ...  \n",
      "3  [\\n\\n## Reconciliations\\nReconciliations of th...  \n",
      "4  [\\n\\n# Directors' declaration\\nIn the director...  \n",
      "5  [\\n\\n## Right-of-use assets\\nA right-of-use as...  \n",
      "6  [\\n\\n# Note 19. Issued capital\\n\\nOrdinary sha...  \n",
      "7  [\\n\\n## Geographical information\\n\\nSales to e...  \n"
     ]
    }
   ],
   "source": [
    "# Получаем информацию по темам\n",
    "topic_model = loaded_model\n",
    "print(f\"Настройки. Количество тем: {my_nr_topics}, Количество представи. документов: {my_nr_repr_docs}, Мин. размер: {my_min_topic_size}, Количество топ-слов: {му_top_n_words}\")\n",
    "topic_info = topic_model.get_topic_info()\n",
    "print(topic_info)\n"
   ]
  },
  {
   "cell_type": "code",
   "execution_count": 41,
   "metadata": {},
   "outputs": [
    {
     "name": "stdout",
     "output_type": "stream",
     "text": [
      "Количество тем заказано: 20, Количество представи. документов: 7, Мин. размер: 7, Количество топ-слов: 10\n",
      "Ключевые слова по теме -1: [('loan', 0.244012), ('2021', 0.18591157), ('2022', 0.1691179), ('liabilities', 0.13843983), ('interest', 0.12692717), ('payment', 0.117461644), ('bank', 0.108346015), ('financial', 0.08140609), ('capital', 0.07691857), ('dividends', 0.06637491)]\n",
      "Ключевые слова по теме 0: [('remuneration', 0.22483937), ('salary', 0.22403723), ('bonus', 0.20362085), ('payments', 0.16445184), ('compensation', 0.1559338), ('reward', 0.12974611), ('management', 0.12652642), ('directorships', 0.116155684), ('executive', 0.1093216), ('balance', 0.10688947)]\n",
      "Ключевые слова по теме 1: [('rectifiertechnologies', 0.18445763), ('technologies', 0.14688095), ('audit', 0.14014545), ('2021', 0.12673363), ('company', 0.12619382), ('consolidated', 0.12384957), ('corporations', 0.121444836), ('report', 0.11937143), ('subsidiaries', 0.1085545), ('auditor', 0.10598497)]\n",
      "Ключевые слова по теме 2: [('2021', 0.20480533), ('assets', 0.17602673), ('2022', 0.16345781), ('financing', 0.13913414), ('depreciation', 0.13203764), ('financial', 0.12829626), ('cash', 0.11972383), ('borrowings', 0.11006331), ('currency', 0.09620549), ('equipment', 0.09068819)]\n",
      "Ключевые слова по теме 3: [('accounting', 0.22594808), ('audit', 0.19605072), ('auditor', 0.17101312), ('financial', 0.17052722), ('auditing', 0.14502871), ('report', 0.13838245), ('australian', 0.10688255), ('reporting', 0.093489006), ('2001', 0.08103016), ('standards', 0.07707944)]\n",
      "Ключевые слова по теме 4: [('asset', 0.21907112), ('assets', 0.20336169), ('liabilities', 0.106721394), ('tax', 0.09611323), ('taxable', 0.09113538), ('payments', 0.06258931), ('period', 0.051436424), ('liability', 0.039721865), ('value', 0.038810268), ('amounts', 0.03565655)]\n",
      "Ключевые слова по теме 5: [('shares', 0.42518502), ('shareholder', 0.40314946), ('dividends', 0.3393457), ('securities', 0.3381238), ('equity', 0.30139238), ('share', 0.27288797), ('capital', 0.22477311), ('2021', 0.11620422), ('holders', 0.11479), ('distribution', 0.10849264)]\n",
      "Ключевые слова по теме 6: [('tax', 0.24495502), ('revenue', 0.20691766), ('2021', 0.18553293), ('income', 0.17958917), ('profit', 0.15381353), ('2022', 0.14379245), ('2020', 0.12958321), ('earnings', 0.124141544), ('sales', 0.10853639), ('239', 0.108391486)]\n"
     ]
    }
   ],
   "source": [
    "# Получаем ключевые слова по темам\n",
    "print(f\"Количество тем заказано: {my_nr_topics}, Количество представи. документов: {my_nr_repr_docs}, Мин. размер: {my_min_topic_size}, Количество топ-слов: {му_top_n_words}\")\n",
    "\n",
    "for id in range(-1, len(topic_info)-1):\n",
    "    topic_words = topic_model.get_topic(id)\n",
    "    print(f\"Ключевые слова по теме {id}: {topic_words}\")\n"
   ]
  },
  {
   "cell_type": "code",
   "execution_count": 42,
   "metadata": {},
   "outputs": [
    {
     "data": {
      "text/plain": [
       "<bound method DataFrame.info of                                             chunk_text  \\\n",
       "1    RRECTIFIERR TECHNOLOGIESS LTD \\nABN: 822 0588 ...   \n",
       "2    \\n\\n# Corporate directory\\n\\n## Directors: \\nM...   \n",
       "3    \\n\\n## Bankers \\nANZ Banking Group Limited\\n10...   \n",
       "4    \\n\\n## Stock exchange listing \\nRectifier Tech...   \n",
       "5    \\n\\n## Website \\nhttps://www.rectifiertechnolo...   \n",
       "..                                                 ...   \n",
       "169  \\n\\n## Substantial holders\\nSubstantial holder...   \n",
       "170  \\n\\n## Equity security holders\\nTwenty largest...   \n",
       "171  \\n\\nUnquoted equity securities. As at reportin...   \n",
       "172  \\n\\n## Voting rights\\nThe voting rights attach...   \n",
       "173  \\n\\n## On market buy-back\\nThere is no current...   \n",
       "\n",
       "                         source                     company  topic  \n",
       "1    Rectifier_Technologies.txt  Rectifier Technologies Ltd    1.0  \n",
       "2    Rectifier_Technologies.txt  Rectifier Technologies Ltd    0.0  \n",
       "3    Rectifier_Technologies.txt  Rectifier Technologies Ltd   -1.0  \n",
       "4    Rectifier_Technologies.txt  Rectifier Technologies Ltd    1.0  \n",
       "5    Rectifier_Technologies.txt  Rectifier Technologies Ltd    1.0  \n",
       "..                          ...                         ...    ...  \n",
       "169  Rectifier_Technologies.txt  Rectifier Technologies Ltd   -1.0  \n",
       "170  Rectifier_Technologies.txt  Rectifier Technologies Ltd    5.0  \n",
       "171  Rectifier_Technologies.txt  Rectifier Technologies Ltd    5.0  \n",
       "172  Rectifier_Technologies.txt  Rectifier Technologies Ltd    5.0  \n",
       "173  Rectifier_Technologies.txt  Rectifier Technologies Ltd   -1.0  \n",
       "\n",
       "[173 rows x 4 columns]>"
      ]
     },
     "execution_count": 42,
     "metadata": {},
     "output_type": "execute_result"
    }
   ],
   "source": [
    "chunks_df.info"
   ]
  },
  {
   "cell_type": "markdown",
   "metadata": {},
   "source": [
    "### Поиск по новой новой обученной модели red_bertopic_model"
   ]
  },
  {
   "cell_type": "code",
   "execution_count": 43,
   "metadata": {},
   "outputs": [
    {
     "name": "stderr",
     "output_type": "stream",
     "text": [
      "Batches: 100%|██████████| 1/1 [00:00<00:00, 22.22it/s]\n",
      "2025-04-03 04:21:16,261 - BERTopic - Dimensionality - Reducing dimensionality of input embeddings.\n",
      "2025-04-03 04:21:16,268 - BERTopic - Dimensionality - Completed ✓\n",
      "2025-04-03 04:21:16,269 - BERTopic - Clustering - Approximating new points with `hdbscan_model`\n",
      "2025-04-03 04:21:16,270 - BERTopic - Probabilities - Start calculation of probabilities with HDBSCAN\n",
      "2025-04-03 04:21:16,272 - BERTopic - Probabilities - Completed ✓\n",
      "2025-04-03 04:21:16,272 - BERTopic - Cluster - Completed ✓\n"
     ]
    },
    {
     "name": "stdout",
     "output_type": "stream",
     "text": [
      "                                            document  topic\n",
      "0  Which specific expenses does profit before inc...     -1\n",
      "1  Has Starvest’s strategy to steer its portfolio...     -1\n"
     ]
    }
   ],
   "source": [
    "from bertopic import BERTopic\n",
    "import pandas as pd\n",
    "\n",
    "\n",
    "# Ваши новые документы\n",
    "new_docs = [\n",
    "    \"Which specific expenses does profit before income tax includ?\",\n",
    "    \"Has Starvest’s strategy to steer its portfolio toward precious metal investments in recent years enabled the Company to position itself attractively for the current environment?\",\n",
    "]\n",
    "\n",
    "# Получение тем и вероятностей для новых документов\n",
    "new_topics, new_probs = topic_model.transform(new_docs)\n",
    "\n",
    "# Создание DataFrame для новых документов\n",
    "new_chunks_df = pd.DataFrame({\n",
    "    'document': new_docs,\n",
    "    'topic': new_topics\n",
    "})\n",
    "\n",
    "# Вывод DataFrame с темами\n",
    "print(new_chunks_df[['document', 'topic']])\n"
   ]
  },
  {
   "cell_type": "markdown",
   "metadata": {},
   "source": [
    "### Создаем чанки для новой модели"
   ]
  },
  {
   "cell_type": "code",
   "execution_count": 44,
   "metadata": {},
   "outputs": [
    {
     "name": "stdout",
     "output_type": "stream",
     "text": [
      "[{'chunk_text': 'RRECTIFIERR TECHNOLOGIESS LTD \\nABN: 822 0588 0100 692 \\nANNUALL REPORT  \\n2022 \\n\\n', 'source': 'Rectifier_Technologies.txt', 'company_name': 'Rectifier Technologies Ltd', 'topic': 1.0, 'category': 'companies'}, {'chunk_text': '\\n\\n# Corporate directory\\n\\n## Directors: \\nMr. Ying Ming Wang\\nMr. Yanbin Wang\\nMr. Valentino Vescovi\\nMr. Nigel Machin\\n\\n## Company secretary \\nMs Nova Taylor\\n\\n## Registered office \\n97 Highbury Road\\nBURWOOD, VIC 3125\\nTelephone: + 61 3 9896 7550\\nFacsimile:  + 61 3 9896 7566\\n\\n## Share register \\nComputershare Investor Services Pty Ltd\\n452 Johnston Street\\nABBOTSFORD, VIC 3067\\nTelephone:  1300 137 328\\n\\n## Auditor \\nGrant Thornton Audit Pty Ltd\\nCollins Square, Tower 5\\n727 Collins Street\\nMELBOURNE, VIC 3008\\n\\n', 'source': 'Rectifier_Technologies.txt', 'company_name': 'Rectifier Technologies Ltd', 'topic': 0.0, 'category': 'companies'}, {'chunk_text': '\\n\\n## Bankers \\nANZ Banking Group Limited\\n10 Main Street BOX HILL, VIC 3128\\n\\nWestpac Banking Corporation\\n39-41Hamilton Place, MOUNT WAVERLEY, VIC 3149\\n\\n', 'source': 'Rectifier_Technologies.txt', 'company_name': 'Rectifier Technologies Ltd', 'topic': -1.0, 'category': 'companies'}, {'chunk_text': '\\n\\n## Stock exchange listing \\nRectifier Technologies Ltd shares are listed on the Australian Securities Exchange \\n(ASX code: RFT)\\n\\n', 'source': 'Rectifier_Technologies.txt', 'company_name': 'Rectifier Technologies Ltd', 'topic': 1.0, 'category': 'companies'}, {'chunk_text': '\\n\\n## Website \\nhttps://www.rectifiertechnologies.com/\\n\\n', 'source': 'Rectifier_Technologies.txt', 'company_name': 'Rectifier Technologies Ltd', 'topic': 1.0, 'category': 'companies'}, {'chunk_text': \"\\n\\n## Corporate Governance Statement\\nThe directors and management are committed to conducting the business of Rectifier Technologies Ltd in an ethical manner and in accordance with the highest standards of corporate governance. Rectifier Technologies Ltd has adopted and has substantially complied with the ASX Corporate Governance Principles and Recommendations (Fourth Edition ('Recommendations') to the extent appropriate to the size and nature of its operations.\\n\\nThe consolidated entity’s Corporate Governance Statement, which sets out the corporate governance practices that were in operation during the financial year and identifies and explains any Recommendations that have not been followed and ASX Appendix 4G are released to the ASX on the same day the Annual Report is released. The Corporate Governance Statement and Corporate Governance Compliance Manual can be found on the Company’s website at https://www.rectifiertechnologies.com/investors-relations/.\\n\\n\", 'source': 'Rectifier_Technologies.txt', 'company_name': 'Rectifier Technologies Ltd', 'topic': 1.0, 'category': 'companies'}, {'chunk_text': \"\\n   \\n# Chairman's report\\n\\n## Financial Results\\nThe Company reported an increase in revenue by approximately 22.8% to $16.30 million from $13.27 million in the previous reporting period.\\n\\nThe increase in revenue from 30 June 2021 resulted from the demand increase for the electric vehicle chargers market with the global economy's recovery from the COVID-19 pandemic.\\n\\nProfit before tax increased to $1.23 million in the current reporting period compared to $1.03 million in the last reporting period. We have successfully managed the business growth despite the COVID interruption and global supply chain issues in FY 2022.\\n\\nThe following table below shows the results for the 12 months to June 2022 compared with those of the previous corresponding period.\\n\\n\", 'source': 'Rectifier_Technologies.txt', 'company_name': 'Rectifier Technologies Ltd', 'topic': -1.0, 'category': 'companies'}, {'chunk_text': '\\n\\nRevenue from continuing operations (refer to note 5&6):\\n- 2022: AUD 16,303,000\\n- 2021: AUD 13,266,000\\n\\nGross Profit:\\n- 2022: AUD 7,409,000\\n- 2021: AUD 6,042,000\\n\\nGross Margin %:\\n- 2022: 50%\\n- 2021: 51%\\n\\nProfit from continuing operations before tax:\\n- 2022: AUD 1,232,000\\n- 2021: AUD 1,033,000\\n\\nIncome Tax Expense:\\n- 2022: AUD (740,000)\\n- 2021: AUD (493,000)\\n\\nProfit from continuing operations after tax:\\n- 2022: AUD 492,000\\n- 2021: AUD 540,000\\n\\nNet Profit:\\n- 2022: AUD 492,000\\n- 2021: AUD 540,000\\n\\n', 'source': 'Rectifier_Technologies.txt', 'company_name': 'Rectifier Technologies Ltd', 'topic': 6.0, 'category': 'companies'}, {'chunk_text': '\\n\\n## Funding \\nOn 6 February 2017, Rectifier Technologies Malaysia obtained a loan amounting to MYR 5,460,000 (AUD 1,629,851) from Public Bank Berhad to acquire a new manufacturing facility. The carrying amount of the loan was MYR 4,648,453 (AUD 1,531,464) as of 30 June 2022.\\n\\nOn 7 October 2019, Rectifier Technologies Malaysia obtained a loan amounting to MYR 2,730,000 (AUD 929,393) from the same bank to acquire a new manufacturing facility. The carrying amount of the loan was MYR 2,552,538 (AUD 840,951) as of 30 June 2022.\\n\\nOn 2 October 2020, Rectifier Technologies Malaysia obtained a loan amounting to MYR 498,800 (AUD 159,780) from the same bank to acquire rooftop solar PV net energy metering. The carrying amount of the loan was MYR 428,740 (AUD141,252) as of 30 June 2022.\\n\\nOn 30 March 2022, Rectifier Technologies Australia obtained a loan of AUD 3,000,000 from ANZ for working capital. The carrying amount of the loan was AUD 2,760,321 as of 30 June 2022 after monthly payments for principal and interest. The loan was discharged and fully paid on 2 September 2022.\\n\\nOn 2 September 2022, Rectifier Technologies Australia obtained a loan amounting to AUD 5,000,000 from WBC for working capital. The loan term is five years, and the indicative loan interest is 4.13% p.a. (variable rate). The repayment arrangement is principal plus interest up to 28 July 2027.\\n\\n', 'source': 'Rectifier_Technologies.txt', 'company_name': 'Rectifier Technologies Ltd', 'topic': -1.0, 'category': 'companies'}, {'chunk_text': '\\n\\n## Dividends Payments\\nNo dividend was declared for the 2022 Financial year.\\n\\n', 'source': 'Rectifier_Technologies.txt', 'company_name': 'Rectifier Technologies Ltd', 'topic': -1.0, 'category': 'companies'}, {'chunk_text': '\\n\\n## Review of Operations\\nThe Company has successfully managed the COVID interruption to our business and global supply chain shortage and reported a profit in the current reporting period.\\n\\nAs the ASX announcement dated 9 February 2022, we received purchase orders totalling approximately USD 20 million from one of our major customers in the first half-year of 2022. Our international procurement team has secured the required manufacturing materials and is committed to delivering products to all customers with our best efforts.\\n\\nThe Company has continued work on the ERP system implementation as part of the Digital Enterprise Transformation. The first phase of ERP implementation has been completed, with Australia and Singapore subsidiaries consolidated into one platform. Phase 2 will bring the entire Company onto a unified platform that will significantly enhance efficiencies and business intelligence. The Company expects phase 2 of the ERP system implementation to begin in the first half-year of 2023 and take 12 months to implement. \\n\\n', 'source': 'Rectifier_Technologies.txt', 'company_name': 'Rectifier Technologies Ltd', 'topic': -1.0, 'category': 'companies'}, {'chunk_text': \"\\n\\n## Outlook\\nTo increase the competitiveness of RT22, the Company decided to significantly raise the technical benchmark for the product, which pushed back the original deadlines but resulted in a superior product. The engineering of the 'RT22 50KW EV Charger Module' has continued throughout the period. It has included the safety certification by TUV SUD, which is to be completed by Q4 2022, to enable our customers to supply the product in Europe and the USA. In addition, engineering has continued to work on the volume release of the product by validating a range of alternative components to ensure the supply chain meets market demand for the product. We are expecting RT22 to contribute significantly to company revenue in 2023.\\n \\nOn 26 July 2022, the Company announced that the 'Highbury DC Bi-Directional Charger' project was put on hold, and the available engineering resources have been deployed to other developments, such as the 'RT22 50KW EV Charger Module' and 'high-voltage input rectifier', which are now scheduled H1 2023.\\n\\nWe will continue to strive to grow our business in 2023, particularly in the electric vehicle chargers market.\\n\\n\", 'source': 'Rectifier_Technologies.txt', 'company_name': 'Rectifier Technologies Ltd', 'topic': -1.0, 'category': 'companies'}, {'chunk_text': \"\\n\\n# Directors' report\\n\\nThe directors present their report, together with the financial statements, on the consolidated entity (referred to hereafter as the 'consolidated entity') consisting of Rectifier Technologies  Ltd (referred to hereafter as the 'Company' or 'parent entity') and the entities it controlled at the end of, or during, the year ended 30 June 2022.\\n\\n## Directors\\nThe following persons were directors of Rectifier Technologies Ltd during the whole of the financial year and up to the date of this report, unless otherwise stated:\\nMr. Ying Ming Wang\\nMr. Yanbin Wang\\nMr. Valentino Vescovi\\nMr. Nigel Machin\\n\\n\", 'source': 'Rectifier_Technologies.txt', 'company_name': 'Rectifier Technologies Ltd', 'topic': 1.0, 'category': 'companies'}, {'chunk_text': '\\n\\n## Principal activities\\nThe principal activities of the consolidated entity during the financial year were designing and manufacturing high-efficiency power rectifiers and producing electronic and specialised magnetic components.\\n\\n', 'source': 'Rectifier_Technologies.txt', 'company_name': 'Rectifier Technologies Ltd', 'topic': -1.0, 'category': 'companies'}, {'chunk_text': '\\n\\n## Dividends\\nDividends paid during the financial year:\\nFinal dividend paid during 30 June 2022 of nil cents (for the year ended 30 June 2021: 0.1 cents) per ordinary share:\\n- 2022: AUD 0\\n- 2021: AUD 1,375,701\\n\\nThe dividends paid on 8 December 2020, totalling to $1,375, 701, refers to the 30 June 2020 financial year. There are no dividends declared in relation to the 30 June 2022 and 30 June 2021 financial years.\\n\\n', 'source': 'Rectifier_Technologies.txt', 'company_name': 'Rectifier Technologies Ltd', 'topic': -1.0, 'category': 'companies'}, {'chunk_text': '\\n\\n## Review of operations\\nThe profit for the consolidated entity after providing for income tax amounted to $491,955 (30 June 2021: $540,379).\\n\\nSpecific information on the review of operations, financial position and business strategies is stated in the Chairman’s report.\\n\\n', 'source': 'Rectifier_Technologies.txt', 'company_name': 'Rectifier Technologies Ltd', 'topic': -1.0, 'category': 'companies'}, {'chunk_text': '\\n \\n## Significant changes in the state of affairs\\nThere were no significant changes in the state of affairs of the consolidated entity during the financial year.\\n\\n', 'source': 'Rectifier_Technologies.txt', 'company_name': 'Rectifier Technologies Ltd', 'topic': -1.0, 'category': 'companies'}, {'chunk_text': '\\n\\n## Matters subsequent to the end of the financial year\\nOn 2 September 2022, the loan from ANZ with the carrying amount of the loan AUD 2,760,321 as of 30 June 2022 was discharged and fully paid.\\n\\nOn 2 September 2022, a loan from WBC of $5,000,000 was drawn. The term of the loan is 5 years and the indicative loan interest is 4.13% p.a. (variable rate). The repayment arrangement is principal and interest up to 28 July 2027.\\n\\n', 'source': 'Rectifier_Technologies.txt', 'company_name': 'Rectifier Technologies Ltd', 'topic': -1.0, 'category': 'companies'}, {'chunk_text': '\\n\\n##Likely developments and expected results of operations\\nInformation on likely developments in the operations of the consolidated entity and the expected results of those operations in future financial years is stated in the Chairman’s report. \\n\\n', 'source': 'Rectifier_Technologies.txt', 'company_name': 'Rectifier Technologies Ltd', 'topic': -1.0, 'category': 'companies'}, {'chunk_text': '\\n\\n##Environmental regulation\\nThe consolidated entity is not subject to any significant environmental regulation under Australian Commonwealth or State law.\\n\\n', 'source': 'Rectifier_Technologies.txt', 'company_name': 'Rectifier Technologies Ltd', 'topic': 3.0, 'category': 'companies'}, {'chunk_text': '\\n\\n## Information on directors\\nName: Mr. Ying Ming Wang\\nTitle: Chairman – Non-Executive\\nQualifications: Master of Science\\nExperience and expertise: As Managing Director of the Pudu Group, Ying Ming has built up a range of technology and property businesses, including Epern Telecom Co. Ltd., Beijing’s largest privately owned ISP. He is also involved in the China Digital Kingdom, an internet datacentre development business in China.\\nBoard Member since June 2006\\nOther current directorships: Pudu Group\\nFormer directorships (last 3 years): None\\nSpecial responsibilities: Member of the audit committee\\nInterests in shares: 224,643,616 Ordinary Shares \\nInterests in options: None\\n\\n', 'source': 'Rectifier_Technologies.txt', 'company_name': 'Rectifier Technologies Ltd', 'topic': 0.0, 'category': 'companies'}, {'chunk_text': '\\n\\nName: Mr. Yanbin Wang\\nTitle: Director – Executive and Chief Executive Officer \\nQualifications: Master of Law, Bachelor of Philosophy \\nExperience and expertise: Before joining Rectifier Technologies as CEO in 2010, Yanbin was Chief Operations Officer at Tianjin IC Card Public Network Company of Tianjin, China and Vice-President of Transtech Sino America, based in Florida, USA. He was instrumental in restructuring the Rectifier Technologies group in 2012, leading it back to growth and profitability.\\nBoard Member since August 2010\\nOther current directorships: None\\nFormer directorships (last 3 years): None\\nSpecial responsibilities: Member of the audit committee\\nInterests in shares: 70,000,000 Ordinary Shares \\nInterests in options: None\\n\\n', 'source': 'Rectifier_Technologies.txt', 'company_name': 'Rectifier Technologies Ltd', 'topic': 0.0, 'category': 'companies'}, {'chunk_text': '\\n\\nName: Mr. Valentino Vescovi \\nTitle: Director – Non-Executive\\nQualifications: Master of Science, Bachelor of Science\\nExperience and expertise:\\nAs a founding director of Rectifier Technologies  Pacific, Valentino was instrumental in its product development programs that led the world in telecom power using switch mode technology. He brings the board a significant amount of technical and business expertise.\\nBoard member 2003-2010 and from 30 October 2012\\nOther current directorships: None\\nFormer directorships (last 3 years): None\\nSpecial responsibilities: Member of the audit committee\\nInterests in shares: 37,040,000 Ordinary Shares\\nInterests in options: None\\n\\n', 'source': 'Rectifier_Technologies.txt', 'company_name': 'Rectifier Technologies Ltd', 'topic': 0.0, 'category': 'companies'}, {'chunk_text': '\\n\\nName: Mr. Nigel Machin                                  \\nTitle: Director – Executive and Head of Power Engineering\\nQualifications: Bachelor of Engineering\\nExperience and expertise: Nigel was a founding director of Rectifier Technologies Pacific and has been involved in all its product development since. Before Rectifier Technologies, Nigel was involved in induction melting equipment at Inductotherm Melting, in sound reinforcement power amplifiers for professional audio at Clockwork Audio, and then in telecom power supplies at Ausmode/Exicom. He has published 8 papers and holds two current patents.\\nBoard member since 3 April 2017 \\nOther current directorships: None\\nFormer directorships (last 3 years): None\\nSpecial responsibilities: Member of the audit committee\\nInterests in shares: 22,010,000 Ordinary SharesInterests in options: 1,800,000 unlisted options\\n\\n', 'source': 'Rectifier_Technologies.txt', 'company_name': 'Rectifier Technologies Ltd', 'topic': 0.0, 'category': 'companies'}, {'chunk_text': \"\\n\\n'Other current directorships' quoted above are current directorships for listed entities only and exclude directorships of all other types of entities unless otherwise stated.\\n\\n'Former directorships (last 3 years)' quoted above are directorships held in the last 3 years for listed entities only and exclude directorships of all other types of entities unless otherwise stated.\\n\\n\", 'source': 'Rectifier_Technologies.txt', 'company_name': 'Rectifier Technologies Ltd', 'topic': 0.0, 'category': 'companies'}, {'chunk_text': '\\n\\n## Company secretary\\nMs. Nova Taylor was appointed as Company Secretary on 3 February 2022. Ms Taylor has approximately 5 years experience working with listed companies in Company Secretary and Assistant Company Secretary roles. She previously worked for Computershare Investor Services Pty Limited in various roles for over 10 years. Nova has completed a Bachelor of Laws at Deakin University.\\n\\nMr. Justyn Stedwell was appointed as Company Secretary on 31 July 2014 and resigned on 3 February 2022. He is a professional Company Secretary with over 10 years experience as a Company Secretary of ASX listed companies. Mr Stedwell holds a Bachelor of Commerce from Monash University and a Graduate Diploma in Accounting from Deakin University.\\n\\n', 'source': 'Rectifier_Technologies.txt', 'company_name': 'Rectifier Technologies Ltd', 'topic': 0.0, 'category': 'companies'}, {'chunk_text': '\\n\\n## Meetings of directors\\nBoard of Directors Meetings Attendance (year ended 30 June 2022):\\n\\nMr. Ying Ming Wang:\\n- Full Board: Attended 4 of 4\\n- Audit and Risk Committee: Attended 1 of 1\\n\\nMr. Yanbin Wang:\\n- Full Board: Attended 4 of 4\\n- Audit and Risk Committee: Attended 1 of 1\\n\\nMr. Valentino Vescovi:\\n- Full Board: Attended 4 of 4\\n- Audit and Risk Committee: Attended 1 of 1\\n\\nMr. Nigel Machin:\\n- Full Board: Attended 4 of 4\\n- Audit and Risk Committee: Attended 1 of 1\\n\\n', 'source': 'Rectifier_Technologies.txt', 'company_name': 'Rectifier Technologies Ltd', 'topic': 0.0, 'category': 'companies'}, {'chunk_text': '\\n\\n## Remuneration report (audited)\\nThe remuneration report details the key management personnel remuneration arrangements for the consolidated entity, in accordance with the requirements of the Corporations Act 2001 and its Regulations.\\n\\nKey management personnel are those persons having authority and responsibility for planning, directing and controlling the activities of the entity, directly or indirectly, including all directors.\\n\\nThe remuneration report is set out under the following main headings:\\nPrinciples used to determine the nature and amount of remuneration\\nDetails of remuneration\\nService agreements\\nShare-based compensation\\nAdditional information\\nAdditional disclosures relating to key management personnel\\n\\n', 'source': 'Rectifier_Technologies.txt', 'company_name': 'Rectifier Technologies Ltd', 'topic': 0.0, 'category': 'companies'}, {'chunk_text': \"\\n\\n## Principles used to determine the nature and amount of remuneration \\nThe objective of the consolidated entity's executive reward framework is to ensure reward for performance is competitive and appropriate for the results delivered. The framework aligns executive reward with the achievement of strategic objectives and the creation of value for shareholders, and it is considered to conform to the market best practice for the delivery of reward. The Board of Directors ('the Board') ensures that executive reward satisfies the following key criteria for good reward governance practices:\\ncompetitiveness and reasonableness;\\nacceptability to shareholders;\\nperformance linkage/alignment of executive compensation; and\\ntransparency.\\n\\nThe Board is responsible for determining and reviewing remuneration arrangements for its directors and executives. The performance of the consolidated entity depends on the quality of its directors and executives. The remuneration philosophy is to attract, motivate and retain high-performance and high-quality personnel.\\n\\n\", 'source': 'Rectifier_Technologies.txt', 'company_name': 'Rectifier Technologies Ltd', 'topic': 0.0, 'category': 'companies'}, {'chunk_text': \"\\n\\nThe reward framework is designed to align executive reward to shareholders' interests. The Board has considered that it should seek to enhance shareholders' interests by:\\nhaving economic profit as a core component of plan design;\\nfocusing on sustained growth in shareholder wealth, consisting of dividends and growth in share price, and delivering \\nconstant or increasing return on assets as well as focusing the executive on key non-financial drivers of value; and\\nattracting and retaining high calibre executives.\\n\\nAdditionally, the reward framework should seek to enhance executives' interests by:\\nrewarding capability and experience\\nreflecting competitive reward for contribution to growth in shareholder wealth\\nproviding a clear structure for earning rewards\\n\\nIn accordance with best practice corporate governance, the remuneration structure of non-executive director and executive director is separate.\\n\\n\", 'source': 'Rectifier_Technologies.txt', 'company_name': 'Rectifier Technologies Ltd', 'topic': 0.0, 'category': 'companies'}, {'chunk_text': \"\\n\\n## Non-executive directors' remuneration\\nThe Board's policy is to remunerate non-executive directors at market rates for comparable companies for time, commitment and responsibilities. The Board determines payments to the non- executive directors and reviews their remuneration annually, based on market practice, duties and accountability. Independent external advice is sought when required. The maximum aggregate amount of fees that can be paid to non-executive directors is subject to approval by shareholders at the Annual General Meeting. Fees for non-executive directors are not linked to the performance of the consolidated entity.\\n\\nASX listing rules require the aggregate non-executive directors' remuneration to be determined periodically by a general meeting. The most recent determination was at the Annual General Meeting held on 25 January 2022, where the shareholders approved a maximum annual aggregate remuneration of $32,760.\\n\\n\", 'source': 'Rectifier_Technologies.txt', 'company_name': 'Rectifier Technologies Ltd', 'topic': 0.0, 'category': 'companies'}, {'chunk_text': \"\\n\\n## Executive remuneration\\nThe consolidated entity aims to reward executives based on their position and responsibility, with a level and mix of remuneration which has both fixed and variable components.\\n\\nThe executive remuneration and reward framework has four components:\\nbase pay and non-monetary benefits;\\nshort-term performance incentives;\\nshare-based payments; and\\nother remuneration such as superannuation and long service leave.\\n\\nThe combination of these comprises the executive's total remuneration. Fixed remuneration, consisting of base salary, superannuation and non-monetary benefits, is reviewed annually by the Board \\nbased on individual and business unit performance, the overall performance of the consolidated entity and comparable market remunerations.\\n\\nExecutives may receive their fixed remuneration in the form of cash or other fringe benefits (for example motor vehicle benefits), which does not create any additional costs to the consolidated entity and provides additional value to the executive.\\n\\nThe short-term incentives ('STI') program is designed to align the targets of the business units with the performance hurdles of executives. STI payments are granted to executives based on specific annual targets and key performance indicators ('KPI's') being achieved. KPI's include profit contribution, customer satisfaction, leadership contribution and product management.\\n\\nThe long-term incentives ('LTI') include long service leave and share-based payments. Shares are awarded to executives in accordance with performance guidelines established by the Board. These include increase in shareholders' value relative to the entire market and the increase compared to the consolidated entity's direct competitors. The Board reviewed the long-term equity-linked performance incentives specifically for executives during the year ended 30 June 2022.\\n\\n\", 'source': 'Rectifier_Technologies.txt', 'company_name': 'Rectifier Technologies Ltd', 'topic': 0.0, 'category': 'companies'}, {'chunk_text': \"\\n\\n## Consolidated entity performance and link to remuneration\\nAs part of each executive director and executive’s remuneration package there may be a performance-based component, consisting of key performance indicators (KPI’s). The intention of this program is to facilitate goal congruence between directors/executives with that of the business and shareholders. Where applicable, the KPI’s are set annually, with a certain level of consultation with directors/executives to ensure buy-in. The measures are specifically tailored to the areas each director/executive is involved in and has a level of control over. The KPI’s target areas the Board believes hold greater potential for the consolidated entity expansion and profit, covering financial and non-financial as well as short-term and long-term goals. The level set for each KPI is based on budgeted figures for the consolidated entity and respective industry standards.\\n\\nPerformance in relation to the KPI’s is assessed annually, with bonuses being awarded depending on the number and deemed difficulty of the KPI’s achieved. Following the assessment, the KPI’s are reviewed by the Board in light of the desired and actual outcomes, and their efficiency is assessed in relation to the consolidated entity’s goals and shareholder wealth before the KPI’s are set for the following year.\\n\\nIn determining whether or not a KPI has been achieved, Rectifier Technologies Ltd bases the assessment on audited figures; however, where the KPI involves comparison of individual performance within the consolidated entity, management reports which form the foundation for the consolidated entity audited results are used.\\n\\nRefer to the section 'Additional information' below for details of the earnings and total shareholders return for the last five years.\\n\\n\", 'source': 'Rectifier_Technologies.txt', 'company_name': 'Rectifier Technologies Ltd', 'topic': 0.0, 'category': 'companies'}, {'chunk_text': \"\\n\\n## Use of remuneration consultants\\nDuring the financial year ended 30 June 2022, the consolidated entity, did not engage any remuneration consultants.\\n\\nVoting and comments made at the Company's 30 June 2021 Annual General Meeting ('AGM')\\nAt the 25 January 2022 AGM, 99.77% of the votes received supported the adoption of the remuneration report for the year ended 30 June 2021. The Company did not receive any specific feedback at the AGM regarding its remuneration practices.\\n\\n\", 'source': 'Rectifier_Technologies.txt', 'company_name': 'Rectifier Technologies Ltd', 'topic': -1.0, 'category': 'companies'}, {'chunk_text': '\\n\\n# Details of remuneration\\n\\n## Amounts of remuneration\\nDetails of the remuneration of key management personnel of the consolidated entity are set out in the following tables.\\n\\nThe key management personnel of the consolidated entity consisted of the following directors of Rectifier Technologies Ltd:\\nMr. Ying Ming Wang - Chairman – Non-Executive\\nMr. Yanbin Wang - Director – Executive and Chief Executive Officer \\nMr. Valentino Vescovi - Director – Non-Executive\\nMr. Nigel Machin - Director – Executive and Head of Power Engineering\\n\\nAnd the following persons:\\nMr. Paul Davis - Operations Manager – Rectifier Technologies Pacific Pty Ltd\\nMr. Seong Bow Lee - General Manager – Rectifier Technologies (M) Sdn Bhd\\nMr. Nicholas Yeoh - Director of Sales & Market ing – Rectifier Technologies Singapore Pte Ltd\\n\\n', 'source': 'Rectifier_Technologies.txt', 'company_name': 'Rectifier Technologies Ltd', 'topic': 0.0, 'category': 'companies'}, {'chunk_text': '\\n\\nRemuneration - Year 2022:\\n\\nNon-Executive Directors:\\nMr. Ying Ming Wang:\\n- Cash salary and fees: $16,500\\n- Cash bonus: $0\\n- Non-monetary benefits: $0\\n- Superannuation: $0\\n- Long service leave: $0\\n- Total: $16,500\\n\\nMr. Valentino Vescovi:\\n- Cash salary and fees: $11,000\\n- Cash bonus: $0\\n- Non-monetary benefits: $0\\n- Superannuation: $0\\n- Long service leave: $0\\n- Total: $11,000\\n\\nExecutive Directors:\\nMr. Yanbin Wang:\\n- Cash salary and fees: $320,500\\n- Cash bonus: $20,950\\n- Non-monetary benefits: $20,233\\n- Superannuation: $45,648\\n- Long service leave: $0\\n- Total: $407,331\\n\\nMr. Nigel Machin:\\n- Cash salary and fees: $205,449\\n- Cash bonus: $8,352\\n- Non-monetary benefits: $0\\n- Superannuation: $30,980\\n- Long service leave: $6,374\\n- Total: $251,155\\n\\nOther Key Management Personnel:\\nMr. Paul Davis:\\n- Cash salary and fees: $179,920\\n- Cash bonus: $7,322\\n- Non-monetary benefits: $0\\n- Superannuation: $26,374\\n- Long service leave: $5,577\\n- Total: $219,193\\n\\nMr. Seong Bow Lee:\\n- Cash salary and fees: $96,390\\n- Cash bonus: $8,093\\n- Non-monetary benefits: $1,246\\n- Superannuation: $12,827\\n- Long service leave: $0\\n- Total: $118,556\\n\\nMr. Nicholas Yeoh:\\n- Cash salary and fees: $312,281\\n- Cash bonus: $25,663\\n- Non-monetary benefits: $2,096\\n- Superannuation: $0\\n- Long service leave: $0\\n- Total: $340,040\\n\\nTotal Remuneration:\\n- Cash salary and fees: $1,142,040\\n- Cash bonus: $70,380\\n- Non-monetary benefits: $23,575\\n- Superannuation: $115,829\\n- Long service leave: $11,951\\n- Total: $1,363,775\\n\\nThe cash bonus were approved upon payment on 25 February 2022. \\nThe cash bonus is payable at the discretion of the board, equal to an amount of 5-10% of the total salary, subject to \\nachievement of target profit.\\n\\n', 'source': 'Rectifier_Technologies.txt', 'company_name': 'Rectifier Technologies Ltd', 'topic': 0.0, 'category': 'companies'}, {'chunk_text': '\\n\\nShort-term benefits  Post-employment benefits  Long-term benefits\\nRemuneration - Year 2021:\\n\\nNon-Executive Directors:\\nMr. Ying Ming Wang:\\n- Cash salary and fees: $16,500\\n- Cash bonus: $0\\n- Non-monetary benefits: $0\\n- Superannuation: $0\\n- Long service leave: $0\\n- Total: $16,500\\n\\nMr. Valentino Vescovi:\\n- Cash salary and fees: $11,000\\n- Cash bonus: $0\\n- Non-monetary benefits: $0\\n- Superannuation: $0\\n- Long service leave: $0\\n- Total: $11,000\\n\\nExecutive Directors:\\nMr. Yanbin Wang:\\n- Cash salary and fees: $296,182\\n- Cash bonus: $26,801\\n- Non-monetary benefits: $20,230\\n- Superannuation: $43,541\\n- Long service leave: $0\\n- Total: $386,754\\n\\nMr. Nigel Machin:\\n- Cash salary and fees: $187,432\\n- Cash bonus: $12,937\\n- Non-monetary benefits: $0\\n- Superannuation: $29,547\\n- Long service leave: $4,910\\n- Total: $234,826\\n\\nOther Key Management Personnel:\\nMr. Paul Davis:\\n- Cash salary and fees: $158,849\\n- Cash bonus: $18,789\\n- Non-monetary benefits: $0\\n- Superannuation: $23,856\\n- Long service leave: $4,253\\n- Total: $205,747\\n\\nMr. Seong Bow Lee:\\n- Cash salary and fees: $90,110\\n- Cash bonus: $9,676\\n- Non-monetary benefits: $1,250\\n- Superannuation: $12,252\\n- Long service leave: $0\\n- Total: $113,288\\n\\nMr. Nicholas Yeoh:\\n- Cash salary and fees: $288,083\\n- Cash bonus: $23,248\\n- Non-monetary benefits: $1,841\\n- Superannuation: $0\\n- Long service leave: $0\\n- Total: $313,172\\n\\nTotal Remuneration:\\n- Cash salary and fees: $1,048,156\\n- Cash bonus: $91,451\\n- Non-monetary benefits: $23,321\\n- Superannuation: $109,196\\n- Long service leave: $9,163\\n- Total: $1,281,287\\n\\nThe cash bonus were approved upon payment on 29 January 2021. \\n\\n', 'source': 'Rectifier_Technologies.txt', 'company_name': 'Rectifier Technologies Ltd', 'topic': 0.0, 'category': 'companies'}, {'chunk_text': \"\\n\\n# Directors' report\\nProportion of remuneration linked to performance:\\n\\nNon-Executive Directors:\\nMr. Ying Ming Wang:\\n- Fixed remuneration: 2022: 100.00%, 2021: 100.00%\\n- Performance-based remuneration - STI: 2022: 0%, 2021: 0%\\n- Performance-based remuneration - LTI: 2022: 0%, 2021: 0%\\n\\nMr. Valentino Vescovi:\\n- Fixed remuneration: 2022: 100.00%, 2021: 100.00%\\n- Performance-based remuneration - STI: 2022: 0%, 2021: 0%\\n- Performance-based remuneration - LTI: 2022: 0%, 2021: 0%\\n\\nExecutive Directors:\\nMr. Yanbin Wang:\\n- Fixed remuneration: 2022: 94.86%, 2021: 93.07%\\n- Performance-based remuneration - STI: 2022: 5.14%, 2021: 6.93%\\n- Performance-based remuneration - LTI: 2022: 0%, 2021: 0%\\n\\nMr. Nigel Machin:\\n- Fixed remuneration: 2022: 96.67%, 2021: 94.49%\\n- Performance-based remuneration - STI: 2022: 3.33%, 2021: 5.51%\\n- Performance-based remuneration - LTI: 2022: 0%, 2021: 0%\\n\\nOther Key Management Personnel:\\nMr. Paul Davis:\\n- Fixed remuneration: 2022: 96.66%, 2021: 90.87%\\n- Performance-based remuneration - STI: 2022: 3.34%, 2021: 9.13%\\n- Performance-based remuneration - LTI: 2022: 0%, 2021: 0%\\n\\nMr. Seong Bow Lee:\\n- Fixed remuneration: 2022: 93.17%, 2021: 91.46%\\n- Performance-based remuneration - STI: 2022: 6.83%, 2021: 8.54%\\n- Performance-based remuneration - LTI: 2022: 0%, 2021: 0%\\n\\nMr. Nicholas Yeoh:\\n- Fixed remuneration: 2022: 92.45%, 2021: 92.58%\\n- Performance-based remuneration - STI: 2022: 7.55%, 2021: 7.42%\\n- Performance-based remuneration - LTI: 2022: 0%, 2021: 0%\\n\\n\", 'source': 'Rectifier_Technologies.txt', 'company_name': 'Rectifier Technologies Ltd', 'topic': 0.0, 'category': 'companies'}, {'chunk_text': '\\n\\n# Service agreements\\nThe employment conditions of the CEO and specified executives  are formalised in contracts of employment and all contracts \\nrequire 4 weeks’ notice, with no termination payments specified other than employee entitlements.\\n\\n# Share-based compensation\\n\\n## Issue of shares\\nThere were no shares issued to directors and other key management personnel as part of compensation during the year \\nended 30 June 2022.\\n\\n## Options\\nThere were no options over ordinary shares issued to directors and other key management personnel as part of \\ncompensation that were outstanding as at 30 June 2022.\\n\\nThere were no options over ordinary shares granted to or vested by directors and other key management personnel as part \\nof compensation during the year ended 30 June 2022.\\n\\n', 'source': 'Rectifier_Technologies.txt', 'company_name': 'Rectifier Technologies Ltd', 'topic': 0.0, 'category': 'companies'}, {'chunk_text': '\\n\\nEarnings of the consolidated entity (5 years to 30 June 2022):\\n\\nRevenue (Including discontinued operation):\\n- 2022: AUD 16,303,329\\n- 2021: AUD 13,266,295\\n- 2020: AUD 16,734,759\\n- 2019: AUD 18,874,493\\n- 2018: AUD 7,834,710\\n\\nNet Profit/(Loss):\\n- 2022: AUD 491,955\\n- 2021: AUD 540,379\\n- 2020: AUD 1,821,638\\n- 2019: AUD 2,127,038\\n- 2018: AUD 62,442\\n\\n', 'source': 'Rectifier_Technologies.txt', 'company_name': 'Rectifier Technologies Ltd', 'topic': 6.0, 'category': 'companies'}, {'chunk_text': '\\n\\nFactors affecting Total Shareholder Return (TSR):\\n\\nShare price at financial year end (cents per share):\\n- 2022: 4.00\\n- 2021: 2.80\\n- 2020: 3.80\\n- 2019: 4.60\\n- 2018: 2.60\\n\\nChanges in share price (cents):\\n- 2022: +1.20\\n- 2021: -1.00\\n- 2020: -0.80\\n- 2019: +2.00\\n- 2018: +0.90\\n\\nTotal dividends paid (cents per share):\\n- 2022: 0\\n- 2021: 0.10\\n- 2020: 0\\n- 2019: 0\\n- 2018: 0\\n\\n', 'source': 'Rectifier_Technologies.txt', 'company_name': 'Rectifier Technologies Ltd', 'topic': 5.0, 'category': 'companies'}, {'chunk_text': \"\\n\\n# Directors' report\\n\\n# Additional disclosures relating to key management personnel\\n\\n## Shareholding\\n\\nShareholding movements during the financial year:\\n\\nMr. Ying Ming Wang:\\n- Balance at start of year: 224,643,616\\n- Received as part of remuneration: 0\\n- Additions: 0\\n- Disposals/other: 0\\n- Balance at end of year: 224,643,616\\n\\nMr. Yanbin Wang:\\n- Balance at start of year: 70,000,000\\n- Received as part of remuneration: 0\\n- Additions: 0\\n- Disposals/other: 0\\n- Balance at end of year: 70,000,000\\n\\nMr. Valentino Vescovi:\\n- Balance at start of year: 37,640,000\\n- Received as part of remuneration: 0\\n- Additions: 0\\n- Disposals/other: -600,000\\n- Balance at end of year: 37,040,000\\n\\nMr. Nigel Machin:\\n- Balance at start of year: 22,010,000\\n- Received as part of remuneration: 0\\n- Additions: 0\\n- Disposals/other: 0\\n- Balance at end of year: 22,010,000\\n\\nMr. Paul Davis:\\n- Balance at start of year: 5,000,000\\n- Received as part of remuneration: 0\\n- Additions: 0\\n- Disposals/other: 0\\n- Balance at end of year: 5,000,000\\n\\nMr. Seong Bow Lee:\\n- Balance at start of year: 2,767,550\\n- Received as part of remuneration: 0\\n- Additions: 0\\n- Disposals/other: 0\\n- Balance at end of year: 2,767,550\\n\\nMr. Nicholas Yeoh:\\n- Balance at start of year: 20,500,000\\n- Received as part of remuneration: 0\\n- Additions: 0\\n- Disposals/other: 0\\n- Balance at end of year: 20,500,000\\n\\nTotal:\\n- Balance at start of year: 382,561,166\\n- Received as part of remuneration: 0\\n- Additions: 0\\n- Disposals/other: -600,000\\n- Balance at end of year: 381,961,166\\n\\n\", 'source': 'Rectifier_Technologies.txt', 'company_name': 'Rectifier Technologies Ltd', 'topic': 0.0, 'category': 'companies'}, {'chunk_text': '\\n\\n# Option holding\\nOptions over ordinary shares held during the financial year:\\n\\nMr. Ying Ming Wang:\\n- Balance at start of year: 0\\n- Received as part of remuneration: 0\\n- Additions: 0\\n- Disposals/other: 0\\n- Balance at end of year: 0\\n\\nMr. Yanbin Wang:\\n- Balance at start of year: 0\\n- Received as part of remuneration: 0\\n- Additions: 0\\n- Disposals/other: 0\\n- Balance at end of year: 0\\n\\nMr. Valentino Vescovi:\\n- Balance at start of year: 0\\n- Received as part of remuneration: 0\\n- Additions: 0\\n- Disposals/other: 0\\n- Balance at end of year: 0\\n\\nMr. Nigel Machin:\\n- Balance at start of year: 1,800,000\\n- Received as part of remuneration: 0\\n- Additions: 0\\n- Disposals/other: 0\\n- Balance at end of year: 1,800,000\\n\\nMr. Paul Davis:\\n- Balance at start of year: 3,000,000\\n- Received as part of remuneration: 0\\n- Additions: 0\\n- Disposals/other: 0\\n- Balance at end of year: 3,000,000\\n\\nMr. Seong Bow Lee:\\n- Balance at start of year: 3,000,000\\n- Received as part of remuneration: 0\\n- Additions: 0\\n- Disposals/other: 0\\n- Balance at end of year: 3,000,000\\n\\nMr. Nicholas Yeoh:\\n- Balance at start of year: 3,000,000\\n- Received as part of remuneration: 0\\n- Additions: 0\\n- Disposals/other: 0\\n- Balance at end of year: 3,000,000\\n\\nTotal:\\n- Balance at start of year: 10,800,000\\n- Received as part of remuneration: 0\\n- Additions: 0\\n- Disposals/other: 0\\n- Balance at end of year: 10,800,000\\nThis concludes the remuneration report, which has been audited.\\n\\n', 'source': 'Rectifier_Technologies.txt', 'company_name': 'Rectifier Technologies Ltd', 'topic': 0.0, 'category': 'companies'}, {'chunk_text': '\\n\\n# Shares under option\\nUnissued ordinary shares of Rectifier Technologies Ltd under option:\\n\\nGrant Date: June 2003\\n- Expiry Date: No expiry date\\n- Exercise price: $0.020\\n- Number under option: 4,480,000\\n\\nGrant Date: November 2003\\n- Expiry Date: No expiry date\\n- Exercise price: $0.020\\n- Number under option: 8,360,000\\n\\nGrant Date: July 2019\\n- Expiry Date: 13 September 2022\\n- Exercise price: $0.070\\n- Number under option: 34,000,000\\n\\nTotal number under option: 46,840,000\\n\\nNo person entitled to exercise the options had or has any right by virtue of the option to participate in any share issue of the Company or of any other body corporate.\\n\\n', 'source': 'Rectifier_Technologies.txt', 'company_name': 'Rectifier Technologies Ltd', 'topic': 5.0, 'category': 'companies'}, {'chunk_text': '\\n\\n# Shares issued on the exercise of options\\nThere were no ordinary shares of Rectifier Technologies Ltd issued on the exercise of options during the year ended 30 June 2022 and up to the date of this report.\\n\\n', 'source': 'Rectifier_Technologies.txt', 'company_name': 'Rectifier Technologies Ltd', 'topic': -1.0, 'category': 'companies'}, {'chunk_text': '\\n\\n# Indemnity and insurance of officers or auditor\\nThe Company has indemnified the directors and executives of the Company for costs incurred, in their capacity as a director or executive, for which they may be held personally liable, except where there is a lack of good faith.\\n\\nDuring the financial year, the Company has paid premiums to in sure each of the directors and officers against liabilities for costs and expenses incurred by them in defending any legal proceedings arising out of their conduct while acting in the capacity of director or officer of the Company and of any related body corporate, other than conduct involving a wilful breach \\nof duty in relation to the Company. The amount of the premium was $35,960 for all directors and officers\\n\\nThe Company has not otherwise, during or since the end of the financial year, except to the extent permitted by law, indemnified or agreed to indemnify an officer or auditor of the Company or of any related body corporate against a liability incurred as such an officer or an auditor.\\n\\n', 'source': 'Rectifier_Technologies.txt', 'company_name': 'Rectifier Technologies Ltd', 'topic': 0.0, 'category': 'companies'}, {'chunk_text': '\\n\\n# Proceedings on behalf of the Company\\nNo person has applied to the Court under section 237 of the Corp orations Act 2001 for leave to bring proceedings on behalf of the Company, or to intervene in any proceedings to which the Company is a party for the purpose of taking responsibility on behalf of the Company for all or part of those proceedings.\\n\\n', 'source': 'Rectifier_Technologies.txt', 'company_name': 'Rectifier Technologies Ltd', 'topic': -1.0, 'category': 'companies'}, {'chunk_text': '\\n\\n# Non-audit services\\nThere were no non-audit services provided during the financial year by the auditor.\\n\\n', 'source': 'Rectifier_Technologies.txt', 'company_name': 'Rectifier Technologies Ltd', 'topic': -1.0, 'category': 'companies'}, {'chunk_text': '\\n\\n# Officers of the Company who are former partners of Grant Thornton\\nThere are no officers of the Company who are former partners of Grant Thornton.\\n\\n', 'source': 'Rectifier_Technologies.txt', 'company_name': 'Rectifier Technologies Ltd', 'topic': 0.0, 'category': 'companies'}, {'chunk_text': \"\\n\\n# Auditor's independence declaration\\nA copy of the auditor's independence declaration as required under section 307C of the Corporations Act 2001 is set out immediately after this directors' report.\\n\\nThis report is made in accordance with a resolution of directors, pursuant to section 298(2)(a) of the Corporations Act 2001.\\n\\nGrant Thornton\\nGrant Thornton Audit Pty Ltd  \\nLevel 22 Tower 5  \\nCollins Square  \\n727 Collins Street  \\nMelbourne VIC 3008  \\nGPO Box 4736  \\nMelbourne VIC 3001  \\nT +61 3 8320 2222\\n\\n\", 'source': 'Rectifier_Technologies.txt', 'company_name': 'Rectifier Technologies Ltd', 'topic': 1.0, 'category': 'companies'}, {'chunk_text': '\\n\\n# Auditor’s Independence Declaration \\nTo the Directors of Rectifier Technologies Ltd In accordance with the requirements of section 307C of the Corporations Act 2001, as lead auditor for the audit of Rectifier Technologies Ltd for the year ended 30 June 2022, I declare that, to the best of my knowledge and belief, there have been: no contraventions of the auditor independence requirements of the Corporations Act 2001  in relation to the audit; and no contraventions of any applicable code  of professional conduct in relation to the audit. \\n\\n', 'source': 'Rectifier_Technologies.txt', 'company_name': 'Rectifier Technologies Ltd', 'topic': 1.0, 'category': 'companies'}, {'chunk_text': '\\n\\n#Statement of profit or loss and other comprehensive income for the year ended 30 June 2022\\n\\nRevenue (Note 5):\\n- 2022: AUD 14,761,523\\n- 2021: AUD 11,841,712\\n\\nOther Income (Note 6):\\n- 2022: AUD 1,535,954\\n- 2021: AUD 1,415,332\\n\\nInterest Revenue:\\n- 2022: AUD 5,852\\n- 2021: AUD 9,251\\n\\n', 'source': 'Rectifier_Technologies.txt', 'company_name': 'Rectifier Technologies Ltd', 'topic': 6.0, 'category': 'companies'}, {'chunk_text': '\\n\\n# Expenses\\n\\nChanges in inventories of finished goods and work in progress:\\n- 2022: AUD 2,097,687\\n- 2021: AUD (424,565)\\n\\nRaw materials and consumables used:\\n- 2022: AUD (7,656,716)\\n- 2021: AUD (4,022,084)\\n\\nEmployee benefits expense:\\n- 2022: AUD (6,310,321)\\n- 2021: AUD (5,071,148)\\n\\nDepreciation expense (Note 7):\\n- 2022: AUD (607,239)\\n- 2021: AUD (554,839)\\n\\nOther expenses:\\n- 2022: AUD (2,441,741)\\n- 2021: AUD (2,010,880)\\n\\nFinance costs (Note 7):\\n- 2022: AUD (153,125)\\n- 2021: AUD (149,094)\\n\\nProfit before income tax expense:\\n- 2022: AUD 1,231,874\\n- 2021: AUD 1,033,685\\n\\nIncome tax expense (Note 8):\\n- 2022: AUD (739,919)\\n- 2021: AUD (493,306)\\n\\n', 'source': 'Rectifier_Technologies.txt', 'company_name': 'Rectifier Technologies Ltd', 'topic': 2.0, 'category': 'companies'}, {'chunk_text': '\\n\\n# Profit after income tax expense for the year attributable to the owners of Rectifier Technologies Ltd:\\n- 2022: AUD 491,955\\n- 2021: AUD 540,379\\n\\n', 'source': 'Rectifier_Technologies.txt', 'company_name': 'Rectifier Technologies Ltd', 'topic': 6.0, 'category': 'companies'}, {'chunk_text': '\\n\\n# Other comprehensive income\\n\\nForeign currency translation:\\n- 2022: AUD 166,439\\n- 2021: AUD (205,003)\\n\\nOther comprehensive income for the year, net of tax:\\n- 2022: AUD 166,439\\n- 2021: AUD (205,003)\\n\\nOther comprehensive income for the year, net of tax (duplicate row):\\n- 2022: AUD 166,439\\n- 2021: AUD (205,003)\\n\\n', 'source': 'Rectifier_Technologies.txt', 'company_name': 'Rectifier Technologies Ltd', 'topic': 6.0, 'category': 'companies'}, {'chunk_text': '\\n\\n# Total comprehensive income for the year attributable to the owners of \\n\\nRectifier Technologies Ltd:\\n- 2022: AUD 658,394\\n- 2021: AUD 335,376\\n\\nEarnings per share (cents):\\nBasic earnings per share (Note 29):\\n- 2022: 0.04\\n- 2021: 0.04\\n\\nDiluted earnings per share (Note 29):\\n- 2022: 0.03\\n- 2021: 0.04\\n\\nThe above statement of financial position should be read in conjunction with the accompanying notes\\n\\n', 'source': 'Rectifier_Technologies.txt', 'company_name': 'Rectifier Technologies Ltd', 'topic': 6.0, 'category': 'companies'}, {'chunk_text': '\\n\\n# Statement of financial position\\n\\nAssets:\\nCurrent assets:\\n- Cash and cash equivalents (Note 9): 2022: AUD 7,295,534 | 2021: AUD 6,241,106\\n- Trade and other receivables (Note 10): 2022: AUD 2,910,217 | 2021: AUD 1,728,532\\n- Inventories (Note 11): 2022: AUD 5,877,879 | 2021: AUD 1,906,090\\n- Current tax assets (Note 8): 2022: AUD 734,150 | 2021: AUD 1,066,189\\n- Total current assets: 2022: AUD 16,817,780 | 2021: AUD 10,941,917\\n\\nNon-current assets:\\n- Property, plant and equipment (Note 12): 2022: AUD 4,605,248 | 2021: AUD 4,170,591\\n- Right-of-use assets (Note 13): 2022: AUD 886,673 | 2021: AUD 1,154,814\\n- Intangibles (Note 14): 2022: AUD 94,859 | 2021: AUD 106,048\\n- Deferred tax assets (Note 8): 2022: AUD 524,993 | 2021: AUD 464,209\\n- Total non-current assets: 2022: AUD 6,111,773 | 2021: AUD 5,895,662\\n\\nTotal assets: 2022: AUD 22,929,553 | 2021: AUD 16,837,579\\n\\nLiabilities:\\nCurrent liabilities:\\n- Trade and other payables (Note 15): 2022: AUD 5,549,921 | 2021: AUD 2,649,978\\n- Borrowings (Note 16): 2022: AUD 1,122,142 | 2021: AUD 154,710\\n- Lease liabilities (Note 17): 2022: AUD 212,781 | 2021: AUD 295,410\\n- Current tax liabilities (Note 8): 2022: AUD 795,256 | 2021: AUD 934,751\\n- Employee benefits (Note 18): 2022: AUD 933,573 | 2021: AUD 747,547\\n- Total current liabilities: 2022: AUD 8,613,673 | 2021: AUD 4,782,396\\n\\nNon-current liabilities:\\n- Borrowings (Note 16): 2022: AUD 4,151,846 | 2021: AUD 2,439,390\\n- Lease liabilities (Note 17): 2022: AUD 457,534 | 2021: AUD 588,464\\n- Deferred tax liabilities (Note 8): 2022: AUD 295,404 | 2021: AUD 271,675\\n- Employee benefits (Note 18): 2022: AUD 56,389 | 2021: AUD 59,341\\n- Total non-current liabilities: 2022: AUD 4,961,173 | 2021: AUD 3,358,870\\n\\nTotal liabilities: 2022: AUD 13,574,846 | 2021: AUD 8,141,266\\n\\nNet assets: 2022: AUD 9,354,707 | 2021: AUD 8,696,313\\n\\nEquity:\\n- Issued capital (Note 19): 2022: AUD 39,992,575 | 2021: AUD 39,992,575\\n- Reserves (Note 20): 2022: AUD 513,264 | 2021: AUD 466,825\\n- Accumulated losses: 2022: AUD (31,151,132) | 2021: AUD (31,763,087)\\n\\nTotal equity: 2022: AUD 9,354,707 | 2021: AUD 8,696,313\\n\\nThe above statement of financial position should be read in conjunction with the accompanying notes\\n\\n', 'source': 'Rectifier_Technologies.txt', 'company_name': 'Rectifier Technologies Ltd', 'topic': 2.0, 'category': 'companies'}, {'chunk_text': '\\n\\n#Statement of changes in equity 2020\\n\\nBalance at 1 July 2020:\\n- Issued capital: AUD 39,851,775\\n- Reserves: AUD 671,828\\n- Accumulated losses: AUD (30,927,765)\\n- Total equity: AUD 9,595,838\\n\\nProfit after income tax expense for the year:\\n- Issued capital: AUD 0\\n- Reserves: AUD 0\\n- Accumulated losses: AUD 540,379\\n- Total equity: AUD 540,379\\n\\nOther comprehensive income for the year, net of tax:\\n- Issued capital: AUD 0\\n- Reserves: AUD (205,003)\\n- Accumulated losses: AUD 0\\n- Total equity: AUD (205,003)\\n\\nTotal comprehensive income for the year:\\n- Issued capital: AUD 0\\n- Reserves: AUD (205,003)\\n- Accumulated losses: AUD 540,379\\n- Total equity: AUD 335,376\\n\\nTransactions with owners in their capacity as owners:\\nContributions of equity, net of transaction costs (Note 19):\\n- Issued capital: AUD 140,800\\n- Reserves: AUD 0\\n- Accumulated losses: AUD 0\\n- Total equity: AUD 140,800\\n\\nDividends paid (Note 21):\\n- Issued capital: AUD 0\\n- Reserves: AUD 0\\n- Accumulated losses: AUD (1,375,701)\\n- Total equity: AUD (1,375,701)\\n\\nBalance at 30 June 2021:\\n- Issued capital: AUD 39,992,575\\n- Reserves: AUD 466,825\\n- Accumulated losses: AUD (31,763,087)\\n- Total equity: AUD 8,696,313\\n\\nThe above statement of changes in equity should be read in conjunction with the accompanying notes\\n\\n', 'source': 'Rectifier_Technologies.txt', 'company_name': 'Rectifier Technologies Ltd', 'topic': 6.0, 'category': 'companies'}, {'chunk_text': '\\n\\n#Statement of changes in equity 2021\\n\\nBalance at 1 July 2021:\\n- Issued capital: AUD 39,992,575\\n- Reserves: AUD 466,825\\n- Accumulated losses: AUD (31,763,087)\\n- Total equity: AUD 8,696,313\\n\\nProfit after income tax expense for the year:\\n- Issued capital: AUD 0\\n- Reserves: AUD 0\\n- Accumulated losses: AUD 491,955\\n- Total equity: AUD 491,955\\n\\nOther comprehensive income for the year, net of tax:\\n- Issued capital: AUD 0\\n- Reserves: AUD 166,439\\n- Accumulated losses: AUD 0\\n- Total equity: AUD 166,439\\n\\nTotal comprehensive income for the year:\\n- Issued capital: AUD 0\\n- Reserves: AUD 166,439\\n- Accumulated losses: AUD 491,955\\n- Total equity: AUD 658,394\\n\\nTransactions with owners in their capacity as owners:\\nLapsed options transferred to accumulated losses:\\n- Issued capital: AUD 0\\n- Reserves: AUD (120,000)\\n- Accumulated losses: AUD 120,000\\n- Total equity: AUD 0\\n\\nBalance at 30 June 2022:\\n- Issued capital: AUD 39,992,575\\n- Reserves: AUD 513,264\\n- Accumulated losses: AUD (31,151,132)\\n- Total equity: AUD 9,354,707\\n\\nThe above statement of changes in equity should be read in conjunction with the accompanying notes\\n\\n', 'source': 'Rectifier_Technologies.txt', 'company_name': 'Rectifier Technologies Ltd', 'topic': 6.0, 'category': 'companies'}, {'chunk_text': '\\n\\n# Statement of cash flows\\n\\nCash flows from operating activities:\\n- Receipts from customers: 2022: AUD 16,257,817 | 2021: AUD 13,640,920\\n- Payments to suppliers and employees: 2022: AUD (17,230,486) | 2021: AUD (11,515,086)\\n- Government grants (COVID-19): 2022: AUD 0 | 2021: AUD 435,900\\n- Interest received: 2022: AUD 6,091 | 2021: AUD 16,984\\n- Finance costs: 2022: AUD (147,406) | 2021: AUD (149,094)\\n- Income taxes refunded/(paid): 2022: AUD 387,984 | 2021: AUD (832,165)\\n- Net cash from/(used in) operating activities (Note 30): 2022: AUD (726,000) | 2021: AUD 1,597,459\\n\\nCash flows from investing activities:\\n- Payments for property, plant and equipment: 2022: AUD (629,211) | 2021: AUD (570,904)\\n- Proceeds from disposal of property, plant and equipment: 2022: AUD 0 | 2021: AUD 126\\n- Net cash used in investing activities: 2022: AUD (629,211) | 2021: AUD (570,778)\\n\\nCash flows from financing activities:\\n- Proceeds from issue of shares (Note 19): 2022: AUD 0 | 2021: AUD 140,800\\n- Proceeds from borrowings: 2022: AUD 3,000,000 | 2021: AUD 177,617\\n- Dividends paid (Note 21): 2022: AUD 0 | 2021: AUD (1,375,701)\\n- Repayment of borrowings: 2022: AUD (389,096) | 2021: AUD (126,018)\\n- Repayment of lease liabilities: 2022: AUD (317,318) | 2021: AUD (324,456)\\n- Net cash from/(used in) financing activities: 2022: AUD 2,293,586 | 2021: AUD (1,507,758)\\n\\nNet increase/(decrease) in cash and cash equivalents:\\n- 2022: AUD 938,375\\n- 2021: AUD (481,077)\\n\\nCash and cash equivalents at the beginning of the financial year:\\n- 2022: AUD 6,241,106\\n- 2021: AUD 6,873,680\\n\\nEffects of exchange rate changes on cash and cash equivalents:\\n- 2022: AUD 116,053\\n- 2021: AUD (151,497)\\n\\nCash and cash equivalents at the end of the financial year (Note 9):\\n- 2022: AUD 7,295,534\\n- 2021: AUD 6,241,106\\n\\n', 'source': 'Rectifier_Technologies.txt', 'company_name': 'Rectifier Technologies Ltd', 'topic': 2.0, 'category': 'companies'}, {'chunk_text': \"\\n\\n# Notes to the financial statements\\n\\n# Note 1. General information\\nThe financial statements cover Rectifier Technologies Ltd as a consolidated entity consisting of Rectifier Technologies Ltd and the entities it controlled at the end of, or during, the year. The financial statements are presented in Australian dollars, which is Rectifier Technologies Ltd's functional and presentation currency. Rectifier Technologies Ltd is a listed public company limited by shares, incorporated and domiciled in Australia. Its registered office and principal place of business is: 97 Highbury Road, Burwood, VIC 3125. A description of the nature of the consolidated entity's operations and its principal activities are included in the directors' report, which is not part of the financial statements. The financial statements were authorised for issue, in accordance with a resolution of directors, on 30 September 2022. The directors have the power to amend and reissue the financial statements.\\n\\n\", 'source': 'Rectifier_Technologies.txt', 'company_name': 'Rectifier Technologies Ltd', 'topic': 1.0, 'category': 'companies'}, {'chunk_text': '\\n\\n# Note 2. Significant accounting policies\\nThe principal accounting policies adopted in the preparation of the financial statements are set out below. These policies have been consistently applied to all the years presented, unless otherwise stated.\\n\\n', 'source': 'Rectifier_Technologies.txt', 'company_name': 'Rectifier Technologies Ltd', 'topic': 3.0, 'category': 'companies'}, {'chunk_text': \"\\n\\n## New or amended Accounting Standards and Interpretations adopted\\nThe consolidated entity has adopted all of the new or amended Accounting Standards and Interpretations issued by the Australian Accounting Standards Board ('AASB') that are mandatory for the current reporting period. Any new or amended Accounting Standards or Interpretations that are not yet mandatory have not been early adopted.\\n\\n\", 'source': 'Rectifier_Technologies.txt', 'company_name': 'Rectifier Technologies Ltd', 'topic': 3.0, 'category': 'companies'}, {'chunk_text': '\\n\\n## Going concern\\nThe financial report has been prepared on the basis of the Group continuing as a going concern, which assumes continuity of normal business activities and realisation of assets and the settlement of liabilities in the ordinary course of business.\\n\\n', 'source': 'Rectifier_Technologies.txt', 'company_name': 'Rectifier Technologies Ltd', 'topic': -1.0, 'category': 'companies'}, {'chunk_text': \"\\n\\n## Basis of preparation\\nThese general purpose financial statements have been prepared  in accordance with Australian Accounting Standards and Interpretations issued by the Australian Accounting Standards Board ('AASB') and the Corporations Act 2001, as appropriate for for-profit oriented entities. These financial statements also comply with International Financial Reporting Standards as issued by the International Accounting Standards Board ('IASB').\\n\\n\", 'source': 'Rectifier_Technologies.txt', 'company_name': 'Rectifier Technologies Ltd', 'topic': 3.0, 'category': 'companies'}, {'chunk_text': '\\n\\n## Historical cost convention\\nThe financial statements have been prepared under the historical cost convention.\\n\\n', 'source': 'Rectifier_Technologies.txt', 'company_name': 'Rectifier Technologies Ltd', 'topic': 4.0, 'category': 'companies'}, {'chunk_text': \"\\n\\n## Critical accounting estimates\\nThe preparation of the financial statements requires the use of certain critical accounting estimates. It also requires management to exercise its judgement in the process of applying the consolidated entity's accounting policies. The areas involving a higher degree of judgement or complexity, or areas where assumptions and estimates are significant to the financial statements, are disclosed in note 3.\\n\\n\", 'source': 'Rectifier_Technologies.txt', 'company_name': 'Rectifier Technologies Ltd', 'topic': -1.0, 'category': 'companies'}, {'chunk_text': '\\n\\n## Parent entity information\\nIn accordance with the Corporations Act 2001, these financial statements present the results of the consolidated entity only. Supplementary information about the parent entity is disclosed in note 33.\\n\\n', 'source': 'Rectifier_Technologies.txt', 'company_name': 'Rectifier Technologies Ltd', 'topic': 1.0, 'category': 'companies'}, {'chunk_text': \"\\n\\n## Principles of consolidation\\nThe consolidated financial statements incorporate the assets and li abilities of all subsidiaries of Rectifier Technologies Ltd ('Company' or 'parent entity') as at 30 June 2022 and the results of all subsidiaries for the year ended. Rectifier Technologies Ltd and its subsidiaries together are referred to in these financial statements as the 'consolidated entity'. Subsidiaries are all those entities over which the consolidated entity has control. The consolidated entity controls an entity when the consolidated entity is exposed to, or has rights to, variable returns from its involvement with the entity and has the ability to affect those returns through its power to direct the activities of the entity. Subsidiaries are fully consolidated from the date on which control is transferred to the consolidated entity. They are de-consolidated from the date that control ceases. Intercompany transactions, balances and unrealised gains on transactions between entities in the consolidated entity are eliminated. Unrealised losses are also eliminated unless the transaction provides evidence of the impairment of the asset transferred. Accounting policies of subsidiaries have been changed where necessary to ensure consistency with the policies adopted by the consolidated entity. The acquisition of subsidiaries is accounted for using the acquisition method of accounting. A change in ownership interest, without the loss of control, is accounted for as an equity transaction, where the difference between the consideration \\ntransferred and the book value of the share of the non-controlling interest acquired is recognised directly in equity attributable to the parent. Where the consolidated entity loses control over a subsidiary, it derecognises the assets including goodwill, liabilities and non-controlling interest in the subsidiary together with any cumulative translation differences recognised in equity. The consolidated entity recognises the fair value of the consideration received and the fair value of any investment retained together with any gain or loss in profit or loss.\\n\\n\", 'source': 'Rectifier_Technologies.txt', 'company_name': 'Rectifier Technologies Ltd', 'topic': 1.0, 'category': 'companies'}, {'chunk_text': \"\\n\\n## Operating segments\\nOperating segments are presented using the 'management approach', where the information presented is on the same basis as the internal reports provided to the Chief Operating Decision Makers ('CODM'). The CODM is responsible for the allocation of resources to operating segments and assessing their performance.\\n\\n\", 'source': 'Rectifier_Technologies.txt', 'company_name': 'Rectifier Technologies Ltd', 'topic': -1.0, 'category': 'companies'}, {'chunk_text': \"\\n\\n## Foreign currency translation\\nThe financial statements are presented in Australian dollars, which is Rectifier Technologies Ltd's functional and presentation currency. Foreign currency transactions are translated into the entity’s functional currency using the exchange rates prevailing at the dates of the transactions. Foreign exchange gains and losses resulting from the settlement of such transactions and from \\nthe translation at financial year-end exchange rates of monetary assets and liabilities denominated in foreign currencies are recognised in profit or loss. The assets and liabilities of foreign operations are translated into Australian dollars using the exchange rates at the reporting date. The revenues and expenses of foreign operations are translated into Australian dollars using the average exchange rates, which approximate the rates at the dates of the transactions for the period. All resulting foreign exchange differences are recognised in other comprehensive income through the foreign currency reserve in equity. The foreign currency reserve is recognised in profit or loss when the foreign operation or net investment is disposed of.\\n\\n\", 'source': 'Rectifier_Technologies.txt', 'company_name': 'Rectifier Technologies Ltd', 'topic': -1.0, 'category': 'companies'}, {'chunk_text': \"\\n\\n## Revenue recognition\\nThe consolidated entity recognises revenue as follows: revenue from contracts with customers, sale of goods, other revenue, and interest.\\nRevenue from contracts with customers is recognised at an amount that reflects the consideration to which the consolidated entity is expected to be entitled in exchange for transferring goods or services to a customer. For each contract with a customer, the consolidated entity: identifies the contract with a customer; identifies the performance obligations in the contract; determines the transaction price which takes into account estimates of variable consideration and the time value of money; allocates the transaction price to the separate performance obligations on the basis of the relative  stand-alone selling price of each distinct good or service to be delivered; and recognises revenue when or as each performance obligation is satisfied in a manner that depicts the transfer to the customer of the goods or services promised. Variable consideration within the transaction price, if any, reflects concessions provided to the customer such as discounts, rebates and refunds, any potential bonuses receivable from the customer and any other contingent events. Such estimates are determined using either the 'expected value' or 'most likely  amount' method. The measurement of variable consideration is subject to a constraining principle whereby revenue will only be recognised to the extent that it is highly probable that a significant reversal in the amount of cumulative revenue recognised will not occur. The measurement constraint continues until the uncertainty associated with the variable consideration is subsequently resolved. Amounts received that are subject to the constraining principle are recognised as a refund liability. Sale of goods or revenue from the sale of power rectifiers and the related after-sales services is recognised at the point in time when the consolidated entity satisfies performance obligations by transferring the promised products and services, which is generally at the time of delivery. The consolidated entity recognises contract liabilities for consideration received in respect of unsatisfied performance obligations and reports these amounts as other liabilities in the statement of financial position. Similarly, if the consolidated entity satisfies a performance obligation before it receives the consideration, the consolidated entity recognises either a contract asset or a receivable in its statement of financial position, depending on whether something other than the passage of time is required before the consideration is due. Other revenue is recognised when it is received or when the right to receive payment is established. Interest revenue is recognised as interest accrued using the effective interest method. This is a method of calculating the amortised cost of a financial asset and allocating the interest in come over the relevant period using the effective interest rate, which is the rate that exactly discounts estimated future cash receipts through the expected life of the financial asset to the net carrying amount of the financial asset.\\n\\n\", 'source': 'Rectifier_Technologies.txt', 'company_name': 'Rectifier Technologies Ltd', 'topic': 4.0, 'category': 'companies'}, {'chunk_text': \"\\n\\n## Income tax\\nThe income tax expense or benefit for the period is the tax payable on that period's taxable income based on the applicable income tax rate for each jurisdiction, adjusted by the changes in deferred tax assets and liabilities attributable to temporary differences, unused tax losses and the adjustment recognised for prior periods, where applicable. Deferred tax assets and liabilities are recognised for temporary differences at the tax rates expected to be applied when the assets are recovered or liabilities are settled, based on those tax rates that are enacted or substantively enacted, except for: (1) when the deferred income tax asset or liability arises from the initial recognition of goodwill or an asset or liability in a transaction that is not a business combination and that, at the time of the transaction, affects neither the accounting nor taxable profits; or (2) when the taxable temporary difference is associated with interests in subsidiaries, associates or joint ventures, and the timing of the reversal can be controlled and it is probable that the temporary difference will not reverse in the foreseeable future. Deferred tax assets are recognised for deductible temporary differences and unused tax losses only if it is probable that future taxable amounts will be available to utilise those temporary differences and losses. The carrying amount of recognised and unrecognised deferred tax assets are reviewed at each reporting date. Deferred tax assets recognised are reduced to the extent that it is no longer  probable that future taxable profits will be available for the carrying amount to be recovered. Previously unrecognised deferred tax assets are recognised to the extent that it is probable that there are future taxable profits available to recover the asset. Deferred tax assets and liabilities are offset only where there is a legally enforceable right to offset current tax assets against current tax liabilities and deferred tax assets against deferred tax liabilities; and they relate to the same taxable authority on either the same taxable entity or different tax able entities which intend to settle simultaneously. Rectifier Technologies Ltd (the 'head entity') and its wholly-owned Australian subsidiaries have formed an income tax consolidated group under the tax consolidation regime. The head entity and each subsidiary in the tax consolidated group continue to account for their own current and deferred tax amounts. The tax consolidated group has applied the 'separate taxpayer within group' approach in determining the appropriate amount of taxes to allocate to members of the tax consolidated group. In addition to its own current and deferred tax amounts, the head entity also recognises the current tax liabilities (or assets) and the deferred tax assets arising from unused tax losses and unused tax credits assumed from each subsidiary in the tax consolidated group. Assets or liabilities arising under tax funding agreements with the tax consolidated entities are recognised as amounts receivable from or payable to other entities in the tax consolidated group. The tax funding arrangement ensures that the intercompany charge equals the current tax liability or benefit of each tax consolidated group member, resulting in neither a contribution by the head entity to the subsidiaries nor a distribution by the subsidiaries to the head entity.\\n\\n\", 'source': 'Rectifier_Technologies.txt', 'company_name': 'Rectifier Technologies Ltd', 'topic': 4.0, 'category': 'companies'}, {'chunk_text': \"\\n\\n## Current and non-current classification\\nAssets and liabilities are presented in the statement of financial position based on current and non-current classification. An asset is classified as current when: it is either expected to be realised or intended to be sold or consumed in the consolidated entity's normal operating cycle; it is held primarily for the purpose of trading; it is expected to be realised within 12 months after the reporting period, or the asset is cash or cash equivalent unless restricted from being exchanged or used to settle a liability for at least 12 months after the reporting period. All other assets are classified as non-current. A liability is classified as current when: it is either expected to be settled in the consolidated entity's normal operating cycle; it is held primarily for the purpose of trading; it is due to  be settled within 12 months after the reporting period, or there is no unconditional right to defer the settlement of the liability for at least 12 months after the reporting period. All other liabilities are classified as non-current. Deferred tax assets and liabilities are always classified as non-current.\\n\\n\", 'source': 'Rectifier_Technologies.txt', 'company_name': 'Rectifier Technologies Ltd', 'topic': 4.0, 'category': 'companies'}, {'chunk_text': '\\n\\n## Cash and cash equivalents\\nCash and cash equivalents include cash on hand, deposits held at call with financial institutions, other short-term, highly liquid investments with original maturities of three months or less that are readily convertible to known amounts of cash and which are subject to an insignificant risk of changes in value.\\n\\n', 'source': 'Rectifier_Technologies.txt', 'company_name': 'Rectifier Technologies Ltd', 'topic': 4.0, 'category': 'companies'}, {'chunk_text': '\\n\\n## Trade and other receivables\\nTrade receivables are initially recognised at fair value and subsequently measured at amortised cost using the effective interest method, less any allowance for expected credit losses. Trade receivables are generally due for settlement within 30 days. The consolidated entity has applied the simplified approach to measuring expected credit losses, which uses a lifetime expected loss allowance. To measure the expected credit losses, trade receivables have been grouped based on days overdue. Other receivables are recognised at amortised cost, less any allowance for expected credit losses.\\n\\n', 'source': 'Rectifier_Technologies.txt', 'company_name': 'Rectifier Technologies Ltd', 'topic': 4.0, 'category': 'companies'}, {'chunk_text': \"\\n\\n## Inventories\\nRaw materials, work in progress and finished goods are stated at the lower of cost and net realisable value on a 'weighted average' basis. Cost comprises of direct materials and deliver y costs, direct labour, import duties and other taxes, an appropriate proportion of variable and fixed overhead expenditure based on normal operating capacity, and, where applicable, transfers from cash flow hedging reserves in equity. Costs of purchased inventory are determined after deducting rebates and discounts received or receivable. Stock in transit is stated at the lower of cost and net realisable value. Cost comprises of purchase and delivery costs, net of rebates and discounts received or receivable. Net realisable value is the estimated selling price in the ordinary course of business less the estimated costs of completion and the estimated costs necessary to make the sale.\\n\\n\", 'source': 'Rectifier_Technologies.txt', 'company_name': 'Rectifier Technologies Ltd', 'topic': 4.0, 'category': 'companies'}, {'chunk_text': '\\n\\n## Property, plant and equipment\\nFreehold land is stated at historical cost and is not depreciated but is subject to impairment testing if there is any indication of impairment. Building and plant and equipment are stated at historical cost less accumulated depreciation and impairment. Historical cost includes expenditure that is directly attributable to the acquisition of the items.\\nDepreciation is calculated on a straight-line basis to write off the net cost of each item of property, plant and equipment (excluding land) over their expected useful lives as follows:\\n- Building: 50 years\\n- Leasehold improvement: 10 years\\n- Plant and equipment: 2.5–5 years\\n- Motor vehicle: 5 years\\nThe residual values, useful lives and depreciation methods are reviewed, and adjusted if appropriate, at each reporting date. Leasehold improvements are depreciated over the unexpired period of the lease or the estimated useful life of the assets, whichever is shorter. An item of property, plant and equipment is derecognised upon disposal or when there is no future economic benefit to the consolidated entity. Gains and losses between the carrying amount and the disposal proceeds are taken to profit or loss.\\n\\n', 'source': 'Rectifier_Technologies.txt', 'company_name': 'Rectifier Technologies Ltd', 'topic': 4.0, 'category': 'companies'}, {'chunk_text': '\\n\\n## Right-of-use assets\\nA right-of-use asset is recognised at the commencement date of a lease. The right-of-use asset is measured at cost, which comprises the initial amount of the lease liability, adjusted for, as applicable, any lease payments made at or before the commencement date net of any lease incentives received, any initial direct costs incurred, and, except where included in the cost of inventories, an estimate of costs expected to be incurred for dismantling and removing the underlying asset, and restoring the site or asset. Right-of-use assets are depreciated on a straight-line basis over the unexpired period of the lease or the estimated useful life of the asset, whichever is shorter. Where the consolidated entity expects to obtain ownership of the leased asset at the end of the lease term, the depreciation is over its estimated useful life. Right-of-use assets are subject to impairment or adjusted for any remeasurement of lease liabilities.\\nThe consolidated entity has elected not to recognise a right-of-use asset and corresponding lease liability for short-term leases with terms of 12 months or less and leases of low-value assets. Lease payments on these assets are expensed to profit or loss as incurred.\\n\\n', 'source': 'Rectifier_Technologies.txt', 'company_name': 'Rectifier Technologies Ltd', 'topic': 4.0, 'category': 'companies'}, {'chunk_text': '\\n\\n## Intangible assets. Research and development\\nResearch costs are expensed in the period in which they are incurred. Development costs are capitalised when: it is probable that the project will be a success considering its commercial and technical feasibility; the consolidated entity is able to use or sell the asset; the consolidated entity has sufficient resources and intent to complete the development; and its costs can \\nbe measured reliably. Capitalised development costs are amortised on a straight-line basis over the period of their expected benefit, being their finite life of 10 years.\\n\\n', 'source': 'Rectifier_Technologies.txt', 'company_name': 'Rectifier Technologies Ltd', 'topic': 4.0, 'category': 'companies'}, {'chunk_text': \"\\n\\n## Impairment of non-financial assets\\nNon-financial assets are reviewed for impairment whenever events or changes in circumstances indicate that the carrying amount may not be recoverable. An impairment loss is recognised for the amount by which the asset's carrying amount exceeds its recoverable amount. Recoverable amount is the higher of an asset's fair value less costs of disposal and value-in-use. The value-in-use is the present value of the estimated future cash flows relating to the asset using a pre-tax discount rate specific to the asset or cash-generating unit to which the asset belongs. Assets that do not have independent cash flows are grouped together to form a cash-generating unit.\\n\\n\", 'source': 'Rectifier_Technologies.txt', 'company_name': 'Rectifier Technologies Ltd', 'topic': 4.0, 'category': 'companies'}, {'chunk_text': '\\n\\n## Trade and other payables\\nTrade and other payables represent liabilities for goods and services provided to the consolidated entity prior to the end of the financial year and which are unpaid. Due to their short-term nature, they are measured at amortised cost and are not discounted. The amounts are unsecured and are usually paid within 30 days of recognition.\\n\\n', 'source': 'Rectifier_Technologies.txt', 'company_name': 'Rectifier Technologies Ltd', 'topic': 4.0, 'category': 'companies'}, {'chunk_text': '\\n\\n## Borrowings\\nLoans and borrowings are initially recognised at the fair value of the consideration received, net of transaction costs. They are subsequently measured at amortised cost using the effective interest method.\\n\\n', 'source': 'Rectifier_Technologies.txt', 'company_name': 'Rectifier Technologies Ltd', 'topic': 4.0, 'category': 'companies'}, {'chunk_text': \"\\n\\n## Lease liabilities\\nA lease liability is recognised at the commencement date of a lease. The lease liability is initially recognised at the present value of the lease payments to be made over the term of the lease,  discounted using the interest rate implicit in the lease or, if that rate cannot be readily determined, the consolidated entity's incremental borrowing rate. Lease payments comprise of fixed payments less any lease incentives receivable, variable lease payments that depend on an index or a rate, amounts expected to be paid under residual value guarantees, exercise price of a purchase option when the exercise of the option is reasonably certain to occur, and any anticipated termination penal ties. The variable lease payments that do not depend on an index or a rate are expensed in the period in which they are incurred. Lease liabilities are measured at amortised cost using the effective interest method. The carrying amounts are remeasured if there is a change in the following: future lease payments arising from a change in an index or a rate used; residual guarantee; lease term; the certainty of a purchase option and termination penalties. When a lease liability is remeasured, an adjustment is made to the corresponding right-of use asset, or to profit or loss if the carrying amount of the right-of-use asset is fully written down.\\n\\n\", 'source': 'Rectifier_Technologies.txt', 'company_name': 'Rectifier Technologies Ltd', 'topic': 4.0, 'category': 'companies'}, {'chunk_text': '\\n\\n## Finance costs\\nFinance costs attributable to qualifying assets are capitalised as part of the asset. All other finance costs are expensed in the period in which they are incurred.\\n\\n', 'source': 'Rectifier_Technologies.txt', 'company_name': 'Rectifier Technologies Ltd', 'topic': 4.0, 'category': 'companies'}, {'chunk_text': '\\n\\n## Employee benefits\\nFor short-term employee benefits Liabilities for wages and salaries, including non-monetary benefits, annual leave and long service leave expected to be settled wholly within 12 months of the reporting date are measured at the amounts expected to be paid when the liabilities are settled. Other long-term employee benefits: the liability for annual leave and long service leave not expected to be settled within 12 months of the reporting date are measured at the present value of expected future payments to be made in respect of services provided by employees up to the reporting date. Consideration is given to expected future wage and salary levels, the experience of employee departures and periods of service. Expected future payments are discounted using market yields at the reporting date on high-quality corporate bonds with terms to maturity and currency that match, as closely as possible, the estimated future cash outflows. Defined contribution superannuation expense: contributions to defined contribution superannuation plans are expensed in the period in which they are incurred. Share-based payments: equity-settled share-based compensation benefits are provided to employees, equity-settled transactions are awards of shares, or options over shares, that are provided to employees in exchange for the rendering of services. The cost of equity-settled transactions are measured at fair value on grant date. Fair value is independently determined using the Black-Scholes option pricing model that takes into account the exercise price, the term of the option, the impact of dilution, the share price at grant date and expected price volatility of the underlying share, the expected dividend yield and the risk free interest rate for the term of the option, together with non-vesting conditions that do not determine whether the consolidated entity receives the services that entitle the employees to receive payment. No account is taken of any other vesting conditions. The cost of equity-settled transactions are recognised as an  expense with a corresponding increase in equity at the vesting date which is at the grant date. The cumulative charge to profit or loss is calculated based on the grant date fair value of the award, the best estimate of the number of awards that are likely to vest and the expired portion of the vesting period. The amount recognised in profit or loss for the period is the cumulative amount calculated at each reporting date less amounts already recognised in previous periods. If equity-settled awards are modified, as a minimum an expense is recognised as if the modification has not been made. An additional expense is recognised, over the remaining vesting period, for any modification that increases the total fair value of the share-based compensation benefit as at the date of modification. If the non-vesting condition is within the control of the consolidated entity or employee, the failure to satisfy the condition is treated as a cancellation. If the condition is not within the control of the consolidated entity or employee and is not satisfied during the vesting period, any remaining expense for the award is recognised over the remaining vesting period, unless the award is forfeited. If equity-settled awards are cancelled, it is treated as if it has vested on the date of cancellation, and any remaining expense is recognised immediately. If a new replacement award is substituted for the cancelled award, the cancelled and new award is treated as if they were a modification.\\n\\n', 'source': 'Rectifier_Technologies.txt', 'company_name': 'Rectifier Technologies Ltd', 'topic': 0.0, 'category': 'companies'}, {'chunk_text': '\\n\\n## Issued capital\\nOrdinary shares are classified as equity. Incremental costs directly attributable to the issue of new shares or options are shown in equity as a deduction, net of tax, from the proceeds.\\n\\n', 'source': 'Rectifier_Technologies.txt', 'company_name': 'Rectifier Technologies Ltd', 'topic': -1.0, 'category': 'companies'}, {'chunk_text': '\\n\\n## Dividends\\nDividends are recognised when declared during the financial year and no longer at the discretion of the Company.\\n\\n', 'source': 'Rectifier_Technologies.txt', 'company_name': 'Rectifier Technologies Ltd', 'topic': -1.0, 'category': 'companies'}, {'chunk_text': '\\n\\n## Earnings per share\\nBasic earnings per share is calculated by dividing the profit attributable to the owners of Rectifier Technologies Ltd, excluding any costs of servicing equity other than ordinary shares, by the weighted average number of ordinary shares outstanding during the financial year, adjusted for bonus elements in ordinary shares issued during the financial year. Diluted earnings per share adjusts the figures used in the determination of basic earnings per share to take into account the after income tax effect of interest and other financing costs associated with dilutive potential ordinary shares and the weighted average number of additional ordinary shares that would have been outstanding assuming conversion of all dilutive potential ordinary shares.\\n\\n', 'source': 'Rectifier_Technologies.txt', 'company_name': 'Rectifier Technologies Ltd', 'topic': -1.0, 'category': 'companies'}, {'chunk_text': \"\\n\\n## Goods and Services Tax ('GST') and other similar taxes\\nRevenues, expenses and assets are recognised net of the amount of associated GST, unless the GST incurred are not recoverable from the tax authority. In this case, it is recognised as part of the cost of the acquisition of the asset or as part of the expense. Receivables and payables are stated inclusive of the amount of GST receivable or payable. The net amount of GST recoverable from, or payable to, the tax authority is included in other receivables or other payables in the statement of financial position. Cash flows are presented on a gross basis. The GST components of cash flows arising from investing or financing activities which are recoverable from, or payable to the tax authority, are presented as operating cash flows. Commitments and contingencies are disclosed net of the amount of GST recoverable from, or payable to, the tax authority.\\n\\n\", 'source': 'Rectifier_Technologies.txt', 'company_name': 'Rectifier Technologies Ltd', 'topic': 4.0, 'category': 'companies'}, {'chunk_text': '\\n\\n## New Accounting Standards and Interpretations not yet mandatory or early adopted\\nAustralian Accounting Standards and Interpretations that have recently been issued or amended but are not yet mandatory, have not been early adopted by the consolidated entity for the annual reporting period ended 30 June 2022. The consolidated entity has not yet assessed the impact of these new or amended Accounting Standards and Interpretations.\\n\\n', 'source': 'Rectifier_Technologies.txt', 'company_name': 'Rectifier Technologies Ltd', 'topic': 3.0, 'category': 'companies'}, {'chunk_text': '\\n\\n# Note 3. Critical accounting judgements, estimates and assumptions\\nThe preparation of the financial statements requires management to make judgements, estimates and assumptions that affect the reported amounts in the financial statements. Management continually evaluates its judgements and estimates in relation to assets, liabilities, contingent liabilities, revenue  and expenses. Management bases its judgements, estimates and assumptions on historical experience and on other various fact ors, including expectations of future events, management believes to be reasonable under the circumstances. The resulting accounting judgements and estimates will seldom equal the related actual results. The judgements, estimates and assumptions that have a significant risk of causing a material adjustment to the carrying amounts of assets and liabilities (refer to the respective notes) within the next financial year are discussed below.\\n\\n', 'source': 'Rectifier_Technologies.txt', 'company_name': 'Rectifier Technologies Ltd', 'topic': 3.0, 'category': 'companies'}, {'chunk_text': '\\n\\n## Provision for impairment of inventories\\nThe provision for impairment of inventories assessment requires a degree of estimation and judgement. The level of the provision is assessed by taking into account the recent sales experience, the ageing of inventories and other factors that affect inventory obsolescence.\\n\\n', 'source': 'Rectifier_Technologies.txt', 'company_name': 'Rectifier Technologies Ltd', 'topic': 4.0, 'category': 'companies'}, {'chunk_text': '\\n\\n## R & D tax rebate\\nThe consolidated entity has recognised the R&D rebate on an accrual basis. As the return has not yet been submitted, the consolidated entity has made an estimate of the likely refund amount based on the preliminary number provided by external tax consultant.\\n\\n', 'source': 'Rectifier_Technologies.txt', 'company_name': 'Rectifier Technologies Ltd', 'topic': -1.0, 'category': 'companies'}, {'chunk_text': \"\\n\\n## Income tax\\nThe consolidated entity is subject to income taxes in the jurisdictions in which it operates. Significant judgement is required in determining the provision for income tax. There are many transactions and calculations undertaken during the ordinary course of business for which the ultimate tax determination is uncertain. The consolidated entity recognises liabilities for anticipated tax audit issues based on the consolidated entity's current understanding of the tax law. Where the final tax outcome of these matters is different from the carrying amounts, such differences will impact the current and deferred tax provisions in the period in which such determination is made.\\n\\n\", 'source': 'Rectifier_Technologies.txt', 'company_name': 'Rectifier Technologies Ltd', 'topic': -1.0, 'category': 'companies'}, {'chunk_text': \"\\n\\n# Note 4. Operating segments\\n## Identification of reportable operating segments\\nThe consolidated entity is organised into 4 operating segments as described below. These operating segments are based on the internal reports that are reviewed and used by the executive management committee (who are identified as the Chief Operating Decision Makers ('CODM')) in assessing performance and in determining the allocation of resources. The executive management committee considers the business from both a product and geographic perspective and assesses performance and allocates resources on this basis. There is no aggregation of operating segments.\\n\\nBusiness Segments:\\n\\nElectronic Components:\\nUnder this segment, Rectifier Technologies Pacific Pty Ltd and Rectifier Technologies Malaysia Sdn Bhd, which is based in Malaysia, manufacture electronic components for a number of industries.\\n\\nIndustrial Power Supplies (E&D):\\nUnder this segment, Rectifier Technologies Pacific Pty Ltd and Rectifier Technologies Malaysia Sdn Bhd manufacture and distribute rectifiers, controllers, accessories, and complete systems for the power generation, distribution industries, and defence. Rectifier Technologies Singapore Pte Ltd only focuses on distribution.\\n\\nIndustrial Power Supplies (T&T):\\nUnder this segment, Rectifier Technologies Pacific Pty Ltd and Rectifier Technologies Malaysia Sdn Bhd manufacture and distribute power supplies for the transport industries and telecommunications. Rectifier Technologies Singapore Pte Ltd only focuses on distribution.\\n\\nIndustrial Power Supplies (EV):\\nUnder this segment, Rectifier Technologies Pacific Pty Ltd, Rectifier Technologies Singapore Pte Ltd, and Rectifier Technologies Malaysia Sdn Bhd manufacture and distribute electric vehicle chargers, battery chargers, and power supplies for a number of industries. Rectifier Technologies Singapore Pte Ltd only focuses on distribution.\\n\\n\", 'source': 'Rectifier_Technologies.txt', 'company_name': 'Rectifier Technologies Ltd', 'topic': -1.0, 'category': 'companies'}, {'chunk_text': \"\\n\\nThe CODM reviews earnings before interest, tax, depreciation and amortisation ('EBITDA'). This measure excludes non-recurring expenditures such as restructuring costs, impairments and share-based payments as well as interest revenue and interest expense and other items which are considered part of the corporate treasury function. The accounting policies adopted for internal reporting to the CODM are consistent with those adopted in  the financial statements. The information reported to the CODM is on a monthly basis. Refer to note 5 for geographic information.\\n## Intersegment transactions\\nIntersegment transactions were made at market rates. Inter-segment revenue comprises sales between segments which are on arm's length terms. Intersegment transactions are eliminated on consolidation.\\n## Intersegment receivables, payables and loans\\nIntersegment loans are initially recognised at the consideration received. Intersegment loans receivable and loans payable that earn or incur non-market interest are not adjusted to fair value based on market interest rates. Intersegment loans are eliminated on consolidation.\\n## Major customers\\nDuring the year ended 30 June 2022, the revenue of $10,562,830 (2021: $6,513,519) and $944,754 (2021: $1,164,100) were derived from two Australian customers, which are allocated to the Industrial Power Supplies (EV) and Industrial Power Supplies (E&D) segments respectively. Revenue of $1,482,138 (2021: $1,301,035) was derived from a single (2021: single) customer in Singapore under the Industrial Power Supplies (E&D) segment.\\n\\n\", 'source': 'Rectifier_Technologies.txt', 'company_name': 'Rectifier Technologies Ltd', 'topic': -1.0, 'category': 'companies'}, {'chunk_text': '\\n\\nOperating segment information - Consolidated 2022 (AUD):\\n\\nRevenue:\\n- Sales to external customers:\\n  - Electronic components: 209,004\\n  - Industrial power supplies (E&D): 3,305,291\\n  - Industrial power supplies (T&T): 622,739\\n  - Industrial power supplies (EV): 10,810,151\\n  - Corporate: 0\\n  - Total: 14,947,185\\n\\n- Intersegment sales:\\n  - Electronic components: 28,241\\n  - Industrial power supplies (E&D): 1,629,441\\n  - Industrial power supplies (T&T): 398,885\\n  - Industrial power supplies (EV): 8,608,629\\n  - Corporate: (10,665,196)\\n  - Total: 0\\n\\n- Total revenue:\\n  - Electronic components: 237,245\\n  - Industrial power supplies (E&D): 4,934,732\\n  - Industrial power supplies (T&T): 1,021,624\\n  - Industrial power supplies (EV): 19,418,780\\n  - Corporate: (10,665,196)\\n  - Total: 14,947,185\\n\\nEBITDA:\\n- Electronic components: 10,681\\n- Industrial power supplies (E&D): 168,920\\n- Industrial power supplies (T&T): 31,826\\n- Industrial power supplies (EV): 552,465\\n- Corporate: 1,228,346\\n- Total: 1,992,238\\n\\nDepreciation and amortisation:\\n- Electronic components: (305,349)\\n- Industrial power supplies (E&D): (54,555)\\n- Industrial power supplies (T&T): (8,285)\\n- Industrial power supplies (EV): (239,050)\\n- Corporate: 0\\n- Total: (607,239)\\n\\nFinance costs:\\n- Electronic components: (172,100)\\n- Industrial power supplies (E&D): (5,963)\\n- Industrial power supplies (T&T): (765)\\n- Industrial power supplies (EV): (30,397)\\n- Corporate: 56,100\\n- Total: (153,125)\\n\\nProfit/(loss) before income tax expense:\\n- Electronic components: (466,768)\\n- Industrial power supplies (E&D): 108,402\\n- Industrial power supplies (T&T): 22,776\\n- Industrial power supplies (EV): 283,018\\n- Corporate: 1,284,446\\n- Total: 1,231,874\\n\\nIncome tax expense:\\n- Corporate: (739,919)\\n\\nProfit after income tax expense:\\n- Total: 491,955\\n\\nAssets:\\n- Segment assets:\\n  - Electronic components: 351,462\\n  - Industrial power supplies (E&D): 5,558,200\\n  - Industrial power supplies (T&T): 1,047,201\\n  - Industrial power supplies (EV): 18,178,424\\n  - Corporate: (2,205,734)\\n  - Total: 22,929,553\\n\\nLiabilities:\\n- Segment liabilities:\\n  - Electronic components: 222,148\\n  - Industrial power supplies (E&D): 3,513,169\\n  - Industrial power supplies (T&T): 661,904\\n  - Industrial power supplies (EV): 11,490,028\\n  - Corporate: (2,312,403)\\n  - Total: 13,574,846\\n\\n', 'source': 'Rectifier_Technologies.txt', 'company_name': 'Rectifier Technologies Ltd', 'topic': 6.0, 'category': 'companies'}, {'chunk_text': '\\n\\nOperating segment information - Consolidated 2021 (AUD):\\n\\nRevenue:\\n- Sales to external customers:\\n  - Electronic components: 249,272\\n  - Industrial power supplies (E&D): 3,733,729\\n  - Industrial power supplies (T&T): 1,857,809\\n  - Industrial power supplies (EV): 7,418,493\\n  - Corporate: 0\\n  - Total: 13,259,303\\n\\n- Intersegment sales:\\n  - Electronic components: 8,209\\n  - Industrial power supplies (E&D): 1,374,832\\n  - Industrial power supplies (T&T): 1,439,791\\n  - Industrial power supplies (EV): 4,838,330\\n  - Corporate: (7,661,162)\\n  - Total: 0\\n\\n- Total revenue:\\n  - Electronic components: 257,481\\n  - Industrial power supplies (E&D): 5,108,561\\n  - Industrial power supplies (T&T): 3,297,600\\n  - Industrial power supplies (EV): 12,256,823\\n  - Corporate: (7,661,162)\\n  - Total: 13,259,303\\n\\nEBITDA:\\n- Electronic components: 24,444\\n- Industrial power supplies (E&D): 366,139\\n- Industrial power supplies (T&T): 182,182\\n- Industrial power supplies (EV): 727,476\\n- Corporate: 437,377\\n- Total: 1,737,618\\n\\nDepreciation and amortisation:\\n- Electronic components: (198,982)\\n- Industrial power supplies (E&D): (138,247)\\n- Industrial power supplies (T&T): (27,363)\\n- Industrial power supplies (EV): (190,247)\\n- Corporate: 0\\n- Total: (554,839)\\n\\nFinance costs:\\n- Electronic components: (85,174)\\n- Industrial power supplies (E&D): (35,524)\\n- Industrial power supplies (T&T): (7,856)\\n- Industrial power supplies (EV): (28,180)\\n- Corporate: 7,640\\n- Total: (149,094)\\n\\nProfit/(loss) before income tax expense:\\n- Electronic components: (259,712)\\n- Industrial power supplies (E&D): 192,368\\n- Industrial power supplies (T&T): 146,963\\n- Industrial power supplies (EV): 509,049\\n- Corporate: 445,017\\n- Total: 1,033,685\\n\\nIncome tax expense:\\n- Corporate: (493,306)\\n\\nProfit after income tax expense:\\n- Total: 540,379\\n\\nAssets:\\n- Segment assets:\\n  - Electronic components: 348,457\\n  - Industrial power supplies (E&D): 5,219,368\\n  - Industrial power supplies (T&T): 2,597,026\\n  - Industrial power supplies (EV): 10,370,288\\n  - Corporate: (1,697,560)\\n  - Total: 16,837,579\\n\\nLiabilities:\\n- Segment liabilities:\\n  - Electronic components: 180,070\\n  - Industrial power supplies (E&D): 2,697,172\\n  - Industrial power supplies (T&T): 1,342,045\\n  - Industrial power supplies (EV): 5,358,973\\n  - Corporate: (1,436,994)\\n  - Total: 8,141,266\\n\\n', 'source': 'Rectifier_Technologies.txt', 'company_name': 'Rectifier Technologies Ltd', 'topic': 6.0, 'category': 'companies'}, {'chunk_text': '\\n\\n## Geographical information\\n\\nSales to external customers:\\n- Australia: 2022: AUD 12,218,517 | 2021: AUD 5,655,250\\n- Asia: 2022: AUD 1,643,041 | 2021: AUD 1,540,462\\n- North America: 2022: AUD 553,077 | 2021: AUD 1,745,298\\n- South America: 2022: AUD 17,353 | 2021: AUD 68,713\\n- Europe: 2022: AUD 303,920 | 2021: AUD 2,810,016\\n- Oceania: 2022: AUD 25,615 | 2021: AUD 21,972\\n\\nNon-current assets:\\n- Australia: 2022: AUD 986,901 | 2021: AUD 1,136,777\\n- Asia: 2022: AUD 4,505,020 | 2021: AUD 4,188,626\\n- North America: 2022: AUD 0 | 2021: AUD 0\\n- South America: 2022: AUD 0 | 2021: AUD 0\\n- Europe: 2022: AUD 0 | 2021: AUD 0\\n- Oceania: 2022: AUD 0 | 2021: AUD 0\\n\\nTotal:\\n- Sales to external customers: 2022: AUD 14,761,523 | 2021: AUD 11,841,711\\n- Non-current assets: 2022: AUD 5,491,921 | 2021: AUD 5,325,403\\n\\nThe geographical non-current assets above are exclusive of, where applicable, financial instruments, deferred tax assets, post-employment benefits assets and rights under insurance contracts.\\n\\n', 'source': 'Rectifier_Technologies.txt', 'company_name': 'Rectifier Technologies Ltd', 'topic': 6.0, 'category': 'companies'}, {'chunk_text': '\\n\\n# Note 5. Revenue\\nDisaggregation of revenue from contracts with customers:\\n\\nRevenue by geographical region:\\n- Australia: 2022: AUD 12,218,517 | 2021: AUD 5,655,250\\n- Asia: 2022: AUD 1,643,041 | 2021: AUD 1,540,462\\n- North America: 2022: AUD 553,077 | 2021: AUD 1,745,298\\n- South America: 2022: AUD 17,353 | 2021: AUD 68,713\\n- Europe: 2022: AUD 303,920 | 2021: AUD 2,810,016\\n- Oceania: 2022: AUD 25,615 | 2021: AUD 21,973\\n- Total: 2022: AUD 14,761,523 | 2021: AUD 11,841,712\\n\\nRevenue by timing of recognition:\\n- Goods transferred at a point in time: 2022: AUD 14,761,523 | 2021: AUD 11,841,712\\n\\n', 'source': 'Rectifier_Technologies.txt', 'company_name': 'Rectifier Technologies Ltd', 'topic': 6.0, 'category': 'companies'}, {'chunk_text': '\\n\\n# Note 6. Other income\\nResearch and development tax rebate:\\n- 2022: AUD 1,055,657\\n- 2021: AUD 877,691\\n\\nGovernment grants (COVID-19):\\n- 2022: AUD 38,851\\n- 2021: AUD 435,900\\n\\nForeign exchange gain:\\n- 2022: AUD 392,791\\n- 2021: AUD 0\\n\\nOther:\\n- 2022: AUD 48,655\\n- 2021: AUD 101,741\\n\\nTotal other income:\\n- 2022: AUD 1,535,954\\n- 2021: AUD 1,415,332\\n\\n', 'source': 'Rectifier_Technologies.txt', 'company_name': 'Rectifier Technologies Ltd', 'topic': 6.0, 'category': 'companies'}, {'chunk_text': '\\n\\n# Note 7. Expenses\\nProfit before income tax includes the following specific expenses:\\n\\nCost of sales:\\n- 2022: AUD 7,352,827\\n- 2021: AUD 5,799,730\\n\\nDepreciation:\\n- Building: 2022: AUD 8,801 | 2021: AUD 8,821\\n- Leasehold improvement: 2022: AUD 30,113 | 2021: AUD 36,749\\n- Plant and equipment: 2022: AUD 316,386 | 2021: AUD 263,433\\n- Motor vehicle: 2022: AUD 2,284 | 2021: AUD 0\\n- Building right-of-use assets: 2022: AUD 164,106 | 2021: AUD 157,808\\n- Plant and equipment right-of-use assets: 2022: AUD 72,855 | 2021: AUD 73,017\\n- Motor vehicle right-of-use assets: 2022: AUD 12,694 | 2021: AUD 15,011\\n- Total depreciation: 2022: AUD 607,239 | 2021: AUD 554,839\\n\\nFinance costs:\\n- Interest and finance charges paid/payable on borrowings: 2022: AUD 104,930 | 2021: AUD 86,269\\n- Interest and finance charges paid/payable on lease liabilities: 2022: AUD 48,195 | 2021: AUD 62,825\\n- Finance costs expensed: 2022: AUD 153,125 | 2021: AUD 149,094\\n\\nForeign exchange loss:\\n- 2022: AUD 0\\n- 2021: AUD 457,220\\n\\nSuperannuation expense:\\n- Defined contribution superannuation expense: 2022: AUD 609,388 | 2021: AUD 515,573\\n\\nResearch costs:\\n- 2022: AUD 2,380,792\\n- 2021: AUD 1,983,728\\n\\n', 'source': 'Rectifier_Technologies.txt', 'company_name': 'Rectifier Technologies Ltd', 'topic': 6.0, 'category': 'companies'}, {'chunk_text': '\\n\\n# Note 8. Income tax\\n\\nIncome tax expense:\\n\\nCurrent tax:\\n- 2022: AUD 776,974\\n- 2021: AUD 608,499\\n\\nDeferred tax – origination and reversal of temporary differences:\\n- 2022: AUD (37,055)\\n- 2021: AUD (115,193)\\n\\nAggregate income tax expense:\\n- 2022: AUD 739,919\\n- 2021: AUD 493,306\\n\\nNumerical reconciliation of income tax expense and tax at the statutory rate:\\n\\nProfit before income tax expense:\\n- 2022: AUD 1,231,874\\n- 2021: AUD 1,033,685\\n\\nTax at the statutory tax rate:\\n- 2022: 25% → AUD 307,969\\n- 2021: 26% → AUD 268,758\\n\\nTax effect amounts which are not deductible/(taxable):\\n- Research and development expenditures:\\n  - 2022: AUD 6,826\\n  - 2021: AUD 515,769\\n- Controlled foreign company attributed income:\\n  - 2022: AUD 595,198\\n  - 2021: AUD 129,068\\n- Other non-allowable items:\\n  - 2022: AUD 195,127\\n  - 2021: AUD 41,697\\n- Foreign tax offset:\\n  - 2022: AUD 55,022\\n  - 2021: AUD 28,313\\n- Other non-assessable items:\\n  - 2022: AUD (420,223)\\n  - 2021: AUD (490,299)\\n\\nIncome tax expense:\\n- 2022: AUD 739,919\\n- 2021: AUD 493,306\\n\\n', 'source': 'Rectifier_Technologies.txt', 'company_name': 'Rectifier Technologies Ltd', 'topic': 6.0, 'category': 'companies'}, {'chunk_text': '\\n\\nThe corporate tax rate applicable to base rate entities reduces from 27.5% to 26% for the 2020-21 income year and further reduces to 25% prospectively from the 2021-22 income year. The Company qualifies as a base rate entity as it has a turnover of less than $50 million and less than 80% of its assessable income is derived from base rate entity passive income. The Company has remeasured its deferred tax balances, and any unrecognised potential tax benefits arising from carried forward tax losses, based on the effective tax rate that is expected to apply in the year the temporary differences are expected to reverse or benefits from tax losses realised. The impact of the change in tax rate on deferred tax balances has been included as a reconciling item in table above in profit or loss or as an adjustment to equity to the extent to which the deferred tax relates to items previously recognised outside profit or loss.\\n\\nTax losses not recognised:\\n\\nUnused tax losses for which no deferred tax asset has been recognised:\\n- 2022: AUD 18,409,592\\n- 2021: AUD 18,409,592\\n\\nPotential tax benefit at statutory tax rates:\\n- 2022: AUD 4,602,398\\n- 2021: AUD 4,602,398\\n\\nThe above potential tax benefit for tax losses has not been recognised in the statement of financial position. These tax losses  \\ncan only be utilised in the future if the continuity of ownership test is passed, or failing that, the same business test is passed.\\n\\n', 'source': 'Rectifier_Technologies.txt', 'company_name': 'Rectifier Technologies Ltd', 'topic': 6.0, 'category': 'companies'}, {'chunk_text': '\\n\\nNet deferred tax assets:\\n\\nEmployee benefits:\\n- 2022: AUD 201,832\\n- 2021: AUD 171,344\\n\\nAccrued expenses:\\n- 2022: AUD 87,407\\n- 2021: AUD 197,616\\n\\nInventories:\\n- 2022: AUD 146,133\\n- 2021: AUD 92,734\\n\\nUnrealised foreign exchange losses:\\n- 2022: AUD (54,626)\\n- 2021: AUD 48,938\\n\\nProperty, plant and equipment:\\n- 2022: AUD (151,157)\\n- 2021: AUD (318,098)\\n\\nDeferred tax asset (total):\\n- 2022: AUD 229,589\\n- 2021: AUD 192,534\\n\\nMovements in deferred tax asset:\\n- Opening balance:\\n  - 2022: AUD 192,534\\n  - 2021: AUD 77,341\\n- Credited to profit or loss:\\n  - 2022: AUD 37,055\\n  - 2021: AUD 115,193\\n- Closing balance:\\n  - 2022: AUD 229,589\\n  - 2021: AUD 192,534\\n\\nCurrent tax assets:\\n- 2022: AUD 734,150\\n- 2021: AUD 1,066,189\\n\\nCurrent tax liabilities:\\n- 2022: AUD 795,256\\n- 2021: AUD 934,751\\n\\n', 'source': 'Rectifier_Technologies.txt', 'company_name': 'Rectifier Technologies Ltd', 'topic': 6.0, 'category': 'companies'}, {'chunk_text': '\\n\\n# Note 9. Cash and cash equivalents\\n\\nCash and cash equivalents:\\n\\nCurrent assets:\\n- Cash at bank:\\n  - 2022: AUD 7,295,534\\n  - 2021: AUD 6,241,106\\n\\n', 'source': 'Rectifier_Technologies.txt', 'company_name': 'Rectifier Technologies Ltd', 'topic': 2.0, 'category': 'companies'}, {'chunk_text': '\\n\\n# Note 10. Trade and other receivables\\n\\nTrade and other receivables:\\n\\nCurrent assets:\\n- Trade receivables:\\n  - 2022: AUD 891,338\\n  - 2021: AUD 514,635\\n\\n- Other receivables:\\n  - 2022: AUD 46,687\\n  - 2021: AUD 216,338\\n\\n- Research and development tax incentives:\\n  - 2022: AUD 1,035,645\\n  - 2021: AUD 862,922\\n\\n- Prepayments:\\n  - 2022: AUD 936,547\\n  - 2021: AUD 134,637\\n\\nSubtotal:\\n- 2022: AUD 1,972,192\\n- 2021: AUD 997,559\\n\\nTotal current assets:\\n- 2022: AUD 2,910,217\\n- 2021: AUD 1,728,532\\n\\n', 'source': 'Rectifier_Technologies.txt', 'company_name': 'Rectifier Technologies Ltd', 'topic': 2.0, 'category': 'companies'}, {'chunk_text': '\\n\\n## Allowance for expected credit losses\\nThe consolidated entity has recognised a loss of $nil (2021: $nil) in profit or loss in respect of the expected credit losses for the year ended 30 June 2022. The ageing of the receivables and allowance for expected credit losses provided for above are as follows:\\n\\n- Not overdue:\\n  - 2022: AUD 868,229\\n  - 2021: AUD 425,008\\n\\n- 0 to 3 months overdue:\\n  - 2022: AUD 9,900\\n  - 2021: AUD 71,113\\n\\n- Over 3 months overdue:\\n  - 2022: AUD 13,209\\n  - 2021: AUD 18,514\\n\\nTotal:\\n- 2022: AUD 891,338\\n- 2021: AUD 514,635\\n   \\nPayment terms on receivables past due but not considered impaired have not been re-negotiated. The consolidated entity has been in direct contact with the relevant customers and are reasonably satisfied that payment will be received in full. The consolidated entity estimate of impairment losses is based on the expected credit loss.\\n\\n', 'source': 'Rectifier_Technologies.txt', 'company_name': 'Rectifier Technologies Ltd', 'topic': -1.0, 'category': 'companies'}, {'chunk_text': '\\n\\n# Note 11. Inventories\\nCurrent assets:\\n- Raw materials:\\n  - 2022: AUD 3,574,937\\n  - 2021: AUD 1,700,837\\n\\n- Finished goods and work in progress:\\n  - 2022: AUD 1,220,126\\n  - 2021: AUD (78,347)\\n\\n- Stock in transit:\\n  - 2022: AUD 1,082,816\\n  - 2021: AUD 283,600\\n\\nTotal current assets:\\n- 2022: AUD 5,877,879\\n- 2021: AUD 1,906,090\\n\\n', 'source': 'Rectifier_Technologies.txt', 'company_name': 'Rectifier Technologies Ltd', 'topic': 2.0, 'category': 'companies'}, {'chunk_text': '\\n\\n# Note 12. Property, plant and equipment\\nNon-current assets – Property, Plant & Equipment:\\n\\nLand (at cost):\\n- 2022: AUD 2,207,392\\n- 2021: AUD 2,146,230\\n\\nBuilding:\\n- At cost:\\n  - 2022: AUD 1,493,058\\n  - 2021: AUD 1,369,567\\n- Less: Accumulated depreciation:\\n  - 2022: AUD (1,085,057)\\n  - 2021: AUD (964,230)\\n- Net book value:\\n  - 2022: AUD 408,001\\n  - 2021: AUD 405,337\\n\\nLeasehold improvement:\\n- At cost:\\n  - 2022: AUD 235,873\\n  - 2021: AUD 216,441\\n- Less: Accumulated depreciation:\\n  - 2022: AUD (99,486)\\n  - 2021: AUD (69,398)\\n- Net book value:\\n  - 2022: AUD 136,387\\n  - 2021: AUD 147,043\\n\\nPlant and equipment:\\n- At cost:\\n  - 2022: AUD 3,655,900\\n  - 2021: AUD 2,047,266\\n- Less: Accumulated depreciation:\\n  - 2022: AUD (1,805,507)\\n  - 2021: AUD (580,330)\\n- Net book value:\\n  - 2022: AUD 1,850,393\\n  - 2021: AUD 1,466,936\\n\\nMotor vehicle:\\n- At cost:\\n  - 2022: AUD 132,493\\n  - 2021: AUD 50,200\\n- Less: Accumulated depreciation:\\n  - 2022: AUD (129,418)\\n  - 2021: AUD (45,155)\\n- Net book value:\\n  - 2022: AUD 3,075\\n  - 2021: AUD 5,045\\n\\nTotal non-current assets:\\n- 2022: AUD 4,605,248\\n- 2021: AUD 4,170,591\\n\\n', 'source': 'Rectifier_Technologies.txt', 'company_name': 'Rectifier Technologies Ltd', 'topic': 2.0, 'category': 'companies'}, {'chunk_text': '\\n\\nReconciliations of the written down values at the beginning and end of the current and previous financial year.\\nMovement in property, plant & equipment (Consolidated):\\n\\nBalance at 1 July 2020:\\n- Land: AUD 2,280,963\\n- Building: AUD 614,492\\n- Leasehold improvement: AUD 183,792\\n- Plant and equipment: AUD 1,159,365\\n- Motor vehicle: AUD 0\\n- Total: AUD 4,238,612\\n\\nMovements during 2021:\\n- Additions:\\n  - Plant and equipment: AUD 466,451\\n- Disposals:\\n  - Plant and equipment: AUD (106)\\n- Exchange differences:\\n  - Land: AUD (134,733)\\n  - Building: AUD (200,334)\\n  - Plant and equipment: AUD 104,659\\n  - Total: AUD (230,408)\\n- Transfer from ROUA:\\n  - Motor vehicle: AUD 5,045\\n- Depreciation expense:\\n  - Building: AUD (8,821)\\n  - Leasehold improvement: AUD (36,749)\\n  - Plant and equipment: AUD (263,433)\\n  - Total: AUD (309,003)\\n\\nBalance at 30 June 2021:\\n- Land: AUD 2,146,230\\n- Building: AUD 405,337\\n- Leasehold improvement: AUD 147,043\\n- Plant and equipment: AUD 1,466,936\\n- Motor vehicle: AUD 5,045\\n- Total: AUD 4,170,591\\n\\nMovements during 2022:\\n- Additions:\\n  - Building: AUD 11,465\\n  - Leasehold improvement: AUD 19,540\\n  - Plant and equipment: AUD 574,423\\n  - Total: AUD 605,428\\n- Disposals:\\n  - Leasehold improvement: AUD (83)\\n  - Plant and equipment: AUD (48,060)\\n  - Total: AUD (48,143)\\n- Exchange differences:\\n  - Land: AUD 61,162\\n  - Plant and equipment: AUD 44,772\\n  - Motor vehicle: AUD 122\\n  - Total: AUD 106,056\\n- Transfer from ROUA:\\n  - Plant and equipment: AUD 128,708\\n  - Motor vehicle: AUD 192\\n  - Total: AUD 128,900\\n- Depreciation expense:\\n  - Building: AUD (8,801)\\n  - Leasehold improvement: AUD (30,113)\\n  - Plant and equipment: AUD (316,386)\\n  - Motor vehicle: AUD (2,284)\\n  - Total: AUD (357,584)\\n\\nBalance at 30 June 2022:\\n- Land: AUD 2,207,392\\n- Building: AUD 408,001\\n- Leasehold improvement: AUD 136,387\\n- Plant and equipment: AUD 1,850,393\\n- Motor vehicle: AUD 3,075\\n- Total: AUD 4,605,248\\n\\n', 'source': 'Rectifier_Technologies.txt', 'company_name': 'Rectifier Technologies Ltd', 'topic': 2.0, 'category': 'companies'}, {'chunk_text': '\\n\\n# Note 13. Right-of-use assets\\n\\nRight-of-use assets (non-current assets):\\n\\n- Building:\\n  - 2022: AUD 564,576\\n  - 2021: AUD 632,317\\n\\n- Plant and equipment:\\n  - 2022: AUD 314,808\\n  - 2021: AUD 502,760\\n\\n- Motor vehicle:\\n  - 2022: AUD 7,289\\n  - 2021: AUD 19,737\\n\\nTotal non-current assets:\\n- 2022: AUD 886,673\\n- 2021: AUD 1,154,814\\n\\nThe consolidated entity leases land and buildings for its offices and staff accommodations and plant and equipment under agreements of between 3 to 5 years with, in some cases, options to extend. The leases have various escalation clauses. On renewal, the terms of the leases are renegotiated.\\n\\n', 'source': 'Rectifier_Technologies.txt', 'company_name': 'Rectifier Technologies Ltd', 'topic': 2.0, 'category': 'companies'}, {'chunk_text': '\\n\\n## Reconciliations\\nReconciliations of the written down values at the beginning and  end of the current and previous financial year.\\nMovement in right-of-use assets (Consolidated):\\n\\nBalance at 1 July 2020:\\n- Building: AUD 760,844\\n- Plant and equipment: AUD 610,344\\n- Motor vehicle: AUD 41,967\\n- Total: AUD 1,413,155\\n\\nMovements during 2021:\\n- Additions:\\n  - Building: AUD 19,149\\n  - Total: AUD 19,149\\n- Exchange differences:\\n  - Building: AUD 10,132\\n  - Plant and equipment: AUD (34,567)\\n  - Motor vehicle: AUD (2,174)\\n  - Total: AUD (26,609)\\n- Transfer to PPE:\\n  - Motor vehicle: AUD (5,045)\\n  - Total: AUD (5,045)\\n- Depreciation expense:\\n  - Building: AUD (157,808)\\n  - Plant and equipment: AUD (73,017)\\n  - Motor vehicle: AUD (15,011)\\n  - Total: AUD (245,836)\\n\\nBalance at 30 June 2021:\\n- Building: AUD 632,317\\n- Plant and equipment: AUD 502,760\\n- Motor vehicle: AUD 19,737\\n- Total: AUD 1,154,814\\n\\nMovements during 2022:\\n- Additions:\\n  - Building: AUD 100,525\\n  - Total: AUD 100,525\\n- Exchange differences:\\n  - Building: AUD (4,160)\\n  - Plant and equipment: AUD 13,611\\n  - Motor vehicle: AUD 438\\n  - Total: AUD 9,889\\n- Transfer to PPE:\\n  - Plant and equipment: AUD (128,708)\\n  - Motor vehicle: AUD (192)\\n  - Total: AUD (128,900)\\n- Depreciation expense:\\n  - Building: AUD (164,106)\\n  - Plant and equipment: AUD (72,855)\\n  - Motor vehicle: AUD (12,694)\\n  - Total: AUD (249,655)\\n\\nBalance at 30 June 2022:\\n- Building: AUD 564,576\\n- Plant and equipment: AUD 314,808\\n- Motor vehicle: AUD 7,289\\n- Total: AUD 886,673\\n\\nFor other lease disclosures refer to: note 7 for interest on lease liabilities; note 17 for lease liabilities; and consolidated statement of cash flows for repayment of lease liabilities.\\n\\n', 'source': 'Rectifier_Technologies.txt', 'company_name': 'Rectifier Technologies Ltd', 'topic': 2.0, 'category': 'companies'}, {'chunk_text': '\\n\\n# Note 14. Intangibles\\n\\nIntangible assets (non-current assets):\\n\\nDevelopment – at cost:\\n- 2022: AUD 94,859\\n- 2021: AUD 106,048\\n\\n', 'source': 'Rectifier_Technologies.txt', 'company_name': 'Rectifier Technologies Ltd', 'topic': 2.0, 'category': 'companies'}, {'chunk_text': '\\n\\n## Reconciliations\\nReconciliations of the written down values at the beginning and  end of the current and previous financial year.\\nMovement in development cost (Consolidated):\\n\\nBalance at 1 July 2020:\\n- AUD 0\\n\\nMovements during 2021:\\n- Additions: AUD 106,048\\n\\nBalance at 30 June 2021:\\n- AUD 106,048\\n\\nMovements during 2022:\\n- Additions: AUD 61,844\\n- Research and development rebate: AUD (73,033)\\n\\nBalance at 30 June 2022:\\n- AUD 94,859\\n\\n', 'source': 'Rectifier_Technologies.txt', 'company_name': 'Rectifier Technologies Ltd', 'topic': -1.0, 'category': 'companies'}, {'chunk_text': '\\n\\n# Note 15. Trade and other payables\\nTrade and other payables (current liabilities):\\n\\n- Trade payables:\\n  - 2022: AUD 4,463,965\\n  - 2021: AUD 2,134,083\\n\\n- Sundry creditors and accrued expenses:\\n  - 2022: AUD 1,085,956\\n  - 2021: AUD 515,895\\n\\nTotal current liabilities:\\n- 2022: AUD 5,549,921\\n- 2021: AUD 2,649,978\\n\\n', 'source': 'Rectifier_Technologies.txt', 'company_name': 'Rectifier Technologies Ltd', 'topic': 2.0, 'category': 'companies'}, {'chunk_text': '\\n\\n# Note 16. Borrowings\\nCurrent liabilities:\\n- Bank loans:\\n  - 2022: AUD 1,122,142\\n  - 2021: AUD 154,710\\n\\nNon-current liabilities:\\n- Bank loans:\\n  - 2022: AUD 4,151,846\\n  - 2021: AUD 2,439,390\\n\\nTotal liabilities:\\n- 2022: AUD 5,273,988\\n- 2021: AUD 2,594,100\\n\\nRefer to note 22 for further information on financial instruments.\\n\\n', 'source': 'Rectifier_Technologies.txt', 'company_name': 'Rectifier Technologies Ltd', 'topic': 2.0, 'category': 'companies'}, {'chunk_text': \"\\n\\nThe bank loans consist of the following:\\n\\n(i) A loan of MYR 5,460,000 (AUD 1,629,851). The term of the loan is 20 years, and the loan interest is calculated using the Base Lending Rate (Variable Rate) less a discount of 2.20%  at the bank’s discretion from time to time. The monthly repayment includes the payment of loan principal and interest. The first monthly instalment commenced on 1 May 2017, subsequent instalments are to be paid on or before the 1st of each calendar month and total repayments are 240 instalments in 240 months. The carrying amount of the loan was MYR 4,648,453 (AUD 1,531,464) as at 30 June 2022 (2021: MYR 4,899,598 (AUD 1,569,479)).\\n(ii) A loan of MYR 2,730,000 (AUD929,393). The term of the loan is  20 years, and the loan interest is calculated using the Base Lending Rate (Variable Rate) less a discount of 2.20% at the bank’s discretion from time to time. The monthly repayment includes the payment of loan principal and interest. The first monthly instalment commenced on 1 December 2019, subsequent instalments are to be paid on or before the 1st of each calendar month and total repayments are 240 instalments in 240 months. The carrying amount of the loan was MYR 2,552,538 (AUD 840,951) as at\\u202f30 June 2022 (2021: MYR 2,671,654 (AUD 855,806))\\n(iii) A loan of MYR 498,800 (AUD 159,780). The term of the loan is  10 years, and the loan interest is calculated using the Base Lending Rate (Variable Rate) less a discount of 2% at the bank’s discretion from time to time. The monthly repayment includes the payment of loan principal and interest. The first monthly instalment commenced on 1 October 2020, subsequent instalments are to be paid on or before the 1st of each calendar month and total repayments are 120 instalments in 120 months. The carrying amount of the loan was MYR 428,740 (AUD141,252) as at\\u202f30 June 2022 (2021:\\nMYR 472,008 (AUD151,197)).\\n(iv) A loan of AUD 3,000,000.The term of the loan is 3 years, and the loan interest is calculated using the Business Mortgage Index rate (Variable Rate) less a margin of 3.75% at the bank’s discretion from time to time. The monthly repayment includes the payment of loan principal and interest. The first monthly instalment commenced on 30 April 2022, subsequent instalments are to be paid on or before the 1st of each calendar month and total repayments are 36 instalments in 36 months. The carrying amount of the loan was AUD 2,760,321 as at 30 June 2022.\\n(v) Prior year's trade facilities of MYR 55,000 (AUD17,618) were fully paid on 31 August 2021.\\n\\n\", 'source': 'Rectifier_Technologies.txt', 'company_name': 'Rectifier Technologies Ltd', 'topic': -1.0, 'category': 'companies'}, {'chunk_text': '\\n\\n# Note 17. Lease liabilities\\nCurrent liabilities:\\n- Lease liability:\\n  - 2022: AUD 212,781\\n  - 2021: AUD 295,410\\n\\nNon-current liabilities:\\n- Lease liability:\\n  - 2022: AUD 457,534\\n  - 2021: AUD 588,464\\n\\nTotal liabilities:\\n- 2022: AUD 670,315\\n- 2021: AUD 883,874\\n\\nFuture minimum lease payments at 30 June were as follows:\\n\\n(lease maturity analysis):\\n\\n2022:\\n- Lease payments:\\n  - Less than 1 year: AUD 244,812\\n  - 1–5 years: AUD 499,855\\n  - >5 years: AUD 0\\n  - Total: AUD 744,667\\n- Finance charges:\\n  - Less than 1 year: AUD (32,031)\\n  - 1–5 years: AUD (42,321)\\n  - >5 years: AUD 0\\n  - Total: AUD (74,352)\\n- Net lease liability:\\n  - Less than 1 year: AUD 212,781\\n  - 1–5 years: AUD 457,534\\n  - >5 years: AUD 0\\n  - Total: AUD 670,315\\n\\n2021:\\n- Lease payments:\\n  - Less than 1 year: AUD 339,532\\n  - 1–5 years: AUD 634,238\\n  - >5 years: AUD 23,673\\n  - Total: AUD 997,443\\n- Finance charges:\\n  - Less than 1 year: AUD (44,122)\\n  - 1–5 years: AUD (69,274)\\n  - >5 years: AUD (173)\\n  - Total: AUD (113,569)\\n- Net lease liability:\\n  - Less than 1 year: AUD 295,410\\n  - 1–5 years: AUD 564,964\\n  - >5 years: AUD 23,500\\n  - Total: AUD 883,874\\n\\n', 'source': 'Rectifier_Technologies.txt', 'company_name': 'Rectifier Technologies Ltd', 'topic': -1.0, 'category': 'companies'}, {'chunk_text': '\\n\\n# Note 18. Employee benefits\\n(employee benefits provisions):\\n\\nCurrent liabilities:\\n- Annual leave:\\n  - 2022: AUD 636,605\\n  - 2021: AUD 494,718\\n- Long service leave:\\n  - 2022: AUD 296,968\\n  - 2021: AUD 252,829\\n- Total current liabilities:\\n  - 2022: AUD 933,573\\n  - 2021: AUD 747,547\\n\\nNon-current liabilities:\\n- Long service leave:\\n  - 2022: AUD 56,389\\n  - 2021: AUD 59,341\\n\\nTotal liabilities:\\n- 2022: AUD 989,962\\n- 2021: AUD 806,888\\n\\n', 'source': 'Rectifier_Technologies.txt', 'company_name': 'Rectifier Technologies Ltd', 'topic': 2.0, 'category': 'companies'}, {'chunk_text': '\\n\\n# Note 19. Issued capital\\n\\nOrdinary shares – fully paid:\\n\\nNumber of shares:\\n- 2022: 1,375,700,602 shares\\n- 2021: 1,375,700,602 shares\\n\\nShare capital:\\n- 2022: AUD 39,992,575\\n- 2021: AUD 39,992,575\\n\\nMovements in ordinary share capital:\\n- Balance at 1 July 2020:\\n  - Shares: 1,368,660,602\\n  - Share capital: AUD 39,851,775\\n- Shares issued on the exercise of options:\\n  - Date: 12 October 2020\\n  - Shares issued: 7,040,000\\n  - Issue price: AUD 0.020\\n  - Amount: AUD 140,800\\n- Balance at 30 June 2021:\\n  - Shares: 1,375,700,602\\n  - Share capital: AUD 39,992,575\\n- Balance at 30 June 2022:\\n  - Shares: 1,375,700,602\\n  - Share capital: AUD 39,992,575\\n\\n', 'source': 'Rectifier_Technologies.txt', 'company_name': 'Rectifier Technologies Ltd', 'topic': 5.0, 'category': 'companies'}, {'chunk_text': '\\n\\n## Ordinary shares\\nOrdinary shares entitle the holder to participate in any dividends declared and any proceeds attributable to shareholders should the Company be wound up in proportions that consider both the number of shares held and the extent to which those shares are paid up. The fully paid ordinary shares have no par value and the Company does not have a limited amount of authorised capital.\\nOn a show of hands every member present at a meeting in person or by proxy shall have one vote and upon a poll each share shall have one vote.\\nShare buy-back: There is no current on-market share buy-back.\\n\\n', 'source': 'Rectifier_Technologies.txt', 'company_name': 'Rectifier Technologies Ltd', 'topic': -1.0, 'category': 'companies'}, {'chunk_text': \"\\n\\n## Capital risk management\\nThe consolidated entity's objectives when managing capital is to safeguard its ability to continue as a going concern, so that it can provide returns for shareholders and benefits for other stakeholders and to maintain an optimum capital structure to reduce the cost of capital. Capital is regarded as total equity, as recognised in the statement of financial position, plus net debt. Net debt is calculated as total borrowings less cash and cash equivalents. In order to maintain or adjust the capital structure, the consolidated entity may adjust the amount of dividends paid to shareholders, return capital to shareholders, issue new shares or sell assets to reduce debt. The consolidated entity would look to raise capital when an opportunity to invest in a business or company was seen as value-adding relative to the current Company's share price at the time of the investment. The consolidated entity is not actively pursuing additional investments in the short term as it continues to integrate and grow its existing businesses in order to maximise synergies. The consolidated entity is subject to certain financing arrangements covenants and meeting these is given priority in all capital risk management decisions. There have been no events of default on the financing arrangements during the financial year. The capital risk management policy remains unchanged during the current reporting period.\\n\\n\", 'source': 'Rectifier_Technologies.txt', 'company_name': 'Rectifier Technologies Ltd', 'topic': -1.0, 'category': 'companies'}, {'chunk_text': '\\n\\n# Note 20. Reserves\\nForeign currency reserve:\\n- 2022: AUD 3,264\\n- 2021: AUD (163,175)\\n\\nShare-based payments reserve:\\n- 2022: AUD 510,000\\n- 2021: AUD 630,000\\n\\nTotal reserves:\\n- 2022: AUD 513,264\\n- 2021: AUD 466,825\\n\\n', 'source': 'Rectifier_Technologies.txt', 'company_name': 'Rectifier Technologies Ltd', 'topic': -1.0, 'category': 'companies'}, {'chunk_text': '\\n\\n## Foreign currency reserve\\nThe reserve is used to recognise exchange differences arising from the translation of the financial statements of foreign operations to Australian dollars. It is also used to recognise gains and losses on hedges of the net investments in foreign operations.\\n\\n', 'source': 'Rectifier_Technologies.txt', 'company_name': 'Rectifier Technologies Ltd', 'topic': -1.0, 'category': 'companies'}, {'chunk_text': \"\\n\\n## Share-based payments reserve\\nThe reserve is used to recognise the value of options granted under Employee Share Option Plan ('ESOP').\\n\\n\", 'source': 'Rectifier_Technologies.txt', 'company_name': 'Rectifier Technologies Ltd', 'topic': 0.0, 'category': 'companies'}, {'chunk_text': '\\n\\n## Movements in reserves\\nMovements in each class of reserve during the current and previous financial year, consolidated:\\n\\nBalance at 1 July 2020:\\n- Foreign currency reserve: AUD 41,828\\n- Share-based payments reserve: AUD 630,000\\n- Total: AUD 671,828\\n\\nMovements during 2021:\\n- Foreign currency translation:\\n  - Foreign currency reserve: AUD (205,003)\\n- Balance at 30 June 2021:\\n  - Foreign currency reserve: AUD (163,175)\\n  - Share-based payments reserve: AUD 630,000\\n  - Total: AUD 466,825\\n\\nMovements during 2022:\\n- Foreign currency translation:\\n  - Foreign currency reserve: AUD 166,439\\n- Lapsed options transferred to accumulated losses:\\n  - Share-based payments reserve: AUD (120,000)\\n- Balance at 30 June 2022:\\n  - Foreign currency reserve: AUD 3,264\\n  - Share-based payments reserve: AUD 510,000\\n  - Total: AUD 513,264\\n\\n', 'source': 'Rectifier_Technologies.txt', 'company_name': 'Rectifier Technologies Ltd', 'topic': 2.0, 'category': 'companies'}, {'chunk_text': '\\n\\n# Note 21. Dividends\\n## Dividends\\nDividends paid during the financial year were as follows:\\n\\nFinal dividend paid during the financial year:\\n- 2022: nil cents per share → AUD 0\\n- 2021: 0.1 cents per share → AUD 1,375,701\\n\\nThe dividends paid on 8 December 2020, totalling to $1,375, 701, refers to the 30 June 2020 financial year. There are no dividends declared in relation to the 30 June 2022 and 30 June 2021 financial years.\\n\\n', 'source': 'Rectifier_Technologies.txt', 'company_name': 'Rectifier Technologies Ltd', 'topic': 5.0, 'category': 'companies'}, {'chunk_text': '\\n\\n## Franking credits\\nFranking credits available for subsequent financial years:\\n- 2022: AUD 0\\n- 2021: AUD 939,520\\n(Based on a tax rate of 25%)\\n\\nThe above amounts represent the balance of the franking account as at the end of the financial year, adjusted for: (1) franking credits that will arise from the payment of the amount of the provision for income tax at the reporting date; (2) franking debits that will arise from the payment of dividends recognised as a liability at the reporting date; (3) franking credits that will arise from the receipt of dividends recognised as receivables at the reporting date\\n\\n', 'source': 'Rectifier_Technologies.txt', 'company_name': 'Rectifier Technologies Ltd', 'topic': -1.0, 'category': 'companies'}, {'chunk_text': '\\n\\n# Note 22. Financial instruments\\n## Financial risk management objectives\\nThe Board has overall responsibility for the determination of the consolidated entity and the parent entity’s risk management objectives and policies and, whilst retaining ultimate responsibility for them, it has delegated the authority for designing and operating processes that ensure the effective implementation of the objectives and policies to the consolidated entity and the parent entity’s finance function. The Board receives monthly reports from the Chief Financial Officer through which it reviews the effectiveness of the processes put in place and the appropriateness of the objectives and policies it sets. The overall objective of the Board is to set policies that seek to reduce risk as far as possible without unduly affecting the \\nconsolidated entity’s competitiveness and flexibility.\\n\\n', 'source': 'Rectifier_Technologies.txt', 'company_name': 'Rectifier Technologies Ltd', 'topic': -1.0, 'category': 'companies'}, {'chunk_text': \"\\n\\n## Market risk: foreign currency risk\\nThe consolidated entity undertakes certain transactions denominated in foreign currency and is exposed to foreign currency risk through foreign exchange rate fluctuations. The only currency where receivables are not denominated in their functional currency is US dollars (USD). Cash balances in USD are kept at levels only sufficient to pay the amounts owing. Since the local sales in Malaysia are made by foreign operations in their individual functional currencies, there is no direct foreign currency risk exposure involved. The consolidated entity’s exposure to foreign currency risk is primarily its exposure to trade receivables denominated in USD. The carrying amount of the consolidated entity's foreign currency denominated financial assets and financial liabilities at the reporting date were as follows:\\n\\nForeign currency exposure (Consolidated, US Dollars):\\n\\nAssets:\\n- 2022: AUD 532,730\\n- 2021: AUD 328,330\\n\\nLiabilities:\\n- 2022: AUD 651,586\\n- 2021: AUD 177,173\\n\\nForeign currency sensitivity analysis (Consolidated – 2022):\\n\\nIf AUD strengthened by 10%:\\n- Change in assets: AUD 70,300\\n- Change in liabilities: AUD 85,985\\n- Total impact: AUD 156,285\\n\\nIf AUD weakened by 10%:\\n- Change in assets: AUD (85,923)\\n- Change in liabilities: AUD (105,093)\\n- Total impact: AUD (191,016)\\n\\nForeign currency sensitivity analysis (Consolidated – 2021):\\n\\nIf AUD strengthened by 10%:\\n- Change in assets: AUD 39,702\\n- Change in liabilities: AUD 21,424\\n- Total impact: AUD 61,126\\n\\nIf AUD weakened by 10%:\\n- Change in assets: AUD (48,525)\\n- Change in liabilities: AUD (26,185)\\n- Total impact: AUD (74,710)\\n\\n\", 'source': 'Rectifier_Technologies.txt', 'company_name': 'Rectifier Technologies Ltd', 'topic': 4.0, 'category': 'companies'}, {'chunk_text': '\\n\\n## Price risk\\nThe consolidated entity is not exposed to any significant price risk.\\n\\n', 'source': 'Rectifier_Technologies.txt', 'company_name': 'Rectifier Technologies Ltd', 'topic': -1.0, 'category': 'companies'}, {'chunk_text': \"\\n\\n## Interest rate risk\\nThe consolidated entity’s exposure to interest rate risk is limited to cash balances, as these are at a floating rate. Cash balances that are held at call for day to day activities are non-interest bearing. An analysis of remaining contractual maturities is shown in 'liquidity and interest rate risk management' below.\\n\\n\", 'source': 'Rectifier_Technologies.txt', 'company_name': 'Rectifier Technologies Ltd', 'topic': 4.0, 'category': 'companies'}, {'chunk_text': '\\n\\n## Credit risk\\nCredit risk arises principally from the consolidated entity’s trade receivables. It is the risk that the counterparty fails to discharge its obligation in respect of the instrument.\\nPrior to accepting new customers, a credit check is obtained from a reputable external source. Based on this information, credit limits and payment terms are established. Customers who subsequently fail to meet their credit terms are required to make purchases on a prepayment basis until creditworthiness can be re-established. The nature of the consolidated entity’s operations means that approximately 92% (2021: 92%) of its sales are made to 5 (2021: 5) key customers in Australia, Singapore and America. Whilst credit risk is mainly influenced by factors specific to \\nthese individual customers, the concentration of  sales geographically is a contributory factor. The maximum exposure to credit risk for trade receivables at the end of reporting period by geographic region is as follows:\\n\\nGeographical breakdown of trade receivables (Consolidated):\\n\\nAustralia:\\n- 2022: AUD 702,808\\n- 2021: AUD 414,172\\n\\nAsia:\\n- 2022: AUD 145,385\\n- 2021: AUD 69,856\\n\\nEurope:\\n- 2022: AUD 52,535\\n- 2021: AUD 1,600\\n\\nUSA:\\n- 2022: AUD (9,390)\\n- 2021: AUD 29,007\\n\\nTotal:\\n- 2022: AUD 891,338\\n- 2021: AUD 514,635\\n\\n', 'source': 'Rectifier_Technologies.txt', 'company_name': 'Rectifier Technologies Ltd', 'topic': 4.0, 'category': 'companies'}, {'chunk_text': '\\n\\nPast due analysis of trade receivables by geographic region is as follows:\\nAgeing analysis of trade receivables by geography (consolidated):\\n\\n2022:\\n- Not past due:\\n  - Australia: AUD 667,174\\n  - Asia: AUD 145,385\\n  - Europe: AUD 52,578\\n  - USA: AUD 3,092\\n  - Total: AUD 868,229\\n\\n- Past due 30 days:\\n  - Australia: AUD 9,900\\n  - Asia: AUD 0\\n  - Europe: AUD 0\\n  - USA: AUD 0\\n  - Total: AUD 9,900\\n\\n- Past due 60 days:\\n  - Australia: AUD 25,734\\n  - Asia: AUD 0\\n  - Europe: AUD (43)\\n  - USA: AUD (12,482)\\n  - Total: AUD 13,209\\n\\n- Total:\\n  - Australia: AUD 702,808\\n  - Asia: AUD 145,385\\n  - Europe: AUD 52,535\\n  - USA: AUD (9,390)\\n  - Total: AUD 891,338\\n\\n2021:\\n- Not past due:\\n  - Australia: AUD 356,374\\n  - Asia: AUD 67,467\\n  - Europe: AUD 86\\n  - USA: AUD 1,081\\n  - Total: AUD 425,008\\n\\n- Past due 30 days:\\n  - Australia: AUD 44,511\\n  - Asia: AUD 0\\n  - Europe: AUD 0\\n  - USA: AUD 26,602\\n  - Total: AUD 71,113\\n\\n- Past due 60 days:\\n  - Australia: AUD 13,287\\n  - Asia: AUD 2,389\\n  - Europe: AUD 1,514\\n  - USA: AUD 1,324\\n  - Total: AUD 18,514\\n\\n- Total:\\n  - Australia: AUD 414,172\\n  - Asia: AUD 69,856\\n  - Europe: AUD 1,600\\n  - USA: AUD 29,007\\n  - Total: AUD 514,635\\n\\n', 'source': 'Rectifier_Technologies.txt', 'company_name': 'Rectifier Technologies Ltd', 'topic': 2.0, 'category': 'companies'}, {'chunk_text': '\\n\\n## Liquidity risk\\nLiquidity risk arises from the consolidated entity’s management of working capital and the finance charges and principal repayments on its debt instruments. It is the risk that the consolidated entity will encounter difficulty in meeting its financial obligations as they fall due. The consolidated entity aims to have sufficient cash to allow it to meet its liabilities when they \\nbecome due. The Board receives cash flow projections monthly as well as information regarding cash balances. \\n\\n', 'source': 'Rectifier_Technologies.txt', 'company_name': 'Rectifier Technologies Ltd', 'topic': -1.0, 'category': 'companies'}, {'chunk_text': \"\\n\\n## Remaining contractual maturities\\nThe following tables detail the consolidated entity's remaining contractual maturity for its financial instrument liabilities. The tables have been drawn up based on the undiscounted cash flows of  financial liabilities based on the earliest date on which the financial liabilities are required to be paid. The tables include both interest and principal cash flows disclosed as remaining \\ncontractual maturities and therefore these totals may differ from their carrying amount in the statement of financial position.\\n\\nContractual maturities of financial liabilities (Consolidated – 2022):\\n\\nNon-derivatives:\\n\\nNon-interest bearing:\\n- Trade payables:\\n  - Within 6 months: AUD 4,463,965\\n  - Total: AUD 4,463,965\\n- Other payables:\\n  - Within 6 months: AUD 1,085,956\\n  - Total: AUD 1,085,956\\n\\nInterest-bearing – variable:\\n- Bank loans:\\n  - Within 6 months: AUD 636,349\\n  - Between 6 and 12 months: AUD 636,648\\n  - Between 1 and 3 years: AUD 2,285,531\\n  - Over 3 years: AUD 2,502,753\\n  - Total: AUD 6,061,281\\n- Lease liability:\\n  - Within 6 months: AUD 143,026\\n  - Between 6 and 12 months: AUD 101,786\\n  - Between 1 and 3 years: AUD 329,272\\n  - Over 3 years: AUD 170,583\\n  - Total: AUD 744,667\\n\\nTotal non-derivatives:\\n- Within 6 months: AUD 6,329,296\\n- Between 6 and 12 months: AUD 738,434\\n- Between 1 and 3 years: AUD 2,614,803\\n- Over 3 years: AUD 2,673,336\\n- Remaining contractual maturities: AUD 12,355,869\\n\\n\", 'source': 'Rectifier_Technologies.txt', 'company_name': 'Rectifier Technologies Ltd', 'topic': 4.0, 'category': 'companies'}, {'chunk_text': '\\n\\nContractual maturities of financial liabilities (Consolidated – 2021):\\n\\nNon-derivatives:\\n\\nNon-interest bearing:\\n- Trade payables:\\n  - Within 6 months: AUD 2,134,083\\n  - Total: AUD 2,134,083\\n- Other payables:\\n  - Within 6 months: AUD 515,895\\n  - Total: AUD 515,895\\n\\nInterest-bearing – variable:\\n- Bank loans:\\n  - Within 6 months: AUD 126,901\\n  - Between 6 and 12 months: AUD 109,283\\n  - Between 1 and 3 years: AUD 437,132\\n  - Over 3 years: AUD 2,606,858\\n  - Total: AUD 3,280,174\\n- Lease liability:\\n  - Within 6 months: AUD 178,217\\n  - Between 6 and 12 months: AUD 161,315\\n  - Between 1 and 3 years: AUD 350,158\\n  - Over 3 years: AUD 307,753\\n  - Total: AUD 997,443\\n\\nTotal non-derivatives:\\n- Within 6 months: AUD 2,955,096\\n- Between 6 and 12 months: AUD 270,598\\n- Between 1 and 3 years: AUD 787,290\\n- Over 3 years: AUD 2,914,611\\n- Remaining contractual maturities: AUD 6,927,595\\nThe cash flows in the maturity analysis above are not expected to occur significantly earlier than contractually disclosed above.\\n\\n', 'source': 'Rectifier_Technologies.txt', 'company_name': 'Rectifier Technologies Ltd', 'topic': -1.0, 'category': 'companies'}, {'chunk_text': '\\n\\n## Fair value of financial instruments\\nUnless otherwise stated, the carrying amounts of financial instruments reflect their fair value.\\n\\n', 'source': 'Rectifier_Technologies.txt', 'company_name': 'Rectifier Technologies Ltd', 'topic': 4.0, 'category': 'companies'}, {'chunk_text': '\\n\\n# Note 23. Remuneration of auditors\\nDuring the financial year the following fees were paid or payable for services provided by Grant Thornton, the auditor of the Company:\\n\\nAudit fees (Consolidated):\\n\\nAudit and review of the financial statements by Grant Thornton:\\n- 2022: AUD 79,131\\n- 2021: AUD 79,883\\n\\n', 'source': 'Rectifier_Technologies.txt', 'company_name': 'Rectifier Technologies Ltd', 'topic': 1.0, 'category': 'companies'}, {'chunk_text': '\\n\\n# Note 24. Contingent liabilities\\nThe consolidated entity had no contingent li abilities as at 30 June 2022 and 30 June 2021.\\n\\n', 'source': 'Rectifier_Technologies.txt', 'company_name': 'Rectifier Technologies Ltd', 'topic': -1.0, 'category': 'companies'}, {'chunk_text': '\\n\\n# Note 25. Commitments\\n\\nPurchase commitments (Consolidated):\\n\\nCommitted at the reporting date but not recognised as liabilities:\\n\\nInventories:\\n- 2022: AUD 10,903,918\\n- 2021: AUD 1,898,436\\n\\nProperty, plant and equipment:\\n- 2022: AUD 97,953\\n- 2021: AUD 155,570\\n\\nResearch and development:\\n- 2022: AUD 0\\n- 2021: AUD 158,835\\n\\n', 'source': 'Rectifier_Technologies.txt', 'company_name': 'Rectifier Technologies Ltd', 'topic': 2.0, 'category': 'companies'}, {'chunk_text': '\\n\\n# Note 26. Key management personnel disclosures\\n## Compensation\\nThe aggregate compensation made to directors and other members of key management personnel of the consolidated entity is set out below:\\n\\nKey management personnel remuneration (Consolidated):\\n\\nShort-term employee benefits:\\n- 2022: AUD 1,235,995\\n- 2021: AUD 1,162,928\\n\\nPost-employment benefits:\\n- 2022: AUD 115,829\\n- 2021: AUD 109,196\\n\\nLong-term benefits:\\n- 2022: AUD 11,951\\n- 2021: AUD 9,163\\n\\nTotal:\\n- 2022: AUD 1,363,775\\n- 2021: AUD 1,281,287\\n\\n', 'source': 'Rectifier_Technologies.txt', 'company_name': 'Rectifier Technologies Ltd', 'topic': 0.0, 'category': 'companies'}, {'chunk_text': '\\n\\n# Note 27. Related party transactions\\n## Parent entity\\nRectifier Technologies Ltd is the parent entity.\\n\\n', 'source': 'Rectifier_Technologies.txt', 'company_name': 'Rectifier Technologies Ltd', 'topic': 1.0, 'category': 'companies'}, {'chunk_text': '\\n\\n## Subsidiaries\\nInterests in subsidiaries are set out in note 28.\\n\\n', 'source': 'Rectifier_Technologies.txt', 'company_name': 'Rectifier Technologies Ltd', 'topic': 1.0, 'category': 'companies'}, {'chunk_text': \"\\n\\n## Key management personnel\\nDisclosures relating to key management personnel are set out in note 26 and the remuneration report included in the directors' report.\\n\\n\", 'source': 'Rectifier_Technologies.txt', 'company_name': 'Rectifier Technologies Ltd', 'topic': 0.0, 'category': 'companies'}, {'chunk_text': '\\n\\n## Transactions with related parties\\nTransactions between related parties are on normal commercial terms and conditions no more favourable to other parties unless otherwise stated. There is no requirement for transactions and balances between the entities within the consolidated Group to be disclosed.\\n\\n', 'source': 'Rectifier_Technologies.txt', 'company_name': 'Rectifier Technologies Ltd', 'topic': 4.0, 'category': 'companies'}, {'chunk_text': '\\n\\n# Note 28. Interests in subsidiaries\\nThe consolidated financial statements incorporate the assets, liabilities and results of the following subsidiaries in accordance with the accounting policy described in note 2:\\n\\nOwnership interest in controlled entities (Consolidated):\\n\\nProtran Technologies Pty Ltd:\\n- Principal place of business: Australia\\n- Ownership: 2022: 100%, 2021: 100%\\n\\nRectifier Technologies Pacific Pty Ltd:\\n- Principal place of business: Australia\\n- Ownership: 2022: 100%, 2021: 100%\\n\\nRectifier Technologies Singapore Pte Ltd:\\n- Principal place of business: Singapore\\n- Ownership: 2022: 100%, 2021: 100%\\n\\nICERT Inc:\\n- Principal place of business: USA\\n- Ownership: 2022: 100%, 2021: 100%\\n\\nRectifier Technologies (M) Sdn Bhd:\\n- Principal place of business: Malaysia\\n- Ownership: 2022: 100%, 2021: 100%\\n\\nICERT (HK) Co. Ltd:\\n- Principal place of business: Hong Kong\\n- Ownership: 2022: 100%, 2021: 100%\\n\\n', 'source': 'Rectifier_Technologies.txt', 'company_name': 'Rectifier Technologies Ltd', 'topic': 1.0, 'category': 'companies'}, {'chunk_text': '\\n\\n# Note 29. Earnings per share\\n\\nProfit after income tax attributable to the owners of Rectifier Technologies Ltd (Consolidated):\\n\\n- 2022: AUD 491,955\\n- 2021: AUD 540,379\\n \\nWeighted average number of ordinary shares used in EPS calculation (Consolidated):\\n\\nBasic EPS:\\n- 2022: 1,375,700,602 shares\\n- 2021: 1,375,700,602 shares\\n\\nAdjustments for calculation of diluted EPS:\\n- Options over ordinary shares:\\n  - 2022: 46,840,000 options\\n  - 2021: 54,840,000 options\\n\\nDiluted EPS:\\n- 2022: 1,422,540,602 shares\\n- 2021: 1,430,540,602 shares\\n\\nEarnings per share (Consolidated):\\n\\nBasic earnings per share:\\n- 2022: 0.04 cents\\n- 2021: 0.04 cents\\n\\nDiluted earnings per share:\\n- 2022: 0.03 cents\\n- 2021: 0.04 cents\\n\\n', 'source': 'Rectifier_Technologies.txt', 'company_name': 'Rectifier Technologies Ltd', 'topic': 6.0, 'category': 'companies'}, {'chunk_text': '\\n\\n# Note 30. Reconciliation of profit after income tax to net cash from/(used in) operating activities\\n\\nReconciliation of profit after income tax to net cash from operating activities (Consolidated):\\n\\nProfit after income tax expense for the year:\\n- 2022: AUD 491,955\\n- 2021: AUD 540,379\\n\\nAdjustments for:\\n- Depreciation and amortisation:\\n  - 2022: AUD 607,239\\n  - 2021: AUD 554,839\\n- Provision for stock obsolescence:\\n  - 2022: AUD 148,622\\n  - 2021: AUD (60,182)\\n- Unrealised currency (gain)/loss:\\n  - 2022: AUD (86,192)\\n  - 2021: AUD 179,255\\n- Net loss/(gain) on sale/acquisition of assets:\\n  - 2022: AUD (34,956)\\n  - 2021: AUD (19)\\n- Capitalised interest:\\n  - 2022: AUD 87,200\\n  - 2021: AUD 14,772\\n\\nChange in operating assets and liabilities:\\n- (Increase)/decrease in trade and other receivables:\\n  - 2022: AUD (1,441,878)\\n  - 2021: AUD 1,238,435\\n- (Increase)/decrease in inventories:\\n  - 2022: AUD (3,861,912)\\n  - 2021: AUD 551,026\\n- (Increase)/decrease in net deferred tax assets:\\n  - 2022: AUD 35,949\\n  - 2021: AUD 40,902\\n- Increase/(decrease) in trade and other payables:\\n  - 2022: AUD 2,746,773\\n  - 2021: AUD (1,207,650)\\n- Increase/(decrease) in provision for income tax:\\n  - 2022: AUD 404,843\\n  - 2021: AUD (390,722)\\n- Increase in employee benefits:\\n  - 2022: AUD 176,357\\n  - 2021: AUD 136,424\\n\\nNet cash from/(used in) operating activities:\\n- 2022: AUD (726,000)\\n- 2021: AUD 1,597,459\\n\\n', 'source': 'Rectifier_Technologies.txt', 'company_name': 'Rectifier Technologies Ltd', 'topic': 6.0, 'category': 'companies'}, {'chunk_text': '\\n\\n# Note 31. Changes in liabilities arising from financing activities\\n\\nReconciliation of liabilities from financing activities (Consolidated):\\n\\nBalance at 1 July 2020:\\n- Lease liabilities: AUD 1,190,842\\n- Bank loans: AUD 2,700,859\\n- Total: AUD 3,891,701\\n\\nMovements in 2021:\\n- Net cash used in financing activities:\\n  - Lease liabilities: AUD (387,290)\\n  - Bank loans: AUD (34,670)\\n  - Total: AUD (421,960)\\n- Finance costs:\\n  - Lease liabilities: AUD 62,825\\n  - Bank loans: AUD 86,269\\n  - Total: AUD 149,094\\n- Other changes:\\n  - Lease liabilities: AUD 17,497\\n  - Bank loans: AUD (158,358)\\n  - Total: AUD (140,861)\\n\\nBalance at 30 June 2021:\\n- Lease liabilities: AUD 883,874\\n- Bank loans: AUD 2,594,100\\n- Total: AUD 3,477,974\\n\\nMovements in 2022:\\n- Net cash from/(used in) financing activities:\\n  - Lease liabilities: AUD (365,513)\\n  - Bank loans: AUD 2,505,974\\n  - Total: AUD 2,140,461\\n- Finance costs:\\n  - Lease liabilities: AUD 48,195\\n  - Bank loans: AUD 104,930\\n  - Total: AUD 153,125\\n- Other changes:\\n  - Lease liabilities: AUD 103,759\\n  - Bank loans: AUD 68,984\\n  - Total: AUD 172,743\\n\\nBalance at 30 June 2022:\\n- Lease liabilities: AUD 670,315\\n- Bank loans: AUD 5,273,988\\n- Total: AUD 5,944,303\\n\\n', 'source': 'Rectifier_Technologies.txt', 'company_name': 'Rectifier Technologies Ltd', 'topic': 2.0, 'category': 'companies'}, {'chunk_text': '\\n\\n# Note 32. Share-based payments\\nA share option plan has been established by the consolidated entity and approved by shareholders at a general meeting, whereby the consolidated entity may, at t he discretion of the Board, grant options over ordinary shares in the Company to certain key management personnel of the consolidated entity. The options are issued for nil consideration and are granted in accordance with performance guidelines established by the Board. On 22 July 2019, the Company granted 42,000,000 share option s of its common stock to employees under its Employee Share Option Plan (ESOP) at an exercise price of $0.07. Options under this plan vest immediately allowing the holder to purchase one ordinary share per option, exercisable in multiple s of 100,000. The maximum term of the options granted under the ESOP ends on 13 September 2022. The weighted average fair value of options granted has been calculated as $0.015 per option. All granted employee options were immediately recognised as an expense in the statement of profit or loss with a corresponding credit to share option reserve for the value of $630,000. Set out below are summaries of options granted under the plan:\\n\\nMovement in options over ordinary shares:\\n\\nGrant date: 22/07/2019\\n- Expiry date: 13/09/2022\\n- Exercise price: AUD 0.070\\n- Balance at the start of the year: 42,000,000 options\\n- Granted during the year: 0 options\\n- Exercised during the year: 0 options\\n- Expired/forfeited/other: (8,000,000) options\\n- Balance at the end of the year: 34,000,000 options\\n\\nTotal:\\n- Opening balance: 42,000,000 options\\n- Granted: 0 options\\n- Exercised: 0 options\\n- Expired/forfeited/other: (8,000,000) options\\n- Closing balance: 34,000,000 options\\n\\nMovement in options over ordinary shares:\\n\\nGrant date: 22/07/2019\\n- Expiry date: 13/09/2022\\n- Exercise price: AUD 0.070\\n- Balance at the start of the year: 42,000,000 options\\n- Granted during the year: 0 options\\n- Exercised during the year: 0 options\\n- Expired/forfeited/other: 0 options\\n- Balance at the end of the year: 42,000,000 options\\n\\nTotal:\\n- Opening balance: 42,000,000 options\\n- Granted: 0 options\\n- Exercised: 0 options\\n- Expired/forfeited/other: 0 options\\n- Closing balance: 42,000,000 options\\n\\n\\nThe weighted average share price during the financial year was $0.015 (2021: $0.015). The weighted average remaining contractual life of options outstanding at the end of the financial year was 0.21 years (2021: 0.57 years).\\n\\n', 'source': 'Rectifier_Technologies.txt', 'company_name': 'Rectifier Technologies Ltd', 'topic': 0.0, 'category': 'companies'}, {'chunk_text': '\\n\\n# Note 33. Parent entity information\\nSet out below is the supplementary information about the parent entity. Statement of profit or loss and other comprehensive income\\n\\nParent Entity Results:\\n\\nProfit after income tax:\\n- 2022: AUD 229,496\\n- 2021: AUD 573,048\\n\\nTotal comprehensive income:\\n- 2022: AUD 229,496\\n- 2021: AUD 573,048\\n\\nStatement of financial position\\n\\nParent entity financial position:\\n\\nTotal current assets:\\n- 2022: AUD 2,287,673\\n- 2021: AUD 1,993,700\\n\\nTotal assets:\\n- 2022: AUD 3,661,150\\n- 2021: AUD 2,090,405\\n\\nTotal current liabilities:\\n- 2022: AUD 2,292,003\\n- 2021: AUD 318,016\\n\\nTotal liabilities:\\n- 2022: AUD 1,669,157\\n- 2021: AUD 327,908\\n\\n', 'source': 'Rectifier_Technologies.txt', 'company_name': 'Rectifier Technologies Ltd', 'topic': 6.0, 'category': 'companies'}, {'chunk_text': '\\n\\nParent entity equity:\\n\\nIssued capital:\\n- 2022: AUD 39,992,575\\n- 2021: AUD 39,992,575\\n\\nForeign currency reserve:\\n- 2022: AUD 50,647\\n- 2021: AUD 50,647\\n\\nShare-based payments reserve:\\n- 2022: AUD 510,000\\n- 2021: AUD 630,000\\n\\nAccumulated losses:\\n- 2022: AUD (38,561,229)\\n- 2021: AUD (38,910,725)\\n\\nTotal equity:\\n- 2022: AUD 1,991,993\\n- 2021: AUD 1,762,497\\n \\na. Guarantees entered into by the parent entity in relation to the debts of its subsidiaries. The parent entity had no guarantees in relation to the debts of its subsidiaries as at 30 June 2022 and 30 June 2021.\\nb. Contingent liabilities. The parent entity had no contingent liabilities as at 30 June 2022 and 30 June 2021.\\nc. Capital commitments - Property, plant and equipment. The parent entity had no capital commitments for property, plant and equipment as at 30 June 2022 and 30 June 2021.\\nd. Significant accounting policies. The accounting policies of the parent entity are consistent with those of the consolidated entity, as disclosed in note 2, except for the following: (1) investments in subsidiaries are accounted for at cost, less any impairment, in the parent entity; (2) dividends received from subsidiaries are recognised as other income by the parent entity and its receipt may be an indicator of an impairment of the investment.\\n\\n', 'source': 'Rectifier_Technologies.txt', 'company_name': 'Rectifier Technologies Ltd', 'topic': -1.0, 'category': 'companies'}, {'chunk_text': '\\n\\n# Note 34. Events after the reporting period\\nOn 2 September 2022, the loan from ANZ with the carrying amount of the loan AUD 2,760,321 as of 30 June 2022 was discharged and fully paid. On 2 September 2022, a loan from WBC of $5,000,000 was draw n. The term of the loan is 5 years and the indicative loan interest is 4.13% p.a. (variable rate). The repayment arrangement is principal and interest up to 28 July 2027. \\n\\n', 'source': 'Rectifier_Technologies.txt', 'company_name': 'Rectifier Technologies Ltd', 'topic': -1.0, 'category': 'companies'}, {'chunk_text': \"\\n\\n# Directors' declaration\\nIn the directors' opinion: (1) the attached financial statements and notes comply with the Corporations Act 2001, the Accounting Standards, the Corporations Regulations 2001 and other mandatory professional reporting requirements; (2) the attached financial statements and notes comply with International Financial Reporting Standards as issued by the International Accounting Standards Board as described in note 2 to the financial statements; (3) the attached financial statements and notes give a true and fair  view of the consolidated entity's financial position as at\\n30 June 2022 and of its performance for the financial year ended on that date; and (4) there are reasonable grounds to believe that the Company will  be able to pay its debts as and when they become due and payable. The directors have been given the declarations required by section 295A of the Corporations Act 2001. Signed in accordance with a resolution of directors made pursuant to section 295(5)(a) of the Corporations Act 2001. On behalf of the directors\\n\\n\", 'source': 'Rectifier_Technologies.txt', 'company_name': 'Rectifier Technologies Ltd', 'topic': 3.0, 'category': 'companies'}, {'chunk_text': '\\n\\n# Independent Auditor’s Report\\nTo the Members of Rectifier Technologies Ltd Report on the audit of the financial report Grant Thornton Audit Pty Ltd: Level 22 Tower 5, Collins Square, 727 Collins Street, Melbourne VIC 3008, GPO Box 4736, Melbourne VIC 3001 T: +61 3 8320 2222\\n\\n## Opinion\\nWe have audited the financial report of Rectifier Technologies Ltd (the Company) and its subsidiaries (the Group), which comprises the consolidated statement of financial position as at 30 June 2022, the consolidated statement of profit or loss and other comprehensive income, consolidated statement of changes in equity and consolidated statement of cash flows for the year then ended, and notes to the consolidated financial statements, including a summary of significant accounting policies, and the Directors’ declaration. In our opinion, the accompanying financial report of the Group is in accordance with the Corporations Act 2001, including: giving a true and fair view of the Group’s financial position as at 30 June 2022 and of its performance for the year ended on that date and complying with Australian Accounting Standards and the Corporations Regulations 2001.\\n\\n', 'source': 'Rectifier_Technologies.txt', 'company_name': 'Rectifier Technologies Ltd', 'topic': 1.0, 'category': 'companies'}, {'chunk_text': '\\n\\n## Basis for opinion\\nWe conducted our audit in accordance with Australian Auditing Standards. Our responsibilities under those standards are further described in the Auditor’s Responsibilities for the Audit of the Financial Report section of our report. We are independent of the Group in accordance with the auditor independence requirements of the Corporations Act 2001 and the ethical requirements of the Accounting Professional and Ethical Standards Board’s APES 110 Code of Ethics for Professional Accountants (including Independence Standards) (the Code) that are relevant to our audit of the financial report in Australia. We have also fulfilled our other ethical responsibilities in accordance with the Code. We believe that the audit evidence we have obtained is sufficient and appropriate to provide a basis for our opinion. www.grantthornton.com.au ACN-130 913 594. Grant Thornton Audit Pty Ltd ACN 130 913 594 a subsidiary or related entity of Grant Thornton Australia Limited ABN 41 127 556 389 ACN 127 556 389. ‘Grant Thornton’ refers to the brand under which the Grant Thornton member firms provide assurance, tax and advisory services to their clients and/or refers to one or more member firms, as the context requires. Grant Thornton Australia Limited is a member firm of Grant Thornton International Ltd (GTIL). GTIL and the member firms are not a worldwide partnership. GTIL and each member firm is a separate legal entity. Services are delivered by the member firms. GTIL does not provide services to clients. GTIL and its member firms are not agents of, and do not obligate one another and are not liable for one another’s acts or omissions. In the Australian context only, the use of the term ‘Grant Thornton’ may refer to Grant Thornton Australia Limited ABN 41 127 556 389 ACN 127 556 389 and its Australian subsidiaries and related entities. Liability limited by a scheme approved under Professional Standards Legislation.\\n\\n', 'source': 'Rectifier_Technologies.txt', 'company_name': 'Rectifier Technologies Ltd', 'topic': 3.0, 'category': 'companies'}, {'chunk_text': '\\n\\n## Key audit matters\\nKey audit matters are those matters that, in our professional judgement, were of most significance in our audit of the financial report of the current period. These matters were addressed in the context of our audit of the financial report as a whole, and in forming our opinion thereon, and we do not provide a separate opinion on these matters. (1) Key Audit Matter: Recognition of R&D Tax Incentive (Note 6 and Note 10) The Group receives a corporate tax rate plus 18.5% (43.5%) refundable tax offset of eligible expenditure under the research and development (“R&D”) scheme if its turnover is less than $20 million per annum, provided it is not controlled by income tax-exempt entities. A registration of R&D activities is filed with AusIndustry in the following financial year, and based on this filing, the group receives the incentive in cash. The Group engaged an R&D expert to perform a detailed review of the Group’s total R&D expenditure to determine the potential claim under the R&D tax incentive legislation. As at 30 June 2022, a receivable totaling $1,035,645 has been recorded. This represents the estimated claim for the period 1 July 2021 to 30 June 2022. This is a key audit matter due to the size of the receivable. The degree of judgement and interpretation of the R&D tax legislation required by management to assess the eligibility of the R&D expenditure under the scheme. (2) How Our Audit Addressed the Key Audit Matter? Our procedures included, amongst others: Obtaining and documenting through discussions with management an understanding of the process to estimate the claim, Evaluating the competence, capabilities and objectivity of management’s expert, Reviewing and testing the R&D estimate by: reviewing the methodology used by management’s expert for consistency with the R&D tax offset rules, performing testing on a sample of R&D expenses to supporting documents to assess eligibility and accuracy of the amounts recorded in the general ledger, considering the nature of expenses against the eligibility criteria of the R&D tax incentive scheme to assess whether the expense included in the estimate are likely to meet the eligibility criteria. Comparing the nature of the R&D expenditure included in the current year to the prior year’s claim, Comparing the eligible expenditure used in the receivable calculation to expenditure recorded in the general ledger, Considering the entity’s history of successful claims, Inspecting copies of relevant correspondence with AusIndustry and the Australian Taxation Office related to the claims and Assessing the adequacy of the relevant disclosures in the financial statements.     \\n\\n', 'source': 'Rectifier_Technologies.txt', 'company_name': 'Rectifier Technologies Ltd', 'topic': 3.0, 'category': 'companies'}, {'chunk_text': \"\\n\\nKey Audit Matter: Inventory valuation (Note 11). As at 30 June 2022, the Group holds inventory with a carrying value of $5,877,879. The Group is required to carry their inventory at the lower of cost or net realisable value, in accordance with AASB 102 Inventories. Determining the value of inventory requires significant judgement. Specifically, estimating inventory provisions involves significant management judgement, including predictions about market conditions, future sales, and obsolescence. This is a key audit matter due to the materiality of the inventory balance and the level of management judgement required to determine the inventory value. How our audit addressed the key audit matter? Our procedures included, amongst others: Understanding and documenting management's process of calculating the inventory provision and evaluating the Group’s compliance with therequirements of AASB 102, Testing a sample of inventory items to assess the cost basis and net realisable value of inventories, Analysing slow-moving inventory and evaluating their saleability and obsolescence, Considering additional factors that may indicate inventory items require an adjustment to their carrying amount, including discontinued lines and Assessing the adequacy of the related disclosures in the financial statements.\\n\\n\", 'source': 'Rectifier_Technologies.txt', 'company_name': 'Rectifier Technologies Ltd', 'topic': -1.0, 'category': 'companies'}, {'chunk_text': \"\\n\\nKey Audit Matter: Revenue recognition (Note 5). Revenue recorded from the sale of products and services to customers amounted to $14,761,523 for the year ended 30 June 2022. The Group enters into transactions for the sale of power rectifiers. The total transaction price for a contract is based on their relative stand-alone selling price. Revenue is recognised at a point in time when the Group satisfies the performance obligations, which is generally at the point of delivery. This is a key audit matter given the judgement applied to determine the appropriate recognition of revenue and the material nature of revenue to the Group’s overall performance. How our audit addressed the key audit matter? Our procedures included, amongst others: Reviewing revenue recognition policies for appropriateness in accordance with AASB 15 Revenue from Contracts with Customers, Testing a sample of revenue transactions during the year and assessing whether revenue has been recognised in accordance with AASB 15, including:  (1) Reviewing the relevant contracts with customers, (2) Assessing management's determination of performance obligations within contracts and the allocation of the transaction price to those obligations, (3) Testing the timing of revenue recognition. Evaluating sales transactions around reporting date to assess whether revenue is recognised in the correct period, Performing non-substantive analytical procedures to assess revenue recognised against known business factors and investigating variances to our expectations and Assessing the adequacy of related disclosures in the financial statements.\\n\\n\", 'source': 'Rectifier_Technologies.txt', 'company_name': 'Rectifier Technologies Ltd', 'topic': -1.0, 'category': 'companies'}, {'chunk_text': '\\n\\n## Information other than the financial report and auditor’s report thereon: the Directors are responsible for the other information. The other information comprises the information included in the Group’s annual report for the year ended 30 June 2022, but does not include the financial report and our auditor’s report thereon. Our opinion on the financial report does not cover the other information and we do not express any form of assurance conclusion thereon. In connection with our audit of the financial report, our responsibility is to read the other information and, in doing so, consider whether the other information is materially inconsistent with the financial report or our knowledge obtained in the audit or otherwise appears to be materially misstated. If, based on the work we have performed, we conclude that there is a material misstatement of this other information, we are required to report that fact. We have nothing to report in this regard.\\n\\n', 'source': 'Rectifier_Technologies.txt', 'company_name': 'Rectifier Technologies Ltd', 'topic': 3.0, 'category': 'companies'}, {'chunk_text': '\\n\\n## Responsibilities of the Directors for the financial report\\nThe Directors of the Company are responsible for the preparation of the financial report that gives a true and fair view in accordance with Australian Accounting Standards and the Corporations Act 2001 and for such internal control as the Directors determine is necessary to enable the preparation of the financial report that gives a true and fair view and is free from material misstatement, whether due to fraud or error. In preparing the financial report, the Directors are responsible for assessing the Group’s ability to continue as a going concern, disclosing, as applicable, matters related to going concern and using the going concern basis of accounting unless the Directors either intend to liquidate the Group or to cease operations, or have no realistic alternative but to do so. \\n\\n', 'source': 'Rectifier_Technologies.txt', 'company_name': 'Rectifier Technologies Ltd', 'topic': 3.0, 'category': 'companies'}, {'chunk_text': '\\n\\n## Auditor’s responsibilities for the audit of the financial report\\n Our objectives are to obtain reasonable assurance about whether the financial report as a whole is free from material misstatement, whether due to fraud or error, and to issue an auditor’s report that includes our opinion. Reasonable assurance is a high level of assurance, but is not a guarantee that an audit conducted in accordance with the Australian Auditing Standards will always detect a material misstatement when it exists. Misstatements can arise from fraud or error and are considered material if, individually or in the aggregate, they could reasonably be expected to influence the economic decisions of users taken on the basis of this financial report. A further description of our responsibilities for the audit of the financial report is located at the Auditing and Assurance Standards Board website at: https://www.auasb.gov.au/auditors_responsibilites/ar1_2020.pdf. This description forms part of our auditor’s report.\\n\\n', 'source': 'Rectifier_Technologies.txt', 'company_name': 'Rectifier Technologies Ltd', 'topic': 3.0, 'category': 'companies'}, {'chunk_text': '\\n \\n#Report on the remuneration report\\n\\n## Opinion on the remuneration report\\n\\nWe have audited the Remuneration Report included in pages 7 to 12 of the Directors’ report for the year ended 30 June 2022. In our opinion, the Remuneration Report of Rectifier Technologies Ltd, for the year ended 30 June 2022 complies with section 300A of the Corporations Act 2001.\\n\\n', 'source': 'Rectifier_Technologies.txt', 'company_name': 'Rectifier Technologies Ltd', 'topic': 1.0, 'category': 'companies'}, {'chunk_text': '\\n\\n## Responsibilities\\nThe Directors of the Company are responsible for the preparation and presentation of the Remuneration Report in accordance with section 300A of the Corporations Act 2001. Our responsibility is to express an opinion on the Remuneration Report, based on our audit conducted in accordance with Australian Auditing Standards. \\n\\n', 'source': 'Rectifier_Technologies.txt', 'company_name': 'Rectifier Technologies Ltd', 'topic': -1.0, 'category': 'companies'}, {'chunk_text': '\\n\\n# Shareholder information\\n\\nThe shareholder information set out below was applicable as at 6 September 2022.\\n## Distribution of equitable securities\\nAnalysis of number of equitable security holders by size of holding:\\n\\nShareholding distribution:\\n\\nRange: 1 to 1,000\\n- Number of holders: 43\\n- % of total shares: Not disclosed\\n- Number of units issued: 14,955\\n\\nRange: 1,001 to 5,000\\n- Number of holders: 29\\n- % of total shares: 0.01%\\n- Number of units issued: 86,296\\n\\nRange: 5,001 to 10,000\\n- Number of holders: 260\\n- % of total shares: 0.17%\\n- Number of units issued: 2,291,486\\n\\nRange: 10,001 to 100,000\\n- Number of holders: 2,073\\n- % of total shares: 5.65%\\n- Number of units issued: 77,866,602\\n\\nRange: 100,001 and over\\n- Number of holders: 681\\n- % of total shares: 94.17%\\n- Number of units issued: 1,295,441,263\\n\\nTotal:\\n- Number of holders: 3,086\\n- % of total shares: 100.00%\\n- Number of units issued: 1,375,700,602\\n\\nHolding less than a marketable parcel:\\n- Number of holders: 414\\n- % of total shares: 0.20%\\n- Number of units issued: 3,292,552\\n\\n', 'source': 'Rectifier_Technologies.txt', 'company_name': 'Rectifier Technologies Ltd', 'topic': 5.0, 'category': 'companies'}, {'chunk_text': '\\n\\n## Substantial holders\\nSubstantial holders in the Company are set out below:\\n\\nTop shareholders:\\n\\nPUDU Investment (Australia) Pty Ltd:\\n- Number of shares held: 224,643,616\\n- % of total shares issued: 16.33%\\n\\nYung Shing:\\n- Number of shares held: 150,000,000\\n- % of total shares issued: 10.90%\\n\\nYanbin Wang:\\n- Number of shares held: 70,000,000\\n- % of total shares issued: 5.09%\\n\\nMr Malcolm Alistair Duncan:\\n- Number of shares held: 69,187,950\\n- % of total shares issued: 5.03%\\n\\nMr Lei Li:\\n- Number of shares held: 68,460,000\\n- % of total shares issued: 4.98%\\n\\n', 'source': 'Rectifier_Technologies.txt', 'company_name': 'Rectifier Technologies Ltd', 'topic': -1.0, 'category': 'companies'}, {'chunk_text': '\\n\\n## Equity security holders\\nTwenty largest quoted equity security holders. The names of the twenty largest security holders of quoted equity securities are listed below:\\nTop 20 Shareholders:\\n\\n1. PUDU Investment (Australia) Pty Ltd:\\n   - Number of shares held: 224,643,616\\n   - % of total shares issued: 16.33%\\n\\n2. Yung Shing:\\n   - Number of shares held: 150,000,000\\n   - % of total shares issued: 10.90%\\n\\n3. Yanbin Wang:\\n   - Number of shares held: 70,000,000\\n   - % of total shares issued: 5.09%\\n\\n4. Mr Malcolm Alistair Duncan:\\n   - Number of shares held: 69,187,950\\n   - % of total shares issued: 5.03%\\n\\n5. Mr Lei Li:\\n   - Number of shares held: 68,460,000\\n   - % of total shares issued: 4.98%\\n\\n6. Mr Songwu Lu:\\n   - Number of shares held: 66,841,260\\n   - % of total shares issued: 4.86%\\n\\n7. Ms Zhu Furong:\\n   - Number of shares held: 50,000,000\\n   - % of total shares issued: 3.63%\\n\\n8. Mr Weiguo Xie:\\n   - Number of shares held: 40,747,642\\n   - % of total shares issued: 2.96%\\n\\n9. Mr Makram Hanna & Mrs Rita Hanna:\\n   - Number of shares held: 38,637,542\\n   - % of total shares issued: 2.81%\\n\\n10. V and G Super Pty Ltd:\\n    - Number of shares held: 37,040,000\\n    - % of total shares issued: 2.69%\\n\\n11. Bond Street Custodians Limited:\\n    - Number of shares held: 25,999,605\\n    - % of total shares issued: 1.89%\\n\\n12. BNP Paribas Nominees Pty Ltd SIX SIS Ltd:\\n    - Number of shares held: 23,428,478\\n    - % of total shares issued: 1.70%\\n\\n13. Mr Nicholas Seng Tet Yeoh:\\n    - Number of shares held: 20,500,000\\n    - % of total shares issued: 1.49%\\n\\n14. Mr Nigel Machin:\\n    - Number of shares held: 20,000,000\\n    - % of total shares issued: 1.45%\\n\\n15. BNP Paribas Noms Pty Ltd:\\n    - Number of shares held: 19,773,056\\n    - % of total shares issued: 1.44%\\n\\n16. Australian Exports & Industrialisation Super Pty Ltd:\\n    - Number of shares held: 14,000,000\\n    - % of total shares issued: 1.02%\\n\\n17. Topaz Investments Pte Ltd:\\n    - Number of shares held: 13,837,650\\n    - % of total shares issued: 1.01%\\n\\n18. Genista Court Pty Ltd:\\n    - Number of shares held: 11,848,272\\n    - % of total shares issued: 0.86%\\n\\n19. Mr Makram Hanna:\\n    - Number of shares held: 11,134,134\\n    - % of total shares issued: 0.81%\\n\\n20. Mr Raymond Rockman & Mr Anthony Rockman:\\n    - Number of shares held: 9,677,106\\n    - % of total shares issued: 0.70%\\n\\nTotal shares held by top 20 shareholders:\\n- Number of shares: 985,756,311\\n- % of total shares issued: 71.65%\\n\\n', 'source': 'Rectifier_Technologies.txt', 'company_name': 'Rectifier Technologies Ltd', 'topic': 5.0, 'category': 'companies'}, {'chunk_text': '\\n\\nUnquoted equity securities. As at reporting date, there were 46,840,000 options over ordinary shares on issue, held by 30 holders.\\n\\n', 'source': 'Rectifier_Technologies.txt', 'company_name': 'Rectifier Technologies Ltd', 'topic': 5.0, 'category': 'companies'}, {'chunk_text': '\\n\\n## Voting rights\\nThe voting rights attached to ordinary shares are set out below: ordinary shares. On a show of hands every member present at a meeting in person or by proxy shall have one vote and upon a poll each share shall have one vote. There are no other classes of equity securities.\\n\\n', 'source': 'Rectifier_Technologies.txt', 'company_name': 'Rectifier Technologies Ltd', 'topic': 5.0, 'category': 'companies'}, {'chunk_text': '\\n\\n## On market buy-back\\nThere is no current on market buy back\\n', 'source': 'Rectifier_Technologies.txt', 'company_name': 'Rectifier Technologies Ltd', 'topic': -1.0, 'category': 'companies'}]\n"
     ]
    }
   ],
   "source": [
    "import pandas as pd\n",
    "\n",
    "final_df = chunks_df\n",
    "my_chunks = []\n",
    "for index, row in final_df.iterrows():\n",
    "    chunk = {\n",
    "        \"chunk_text\": row.get('chunk_text', 'Нет текста'),\n",
    "        \"source\": row.get('source', 'Нет источника'),\n",
    "        \"company_name\": row.get('company', 'Нет источника'),\n",
    "        \"topic\": row.get('topic', 'Нет темы'),\n",
    "        \"category\": \"companies\"\n",
    "}\n",
    "    my_chunks.append(chunk)\n",
    "\n",
    "print(my_chunks)"
   ]
  },
  {
   "cell_type": "code",
   "execution_count": 45,
   "metadata": {},
   "outputs": [
    {
     "name": "stdout",
     "output_type": "stream",
     "text": [
      "Index(['chunk_text', 'source', 'company', 'topic'], dtype='object')\n"
     ]
    }
   ],
   "source": [
    "print(final_df.columns)"
   ]
  },
  {
   "cell_type": "markdown",
   "metadata": {},
   "source": [
    "### Проверка формирования чанков. Запись"
   ]
  },
  {
   "cell_type": "code",
   "execution_count": 46,
   "metadata": {},
   "outputs": [
    {
     "name": "stdout",
     "output_type": "stream",
     "text": [
      "Данные успешно записаны в файл: data\\output_new.txt\n"
     ]
    }
   ],
   "source": [
    "\n",
    "# Путь к выходному файлу\n",
    "output_file_path = \"data\\output_new.txt\"\n",
    "\n",
    "# Открытие файла для записи\n",
    "with open(output_file_path, 'w', encoding='utf-8') as file:\n",
    "    # Итерация по списку чанков\n",
    "    for chunk in my_chunks:\n",
    "        # Форматирование строки для записи\n",
    "        line = f\"------------------------------------------\\nText: {chunk['chunk_text']}, source: {chunk['source']}, topic: {chunk['topic']}, company_name: {chunk['company_name']}\\n\\n\"\n",
    "\n",
    "        # Запись строки в файл\n",
    "        file.write(line)\n",
    "\n",
    "print(f\"Данные успешно записаны в файл: {output_file_path}\")"
   ]
  },
  {
   "cell_type": "markdown",
   "metadata": {},
   "source": [
    "## Pinecone Things\n",
    "### Сохранение чанков в Pinecone"
   ]
  },
  {
   "cell_type": "code",
   "execution_count": 48,
   "metadata": {},
   "outputs": [
    {
     "data": {
      "text/plain": [
       "412"
      ]
     },
     "execution_count": 48,
     "metadata": {},
     "output_type": "execute_result"
    }
   ],
   "source": [
    "173 + 239"
   ]
  },
  {
   "cell_type": "code",
   "execution_count": 47,
   "metadata": {},
   "outputs": [
    {
     "name": "stdout",
     "output_type": "stream",
     "text": [
      "Чанки успешно сохранены в Pinecone!\n"
     ]
    }
   ],
   "source": [
    "\n",
    "from sentence_transformers import SentenceTransformer\n",
    "from pinecone import Pinecone, ServerlessSpec\n",
    "\n",
    "records_yet = 239\n",
    "\n",
    "# Загрузка модели\n",
    "model = SentenceTransformer('all-MiniLM-L6-v2')\n",
    "\n",
    "# Векторизация чанков\n",
    "chunk_embeddings = model.encode(my_chunks)\n",
    "\n",
    "# Инициализация Pinecone\n",
    "pc = Pinecone(api_key=YOUR_API_KEY)  # Замените на ваш API-ключ\n",
    "\n",
    "# Создание индекса\n",
    "index_name = \"red-llama-companies\"\n",
    "if index_name not in pc.list_indexes().names():\n",
    "    pc.create_index(\n",
    "        name=index_name,\n",
    "        dimension=384,  # Размерность эмбеддингов\n",
    "        metric=\"cosine\",  # Метрика для поиска\n",
    "        spec=ServerlessSpec(\n",
    "            cloud=\"aws\",  # Облачный провайдер\n",
    "            region=\"us-east-1\"  # Регион\n",
    "        )\n",
    "    )\n",
    "\n",
    "# Подключение к индексу\n",
    "index = pc.Index(index_name)\n",
    "\n",
    "# Сохранение чанков в Pinecone\n",
    "for i, (chunk, embedding) in enumerate(zip(my_chunks, chunk_embeddings)):\n",
    "    index.upsert([(f\"chunk_{i+records_yet+1}\", embedding, chunk)])\n",
    "\n",
    "print(\"Чанки успешно сохранены в Pinecone!\")\n"
   ]
  },
  {
   "cell_type": "markdown",
   "metadata": {},
   "source": [
    "### Нахождение темы по локальной обученной модели"
   ]
  },
  {
   "cell_type": "code",
   "execution_count": 175,
   "metadata": {},
   "outputs": [
    {
     "name": "stderr",
     "output_type": "stream",
     "text": [
      "Batches: 100%|██████████| 1/1 [00:00<00:00, 38.45it/s]\n",
      "2025-03-29 05:13:08,058 - BERTopic - Dimensionality - Reducing dimensionality of input embeddings.\n",
      "2025-03-29 05:13:08,064 - BERTopic - Dimensionality - Completed ✓\n",
      "2025-03-29 05:13:08,065 - BERTopic - Clustering - Approximating new points with `hdbscan_model`\n",
      "2025-03-29 05:13:08,065 - BERTopic - Probabilities - Start calculation of probabilities with HDBSCAN\n",
      "2025-03-29 05:13:08,067 - BERTopic - Probabilities - Completed ✓\n",
      "2025-03-29 05:13:08,067 - BERTopic - Cluster - Completed ✓\n"
     ]
    },
    {
     "name": "stdout",
     "output_type": "stream",
     "text": [
      "                                 document  topic\n",
      "0  Правила оплаты труда наемного работник      6\n",
      "1        Сколько учиться на бакалавриате?     -1\n"
     ]
    }
   ],
   "source": [
    "# Ваши новые документы\n",
    "new_docs = [\n",
    "    \"Правила оплаты труда наемного работник\",\n",
    "    \"Сколько учиться на бакалавриате?\",\n",
    "]\n",
    "\n",
    "# Получение тем и вероятностей для новых документов\n",
    "new_topics, new_probs = topic_model.transform(new_docs)\n",
    "\n",
    "# Создание DataFrame для новых документов\n",
    "new_chunks_df = pd.DataFrame({\n",
    "    'document': new_docs,\n",
    "    'topic': new_topics\n",
    "})\n",
    "\n",
    "# Вывод DataFrame с темами\n",
    "print(new_chunks_df[['document', 'topic']])\n"
   ]
  },
  {
   "cell_type": "markdown",
   "metadata": {},
   "source": [
    "### Отличный результат"
   ]
  },
  {
   "cell_type": "markdown",
   "metadata": {},
   "source": [
    "### Поиск в Pinecone c фильтрацией"
   ]
  },
  {
   "cell_type": "code",
   "execution_count": null,
   "metadata": {},
   "outputs": [
    {
     "name": "stdout",
     "output_type": "stream",
     "text": [
      "ID: chunk_7, Score: 0.595531106, answer: **Как оплатить услуги бонусами от Дом.ру?**\n",
      "\tУчаствуйте в программе Дом.ру Бонус. Так на вашем счёте будут копиться бонусы, которыми можно оплатить до 100% стоимости абонентской платы.​ 100 бонусов = 20 ₽. А ещё получайте скидки на услуги наших партнёров.\n",
      " Тема: Социальное обеспечение\n",
      "ID: chunk_33, Score: 0.585178196, answer: **Какие Минусы специалитета?**\n",
      "\tК минусам специалитета можно отнести более долгий срок обучения. Кроме того, возможность получить специальность есть не во всех вузах.\n",
      " Тема: Социальное обеспечение\n",
      "ID: chunk_39, Score: 0.526665151, answer: **Что будет с дипломами, полученным до введения базового высшего образования?**\n",
      "\tДипломы останутся полноценными и будут иметь прежнюю силу. Аналогичной была история с дипломами, которые были получены в СССР и в России до появления бакалавриата и специалитета.\n",
      " Тема: Социальное обеспечение\n",
      "ID: chunk_36, Score: 0.515411735, answer: **Отличия бакалавриата от специалитета**\n",
      "\tКлючевые различия между бакалавриатом и специалитетом заключаются в продолжительности и содержании обучения. Бакалавры и специалисты получают диплом о высшем образовании. Однако на бакалавриате в документе будет указано звание «бакалавр». Тогда как на специалитете прописывают специальность, например «художник-декоратор».\n",
      " Тема: Социальное обеспечение\n",
      "ID: chunk_35, Score: 0.455079108, answer: **Какие минусы бакалавриата**\n",
      "\tСтепени бакалавра часто бывает недостаточно, если выпускник вуза собирается устроиться в бюджетную организацию или на госслужбу. В таких структурах выше ценится прикладная специальность. За границей устроиться на работу проще, однако придётся подтвердить уровень владения иностранным языком.\n",
      " Тема: Социальное обеспечение\n"
     ]
    }
   ],
   "source": [
    "from sentence_transformers import SentenceTransformer\n",
    "from pinecone import Pinecone\n",
    "\n",
    "# Инициализация Pinecone\n",
    "#pc = Pinecone(api_key=YOUR_API_KEY)  # Замените на ваш API-ключ\n",
    "\n",
    "# Подключение к индексу\n",
    "index_name = \"red-llama-bertopic\"\n",
    "index = pc.Index(index_name)\n",
    "\n",
    "# Загрузка модели\n",
    "model = SentenceTransformer('all-MiniLM-L6-v2')\n",
    "\n",
    "'''\n",
    "# Поиск в индексе с фильтрацией\n",
    "filter_condition = {\n",
    "    \"topic_name\": {\n",
    "        \"$eq\": \"Социальное обеспечение\" \n",
    "    }\n",
    "}\n",
    "'''\n",
    "# Поиск в индексе с фильтрацией\n",
    "filter_condition = {\n",
    "    \"topic\": {\n",
    "        \"$eq\": -1 \n",
    "    }\n",
    "}\n",
    "\n",
    "# Векторизация запроса\n",
    "query_text = \"Сколько учиться на бакалавриате?\"\n",
    "query_embedding = model.encode(query_text)\n",
    "# Поиск в индексе\n",
    "results = index.query(\n",
    "    vector=query_embedding.tolist(),  # Вектор запроса\n",
    "    top_k=5,  # Количество возвращаемых результатов\n",
    "    include_metadata=True,  # Включить метаданные в результаты\n",
    "    filter=filter_condition  # Условия фильтрации\n",
    "\n",
    ")\n",
    "# Вывод результатов\n",
    "for match in results['matches']:\n",
    "    print(f\"ID: {match['id']}, Score: {match['score']}, answer: {match['metadata']['answer']}\\n Тема: {match['metadata']['topic_name']}\")\n"
   ]
  },
  {
   "cell_type": "code",
   "execution_count": 173,
   "metadata": {},
   "outputs": [
    {
     "name": "stdout",
     "output_type": "stream",
     "text": [
      "ID: chunk_324, Score: 0.776943266, answer: Предоставляются пособие по беременности и родам, единовременное пособие и ежемесячные выплаты по уходу за ребенком.\n",
      " Тема: Трудовой кодекс\n",
      "ID: chunk_329, Score: 0.738587141, answer: Работник имеет право на уведомление об изменениях за два месяца и на отказ от работы в случае несогласия.\n",
      " Тема: Трудовой кодекс\n",
      "ID: chunk_295, Score: 0.735562146, answer: Как правильно написать заявление?\n",
      " Тема: Трудовой кодекс\n",
      "ID: chunk_316, Score: 0.731703639, answer: Работнику возмещаются расходы на проезд, проживание, суточные и сохраняется средняя зарплата.\n",
      " Тема: Трудовой кодекс\n",
      "ID: chunk_303, Score: 0.726858556, answer: Работа в выходные и праздничные дни допускается только с согласия работника и оплачивается в двойном размере.\n",
      " Тема: Трудовой кодекс\n"
     ]
    }
   ],
   "source": [
    "# Поиск в индексе с фильтрацией\n",
    "filter_condition = {\n",
    "    \"topic\": {\n",
    "        \"$eq\": 6 \n",
    "    }\n",
    "}\n",
    "\n",
    "# Векторизация запроса\n",
    "query_text = \"Правила оплаты труда наемного работник\"\n",
    "query_embedding = model.encode(query_text)\n",
    "# Поиск в индексе\n",
    "results = index.query(\n",
    "    vector=query_embedding.tolist(),  # Вектор запроса\n",
    "    top_k=5,  # Количество возвращаемых результатов\n",
    "    include_metadata=True,  # Включить метаданные в результаты\n",
    "    filter=filter_condition  # Условия фильтрации\n",
    "\n",
    ")\n",
    "# Вывод результатов\n",
    "for match in results['matches']:\n",
    "    print(f\"ID: {match['id']}, Score: {match['score']}, answer: {match['metadata']['answer']}\\n Тема: {match['metadata']['topic_name']}\")\n"
   ]
  }
 ],
 "metadata": {
  "kernelspec": {
   "display_name": "Python 3",
   "language": "python",
   "name": "python3"
  },
  "language_info": {
   "codemirror_mode": {
    "name": "ipython",
    "version": 3
   },
   "file_extension": ".py",
   "mimetype": "text/x-python",
   "name": "python",
   "nbconvert_exporter": "python",
   "pygments_lexer": "ipython3",
   "version": "3.11.9"
  }
 },
 "nbformat": 4,
 "nbformat_minor": 2
}
