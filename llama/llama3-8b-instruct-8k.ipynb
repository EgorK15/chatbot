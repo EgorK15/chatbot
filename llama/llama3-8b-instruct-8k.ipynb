{
 "cells": [
  {
   "cell_type": "code",
   "execution_count": null,
   "metadata": {},
   "outputs": [],
   "source": [
    "!pip install langchain openai\n",
    "#!pip install langchain requests\n"
   ]
  },
  {
   "cell_type": "code",
   "execution_count": 2,
   "metadata": {},
   "outputs": [],
   "source": [
    "# Укажите URL вашего сервера с моделью llama3-8b-instruct-8k\n",
    "api_base = \"https://llama3gpu.neuraldeep.tech/v1\"\n",
    "my_model = \"llama-3-8b-instruct-8k\"\n",
    "API_KEY = \"F9yei26LMobzDdVmdKuEcbIlTod3OoTJXAszIUoMdAwYwGWS50bvKODj99JZRqcJA8mUQgR1zlXoHpCORP97ODLAyfagqrob\""
   ]
  },
  {
   "cell_type": "code",
   "execution_count": null,
   "metadata": {},
   "outputs": [],
   "source": [
    "import os\n",
    "#import logging\n",
    "from langchain.chains import LLMChain\n",
    "from langchain.chat_models import ChatOpenAI\n",
    "from langchain.prompts import ChatPromptTemplate, MessagesPlaceholder\n",
    "from langchain.schema import SystemMessage, HumanMessage"
   ]
  },
  {
   "cell_type": "code",
   "execution_count": null,
   "metadata": {},
   "outputs": [
    {
     "name": "stderr",
     "output_type": "stream",
     "text": [
      "C:\\Users\\user\\AppData\\Local\\Temp\\ipykernel_27208\\2351030704.py:18: LangChainDeprecationWarning: The method `BaseChatModel.__call__` was deprecated in langchain-core 0.1.7 and will be removed in 1.0. Use :meth:`~invoke` instead.\n",
      "  response = my_chat(messages)\n"
     ]
    },
    {
     "name": "stdout",
     "output_type": "stream",
     "text": [
      "The capital of France is Paris.\n"
     ]
    }
   ],
   "source": [
    "\n",
    "# Настройка ChatOpenAI\n",
    "#llm = ChatOpenAI(\n",
    "my_chat = ChatOpenAI(\n",
    "    base_url = api_base,\n",
    "    model = my_model,\n",
    "    openai_api_key=API_KEY,  # Укажите ваш API-ключ (если требуется)\n",
    "    temperature=0.7,                # Настройте параметры модели\n",
    "    max_tokens=150\n",
    ")\n",
    "\n",
    "# Пример запроса\n",
    "messages = [\n",
    "    SystemMessage(content=\"You are a helpful assistant.\"),\n",
    "    HumanMessage(content=\"What is the capital of France?\")\n",
    "]\n",
    "\n",
    "# Отправка запроса\n",
    "response = my_chat(messages)\n",
    "\n",
    "# Вывод ответа\n",
    "print(response.content)\n"
   ]
  },
  {
   "cell_type": "markdown",
   "metadata": {},
   "source": [
    "### **7. Пример работы в Jupyter Notebook**\n",
    "\n",
    "```\n",
    "Чат с Llama 3 8B Instruct 8K (Для выхода введите 'стоп')\n",
    "You: расскажи что-нибуть интересное\n",
    "Llama 3: Конечно! Вот интересный факт: в 1952 году американский физик и изобретатель Роберт Вуд провел эксперимент, который стал классическим примером оптической иллюзии. Он построил устройство, которое позволяло ему исчезнуть на глазах у зрителей. Вуд использовал зеркала и специальное освещение, чтобы создать впечатление, что он исчезает и появляется в другом месте. Этот эксперимент стал популярным в научных шоу и показал, как оптические иллюзии могут обман\n",
    "You: кто такой роберт вуд?\n",
    "Llama 3: Роберт Вуд (Robert W. Wood) — это имя нескольких известных личностей, но наиболее известен из них физик и изобретатель, живший в конце XIX — начале XX века. Однако, если вы говорите о более современной фигуре, возможно, вы имеете в виду компанию или персону с таким же именем.\n",
    "\n",
    "1. **Роберт Вуд (1868-1955)** — американский физик и изобретатель, известный своими экспериментами с оптикой и инфракрасным излучением. Он также написал несколько научно-популярных книг\n",
    "Чат завершен\n",
    "```\n"
   ]
  },
  {
   "cell_type": "code",
   "execution_count": 16,
   "metadata": {},
   "outputs": [],
   "source": [
    "# Настройка ChatOpenAI для LLMChain\n",
    "\n",
    "llm = ChatOpenAI(\n",
    "    base_url=api_base,\n",
    "    model=my_model,\n",
    "    openai_api_key=API_KEY,  # Укажите ваш API-ключ (если требуется)\n",
    "    temperature=0.7,          # Настройте параметры модели\n",
    "    max_tokens=150\n",
    ")\n",
    "\n",
    "# Создаем шаблон для чата\n",
    "prompt = ChatPromptTemplate.from_messages([\n",
    "    SystemMessage(content=\"You are a helpful assistant\"),\n",
    "    MessagesPlaceholder(variable_name=\"input\"),  # Используем MessagesPlaceholder\n",
    "])\n",
    "\n",
    "# Создаем цепочку (chain)\n",
    "chain = LLMChain(llm=llm, prompt=prompt)\n",
    "\n",
    "def chat():\n",
    "    print(\"Чат с Llama 3 8B Instruct 8K (Для выхода введите 'стоп')\")\n",
    "    while True:\n",
    "        my_input = input(\"Вы: \")\n",
    "        if my_input.lower() == \"стоп\":\n",
    "            print(\"Чат завершен\")\n",
    "            break\n",
    "\n",
    "        try:\n",
    "            # Передаем input в chain.run() как словарь\n",
    "            response = chain.run(input=[HumanMessage(content=my_input)])\n",
    "            print(f\"You: {my_input}\")\n",
    "\n",
    "            print(f\"Llama 3: {response}\")\n",
    "        except Exception as e:\n",
    "            print(\"Произошла ошибка. Пожалуйста, попробуйте снова!\")\n"
   ]
  },
  {
   "cell_type": "code",
   "execution_count": 17,
   "metadata": {},
   "outputs": [
    {
     "name": "stdout",
     "output_type": "stream",
     "text": [
      "Чат с Llama 3 8B Instruct 8K (Для выхода введите 'стоп')\n",
      "You: расскажи что-нибуть интересное\n",
      "Llama 3: Конечно! Вот интересный факт: в 1952 году американский физик и изобретатель Роберт Вуд провел эксперимент, который стал классическим примером оптической иллюзии. Он построил устройство, которое позволяло ему исчезнуть на глазах у зрителей. Вуд использовал зеркала и специальное освещение, чтобы создать впечатление, что он исчезает и появляется в другом месте. Этот эксперимент стал популярным в научных шоу и показал, как оптические иллюзии могут обман\n",
      "You: кто такой роберт вуд?\n",
      "Llama 3: Роберт Вуд (Robert W. Wood) — это имя нескольких известных личностей, но наиболее известен из них физик и изобретатель, живший в конце XIX — начале XX века. Однако, если вы говорите о более современной фигуре, возможно, вы имеете в виду компанию или персону с таким же именем.\n",
      "\n",
      "1. **Роберт Вуд (1868-1955)** — американский физик и изобретатель, известный своими экспериментами с оптикой и инфракрасным излучением. Он также написал несколько научно-популярных книг\n",
      "Чат завершен\n"
     ]
    }
   ],
   "source": [
    "chat()"
   ]
  }
 ],
 "metadata": {
  "kernelspec": {
   "display_name": "Python 3",
   "language": "python",
   "name": "python3"
  },
  "language_info": {
   "codemirror_mode": {
    "name": "ipython",
    "version": 3
   },
   "file_extension": ".py",
   "mimetype": "text/x-python",
   "name": "python",
   "nbconvert_exporter": "python",
   "pygments_lexer": "ipython3",
   "version": "3.11.9"
  }
 },
 "nbformat": 4,
 "nbformat_minor": 2
}
